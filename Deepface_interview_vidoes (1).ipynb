{
  "nbformat": 4,
  "nbformat_minor": 0,
  "metadata": {
    "colab": {
      "provenance": []
    },
    "kernelspec": {
      "name": "python3",
      "display_name": "Python 3"
    },
    "language_info": {
      "name": "python"
    }
  },
  "cells": [
    {
      "cell_type": "code",
      "source": [],
      "metadata": {
        "id": "dqUMcWuwY8RA"
      },
      "execution_count": null,
      "outputs": []
    },
    {
      "cell_type": "markdown",
      "source": [
        "# Face Emotions analysis on Interview Videos"
      ],
      "metadata": {
        "id": "bnlUcX68ZiUC"
      }
    },
    {
      "cell_type": "markdown",
      "source": [
        "## This face emotion recognition project helps to identify facial emotions by extracting frames from video interviews and then analyzing them with the DeepFace library, displaying the emotions in the extracted frames."
      ],
      "metadata": {
        "id": "B4tSIL3hZAdi"
      }
    },
    {
      "cell_type": "code",
      "source": [
        "pip install deepface"
      ],
      "metadata": {
        "id": "LJmin6WtY_Mi"
      },
      "execution_count": null,
      "outputs": []
    },
    {
      "cell_type": "code",
      "source": [],
      "metadata": {
        "id": "bJmSzvI3-KrQ"
      },
      "execution_count": null,
      "outputs": []
    },
    {
      "cell_type": "code",
      "source": [],
      "metadata": {
        "id": "DEBeXUWyL002"
      },
      "execution_count": null,
      "outputs": []
    },
    {
      "cell_type": "code",
      "source": [
        "import cv2\n",
        "import os\n",
        "\n",
        "# Function to extract frames\n",
        "def extract_frames(video_path, output_folder):\n",
        "    # Create the output folder if it doesn't exist\n",
        "    if not os.path.exists(output_folder):\n",
        "        os.makedirs(output_folder)\n",
        "\n",
        "    # Open the video file\n",
        "    video_capture = cv2.VideoCapture(video_path)\n",
        "\n",
        "    frame_count = 0\n",
        "\n",
        "    while True:\n",
        "        success, frame = video_capture.read()\n",
        "        if not success:\n",
        "            break\n",
        "\n",
        "        # Save the current frame\n",
        "        frame_filename = os.path.join(output_folder, f\"frame_{frame_count:04d}.jpg\")\n",
        "        cv2.imwrite(frame_filename, frame)\n",
        "        frame_count += 1\n",
        "\n",
        "    video_capture.release()\n",
        "    print(f\"{frame_count} frames extracted and saved in '{output_folder}'.\")\n",
        "\n",
        "# Example usage\n",
        "video_file = \"/content/SHIVANSHU.mp4\"  # Replace with the path to your video\n",
        "output_directory = \"/content/frames\"      # Replace with your desired folder name\n",
        "\n",
        "extract_frames(video_file, output_directory)\n"
      ],
      "metadata": {
        "colab": {
          "base_uri": "https://localhost:8080/"
        },
        "id": "5UyA3oQnK2oL",
        "outputId": "95d6cc71-0f6a-4e3b-bace-bb272d6dae11"
      },
      "execution_count": null,
      "outputs": [
        {
          "output_type": "stream",
          "name": "stdout",
          "text": [
            "2369 frames extracted and saved in '/content/frames'.\n"
          ]
        }
      ]
    },
    {
      "cell_type": "code",
      "source": [],
      "metadata": {
        "id": "-zXmJQI2ftxy"
      },
      "execution_count": null,
      "outputs": []
    },
    {
      "cell_type": "markdown",
      "source": [
        "# Updated code selecting random images from the folder"
      ],
      "metadata": {
        "id": "-yJKK-eUfvYF"
      }
    },
    {
      "cell_type": "code",
      "source": [
        "import random\n",
        "from deepface import DeepFace\n",
        "import cv2\n",
        "import os\n",
        "import matplotlib.pyplot as plt\n",
        "\n",
        "# Directory containing frames\n",
        "frames_dir = '/content/frames'\n",
        "face_emotions = []\n",
        "files_names = []\n",
        "\n",
        "# Ensure the directory exists\n",
        "if not os.path.exists(frames_dir):\n",
        "    print(f\"Directory not found: {frames_dir}\")\n",
        "else:\n",
        "    # Get all files in the directory\n",
        "    files = [f for f in os.listdir(frames_dir) if f.lower().endswith(('.png', '.jpg', '.jpeg', '.bmp', '.tiff'))]\n",
        "\n",
        "    # Randomly select 20 files\n",
        "    if len(files) < 230:\n",
        "        print(f\"Not enough files in the directory. Found {len(files)} files.\")\n",
        "    else:\n",
        "        random_files = random.sample(files, 230)\n",
        "\n",
        "        # Iterate over the selected files\n",
        "        for file_name in random_files:\n",
        "            file_path = os.path.join(frames_dir, file_name)  # Construct the full file path\n",
        "\n",
        "            # Read the image\n",
        "            img = cv2.imread(file_path)\n",
        "\n",
        "            # Check if the image was successfully read\n",
        "            if img is None:\n",
        "                print(f\"Could not read image: {file_path}\")\n",
        "                continue\n",
        "\n",
        "            # Optional: Display the image (Uncomment if needed)\n",
        "            # plt.imshow(cv2.cvtColor(img, cv2.COLOR_BGR2RGB))\n",
        "            # plt.title(f\"Processing {file_name}\")\n",
        "            # plt.show()\n",
        "\n",
        "            # Analyze emotions\n",
        "            try:\n",
        "                result = DeepFace.analyze(img, actions=['emotion'])\n",
        "                face_emotions.append(result)\n",
        "                print(f\"Analysis for {file_name}: {result}\")\n",
        "                files_names.append(file_name)\n",
        "            except Exception as e:\n",
        "                print(f\"Error analyzing {file_path}: {e}\")\n",
        "                # files_names.append(file_name)\n",
        "\n",
        "# Optional: Print all collected emotions\n",
        "print(\"Collected face emotions:\", face_emotions)"
      ],
      "metadata": {
        "id": "XbmyJQrhft1U"
      },
      "execution_count": null,
      "outputs": []
    },
    {
      "cell_type": "code",
      "source": [],
      "metadata": {
        "id": "7H7wadZXgAbQ"
      },
      "execution_count": null,
      "outputs": []
    },
    {
      "cell_type": "markdown",
      "source": [
        "## Converting into dataframe\n"
      ],
      "metadata": {
        "id": "YW_3CkvsgbmQ"
      }
    },
    {
      "cell_type": "code",
      "source": [
        "import pandas as pd\n",
        "\n",
        "# List to store all emotion data\n",
        "emotion_data = []\n",
        "face_reaction=[]\n",
        "\n",
        "# Iterate through all results in face_emotions\n",
        "for i in range((len(face_emotions))):\n",
        "    # Print face confidence and emotions\n",
        "    print(face_emotions[i][0]['face_confidence'], face_emotions[i][0]['emotion'])\n",
        "\n",
        "    # Append the emotion dictionary to the list\n",
        "    emotion_data.append(face_emotions[i][0]['emotion'])\n",
        "    face_reaction.append(face_emotions[i][0]['face_confidence'])\n",
        "\n",
        "# Create a single DataFrame from the collected data\n",
        "data = pd.DataFrame(emotion_data)\n",
        "\n",
        "# Display the DataFrame\n",
        "print(data)"
      ],
      "metadata": {
        "id": "af3UwAbigAh4"
      },
      "execution_count": null,
      "outputs": []
    },
    {
      "cell_type": "code",
      "source": [],
      "metadata": {
        "id": "EjTTWrWhgAk3"
      },
      "execution_count": null,
      "outputs": []
    },
    {
      "cell_type": "code",
      "source": [],
      "metadata": {
        "id": "OF__BE2zft41"
      },
      "execution_count": null,
      "outputs": []
    },
    {
      "cell_type": "code",
      "source": [
        "data['file_name'] = files_names\n",
        "data['Face_confidence'] = face_reaction\n",
        "data.head()"
      ],
      "metadata": {
        "id": "BUM78H2wgZwk"
      },
      "execution_count": null,
      "outputs": []
    },
    {
      "cell_type": "code",
      "source": [],
      "metadata": {
        "id": "Ybp47Ql5gZ0J"
      },
      "execution_count": null,
      "outputs": []
    },
    {
      "cell_type": "code",
      "source": [],
      "metadata": {
        "id": "8z5YXtCSgZ3R"
      },
      "execution_count": null,
      "outputs": []
    },
    {
      "cell_type": "code",
      "source": [
        "import os"
      ],
      "metadata": {
        "id": "nnb2zATlWyrN"
      },
      "execution_count": null,
      "outputs": []
    },
    {
      "cell_type": "code",
      "source": [
        "# os.listdir('/content/frames')"
      ],
      "metadata": {
        "id": "faPIeTZCWyuq"
      },
      "execution_count": null,
      "outputs": []
    },
    {
      "cell_type": "code",
      "source": [
        "files = []\n",
        "for i in os.listdir('/content/frames'):\n",
        "  print(f'/content/frames{i}')\n",
        "  files.append(f'/content/frames/{i}')\n"
      ],
      "metadata": {
        "colab": {
          "base_uri": "https://localhost:8080/"
        },
        "id": "t0vjCZpOXq8j",
        "outputId": "fe2a8640-29ff-4d34-fdf7-845d892b17ef"
      },
      "execution_count": null,
      "outputs": [
        {
          "output_type": "stream",
          "name": "stdout",
          "text": [
            "/content/framesframe_0376.jpg\n",
            "/content/framesframe_0030.jpg\n",
            "/content/framesframe_0282.jpg\n",
            "/content/framesframe_0219.jpg\n",
            "/content/framesframe_0001.jpg\n",
            "/content/framesframe_0420.jpg\n",
            "/content/framesframe_0526.jpg\n",
            "/content/framesframe_0257.jpg\n",
            "/content/framesframe_0580.jpg\n",
            "/content/framesframe_0683.jpg\n",
            "/content/framesframe_0403.jpg\n",
            "/content/framesframe_0678.jpg\n",
            "/content/framesframe_0253.jpg\n",
            "/content/framesframe_0065.jpg\n",
            "/content/framesframe_0175.jpg\n",
            "/content/framesframe_0634.jpg\n",
            "/content/framesframe_0400.jpg\n",
            "/content/framesframe_0732.jpg\n",
            "/content/framesframe_0661.jpg\n",
            "/content/framesframe_0084.jpg\n",
            "/content/framesframe_0690.jpg\n",
            "/content/framesframe_0545.jpg\n",
            "/content/framesframe_0665.jpg\n",
            "/content/framesframe_0128.jpg\n",
            "/content/framesframe_0239.jpg\n",
            "/content/framesframe_0191.jpg\n",
            "/content/framesframe_0380.jpg\n",
            "/content/framesframe_0100.jpg\n",
            "/content/framesframe_0402.jpg\n",
            "/content/framesframe_0165.jpg\n",
            "/content/framesframe_0118.jpg\n",
            "/content/framesframe_0509.jpg\n",
            "/content/framesframe_0077.jpg\n",
            "/content/framesframe_0559.jpg\n",
            "/content/framesframe_0649.jpg\n",
            "/content/framesframe_0172.jpg\n",
            "/content/framesframe_0472.jpg\n",
            "/content/framesframe_0515.jpg\n",
            "/content/framesframe_0268.jpg\n",
            "/content/framesframe_0237.jpg\n",
            "/content/framesframe_0312.jpg\n",
            "/content/framesframe_0521.jpg\n",
            "/content/framesframe_0060.jpg\n",
            "/content/framesframe_0361.jpg\n",
            "/content/framesframe_0652.jpg\n",
            "/content/framesframe_0300.jpg\n",
            "/content/framesframe_0428.jpg\n",
            "/content/framesframe_0513.jpg\n",
            "/content/framesframe_0127.jpg\n",
            "/content/framesframe_0120.jpg\n",
            "/content/framesframe_0426.jpg\n",
            "/content/framesframe_0555.jpg\n",
            "/content/framesframe_0016.jpg\n",
            "/content/framesframe_0269.jpg\n",
            "/content/framesframe_0500.jpg\n",
            "/content/framesframe_0286.jpg\n",
            "/content/framesframe_0669.jpg\n",
            "/content/framesframe_0328.jpg\n",
            "/content/framesframe_0216.jpg\n",
            "/content/framesframe_0621.jpg\n",
            "/content/framesframe_0047.jpg\n",
            "/content/framesframe_0549.jpg\n",
            "/content/framesframe_0338.jpg\n",
            "/content/framesframe_0320.jpg\n",
            "/content/framesframe_0714.jpg\n",
            "/content/framesframe_0117.jpg\n",
            "/content/framesframe_0227.jpg\n",
            "/content/framesframe_0332.jpg\n",
            "/content/framesframe_0586.jpg\n",
            "/content/framesframe_0161.jpg\n",
            "/content/framesframe_0011.jpg\n",
            "/content/framesframe_0659.jpg\n",
            "/content/framesframe_0072.jpg\n",
            "/content/framesframe_0031.jpg\n",
            "/content/framesframe_0369.jpg\n",
            "/content/framesframe_0360.jpg\n",
            "/content/framesframe_0622.jpg\n",
            "/content/framesframe_0123.jpg\n",
            "/content/framesframe_0193.jpg\n",
            "/content/framesframe_0731.jpg\n",
            "/content/framesframe_0131.jpg\n",
            "/content/framesframe_0156.jpg\n",
            "/content/framesframe_0462.jpg\n",
            "/content/framesframe_0114.jpg\n",
            "/content/framesframe_0333.jpg\n",
            "/content/framesframe_0550.jpg\n",
            "/content/framesframe_0641.jpg\n",
            "/content/framesframe_0441.jpg\n",
            "/content/framesframe_0546.jpg\n",
            "/content/framesframe_0702.jpg\n",
            "/content/framesframe_0032.jpg\n",
            "/content/framesframe_0466.jpg\n",
            "/content/framesframe_0279.jpg\n",
            "/content/framesframe_0223.jpg\n",
            "/content/framesframe_0571.jpg\n",
            "/content/framesframe_0577.jpg\n",
            "/content/framesframe_0436.jpg\n",
            "/content/framesframe_0316.jpg\n",
            "/content/framesframe_0240.jpg\n",
            "/content/framesframe_0463.jpg\n",
            "/content/framesframe_0371.jpg\n",
            "/content/framesframe_0695.jpg\n",
            "/content/framesframe_0601.jpg\n",
            "/content/framesframe_0598.jpg\n",
            "/content/framesframe_0195.jpg\n",
            "/content/framesframe_0342.jpg\n",
            "/content/framesframe_0050.jpg\n",
            "/content/framesframe_0201.jpg\n",
            "/content/framesframe_0229.jpg\n",
            "/content/framesframe_0573.jpg\n",
            "/content/framesframe_0713.jpg\n",
            "/content/framesframe_0532.jpg\n",
            "/content/framesframe_0726.jpg\n",
            "/content/framesframe_0272.jpg\n",
            "/content/framesframe_0507.jpg\n",
            "/content/framesframe_0051.jpg\n",
            "/content/framesframe_0281.jpg\n",
            "/content/framesframe_0427.jpg\n",
            "/content/framesframe_0052.jpg\n",
            "/content/framesframe_0644.jpg\n",
            "/content/framesframe_0209.jpg\n",
            "/content/framesframe_0217.jpg\n",
            "/content/framesframe_0672.jpg\n",
            "/content/framesframe_0592.jpg\n",
            "/content/framesframe_0299.jpg\n",
            "/content/framesframe_0387.jpg\n",
            "/content/framesframe_0637.jpg\n",
            "/content/framesframe_0430.jpg\n",
            "/content/framesframe_0492.jpg\n",
            "/content/framesframe_0180.jpg\n",
            "/content/framesframe_0602.jpg\n",
            "/content/framesframe_0539.jpg\n",
            "/content/framesframe_0317.jpg\n",
            "/content/framesframe_0483.jpg\n",
            "/content/framesframe_0204.jpg\n",
            "/content/framesframe_0375.jpg\n",
            "/content/framesframe_0212.jpg\n",
            "/content/framesframe_0062.jpg\n",
            "/content/framesframe_0415.jpg\n",
            "/content/framesframe_0396.jpg\n",
            "/content/framesframe_0432.jpg\n",
            "/content/framesframe_0130.jpg\n",
            "/content/framesframe_0211.jpg\n",
            "/content/framesframe_0423.jpg\n",
            "/content/framesframe_0511.jpg\n",
            "/content/framesframe_0067.jpg\n",
            "/content/framesframe_0721.jpg\n",
            "/content/framesframe_0429.jpg\n",
            "/content/framesframe_0413.jpg\n",
            "/content/framesframe_0070.jpg\n",
            "/content/framesframe_0572.jpg\n",
            "/content/framesframe_0600.jpg\n",
            "/content/framesframe_0457.jpg\n",
            "/content/framesframe_0159.jpg\n",
            "/content/framesframe_0606.jpg\n",
            "/content/framesframe_0603.jpg\n",
            "/content/framesframe_0608.jpg\n",
            "/content/framesframe_0318.jpg\n",
            "/content/framesframe_0202.jpg\n",
            "/content/framesframe_0154.jpg\n",
            "/content/framesframe_0112.jpg\n",
            "/content/framesframe_0512.jpg\n",
            "/content/framesframe_0136.jpg\n",
            "/content/framesframe_0129.jpg\n",
            "/content/framesframe_0088.jpg\n",
            "/content/framesframe_0633.jpg\n",
            "/content/framesframe_0399.jpg\n",
            "/content/framesframe_0134.jpg\n",
            "/content/framesframe_0536.jpg\n",
            "/content/framesframe_0518.jpg\n",
            "/content/framesframe_0448.jpg\n",
            "/content/framesframe_0142.jpg\n",
            "/content/framesframe_0547.jpg\n",
            "/content/framesframe_0244.jpg\n",
            "/content/framesframe_0527.jpg\n",
            "/content/framesframe_0296.jpg\n",
            "/content/framesframe_0433.jpg\n",
            "/content/framesframe_0350.jpg\n",
            "/content/framesframe_0058.jpg\n",
            "/content/framesframe_0480.jpg\n",
            "/content/framesframe_0639.jpg\n",
            "/content/framesframe_0589.jpg\n",
            "/content/framesframe_0352.jpg\n",
            "/content/framesframe_0733.jpg\n",
            "/content/framesframe_0564.jpg\n",
            "/content/framesframe_0034.jpg\n",
            "/content/framesframe_0087.jpg\n",
            "/content/framesframe_0404.jpg\n",
            "/content/framesframe_0566.jpg\n",
            "/content/framesframe_0368.jpg\n",
            "/content/framesframe_0668.jpg\n",
            "/content/framesframe_0730.jpg\n",
            "/content/framesframe_0645.jpg\n",
            "/content/framesframe_0681.jpg\n",
            "/content/framesframe_0013.jpg\n",
            "/content/framesframe_0233.jpg\n",
            "/content/framesframe_0541.jpg\n",
            "/content/framesframe_0221.jpg\n",
            "/content/framesframe_0012.jpg\n",
            "/content/framesframe_0647.jpg\n",
            "/content/framesframe_0517.jpg\n",
            "/content/framesframe_0205.jpg\n",
            "/content/framesframe_0098.jpg\n",
            "/content/framesframe_0506.jpg\n",
            "/content/framesframe_0347.jpg\n",
            "/content/framesframe_0246.jpg\n",
            "/content/framesframe_0729.jpg\n",
            "/content/framesframe_0185.jpg\n",
            "/content/framesframe_0085.jpg\n",
            "/content/framesframe_0416.jpg\n",
            "/content/framesframe_0534.jpg\n",
            "/content/framesframe_0340.jpg\n",
            "/content/framesframe_0520.jpg\n",
            "/content/framesframe_0089.jpg\n",
            "/content/framesframe_0054.jpg\n",
            "/content/framesframe_0041.jpg\n",
            "/content/framesframe_0443.jpg\n",
            "/content/framesframe_0075.jpg\n",
            "/content/framesframe_0043.jpg\n",
            "/content/framesframe_0664.jpg\n",
            "/content/framesframe_0188.jpg\n",
            "/content/framesframe_0715.jpg\n",
            "/content/framesframe_0150.jpg\n",
            "/content/framesframe_0339.jpg\n",
            "/content/framesframe_0484.jpg\n",
            "/content/framesframe_0575.jpg\n",
            "/content/framesframe_0597.jpg\n",
            "/content/framesframe_0725.jpg\n",
            "/content/framesframe_0651.jpg\n",
            "/content/framesframe_0722.jpg\n",
            "/content/framesframe_0487.jpg\n",
            "/content/framesframe_0686.jpg\n",
            "/content/framesframe_0157.jpg\n",
            "/content/framesframe_0568.jpg\n",
            "/content/framesframe_0697.jpg\n",
            "/content/framesframe_0590.jpg\n",
            "/content/framesframe_0126.jpg\n",
            "/content/framesframe_0197.jpg\n",
            "/content/framesframe_0508.jpg\n",
            "/content/framesframe_0040.jpg\n",
            "/content/framesframe_0405.jpg\n",
            "/content/framesframe_0455.jpg\n",
            "/content/framesframe_0005.jpg\n",
            "/content/framesframe_0456.jpg\n",
            "/content/framesframe_0476.jpg\n",
            "/content/framesframe_0719.jpg\n",
            "/content/framesframe_0700.jpg\n",
            "/content/framesframe_0336.jpg\n",
            "/content/framesframe_0674.jpg\n",
            "/content/framesframe_0063.jpg\n",
            "/content/framesframe_0351.jpg\n",
            "/content/framesframe_0642.jpg\n",
            "/content/framesframe_0022.jpg\n",
            "/content/framesframe_0494.jpg\n",
            "/content/framesframe_0716.jpg\n",
            "/content/framesframe_0139.jpg\n",
            "/content/framesframe_0264.jpg\n",
            "/content/framesframe_0000.jpg\n",
            "/content/framesframe_0270.jpg\n",
            "/content/framesframe_0531.jpg\n",
            "/content/framesframe_0453.jpg\n",
            "/content/framesframe_0325.jpg\n",
            "/content/framesframe_0066.jpg\n",
            "/content/framesframe_0326.jpg\n",
            "/content/framesframe_0653.jpg\n",
            "/content/framesframe_0576.jpg\n",
            "/content/framesframe_0485.jpg\n",
            "/content/framesframe_0682.jpg\n",
            "/content/framesframe_0019.jpg\n",
            "/content/framesframe_0105.jpg\n",
            "/content/framesframe_0643.jpg\n",
            "/content/framesframe_0491.jpg\n",
            "/content/framesframe_0425.jpg\n",
            "/content/framesframe_0086.jpg\n",
            "/content/framesframe_0481.jpg\n",
            "/content/framesframe_0727.jpg\n",
            "/content/framesframe_0449.jpg\n",
            "/content/framesframe_0095.jpg\n",
            "/content/framesframe_0374.jpg\n",
            "/content/framesframe_0068.jpg\n",
            "/content/framesframe_0280.jpg\n",
            "/content/framesframe_0101.jpg\n",
            "/content/framesframe_0394.jpg\n",
            "/content/framesframe_0119.jpg\n",
            "/content/framesframe_0667.jpg\n",
            "/content/framesframe_0446.jpg\n",
            "/content/framesframe_0358.jpg\n",
            "/content/framesframe_0344.jpg\n",
            "/content/framesframe_0099.jpg\n",
            "/content/framesframe_0473.jpg\n",
            "/content/framesframe_0604.jpg\n",
            "/content/framesframe_0009.jpg\n",
            "/content/framesframe_0514.jpg\n",
            "/content/framesframe_0419.jpg\n",
            "/content/framesframe_0613.jpg\n",
            "/content/framesframe_0543.jpg\n",
            "/content/framesframe_0411.jpg\n",
            "/content/framesframe_0220.jpg\n",
            "/content/framesframe_0252.jpg\n",
            "/content/framesframe_0482.jpg\n",
            "/content/framesframe_0168.jpg\n",
            "/content/framesframe_0585.jpg\n",
            "/content/framesframe_0330.jpg\n",
            "/content/framesframe_0266.jpg\n",
            "/content/framesframe_0353.jpg\n",
            "/content/framesframe_0478.jpg\n",
            "/content/framesframe_0109.jpg\n",
            "/content/framesframe_0704.jpg\n",
            "/content/framesframe_0186.jpg\n",
            "/content/framesframe_0434.jpg\n",
            "/content/framesframe_0189.jpg\n",
            "/content/framesframe_0618.jpg\n",
            "/content/framesframe_0567.jpg\n",
            "/content/framesframe_0516.jpg\n",
            "/content/framesframe_0417.jpg\n",
            "/content/framesframe_0271.jpg\n",
            "/content/framesframe_0287.jpg\n",
            "/content/framesframe_0222.jpg\n",
            "/content/framesframe_0171.jpg\n",
            "/content/framesframe_0215.jpg\n",
            "/content/framesframe_0619.jpg\n",
            "/content/framesframe_0162.jpg\n",
            "/content/framesframe_0620.jpg\n",
            "/content/framesframe_0178.jpg\n",
            "/content/framesframe_0094.jpg\n",
            "/content/framesframe_0137.jpg\n",
            "/content/framesframe_0594.jpg\n",
            "/content/framesframe_0144.jpg\n",
            "/content/framesframe_0560.jpg\n",
            "/content/framesframe_0230.jpg\n",
            "/content/framesframe_0593.jpg\n",
            "/content/framesframe_0247.jpg\n",
            "/content/framesframe_0234.jpg\n",
            "/content/framesframe_0505.jpg\n",
            "/content/framesframe_0036.jpg\n",
            "/content/framesframe_0249.jpg\n",
            "/content/framesframe_0435.jpg\n",
            "/content/framesframe_0565.jpg\n",
            "/content/framesframe_0242.jpg\n",
            "/content/framesframe_0581.jpg\n",
            "/content/framesframe_0324.jpg\n",
            "/content/framesframe_0145.jpg\n",
            "/content/framesframe_0057.jpg\n",
            "/content/framesframe_0540.jpg\n",
            "/content/framesframe_0698.jpg\n",
            "/content/framesframe_0699.jpg\n",
            "/content/framesframe_0059.jpg\n",
            "/content/framesframe_0254.jpg\n",
            "/content/framesframe_0418.jpg\n",
            "/content/framesframe_0401.jpg\n",
            "/content/framesframe_0006.jpg\n",
            "/content/framesframe_0389.jpg\n",
            "/content/framesframe_0028.jpg\n",
            "/content/framesframe_0203.jpg\n",
            "/content/framesframe_0167.jpg\n",
            "/content/framesframe_0232.jpg\n",
            "/content/framesframe_0313.jpg\n",
            "/content/framesframe_0334.jpg\n",
            "/content/framesframe_0196.jpg\n",
            "/content/framesframe_0262.jpg\n",
            "/content/framesframe_0409.jpg\n",
            "/content/framesframe_0045.jpg\n",
            "/content/framesframe_0243.jpg\n",
            "/content/framesframe_0308.jpg\n",
            "/content/framesframe_0460.jpg\n",
            "/content/framesframe_0556.jpg\n",
            "/content/framesframe_0477.jpg\n",
            "/content/framesframe_0289.jpg\n",
            "/content/framesframe_0323.jpg\n",
            "/content/framesframe_0228.jpg\n",
            "/content/framesframe_0452.jpg\n",
            "/content/framesframe_0111.jpg\n",
            "/content/framesframe_0200.jpg\n",
            "/content/framesframe_0630.jpg\n",
            "/content/framesframe_0624.jpg\n",
            "/content/framesframe_0437.jpg\n",
            "/content/framesframe_0116.jpg\n",
            "/content/framesframe_0724.jpg\n",
            "/content/framesframe_0687.jpg\n",
            "/content/framesframe_0390.jpg\n",
            "/content/framesframe_0149.jpg\n",
            "/content/framesframe_0261.jpg\n",
            "/content/framesframe_0356.jpg\n",
            "/content/framesframe_0331.jpg\n",
            "/content/framesframe_0489.jpg\n",
            "/content/framesframe_0535.jpg\n",
            "/content/framesframe_0635.jpg\n",
            "/content/framesframe_0138.jpg\n",
            "/content/framesframe_0166.jpg\n",
            "/content/framesframe_0431.jpg\n",
            "/content/framesframe_0388.jpg\n",
            "/content/framesframe_0091.jpg\n",
            "/content/framesframe_0421.jpg\n",
            "/content/framesframe_0554.jpg\n",
            "/content/framesframe_0392.jpg\n",
            "/content/framesframe_0311.jpg\n",
            "/content/framesframe_0631.jpg\n",
            "/content/framesframe_0291.jpg\n",
            "/content/framesframe_0283.jpg\n",
            "/content/framesframe_0551.jpg\n",
            "/content/framesframe_0499.jpg\n",
            "/content/framesframe_0445.jpg\n",
            "/content/framesframe_0497.jpg\n",
            "/content/framesframe_0079.jpg\n",
            "/content/framesframe_0102.jpg\n",
            "/content/framesframe_0528.jpg\n",
            "/content/framesframe_0321.jpg\n",
            "/content/framesframe_0290.jpg\n",
            "/content/framesframe_0346.jpg\n",
            "/content/framesframe_0660.jpg\n",
            "/content/framesframe_0636.jpg\n",
            "/content/framesframe_0398.jpg\n",
            "/content/framesframe_0504.jpg\n",
            "/content/framesframe_0125.jpg\n",
            "/content/framesframe_0314.jpg\n",
            "/content/framesframe_0158.jpg\n",
            "/content/framesframe_0354.jpg\n",
            "/content/framesframe_0113.jpg\n",
            "/content/framesframe_0610.jpg\n",
            "/content/framesframe_0510.jpg\n",
            "/content/framesframe_0163.jpg\n",
            "/content/framesframe_0558.jpg\n",
            "/content/framesframe_0548.jpg\n",
            "/content/framesframe_0080.jpg\n",
            "/content/framesframe_0343.jpg\n",
            "/content/framesframe_0366.jpg\n",
            "/content/framesframe_0049.jpg\n",
            "/content/framesframe_0444.jpg\n",
            "/content/framesframe_0479.jpg\n",
            "/content/framesframe_0345.jpg\n",
            "/content/framesframe_0370.jpg\n",
            "/content/framesframe_0207.jpg\n",
            "/content/framesframe_0525.jpg\n",
            "/content/framesframe_0662.jpg\n",
            "/content/framesframe_0611.jpg\n",
            "/content/framesframe_0533.jpg\n",
            "/content/framesframe_0680.jpg\n",
            "/content/framesframe_0625.jpg\n",
            "/content/framesframe_0173.jpg\n",
            "/content/framesframe_0141.jpg\n",
            "/content/framesframe_0438.jpg\n",
            "/content/framesframe_0694.jpg\n",
            "/content/framesframe_0258.jpg\n",
            "/content/framesframe_0393.jpg\n",
            "/content/framesframe_0488.jpg\n",
            "/content/framesframe_0502.jpg\n",
            "/content/framesframe_0135.jpg\n",
            "/content/framesframe_0470.jpg\n",
            "/content/framesframe_0309.jpg\n",
            "/content/framesframe_0386.jpg\n",
            "/content/framesframe_0522.jpg\n",
            "/content/framesframe_0037.jpg\n",
            "/content/framesframe_0693.jpg\n",
            "/content/framesframe_0579.jpg\n",
            "/content/framesframe_0357.jpg\n",
            "/content/framesframe_0529.jpg\n",
            "/content/framesframe_0454.jpg\n",
            "/content/framesframe_0677.jpg\n",
            "/content/framesframe_0071.jpg\n",
            "/content/framesframe_0663.jpg\n",
            "/content/framesframe_0179.jpg\n",
            "/content/framesframe_0688.jpg\n",
            "/content/framesframe_0306.jpg\n",
            "/content/framesframe_0329.jpg\n",
            "/content/framesframe_0707.jpg\n",
            "/content/framesframe_0718.jpg\n",
            "/content/framesframe_0010.jpg\n",
            "/content/framesframe_0033.jpg\n",
            "/content/framesframe_0026.jpg\n",
            "/content/framesframe_0640.jpg\n",
            "/content/framesframe_0008.jpg\n",
            "/content/framesframe_0587.jpg\n",
            "/content/framesframe_0657.jpg\n",
            "/content/framesframe_0096.jpg\n",
            "/content/framesframe_0614.jpg\n",
            "/content/framesframe_0397.jpg\n",
            "/content/framesframe_0078.jpg\n",
            "/content/framesframe_0709.jpg\n",
            "/content/framesframe_0103.jpg\n",
            "/content/framesframe_0064.jpg\n",
            "/content/framesframe_0523.jpg\n",
            "/content/framesframe_0023.jpg\n",
            "/content/framesframe_0187.jpg\n",
            "/content/framesframe_0042.jpg\n",
            "/content/framesframe_0341.jpg\n",
            "/content/framesframe_0106.jpg\n",
            "/content/framesframe_0458.jpg\n",
            "/content/framesframe_0121.jpg\n",
            "/content/framesframe_0496.jpg\n",
            "/content/framesframe_0275.jpg\n",
            "/content/framesframe_0110.jpg\n",
            "/content/framesframe_0638.jpg\n",
            "/content/framesframe_0146.jpg\n",
            "/content/framesframe_0422.jpg\n",
            "/content/framesframe_0194.jpg\n",
            "/content/framesframe_0617.jpg\n",
            "/content/framesframe_0335.jpg\n",
            "/content/framesframe_0384.jpg\n",
            "/content/framesframe_0170.jpg\n",
            "/content/framesframe_0689.jpg\n",
            "/content/framesframe_0294.jpg\n",
            "/content/framesframe_0628.jpg\n",
            "/content/framesframe_0297.jpg\n",
            "/content/framesframe_0053.jpg\n",
            "/content/framesframe_0703.jpg\n",
            "/content/framesframe_0083.jpg\n",
            "/content/framesframe_0014.jpg\n",
            "/content/framesframe_0305.jpg\n",
            "/content/framesframe_0039.jpg\n",
            "/content/framesframe_0307.jpg\n",
            "/content/framesframe_0288.jpg\n",
            "/content/framesframe_0082.jpg\n",
            "/content/framesframe_0295.jpg\n",
            "/content/framesframe_0182.jpg\n",
            "/content/framesframe_0024.jpg\n",
            "/content/framesframe_0035.jpg\n",
            "/content/framesframe_0184.jpg\n",
            "/content/framesframe_0081.jpg\n",
            "/content/framesframe_0255.jpg\n",
            "/content/framesframe_0632.jpg\n",
            "/content/framesframe_0160.jpg\n",
            "/content/framesframe_0414.jpg\n",
            "/content/framesframe_0447.jpg\n",
            "/content/framesframe_0381.jpg\n",
            "/content/framesframe_0359.jpg\n",
            "/content/framesframe_0679.jpg\n",
            "/content/framesframe_0493.jpg\n",
            "/content/framesframe_0723.jpg\n",
            "/content/framesframe_0542.jpg\n",
            "/content/framesframe_0285.jpg\n",
            "/content/framesframe_0192.jpg\n",
            "/content/framesframe_0190.jpg\n",
            "/content/framesframe_0164.jpg\n",
            "/content/framesframe_0728.jpg\n",
            "/content/framesframe_0582.jpg\n",
            "/content/framesframe_0627.jpg\n",
            "/content/framesframe_0104.jpg\n",
            "/content/framesframe_0654.jpg\n",
            "/content/framesframe_0583.jpg\n",
            "/content/framesframe_0218.jpg\n",
            "/content/framesframe_0464.jpg\n",
            "/content/framesframe_0147.jpg\n",
            "/content/framesframe_0584.jpg\n",
            "/content/framesframe_0407.jpg\n",
            "/content/framesframe_0248.jpg\n",
            "/content/framesframe_0450.jpg\n",
            "/content/framesframe_0363.jpg\n",
            "/content/framesframe_0007.jpg\n",
            "/content/framesframe_0372.jpg\n",
            "/content/framesframe_0498.jpg\n",
            "/content/framesframe_0412.jpg\n",
            "/content/framesframe_0151.jpg\n",
            "/content/framesframe_0673.jpg\n",
            "/content/framesframe_0591.jpg\n",
            "/content/framesframe_0382.jpg\n",
            "/content/framesframe_0705.jpg\n",
            "/content/framesframe_0461.jpg\n",
            "/content/framesframe_0578.jpg\n",
            "/content/framesframe_0044.jpg\n",
            "/content/framesframe_0519.jpg\n",
            "/content/framesframe_0588.jpg\n",
            "/content/framesframe_0263.jpg\n",
            "/content/framesframe_0373.jpg\n",
            "/content/framesframe_0235.jpg\n",
            "/content/framesframe_0383.jpg\n",
            "/content/framesframe_0020.jpg\n",
            "/content/framesframe_0027.jpg\n",
            "/content/framesframe_0712.jpg\n",
            "/content/framesframe_0615.jpg\n",
            "/content/framesframe_0303.jpg\n",
            "/content/framesframe_0304.jpg\n",
            "/content/framesframe_0408.jpg\n",
            "/content/framesframe_0451.jpg\n",
            "/content/framesframe_0225.jpg\n",
            "/content/framesframe_0355.jpg\n",
            "/content/framesframe_0115.jpg\n",
            "/content/framesframe_0616.jpg\n",
            "/content/framesframe_0301.jpg\n",
            "/content/framesframe_0298.jpg\n",
            "/content/framesframe_0569.jpg\n",
            "/content/framesframe_0274.jpg\n",
            "/content/framesframe_0544.jpg\n",
            "/content/framesframe_0666.jpg\n",
            "/content/framesframe_0315.jpg\n",
            "/content/framesframe_0570.jpg\n",
            "/content/framesframe_0658.jpg\n",
            "/content/framesframe_0069.jpg\n",
            "/content/framesframe_0685.jpg\n",
            "/content/framesframe_0076.jpg\n",
            "/content/framesframe_0250.jpg\n",
            "/content/framesframe_0004.jpg\n",
            "/content/framesframe_0107.jpg\n",
            "/content/framesframe_0557.jpg\n",
            "/content/framesframe_0074.jpg\n",
            "/content/framesframe_0260.jpg\n",
            "/content/framesframe_0691.jpg\n",
            "/content/framesframe_0319.jpg\n",
            "/content/framesframe_0626.jpg\n",
            "/content/framesframe_0465.jpg\n",
            "/content/framesframe_0377.jpg\n",
            "/content/framesframe_0210.jpg\n",
            "/content/framesframe_0017.jpg\n",
            "/content/framesframe_0486.jpg\n",
            "/content/framesframe_0122.jpg\n",
            "/content/framesframe_0183.jpg\n",
            "/content/framesframe_0003.jpg\n",
            "/content/framesframe_0561.jpg\n",
            "/content/framesframe_0327.jpg\n",
            "/content/framesframe_0002.jpg\n",
            "/content/framesframe_0395.jpg\n",
            "/content/framesframe_0656.jpg\n",
            "/content/framesframe_0284.jpg\n",
            "/content/framesframe_0245.jpg\n",
            "/content/framesframe_0706.jpg\n",
            "/content/framesframe_0181.jpg\n",
            "/content/framesframe_0379.jpg\n",
            "/content/framesframe_0056.jpg\n",
            "/content/framesframe_0265.jpg\n",
            "/content/framesframe_0391.jpg\n",
            "/content/framesframe_0717.jpg\n",
            "/content/framesframe_0440.jpg\n",
            "/content/framesframe_0278.jpg\n",
            "/content/framesframe_0046.jpg\n",
            "/content/framesframe_0696.jpg\n",
            "/content/framesframe_0471.jpg\n",
            "/content/framesframe_0623.jpg\n",
            "/content/framesframe_0322.jpg\n",
            "/content/framesframe_0152.jpg\n",
            "/content/framesframe_0406.jpg\n",
            "/content/framesframe_0655.jpg\n",
            "/content/framesframe_0097.jpg\n",
            "/content/framesframe_0155.jpg\n",
            "/content/framesframe_0410.jpg\n",
            "/content/framesframe_0599.jpg\n",
            "/content/framesframe_0612.jpg\n",
            "/content/framesframe_0259.jpg\n",
            "/content/framesframe_0310.jpg\n",
            "/content/framesframe_0365.jpg\n",
            "/content/framesframe_0292.jpg\n",
            "/content/framesframe_0424.jpg\n",
            "/content/framesframe_0038.jpg\n",
            "/content/framesframe_0607.jpg\n",
            "/content/framesframe_0468.jpg\n",
            "/content/framesframe_0609.jpg\n",
            "/content/framesframe_0475.jpg\n",
            "/content/framesframe_0208.jpg\n",
            "/content/framesframe_0177.jpg\n",
            "/content/framesframe_0029.jpg\n",
            "/content/framesframe_0224.jpg\n",
            "/content/framesframe_0213.jpg\n",
            "/content/framesframe_0671.jpg\n",
            "/content/framesframe_0553.jpg\n",
            "/content/framesframe_0025.jpg\n",
            "/content/framesframe_0337.jpg\n",
            "/content/framesframe_0385.jpg\n",
            "/content/framesframe_0501.jpg\n",
            "/content/framesframe_0595.jpg\n",
            "/content/framesframe_0256.jpg\n",
            "/content/framesframe_0349.jpg\n",
            "/content/framesframe_0276.jpg\n",
            "/content/framesframe_0236.jpg\n",
            "/content/framesframe_0670.jpg\n",
            "/content/framesframe_0090.jpg\n",
            "/content/framesframe_0133.jpg\n",
            "/content/framesframe_0378.jpg\n",
            "/content/framesframe_0293.jpg\n",
            "/content/framesframe_0467.jpg\n",
            "/content/framesframe_0490.jpg\n",
            "/content/framesframe_0563.jpg\n",
            "/content/framesframe_0710.jpg\n",
            "/content/framesframe_0524.jpg\n",
            "/content/framesframe_0140.jpg\n",
            "/content/framesframe_0605.jpg\n",
            "/content/framesframe_0206.jpg\n",
            "/content/framesframe_0061.jpg\n",
            "/content/framesframe_0277.jpg\n",
            "/content/framesframe_0267.jpg\n",
            "/content/framesframe_0093.jpg\n",
            "/content/framesframe_0153.jpg\n",
            "/content/framesframe_0108.jpg\n",
            "/content/framesframe_0199.jpg\n",
            "/content/framesframe_0474.jpg\n",
            "/content/framesframe_0530.jpg\n",
            "/content/framesframe_0231.jpg\n",
            "/content/framesframe_0124.jpg\n",
            "/content/framesframe_0348.jpg\n",
            "/content/framesframe_0459.jpg\n",
            "/content/framesframe_0055.jpg\n",
            "/content/framesframe_0442.jpg\n",
            "/content/framesframe_0439.jpg\n",
            "/content/framesframe_0538.jpg\n",
            "/content/framesframe_0367.jpg\n",
            "/content/framesframe_0018.jpg\n",
            "/content/framesframe_0251.jpg\n",
            "/content/framesframe_0537.jpg\n",
            "/content/framesframe_0562.jpg\n",
            "/content/framesframe_0148.jpg\n",
            "/content/framesframe_0241.jpg\n",
            "/content/framesframe_0495.jpg\n",
            "/content/framesframe_0574.jpg\n",
            "/content/framesframe_0596.jpg\n",
            "/content/framesframe_0711.jpg\n",
            "/content/framesframe_0364.jpg\n",
            "/content/framesframe_0092.jpg\n",
            "/content/framesframe_0198.jpg\n",
            "/content/framesframe_0646.jpg\n",
            "/content/framesframe_0132.jpg\n",
            "/content/framesframe_0169.jpg\n",
            "/content/framesframe_0692.jpg\n",
            "/content/framesframe_0650.jpg\n",
            "/content/framesframe_0676.jpg\n",
            "/content/framesframe_0176.jpg\n",
            "/content/framesframe_0503.jpg\n",
            "/content/framesframe_0273.jpg\n",
            "/content/framesframe_0701.jpg\n",
            "/content/framesframe_0708.jpg\n",
            "/content/framesframe_0469.jpg\n",
            "/content/framesframe_0021.jpg\n",
            "/content/framesframe_0675.jpg\n",
            "/content/framesframe_0684.jpg\n",
            "/content/framesframe_0720.jpg\n",
            "/content/framesframe_0629.jpg\n",
            "/content/framesframe_0048.jpg\n",
            "/content/framesframe_0648.jpg\n",
            "/content/framesframe_0238.jpg\n",
            "/content/framesframe_0143.jpg\n",
            "/content/framesframe_0362.jpg\n",
            "/content/framesframe_0015.jpg\n",
            "/content/framesframe_0226.jpg\n",
            "/content/framesframe_0302.jpg\n",
            "/content/framesframe_0073.jpg\n",
            "/content/framesframe_0174.jpg\n",
            "/content/framesframe_0552.jpg\n",
            "/content/framesframe_0214.jpg\n",
            "/content/framesframe_0734.jpg\n"
          ]
        }
      ]
    },
    {
      "cell_type": "code",
      "source": [
        "project_f = files[0:300]"
      ],
      "metadata": {
        "id": "gzluGi5STE9M"
      },
      "execution_count": null,
      "outputs": []
    },
    {
      "cell_type": "code",
      "source": [
        "project_f[0:10]"
      ],
      "metadata": {
        "colab": {
          "base_uri": "https://localhost:8080/"
        },
        "id": "sFt3lvMwW_pr",
        "outputId": "6bc973e7-2b07-45d4-8176-c4ced1046c12"
      },
      "execution_count": null,
      "outputs": [
        {
          "output_type": "execute_result",
          "data": {
            "text/plain": [
              "['/content/frames/frame_0376.jpg',\n",
              " '/content/frames/frame_0030.jpg',\n",
              " '/content/frames/frame_0282.jpg',\n",
              " '/content/frames/frame_0219.jpg',\n",
              " '/content/frames/frame_0001.jpg',\n",
              " '/content/frames/frame_0420.jpg',\n",
              " '/content/frames/frame_0526.jpg',\n",
              " '/content/frames/frame_0257.jpg',\n",
              " '/content/frames/frame_0580.jpg',\n",
              " '/content/frames/frame_0683.jpg']"
            ]
          },
          "metadata": {},
          "execution_count": 9
        }
      ]
    },
    {
      "cell_type": "code",
      "source": [
        "img = cv2.imread('/content/frames/frame_0376.jpg')"
      ],
      "metadata": {
        "id": "bsgxmtMoThVz"
      },
      "execution_count": null,
      "outputs": []
    },
    {
      "cell_type": "code",
      "source": [
        "image = cv2.imread(project_f[0])"
      ],
      "metadata": {
        "id": "zUQzyYlYX14N"
      },
      "execution_count": null,
      "outputs": []
    },
    {
      "cell_type": "code",
      "source": [],
      "metadata": {
        "id": "v-23UPTkX7QS"
      },
      "execution_count": null,
      "outputs": []
    },
    {
      "cell_type": "code",
      "source": [
        "plt.imshow(cv2.cvtColor(img, cv2.COLOR_BGR2RGB))\n",
        "plt.show()\n"
      ],
      "metadata": {
        "colab": {
          "base_uri": "https://localhost:8080/",
          "height": 435
        },
        "id": "QCkc42ObWw3T",
        "outputId": "b8184f59-82fe-47d7-c5fa-5c34edb290cd"
      },
      "execution_count": null,
      "outputs": [
        {
          "output_type": "display_data",
          "data": {
            "text/plain": [
              "<Figure size 640x480 with 1 Axes>"
            ],
            "image/png": "[encoded data removed]"
          },
          "metadata": {}
        }
      ]
    },
    {
      "cell_type": "code",
      "source": [
        "# from deepface import DeepFace\n",
        "# import cv2\n",
        "# import matplotlib.pyplot as plt\n",
        "\n",
        "# # Read image\n",
        "# img = cv2.imread('/content/Leonardo_Phoenix_a_professional_young_Indian_man_in_his_midtwe_0.jpg')\n",
        "\n",
        "# Display image\n",
        "plt.imshow(cv2.cvtColor(img, cv2.COLOR_BGR2RGB))\n",
        "plt.show()\n",
        "\n",
        "# Analyze emotions\n",
        "result = DeepFace.analyze(img, actions=['emotion'])\n",
        "\n",
        "# Print result\n",
        "print(result)"
      ],
      "metadata": {
        "colab": {
          "base_uri": "https://localhost:8080/",
          "height": 473
        },
        "id": "3GWDfDyopYF_",
        "outputId": "28c51b82-c0f8-483c-98b1-77a9020871c1"
      },
      "execution_count": null,
      "outputs": [
        {
          "output_type": "display_data",
          "data": {
            "text/plain": [
              "<Figure size 640x480 with 1 Axes>"
            ],
            "image/png": "[encoded data removed]"
          },
          "metadata": {}
        },
        {
          "output_type": "stream",
          "name": "stdout",
          "text": [
            "[{'emotion': {'angry': 4.5699389232675344e-12, 'disgust': 5.8315716197105605e-18, 'fear': 2.4053761205067303e-07, 'happy': 0.8157641626894474, 'sad': 4.747738842070248e-05, 'surprise': 3.940114456923993e-07, 'neutral': 99.18419122695923}, 'dominant_emotion': 'neutral', 'region': {'x': 81, 'y': 124, 'w': 385, 'h': 385, 'left_eye': (283, 450), 'right_eye': (251, 351)}, 'face_confidence': 0.92}]\n"
          ]
        }
      ]
    },
    {
      "cell_type": "code",
      "source": [
        "project_f[25]"
      ],
      "metadata": {
        "colab": {
          "base_uri": "https://localhost:8080/",
          "height": 36
        },
        "id": "gX8F8y_4aUaa",
        "outputId": "f7c43d99-98f0-4ded-e345-b9262e32b45d"
      },
      "execution_count": null,
      "outputs": [
        {
          "output_type": "execute_result",
          "data": {
            "text/plain": [
              "'/content/frames/frame_0609.jpg'"
            ],
            "application/vnd.google.colaboratory.intrinsic+json": {
              "type": "string"
            }
          },
          "metadata": {},
          "execution_count": 45
        }
      ]
    },
    {
      "cell_type": "code",
      "source": [
        "from deepface import DeepFace\n",
        "import cv2\n",
        "import os\n",
        "import matplotlib.pyplot as plt\n",
        "\n",
        "# Directory containing frames\n",
        "# frames_dir = '/content/frames'\n",
        "face_emotions = []\n",
        "\n",
        "\n",
        "project_f = files[0:10]\n",
        "# Iterate over each file in the directory\n",
        "# for file_name in os.listdir(frames_dir):\n",
        "#     file_path = os.path.join(frames_dir, file_name)  # Construct the full file path\n",
        "\n",
        "for file_path in project_f:\n",
        "\n",
        "    # Read the image\n",
        "    img = cv2.imread(file_path)\n",
        "\n",
        "    # Check if the image was successfully read\n",
        "    if img is None:\n",
        "        print(f\"Could not read image: {file_path}\")\n",
        "        continue\n",
        "\n",
        "    # Optional: Display the image\n",
        "    # plt.imshow(cv2.cvtColor(img, cv2.COLOR_BGR2RGB))\n",
        "    # plt.show()\n",
        "\n",
        "    # Analyze emotions\n",
        "    try:\n",
        "      # for i in range(len(project_f)):\n",
        "      result = DeepFace.analyze(img, actions=['emotion'])\n",
        "      face_emotions.append(result['face_confidence'],result['emotion'])\n",
        "      print(result)  # Print or store the result as needed\n",
        "    except Exception as e:\n",
        "      print(f\"Error analyzing {file_path}: {e}\")\n"
      ],
      "metadata": {
        "colab": {
          "base_uri": "https://localhost:8080/"
        },
        "id": "Pi7EWCguThYw",
        "outputId": "18a1de77-6695-40f4-8483-76a59cb3f358"
      },
      "execution_count": null,
      "outputs": [
        {
          "output_type": "stream",
          "name": "stdout",
          "text": [
            "Error analyzing /content/frames/frame_0376.jpg: list indices must be integers or slices, not str\n",
            "Error analyzing /content/frames/frame_0030.jpg: list indices must be integers or slices, not str\n",
            "Error analyzing /content/frames/frame_0282.jpg: list indices must be integers or slices, not str\n",
            "Error analyzing /content/frames/frame_0219.jpg: list indices must be integers or slices, not str\n",
            "Error analyzing /content/frames/frame_0001.jpg: list indices must be integers or slices, not str\n",
            "Error analyzing /content/frames/frame_0420.jpg: list indices must be integers or slices, not str\n",
            "Error analyzing /content/frames/frame_0526.jpg: list indices must be integers or slices, not str\n",
            "Error analyzing /content/frames/frame_0257.jpg: list indices must be integers or slices, not str\n",
            "Error analyzing /content/frames/frame_0580.jpg: list indices must be integers or slices, not str\n",
            "Error analyzing /content/frames/frame_0683.jpg: list indices must be integers or slices, not str\n"
          ]
        }
      ]
    },
    {
      "cell_type": "code",
      "source": [
        "face_emotions"
      ],
      "metadata": {
        "colab": {
          "base_uri": "https://localhost:8080/"
        },
        "id": "Xi0NfG_IThcG",
        "outputId": "2189f56f-5485-474a-fb4b-64f44b06af39"
      },
      "execution_count": null,
      "outputs": [
        {
          "output_type": "execute_result",
          "data": {
            "text/plain": [
              "[]"
            ]
          },
          "metadata": {},
          "execution_count": 19
        }
      ]
    },
    {
      "cell_type": "code",
      "source": [],
      "metadata": {
        "id": "QHHwUg14azRZ"
      },
      "execution_count": null,
      "outputs": []
    },
    {
      "cell_type": "code",
      "source": [
        "# from deepface import DeepFace\n",
        "# import cv2\n",
        "# import os\n",
        "# import matplotlib.pyplot as plt\n",
        "\n",
        "# # Directory containing frames\n",
        "# # frames_dir = '/content/frames'\n",
        "# face_emotions = []\n",
        "\n",
        "\n",
        "# project_f = files[0:10]\n",
        "# # Iterate over each file in the directory\n",
        "# # for file_name in os.listdir(frames_dir):\n",
        "# #     file_path = os.path.join(frames_dir, file_name)  # Construct the full file path\n",
        "\n",
        "# for file_path in project_f:\n",
        "\n",
        "#     # Read the image\n",
        "#     img = cv2.imread(file_path)\n",
        "\n",
        "#     # Check if the image was successfully read\n",
        "#     if img is None:\n",
        "#         print(f\"Could not read image: {file_path}\")\n",
        "#         continue\n",
        "\n",
        "#     for i in range(len(project_f)):\n",
        "#       pass\n",
        "\n",
        "#       try:\n",
        "#           result = DeepFace.analyze(img, actions=['emotion'])\n",
        "#           print(result[i])\n",
        "#       except Exception as e:\n",
        "#           print(f\"Error analyzing {file_path}: {e}\")\n"
      ],
      "metadata": {
        "id": "-sKtK3NHazVM"
      },
      "execution_count": null,
      "outputs": []
    },
    {
      "cell_type": "code",
      "source": [],
      "metadata": {
        "id": "nqMWOETnazxS"
      },
      "execution_count": null,
      "outputs": []
    },
    {
      "cell_type": "code",
      "source": [
        "# from deepface import DeepFace\n",
        "# import cv2\n",
        "# import matplotlib.pyplot as plt\n",
        "# face_emotions = []\n",
        "\n",
        "# for i in os.listdir('/content/frames'):\n",
        "#   # print(f'/content/frames{i}')\n",
        "#   img = cv2.imread(f'/content/frames{i}')\n",
        "\n",
        "#   # plt.imshow(cv2.cvtColor(img, cv2.COLOR_BGR2RGB))\n",
        "#   # plt.show()\n",
        "\n",
        "\n",
        "\n",
        "\n",
        "#   # # Analyze emotions\n",
        "#   result = DeepFace.analyze(img, actions=['emotion'])\n",
        "\n",
        "#   # # Print result\n",
        "#   # print(result)\n",
        "\n"
      ],
      "metadata": {
        "id": "2AfPq8q6hj3V"
      },
      "execution_count": null,
      "outputs": []
    },
    {
      "cell_type": "code",
      "source": [],
      "metadata": {
        "id": "o1BNI3HQkBli"
      },
      "execution_count": null,
      "outputs": []
    },
    {
      "cell_type": "markdown",
      "source": [
        "## Working code\n",
        "#### it is the code that is detecting the face emotions from the extracted frames of the images then store in the list"
      ],
      "metadata": {
        "id": "nLAf8Zp0luSj"
      }
    },
    {
      "cell_type": "code",
      "source": [
        "# from deepface import DeepFace\n",
        "# import cv2\n",
        "# import os\n",
        "# import matplotlib.pyplot as plt\n",
        "\n",
        "# # Directory containing frames\n",
        "# frames_dir = '/content/frames'\n",
        "# face_emotions = []\n",
        "\n",
        "# # Iterate over each file in the directory\n",
        "# for file_name in os.listdir(frames_dir):\n",
        "#     file_path = os.path.join(frames_dir, file_name)  # Construct the full file path\n",
        "\n",
        "#     # Read the image\n",
        "#     img = cv2.imread(file_path)\n",
        "\n",
        "#     # Check if the image was successfully read\n",
        "#     if img is None:\n",
        "#         print(f\"Could not read image: {file_path}\")\n",
        "#         continue\n",
        "\n",
        "#     # Optional: Display the image\n",
        "#     # plt.imshow(cv2.cvtColor(img, cv2.COLOR_BGR2RGB))\n",
        "#     # plt.show()\n",
        "\n",
        "#     # Analyze emotions\n",
        "#     try:\n",
        "#         result = DeepFace.analyze(img[0:10], actions=['emotion'])\n",
        "#         face_emotions.append(result)\n",
        "#         print(result)  # Print or store the result as needed\n",
        "#     except Exception as e:\n",
        "#         print(f\"Error analyzing {file_path}: {e}\")\n"
      ],
      "metadata": {
        "id": "C193LRtGkBo9"
      },
      "execution_count": null,
      "outputs": []
    },
    {
      "cell_type": "code",
      "source": [],
      "metadata": {
        "id": "CSvY0ddPkBur"
      },
      "execution_count": null,
      "outputs": []
    },
    {
      "cell_type": "code",
      "source": [],
      "metadata": {
        "id": "pwbbTKaOsIYm"
      },
      "execution_count": null,
      "outputs": []
    },
    {
      "cell_type": "markdown",
      "source": [
        "# Updated code detecting top 20 images from the folder"
      ],
      "metadata": {
        "id": "PdKrgfBSsSfm"
      }
    },
    {
      "cell_type": "code",
      "source": [
        "from deepface import DeepFace\n",
        "import cv2\n",
        "import os\n",
        "import matplotlib.pyplot as plt\n",
        "\n",
        "# Directory containing frames\n",
        "frames_dir = '/content/frames'\n",
        "face_emotions = []\n",
        "\n",
        "# Ensure the directory exists\n",
        "if not os.path.exists(frames_dir):\n",
        "    print(f\"Directory not found: {frames_dir}\")\n",
        "else:\n",
        "    # Get all files in the directory and sort them (optional)\n",
        "    files = sorted(os.listdir(frames_dir))[:20]  # Only take the first 20 files\n",
        "\n",
        "    # Iterate over each file\n",
        "    for file_name in files:\n",
        "        file_path = os.path.join(frames_dir, file_name)  # Construct the full file path\n",
        "\n",
        "        # Skip non-image files\n",
        "        if not file_name.lower().endswith(('.png', '.jpg', '.jpeg', '.bmp', '.tiff')):\n",
        "            print(f\"Skipping non-image file: {file_name}\")\n",
        "            continue\n",
        "\n",
        "        # Read the image\n",
        "        img = cv2.imread(file_path)\n",
        "\n",
        "        # Check if the image was successfully read\n",
        "        if img is None:\n",
        "            print(f\"Could not read image: {file_path}\")\n",
        "            continue\n",
        "\n",
        "        # Optional: Display the image (Uncomment if needed)\n",
        "        # plt.imshow(cv2.cvtColor(img, cv2.COLOR_BGR2RGB))\n",
        "        # plt.title(f\"Processing {file_name}\")\n",
        "        # plt.show()\n",
        "\n",
        "        # Analyze emotions\n",
        "        try:\n",
        "            result = DeepFace.analyze(img, actions=['emotion'])\n",
        "            face_emotions.append(result)\n",
        "            print(f\"Analysis for {file_name}: {result}\")\n",
        "        except Exception as e:\n",
        "            print(f\"Error analyzing {file_path}: {e}\")\n",
        "\n",
        "# Optional: Print all collected emotions\n",
        "print(\"Collected face emotions:\", face_emotions)\n"
      ],
      "metadata": {
        "colab": {
          "base_uri": "https://localhost:8080/"
        },
        "id": "4sSQzbKTsIbX",
        "outputId": "f28af534-c11b-419b-b1d9-249aa96b6e4f"
      },
      "execution_count": null,
      "outputs": [
        {
          "output_type": "stream",
          "name": "stdout",
          "text": [
            "Analysis for frame_0000.jpg: [{'emotion': {'angry': 3.066117875277996, 'disgust': 0.0015413805158459581, 'fear': 13.548421859741211, 'happy': 5.057389661669731, 'sad': 68.57702732086182, 'surprise': 0.05661463364958763, 'neutral': 9.692893922328949}, 'dominant_emotion': 'sad', 'region': {'x': 174, 'y': 111, 'w': 392, 'h': 392, 'left_eye': None, 'right_eye': None}, 'face_confidence': 0.9}]\n",
            "Analysis for frame_0001.jpg: [{'emotion': {'angry': 1.4378690593730425e-05, 'disgust': 8.872323709052665e-09, 'fear': 0.0039351445593638346, 'happy': 0.051215419080108404, 'sad': 0.7343122735619545, 'surprise': 1.4590050945173516e-06, 'neutral': 99.210524559021}, 'dominant_emotion': 'neutral', 'region': {'x': 175, 'y': 110, 'w': 392, 'h': 392, 'left_eye': (322, 403), 'right_eye': (320, 256)}, 'face_confidence': 0.9}]\n",
            "Analysis for frame_0002.jpg: [{'emotion': {'angry': 2.807922346551289e-19, 'disgust': 2.775761939787659e-25, 'fear': 0.0018930617443402298, 'happy': 1.7755010794928694e-07, 'sad': 3.204085000790835e-10, 'surprise': 1.9813626433995424e-09, 'neutral': 99.99810457229614}, 'dominant_emotion': 'neutral', 'region': {'x': 186, 'y': 124, 'w': 369, 'h': 369, 'left_eye': (447, 288), 'right_eye': (328, 401)}, 'face_confidence': 0.92}]\n",
            "Analysis for frame_0003.jpg: [{'emotion': {'angry': 1.0780206517678957e-15, 'disgust': 3.658504558878465e-22, 'fear': 0.08704130887053907, 'happy': 0.00017604000959181576, 'sad': 2.385021000139709e-10, 'surprise': 3.9338163837498996e-07, 'neutral': 99.91278052330017}, 'dominant_emotion': 'neutral', 'region': {'x': 185, 'y': 123, 'w': 372, 'h': 372, 'left_eye': (451, 288), 'right_eye': (320, 401)}, 'face_confidence': 0.92}]\n",
            "Analysis for frame_0004.jpg: [{'emotion': {'angry': 3.91440041215349e-19, 'disgust': 1.3816319290774004e-26, 'fear': 0.003885859769070521, 'happy': 3.964693018332355e-07, 'sad': 3.7548967163651345e-12, 'surprise': 9.619569585339605e-08, 'neutral': 99.99611377716064}, 'dominant_emotion': 'neutral', 'region': {'x': 200, 'y': 134, 'w': 348, 'h': 348, 'left_eye': (450, 285), 'right_eye': (330, 401)}, 'face_confidence': 0.93}]\n",
            "Analysis for frame_0005.jpg: [{'emotion': {'angry': 6.006971711725796e-15, 'disgust': 6.227353182792431e-21, 'fear': 0.9046508930623531, 'happy': 1.04256166200134e-08, 'sad': 8.700168363517946e-09, 'surprise': 2.1413551820614884e-06, 'neutral': 99.09534454345703}, 'dominant_emotion': 'neutral', 'region': {'x': 203, 'y': 131, 'w': 358, 'h': 358, 'left_eye': (459, 291), 'right_eye': (338, 405)}, 'face_confidence': 0.92}]\n",
            "Analysis for frame_0006.jpg: [{'emotion': {'angry': 14.38625156879425, 'disgust': 0.0028470334655139595, 'fear': 3.5151220858097076, 'happy': 11.325232684612274, 'sad': 27.565297484397888, 'surprise': 36.95501089096069, 'neutral': 6.250238418579102}, 'dominant_emotion': 'surprise', 'region': {'x': 215, 'y': 134, 'w': 360, 'h': 360, 'left_eye': None, 'right_eye': None}, 'face_confidence': 0.93}]\n",
            "Analysis for frame_0007.jpg: [{'emotion': {'angry': 0.6638491060584784, 'disgust': 1.076622613283007e-06, 'fear': 1.2093805707991123, 'happy': 0.03325334982946515, 'sad': 2.044813334941864, 'surprise': 0.8367840200662613, 'neutral': 95.21191716194153}, 'dominant_emotion': 'neutral', 'region': {'x': 235, 'y': 142, 'w': 360, 'h': 360, 'left_eye': (478, 296), 'right_eye': (350, 279)}, 'face_confidence': 0.95}]\n",
            "Analysis for frame_0008.jpg: [{'emotion': {'angry': 0.043312221532687545, 'disgust': 2.7844976324686854e-09, 'fear': 1.2972116470336914, 'happy': 0.004975630508852191, 'sad': 0.16856268048286438, 'surprise': 0.9187705814838409, 'neutral': 97.5671648979187}, 'dominant_emotion': 'neutral', 'region': {'x': 246, 'y': 143, 'w': 366, 'h': 366, 'left_eye': (528, 330), 'right_eye': (365, 283)}, 'face_confidence': 0.93}, {'emotion': {'angry': 3.506202897172e-05, 'disgust': 1.2406037037682019e-14, 'fear': 1.7276686714690133, 'happy': 0.3573724048881176, 'sad': 0.5714526740582391, 'surprise': 5.656938011027787e-06, 'neutral': 97.34346850773504}, 'dominant_emotion': 'neutral', 'region': {'x': 377, 'y': 1164, 'w': 63, 'h': 63, 'left_eye': None, 'right_eye': None}, 'face_confidence': 0.99}]\n",
            "Analysis for frame_0009.jpg: [{'emotion': {'angry': 6.260776519775391, 'disgust': 0.001722517299640458, 'fear': 14.326289296150208, 'happy': 0.5882181692868471, 'sad': 19.49567049741745, 'surprise': 0.7384630851447582, 'neutral': 58.58886241912842}, 'dominant_emotion': 'neutral', 'region': {'x': 248, 'y': 144, 'w': 363, 'h': 363, 'left_eye': (486, 299), 'right_eye': (359, 283)}, 'face_confidence': 0.93}]\n",
            "Analysis for frame_0010.jpg: [{'emotion': {'angry': 44.45570707321167, 'disgust': 0.005920921103097498, 'fear': 43.03208887577057, 'happy': 0.012448971392586827, 'sad': 3.448503091931343, 'surprise': 1.1485276743769646, 'neutral': 7.896801829338074}, 'dominant_emotion': 'angry', 'region': {'x': 264, 'y': 154, 'w': 349, 'h': 349, 'left_eye': (463, 297), 'right_eye': (394, 284)}, 'face_confidence': 0.94}, {'emotion': {'angry': 3.96047681761047e-05, 'disgust': 2.5744568521103475e-14, 'fear': 0.2961660036817193, 'happy': 1.5672920271754265, 'sad': 0.22594339679926634, 'surprise': 8.125530115421498e-06, 'neutral': 97.9105532169342}, 'dominant_emotion': 'neutral', 'region': {'x': 377, 'y': 1163, 'w': 66, 'h': 66, 'left_eye': None, 'right_eye': None}, 'face_confidence': 0.99}]\n",
            "Analysis for frame_0011.jpg: [{'emotion': {'angry': 55.765429482783645, 'disgust': 0.00016118924401207395, 'fear': 7.350722393436574, 'happy': 0.0035709514432036246, 'sad': 8.033523442359176, 'surprise': 0.0670063465725688, 'neutral': 28.77958588478481}, 'dominant_emotion': 'angry', 'region': {'x': 273, 'y': 155, 'w': 348, 'h': 348, 'left_eye': (473, 297), 'right_eye': (395, 285)}, 'face_confidence': 0.92}]\n",
            "Analysis for frame_0012.jpg: [{'emotion': {'angry': 0.03620456554926932, 'disgust': 2.6387775298175598e-08, 'fear': 0.3611139487475157, 'happy': 0.0006391920123860473, 'sad': 0.18419751431792974, 'surprise': 0.07759314030408859, 'neutral': 99.34025406837463}, 'dominant_emotion': 'neutral', 'region': {'x': 274, 'y': 152, 'w': 352, 'h': 352, 'left_eye': (431, 296), 'right_eye': (402, 285)}, 'face_confidence': 0.95}]\n",
            "Analysis for frame_0013.jpg: [{'emotion': {'angry': 32.9100677859864, 'disgust': 1.2748215004588963, 'fear': 49.94094669114908, 'happy': 0.32573457965070957, 'sad': 3.279186431072525, 'surprise': 10.404339182894132, 'neutral': 1.8649043875818714}, 'dominant_emotion': 'fear', 'region': {'x': 278, 'y': 156, 'w': 344, 'h': 344, 'left_eye': (474, 298), 'right_eye': (398, 284)}, 'face_confidence': 0.94}]\n",
            "Analysis for frame_0014.jpg: [{'emotion': {'angry': 19.346047263866335, 'disgust': 0.6591273791792844, 'fear': 23.80723342981737, 'happy': 0.9243758565933533, 'sad': 42.47115760697813, 'surprise': 1.4621170117994562, 'neutral': 11.329941312067666}, 'dominant_emotion': 'sad', 'region': {'x': 268, 'y': 154, 'w': 348, 'h': 348, 'left_eye': (466, 299), 'right_eye': (384, 286)}, 'face_confidence': 0.93}, {'emotion': {'angry': 0.0003779246069531537, 'disgust': 1.1167677759599583e-12, 'fear': 0.3385572663207213, 'happy': 2.463235107853121, 'sad': 0.17678839975451827, 'surprise': 0.00017811284958297956, 'neutral': 97.02086430912401}, 'dominant_emotion': 'neutral', 'region': {'x': 380, 'y': 1168, 'w': 63, 'h': 63, 'left_eye': None, 'right_eye': None}, 'face_confidence': 0.99}]\n",
            "Analysis for frame_0015.jpg: [{'emotion': {'angry': 17.676979303359985, 'disgust': 1.8260063603520393, 'fear': 47.97745645046234, 'happy': 0.8713403716683388, 'sad': 22.129419445991516, 'surprise': 4.092652723193169, 'neutral': 5.426138639450073}, 'dominant_emotion': 'fear', 'region': {'x': 267, 'y': 155, 'w': 347, 'h': 347, 'left_eye': (464, 298), 'right_eye': (385, 285)}, 'face_confidence': 0.93}]\n",
            "Analysis for frame_0016.jpg: [{'emotion': {'angry': 19.54197222494748, 'disgust': 0.027227605795612134, 'fear': 46.47385435984783, 'happy': 2.7062445379787134, 'sad': 23.01129526034537, 'surprise': 3.2667428424051814, 'neutral': 4.972672682723127}, 'dominant_emotion': 'fear', 'region': {'x': 257, 'y': 156, 'w': 348, 'h': 348, 'left_eye': None, 'right_eye': None}, 'face_confidence': 0.93}, {'emotion': {'angry': 0.00011064116733905394, 'disgust': 2.7131039694772597e-14, 'fear': 5.032107979059219, 'happy': 0.48517948016524315, 'sad': 8.866023272275925, 'surprise': 9.677527224027926e-07, 'neutral': 85.61657667160034}, 'dominant_emotion': 'neutral', 'region': {'x': 375, 'y': 1166, 'w': 64, 'h': 64, 'left_eye': None, 'right_eye': None}, 'face_confidence': 1.01}]\n",
            "Analysis for frame_0017.jpg: [{'emotion': {'angry': 53.641450839215615, 'disgust': 0.002472527307035397, 'fear': 23.33320061364181, 'happy': 0.15729295102273835, 'sad': 5.904352251214057, 'surprise': 7.037633006290556, 'neutral': 9.923599353265685}, 'dominant_emotion': 'angry', 'region': {'x': 233, 'y': 142, 'w': 371, 'h': 371, 'left_eye': None, 'right_eye': None}, 'face_confidence': 0.9}, {'emotion': {'angry': 4.230400065807771e-05, 'disgust': 3.538844890717751e-14, 'fear': 0.05222216132096946, 'happy': 9.812462329864502, 'sad': 0.06848152843303978, 'surprise': 9.680338308726277e-06, 'neutral': 90.06678462028503}, 'dominant_emotion': 'neutral', 'region': {'x': 378, 'y': 1168, 'w': 64, 'h': 64, 'left_eye': None, 'right_eye': None}, 'face_confidence': 0.99}]\n",
            "Analysis for frame_0018.jpg: [{'emotion': {'angry': 9.049050509929657, 'disgust': 4.64912730535616e-06, 'fear': 0.2330634044483304, 'happy': 0.0007600346179970074, 'sad': 23.801615834236145, 'surprise': 0.02412649046164006, 'neutral': 66.89138412475586}, 'dominant_emotion': 'neutral', 'region': {'x': 215, 'y': 140, 'w': 369, 'h': 369, 'left_eye': None, 'right_eye': None}, 'face_confidence': 0.91}, {'emotion': {'angry': 1.4216200838745863e-05, 'disgust': 6.7874927202859326e-15, 'fear': 0.026228601927869022, 'happy': 0.32541085965931416, 'sad': 0.06312135956250131, 'surprise': 8.888005886831252e-07, 'neutral': 99.58522319793701}, 'dominant_emotion': 'neutral', 'region': {'x': 380, 'y': 1167, 'w': 65, 'h': 65, 'left_eye': None, 'right_eye': None}, 'face_confidence': 0.97}]\n",
            "Analysis for frame_0019.jpg: [{'emotion': {'angry': 16.07499963492153, 'disgust': 0.00029576141913186833, 'fear': 0.23908972768275308, 'happy': 0.05305960392189645, 'sad': 79.8825192381453, 'surprise': 0.003179043240690387, 'neutral': 3.746859952620265}, 'dominant_emotion': 'sad', 'region': {'x': 184, 'y': 132, 'w': 380, 'h': 380, 'left_eye': None, 'right_eye': None}, 'face_confidence': 0.92}, {'emotion': {'angry': 1.6164030114396155e-05, 'disgust': 8.425527385333661e-15, 'fear': 0.054644764168187976, 'happy': 0.4528236109763384, 'sad': 0.07755000260658562, 'surprise': 1.8421275171931484e-06, 'neutral': 99.41496849060059}, 'dominant_emotion': 'neutral', 'region': {'x': 381, 'y': 1169, 'w': 63, 'h': 63, 'left_eye': None, 'right_eye': None}, 'face_confidence': 0.97}]\n",
            "Collected face emotions: [[{'emotion': {'angry': 3.066117875277996, 'disgust': 0.0015413805158459581, 'fear': 13.548421859741211, 'happy': 5.057389661669731, 'sad': 68.57702732086182, 'surprise': 0.05661463364958763, 'neutral': 9.692893922328949}, 'dominant_emotion': 'sad', 'region': {'x': 174, 'y': 111, 'w': 392, 'h': 392, 'left_eye': None, 'right_eye': None}, 'face_confidence': 0.9}], [{'emotion': {'angry': 1.4378690593730425e-05, 'disgust': 8.872323709052665e-09, 'fear': 0.0039351445593638346, 'happy': 0.051215419080108404, 'sad': 0.7343122735619545, 'surprise': 1.4590050945173516e-06, 'neutral': 99.210524559021}, 'dominant_emotion': 'neutral', 'region': {'x': 175, 'y': 110, 'w': 392, 'h': 392, 'left_eye': (322, 403), 'right_eye': (320, 256)}, 'face_confidence': 0.9}], [{'emotion': {'angry': 2.807922346551289e-19, 'disgust': 2.775761939787659e-25, 'fear': 0.0018930617443402298, 'happy': 1.7755010794928694e-07, 'sad': 3.204085000790835e-10, 'surprise': 1.9813626433995424e-09, 'neutral': 99.99810457229614}, 'dominant_emotion': 'neutral', 'region': {'x': 186, 'y': 124, 'w': 369, 'h': 369, 'left_eye': (447, 288), 'right_eye': (328, 401)}, 'face_confidence': 0.92}], [{'emotion': {'angry': 1.0780206517678957e-15, 'disgust': 3.658504558878465e-22, 'fear': 0.08704130887053907, 'happy': 0.00017604000959181576, 'sad': 2.385021000139709e-10, 'surprise': 3.9338163837498996e-07, 'neutral': 99.91278052330017}, 'dominant_emotion': 'neutral', 'region': {'x': 185, 'y': 123, 'w': 372, 'h': 372, 'left_eye': (451, 288), 'right_eye': (320, 401)}, 'face_confidence': 0.92}], [{'emotion': {'angry': 3.91440041215349e-19, 'disgust': 1.3816319290774004e-26, 'fear': 0.003885859769070521, 'happy': 3.964693018332355e-07, 'sad': 3.7548967163651345e-12, 'surprise': 9.619569585339605e-08, 'neutral': 99.99611377716064}, 'dominant_emotion': 'neutral', 'region': {'x': 200, 'y': 134, 'w': 348, 'h': 348, 'left_eye': (450, 285), 'right_eye': (330, 401)}, 'face_confidence': 0.93}], [{'emotion': {'angry': 6.006971711725796e-15, 'disgust': 6.227353182792431e-21, 'fear': 0.9046508930623531, 'happy': 1.04256166200134e-08, 'sad': 8.700168363517946e-09, 'surprise': 2.1413551820614884e-06, 'neutral': 99.09534454345703}, 'dominant_emotion': 'neutral', 'region': {'x': 203, 'y': 131, 'w': 358, 'h': 358, 'left_eye': (459, 291), 'right_eye': (338, 405)}, 'face_confidence': 0.92}], [{'emotion': {'angry': 14.38625156879425, 'disgust': 0.0028470334655139595, 'fear': 3.5151220858097076, 'happy': 11.325232684612274, 'sad': 27.565297484397888, 'surprise': 36.95501089096069, 'neutral': 6.250238418579102}, 'dominant_emotion': 'surprise', 'region': {'x': 215, 'y': 134, 'w': 360, 'h': 360, 'left_eye': None, 'right_eye': None}, 'face_confidence': 0.93}], [{'emotion': {'angry': 0.6638491060584784, 'disgust': 1.076622613283007e-06, 'fear': 1.2093805707991123, 'happy': 0.03325334982946515, 'sad': 2.044813334941864, 'surprise': 0.8367840200662613, 'neutral': 95.21191716194153}, 'dominant_emotion': 'neutral', 'region': {'x': 235, 'y': 142, 'w': 360, 'h': 360, 'left_eye': (478, 296), 'right_eye': (350, 279)}, 'face_confidence': 0.95}], [{'emotion': {'angry': 0.043312221532687545, 'disgust': 2.7844976324686854e-09, 'fear': 1.2972116470336914, 'happy': 0.004975630508852191, 'sad': 0.16856268048286438, 'surprise': 0.9187705814838409, 'neutral': 97.5671648979187}, 'dominant_emotion': 'neutral', 'region': {'x': 246, 'y': 143, 'w': 366, 'h': 366, 'left_eye': (528, 330), 'right_eye': (365, 283)}, 'face_confidence': 0.93}, {'emotion': {'angry': 3.506202897172e-05, 'disgust': 1.2406037037682019e-14, 'fear': 1.7276686714690133, 'happy': 0.3573724048881176, 'sad': 0.5714526740582391, 'surprise': 5.656938011027787e-06, 'neutral': 97.34346850773504}, 'dominant_emotion': 'neutral', 'region': {'x': 377, 'y': 1164, 'w': 63, 'h': 63, 'left_eye': None, 'right_eye': None}, 'face_confidence': 0.99}], [{'emotion': {'angry': 6.260776519775391, 'disgust': 0.001722517299640458, 'fear': 14.326289296150208, 'happy': 0.5882181692868471, 'sad': 19.49567049741745, 'surprise': 0.7384630851447582, 'neutral': 58.58886241912842}, 'dominant_emotion': 'neutral', 'region': {'x': 248, 'y': 144, 'w': 363, 'h': 363, 'left_eye': (486, 299), 'right_eye': (359, 283)}, 'face_confidence': 0.93}], [{'emotion': {'angry': 44.45570707321167, 'disgust': 0.005920921103097498, 'fear': 43.03208887577057, 'happy': 0.012448971392586827, 'sad': 3.448503091931343, 'surprise': 1.1485276743769646, 'neutral': 7.896801829338074}, 'dominant_emotion': 'angry', 'region': {'x': 264, 'y': 154, 'w': 349, 'h': 349, 'left_eye': (463, 297), 'right_eye': (394, 284)}, 'face_confidence': 0.94}, {'emotion': {'angry': 3.96047681761047e-05, 'disgust': 2.5744568521103475e-14, 'fear': 0.2961660036817193, 'happy': 1.5672920271754265, 'sad': 0.22594339679926634, 'surprise': 8.125530115421498e-06, 'neutral': 97.9105532169342}, 'dominant_emotion': 'neutral', 'region': {'x': 377, 'y': 1163, 'w': 66, 'h': 66, 'left_eye': None, 'right_eye': None}, 'face_confidence': 0.99}], [{'emotion': {'angry': 55.765429482783645, 'disgust': 0.00016118924401207395, 'fear': 7.350722393436574, 'happy': 0.0035709514432036246, 'sad': 8.033523442359176, 'surprise': 0.0670063465725688, 'neutral': 28.77958588478481}, 'dominant_emotion': 'angry', 'region': {'x': 273, 'y': 155, 'w': 348, 'h': 348, 'left_eye': (473, 297), 'right_eye': (395, 285)}, 'face_confidence': 0.92}], [{'emotion': {'angry': 0.03620456554926932, 'disgust': 2.6387775298175598e-08, 'fear': 0.3611139487475157, 'happy': 0.0006391920123860473, 'sad': 0.18419751431792974, 'surprise': 0.07759314030408859, 'neutral': 99.34025406837463}, 'dominant_emotion': 'neutral', 'region': {'x': 274, 'y': 152, 'w': 352, 'h': 352, 'left_eye': (431, 296), 'right_eye': (402, 285)}, 'face_confidence': 0.95}], [{'emotion': {'angry': 32.9100677859864, 'disgust': 1.2748215004588963, 'fear': 49.94094669114908, 'happy': 0.32573457965070957, 'sad': 3.279186431072525, 'surprise': 10.404339182894132, 'neutral': 1.8649043875818714}, 'dominant_emotion': 'fear', 'region': {'x': 278, 'y': 156, 'w': 344, 'h': 344, 'left_eye': (474, 298), 'right_eye': (398, 284)}, 'face_confidence': 0.94}], [{'emotion': {'angry': 19.346047263866335, 'disgust': 0.6591273791792844, 'fear': 23.80723342981737, 'happy': 0.9243758565933533, 'sad': 42.47115760697813, 'surprise': 1.4621170117994562, 'neutral': 11.329941312067666}, 'dominant_emotion': 'sad', 'region': {'x': 268, 'y': 154, 'w': 348, 'h': 348, 'left_eye': (466, 299), 'right_eye': (384, 286)}, 'face_confidence': 0.93}, {'emotion': {'angry': 0.0003779246069531537, 'disgust': 1.1167677759599583e-12, 'fear': 0.3385572663207213, 'happy': 2.463235107853121, 'sad': 0.17678839975451827, 'surprise': 0.00017811284958297956, 'neutral': 97.02086430912401}, 'dominant_emotion': 'neutral', 'region': {'x': 380, 'y': 1168, 'w': 63, 'h': 63, 'left_eye': None, 'right_eye': None}, 'face_confidence': 0.99}], [{'emotion': {'angry': 17.676979303359985, 'disgust': 1.8260063603520393, 'fear': 47.97745645046234, 'happy': 0.8713403716683388, 'sad': 22.129419445991516, 'surprise': 4.092652723193169, 'neutral': 5.426138639450073}, 'dominant_emotion': 'fear', 'region': {'x': 267, 'y': 155, 'w': 347, 'h': 347, 'left_eye': (464, 298), 'right_eye': (385, 285)}, 'face_confidence': 0.93}], [{'emotion': {'angry': 19.54197222494748, 'disgust': 0.027227605795612134, 'fear': 46.47385435984783, 'happy': 2.7062445379787134, 'sad': 23.01129526034537, 'surprise': 3.2667428424051814, 'neutral': 4.972672682723127}, 'dominant_emotion': 'fear', 'region': {'x': 257, 'y': 156, 'w': 348, 'h': 348, 'left_eye': None, 'right_eye': None}, 'face_confidence': 0.93}, {'emotion': {'angry': 0.00011064116733905394, 'disgust': 2.7131039694772597e-14, 'fear': 5.032107979059219, 'happy': 0.48517948016524315, 'sad': 8.866023272275925, 'surprise': 9.677527224027926e-07, 'neutral': 85.61657667160034}, 'dominant_emotion': 'neutral', 'region': {'x': 375, 'y': 1166, 'w': 64, 'h': 64, 'left_eye': None, 'right_eye': None}, 'face_confidence': 1.01}], [{'emotion': {'angry': 53.641450839215615, 'disgust': 0.002472527307035397, 'fear': 23.33320061364181, 'happy': 0.15729295102273835, 'sad': 5.904352251214057, 'surprise': 7.037633006290556, 'neutral': 9.923599353265685}, 'dominant_emotion': 'angry', 'region': {'x': 233, 'y': 142, 'w': 371, 'h': 371, 'left_eye': None, 'right_eye': None}, 'face_confidence': 0.9}, {'emotion': {'angry': 4.230400065807771e-05, 'disgust': 3.538844890717751e-14, 'fear': 0.05222216132096946, 'happy': 9.812462329864502, 'sad': 0.06848152843303978, 'surprise': 9.680338308726277e-06, 'neutral': 90.06678462028503}, 'dominant_emotion': 'neutral', 'region': {'x': 378, 'y': 1168, 'w': 64, 'h': 64, 'left_eye': None, 'right_eye': None}, 'face_confidence': 0.99}], [{'emotion': {'angry': 9.049050509929657, 'disgust': 4.64912730535616e-06, 'fear': 0.2330634044483304, 'happy': 0.0007600346179970074, 'sad': 23.801615834236145, 'surprise': 0.02412649046164006, 'neutral': 66.89138412475586}, 'dominant_emotion': 'neutral', 'region': {'x': 215, 'y': 140, 'w': 369, 'h': 369, 'left_eye': None, 'right_eye': None}, 'face_confidence': 0.91}, {'emotion': {'angry': 1.4216200838745863e-05, 'disgust': 6.7874927202859326e-15, 'fear': 0.026228601927869022, 'happy': 0.32541085965931416, 'sad': 0.06312135956250131, 'surprise': 8.888005886831252e-07, 'neutral': 99.58522319793701}, 'dominant_emotion': 'neutral', 'region': {'x': 380, 'y': 1167, 'w': 65, 'h': 65, 'left_eye': None, 'right_eye': None}, 'face_confidence': 0.97}], [{'emotion': {'angry': 16.07499963492153, 'disgust': 0.00029576141913186833, 'fear': 0.23908972768275308, 'happy': 0.05305960392189645, 'sad': 79.8825192381453, 'surprise': 0.003179043240690387, 'neutral': 3.746859952620265}, 'dominant_emotion': 'sad', 'region': {'x': 184, 'y': 132, 'w': 380, 'h': 380, 'left_eye': None, 'right_eye': None}, 'face_confidence': 0.92}, {'emotion': {'angry': 1.6164030114396155e-05, 'disgust': 8.425527385333661e-15, 'fear': 0.054644764168187976, 'happy': 0.4528236109763384, 'sad': 0.07755000260658562, 'surprise': 1.8421275171931484e-06, 'neutral': 99.41496849060059}, 'dominant_emotion': 'neutral', 'region': {'x': 381, 'y': 1169, 'w': 63, 'h': 63, 'left_eye': None, 'right_eye': None}, 'face_confidence': 0.97}]]\n"
          ]
        }
      ]
    },
    {
      "cell_type": "code",
      "source": [],
      "metadata": {
        "id": "CKwa2gTasIer"
      },
      "execution_count": null,
      "outputs": []
    },
    {
      "cell_type": "markdown",
      "source": [
        "# Main code\n",
        "- it is the main code"
      ],
      "metadata": {
        "id": "Sr7n8a4qLb3y"
      }
    },
    {
      "cell_type": "markdown",
      "source": [
        "# Updated code selecting random 20 images from the folder"
      ],
      "metadata": {
        "id": "rf1rH6tbsoLV"
      }
    },
    {
      "cell_type": "code",
      "source": [
        "import random\n",
        "from deepface import DeepFace\n",
        "import cv2\n",
        "import os\n",
        "import matplotlib.pyplot as plt\n",
        "\n",
        "# Directory containing frames\n",
        "frames_dir = '/content/frames'\n",
        "face_emotions = []\n",
        "files_names = []\n",
        "\n",
        "# Ensure the directory exists\n",
        "if not os.path.exists(frames_dir):\n",
        "    print(f\"Directory not found: {frames_dir}\")\n",
        "else:\n",
        "    # Get all files in the directory\n",
        "    files = [f for f in os.listdir(frames_dir) if f.lower().endswith(('.png', '.jpg', '.jpeg', '.bmp', '.tiff'))]\n",
        "\n",
        "    # Randomly select 20 files\n",
        "    if len(files) < 230:\n",
        "        print(f\"Not enough files in the directory. Found {len(files)} files.\")\n",
        "    else:\n",
        "        random_files = random.sample(files, 230)\n",
        "\n",
        "        # Iterate over the selected files\n",
        "        for file_name in random_files:\n",
        "            file_path = os.path.join(frames_dir, file_name)  # Construct the full file path\n",
        "\n",
        "            # Read the image\n",
        "            img = cv2.imread(file_path)\n",
        "\n",
        "            # Check if the image was successfully read\n",
        "            if img is None:\n",
        "                print(f\"Could not read image: {file_path}\")\n",
        "                continue\n",
        "\n",
        "            # Optional: Display the image (Uncomment if needed)\n",
        "            # plt.imshow(cv2.cvtColor(img, cv2.COLOR_BGR2RGB))\n",
        "            # plt.title(f\"Processing {file_name}\")\n",
        "            # plt.show()\n",
        "\n",
        "            # Analyze emotions\n",
        "            try:\n",
        "                result = DeepFace.analyze(img, actions=['emotion'])\n",
        "                face_emotions.append(result)\n",
        "                print(f\"Analysis for {file_name}: {result}\")\n",
        "                files_names.append(file_name)\n",
        "            except Exception as e:\n",
        "                print(f\"Error analyzing {file_path}: {e}\")\n",
        "                # files_names.append(file_name)\n",
        "\n",
        "# Optional: Print all collected emotions\n",
        "print(\"Collected face emotions:\", face_emotions)\n"
      ],
      "metadata": {
        "colab": {
          "base_uri": "https://localhost:8080/"
        },
        "id": "J_LQF1XQsIik",
        "outputId": "9754428d-ef6c-4adb-ba4c-5f8528aa2f68"
      },
      "execution_count": null,
      "outputs": [
        {
          "output_type": "stream",
          "name": "stdout",
          "text": [
            "24-12-09 07:45:17 - facial_expression_model_weights.h5 will be downloaded...\n"
          ]
        },
        {
          "output_type": "stream",
          "name": "stderr",
          "text": [
            "Downloading...\n",
            "From: https://github.com/serengil/deepface_models/releases/download/v1.0/facial_expression_model_weights.h5\n",
            "To: /root/.deepface/weights/facial_expression_model_weights.h5\n",
            "100%|██████████| 5.98M/5.98M [00:00<00:00, 84.0MB/s]\n"
          ]
        },
        {
          "output_type": "stream",
          "name": "stdout",
          "text": [
            "Analysis for frame_1123.jpg: [{'emotion': {'angry': 1.9642970977071408, 'disgust': 0.020763015053080463, 'fear': 57.59628324552974, 'happy': 1.6344699922835837, 'sad': 22.52273589101602, 'surprise': 0.135743334074368, 'neutral': 16.125702425753783}, 'dominant_emotion': 'fear', 'region': {'x': 182, 'y': 407, 'w': 331, 'h': 331, 'left_eye': (403, 544), 'right_eye': (269, 556)}, 'face_confidence': 0.89}]\n",
            "Analysis for frame_1769.jpg: [{'emotion': {'angry': 1.9976748153567314, 'disgust': 3.3184147696374566e-05, 'fear': 0.5569330416619778, 'happy': 0.0135901864268817, 'sad': 67.98020601272583, 'surprise': 2.8370618565531913e-05, 'neutral': 29.451534152030945}, 'dominant_emotion': 'sad', 'region': {'x': 174, 'y': 424, 'w': 342, 'h': 342, 'left_eye': None, 'right_eye': None}, 'face_confidence': 0.9}]\n",
            "Analysis for frame_2241.jpg: [{'emotion': {'angry': 0.7071939762681723, 'disgust': 1.8993047135040797e-06, 'fear': 1.4926242642104626, 'happy': 0.0004588804131344659, 'sad': 39.791908860206604, 'surprise': 2.0517735777048074e-05, 'neutral': 58.00779461860657}, 'dominant_emotion': 'neutral', 'region': {'x': 190, 'y': 440, 'w': 335, 'h': 335, 'left_eye': None, 'right_eye': None}, 'face_confidence': 0.9}]\n",
            "Analysis for frame_0876.jpg: [{'emotion': {'angry': 0.45609641820192337, 'disgust': 4.017213086626725e-05, 'fear': 0.22084005177021027, 'happy': 0.13454511063173413, 'sad': 8.403324335813522, 'surprise': 0.000536763627678738, 'neutral': 90.7846212387085}, 'dominant_emotion': 'neutral', 'region': {'x': 184, 'y': 415, 'w': 352, 'h': 352, 'left_eye': None, 'right_eye': None}, 'face_confidence': 0.9}]\n",
            "Analysis for frame_1184.jpg: [{'emotion': {'angry': 7.027009129524231, 'disgust': 0.0760148570407182, 'fear': 18.674257397651672, 'happy': 10.58296263217926, 'sad': 31.971466541290283, 'surprise': 0.28838864527642727, 'neutral': 31.379905343055725}, 'dominant_emotion': 'sad', 'region': {'x': 179, 'y': 405, 'w': 332, 'h': 332, 'left_eye': (401, 543), 'right_eye': (268, 556)}, 'face_confidence': 0.9}]\n",
            "Analysis for frame_0024.jpg: [{'emotion': {'angry': 20.01878470182419, 'disgust': 0.006493399268947542, 'fear': 4.177766293287277, 'happy': 5.281344801187515, 'sad': 40.52189290523529, 'surprise': 0.011782846559071913, 'neutral': 29.981938004493713}, 'dominant_emotion': 'sad', 'region': {'x': 191, 'y': 415, 'w': 333, 'h': 333, 'left_eye': (419, 560), 'right_eye': (291, 555)}, 'face_confidence': 0.91}]\n",
            "Analysis for frame_1897.jpg: [{'emotion': {'angry': 44.318906149994596, 'disgust': 3.443444869536319e-05, 'fear': 5.000505372821644, 'happy': 0.13185360759751708, 'sad': 13.689333058675164, 'surprise': 0.0011833435063606885, 'neutral': 36.85817577145389}, 'dominant_emotion': 'angry', 'region': {'x': 155, 'y': 429, 'w': 337, 'h': 337, 'left_eye': None, 'right_eye': None}, 'face_confidence': 0.92}]\n",
            "Analysis for frame_2006.jpg: [{'emotion': {'angry': 13.58848661184311, 'disgust': 1.6274810832328512e-05, 'fear': 10.731348395347595, 'happy': 0.057312072021886706, 'sad': 31.502515077590942, 'surprise': 0.0015912504750303924, 'neutral': 44.11873817443848}, 'dominant_emotion': 'neutral', 'region': {'x': 184, 'y': 430, 'w': 333, 'h': 333, 'left_eye': (406, 566), 'right_eye': (273, 575)}, 'face_confidence': 0.9}]\n",
            "Analysis for frame_0509.jpg: [{'emotion': {'angry': 43.58987808227539, 'disgust': 0.001440652795281494, 'fear': 8.804424852132797, 'happy': 0.061400653794407845, 'sad': 15.096819400787354, 'surprise': 0.017749052494764328, 'neutral': 32.42828845977783}, 'dominant_emotion': 'angry', 'region': {'x': 180, 'y': 431, 'w': 340, 'h': 340, 'left_eye': (405, 562), 'right_eye': (274, 577)}, 'face_confidence': 0.89}]\n",
            "Analysis for frame_1176.jpg: [{'emotion': {'angry': 1.8649704003316403, 'disgust': 0.006092103648599827, 'fear': 35.244806721496985, 'happy': 43.56883427911009, 'sad': 12.330183376680814, 'surprise': 0.5051519091517871, 'neutral': 6.479967771766649}, 'dominant_emotion': 'happy', 'region': {'x': 186, 'y': 396, 'w': 332, 'h': 332, 'left_eye': None, 'right_eye': None}, 'face_confidence': 0.9}]\n",
            "Analysis for frame_1989.jpg: [{'emotion': {'angry': 3.0682306736707687, 'disgust': 0.0010028099495684728, 'fear': 30.01648187637329, 'happy': 0.053298164857551455, 'sad': 17.074505984783173, 'surprise': 0.0037073321436764672, 'neutral': 49.78277087211609}, 'dominant_emotion': 'neutral', 'region': {'x': 182, 'y': 429, 'w': 323, 'h': 323, 'left_eye': (400, 562), 'right_eye': (269, 573)}, 'face_confidence': 0.89}]\n",
            "Analysis for frame_1144.jpg: [{'emotion': {'angry': 15.951767563819885, 'disgust': 0.009090480307349935, 'fear': 33.08974206447601, 'happy': 0.49295928329229355, 'sad': 23.44389259815216, 'surprise': 0.0644677085801959, 'neutral': 26.948082447052002}, 'dominant_emotion': 'fear', 'region': {'x': 167, 'y': 416, 'w': 338, 'h': 338, 'left_eye': (392, 548), 'right_eye': (262, 562)}, 'face_confidence': 0.9}]\n",
            "Analysis for frame_0773.jpg: [{'emotion': {'angry': 15.42145162820816, 'disgust': 1.5554003596207622e-05, 'fear': 0.8229457773268223, 'happy': 0.02585630863904953, 'sad': 12.685875594615936, 'surprise': 0.00013822050277667586, 'neutral': 71.04371786117554}, 'dominant_emotion': 'neutral', 'region': {'x': 170, 'y': 427, 'w': 353, 'h': 353, 'left_eye': (404, 568), 'right_eye': (271, 577)}, 'face_confidence': 0.9}]\n",
            "Analysis for frame_0881.jpg: [{'emotion': {'angry': 0.24639368057250977, 'disgust': 3.0302034215168305e-07, 'fear': 0.012754446652252227, 'happy': 0.0096081719675567, 'sad': 2.569207176566124, 'surprise': 2.441031909938829e-06, 'neutral': 97.16203808784485}, 'dominant_emotion': 'neutral', 'region': {'x': 180, 'y': 424, 'w': 355, 'h': 355, 'left_eye': (411, 569), 'right_eye': (279, 577)}, 'face_confidence': 0.89}]\n",
            "Analysis for frame_0028.jpg: [{'emotion': {'angry': 0.5293441636078553, 'disgust': 0.012350165360440655, 'fear': 7.826649585562895, 'happy': 63.59564824052432, 'sad': 4.559019378902838, 'surprise': 0.13515536421899368, 'neutral': 23.341835837583044}, 'dominant_emotion': 'happy', 'region': {'x': 195, 'y': 414, 'w': 332, 'h': 332, 'left_eye': None, 'right_eye': None}, 'face_confidence': 0.91}]\n",
            "Analysis for frame_2155.jpg: [{'emotion': {'angry': 38.492118626363194, 'disgust': 1.2901359328228395e-05, 'fear': 1.03798309939999, 'happy': 0.0476425367399327, 'sad': 23.889188402246738, 'surprise': 0.00020957169338952598, 'neutral': 36.53284529047282}, 'dominant_emotion': 'angry', 'region': {'x': 170, 'y': 432, 'w': 338, 'h': 338, 'left_eye': (393, 565), 'right_eye': (264, 581)}, 'face_confidence': 0.89}]\n",
            "Analysis for frame_0004.jpg: [{'emotion': {'angry': 57.97688364982605, 'disgust': 0.06138755124993622, 'fear': 13.317251205444336, 'happy': 0.03175118763465434, 'sad': 27.15020775794983, 'surprise': 0.16611050814390182, 'neutral': 1.296408288180828}, 'dominant_emotion': 'angry', 'region': {'x': 223, 'y': 397, 'w': 301, 'h': 301, 'left_eye': None, 'right_eye': None}, 'face_confidence': 0.94}]\n",
            "Analysis for frame_1072.jpg: [{'emotion': {'angry': 2.830136753618717, 'disgust': 0.0001785924155228713, 'fear': 8.458445221185684, 'happy': 0.11833764147013426, 'sad': 31.11892342567444, 'surprise': 0.0029390135750873014, 'neutral': 57.47103691101074}, 'dominant_emotion': 'neutral', 'region': {'x': 182, 'y': 425, 'w': 350, 'h': 350, 'left_eye': None, 'right_eye': None}, 'face_confidence': 0.9}]\n",
            "Analysis for frame_2158.jpg: [{'emotion': {'angry': 3.7893860065571072, 'disgust': 6.708978306441715e-06, 'fear': 4.335484167068253, 'happy': 0.008604937251159907, 'sad': 16.83928768868969, 'surprise': 0.0008187722902758295, 'neutral': 75.02641529002281}, 'dominant_emotion': 'neutral', 'region': {'x': 175, 'y': 428, 'w': 339, 'h': 339, 'left_eye': (396, 564), 'right_eye': (268, 577)}, 'face_confidence': 0.91}]\n",
            "Analysis for frame_1571.jpg: [{'emotion': {'angry': 36.39247932389255, 'disgust': 0.00012074637689987372, 'fear': 25.03784448133972, 'happy': 0.27067336935838276, 'sad': 15.152379283450799, 'surprise': 0.06099386737086578, 'neutral': 23.085513596863365}, 'dominant_emotion': 'angry', 'region': {'x': 197, 'y': 418, 'w': 342, 'h': 342, 'left_eye': (424, 555), 'right_eye': (295, 561)}, 'face_confidence': 0.91}]\n",
            "Analysis for frame_1396.jpg: [{'emotion': {'angry': 2.8503568843007088, 'disgust': 5.594694130195421e-05, 'fear': 14.664825797080994, 'happy': 0.14118540566414595, 'sad': 27.188360691070557, 'surprise': 0.007211295451270416, 'neutral': 55.14800548553467}, 'dominant_emotion': 'neutral', 'region': {'x': 184, 'y': 422, 'w': 345, 'h': 345, 'left_eye': (415, 562), 'right_eye': (286, 568)}, 'face_confidence': 0.91}]\n",
            "Analysis for frame_0003.jpg: [{'emotion': {'angry': 47.970762848854065, 'disgust': 0.04722789453808218, 'fear': 30.345559120178223, 'happy': 0.909720454365015, 'sad': 17.48719811439514, 'surprise': 0.5190023221075535, 'neutral': 2.7205267921090126}, 'dominant_emotion': 'angry', 'region': {'x': 215, 'y': 395, 'w': 311, 'h': 311, 'left_eye': (435, 541), 'right_eye': (307, 529)}, 'face_confidence': 0.92}]\n",
            "Analysis for frame_0920.jpg: [{'emotion': {'angry': 8.829913288354874, 'disgust': 0.0004299112333683297, 'fear': 3.652491420507431, 'happy': 1.5710292384028435, 'sad': 30.638134479522705, 'surprise': 0.026195347891189158, 'neutral': 55.281805992126465}, 'dominant_emotion': 'neutral', 'region': {'x': 147, 'y': 407, 'w': 350, 'h': 350, 'left_eye': (368, 538), 'right_eye': (244, 560)}, 'face_confidence': 0.91}]\n",
            "Analysis for frame_2021.jpg: [{'emotion': {'angry': 7.017672806978226, 'disgust': 1.8039220606169692e-05, 'fear': 61.510640382766724, 'happy': 2.074425481259823, 'sad': 17.515943944454193, 'surprise': 0.013115887122694403, 'neutral': 11.868183314800262}, 'dominant_emotion': 'fear', 'region': {'x': 185, 'y': 427, 'w': 329, 'h': 329, 'left_eye': None, 'right_eye': None}, 'face_confidence': 0.9}]\n",
            "Analysis for frame_1871.jpg: [{'emotion': {'angry': 7.214047759771347, 'disgust': 0.01792622497305274, 'fear': 19.509728252887726, 'happy': 0.42735650204122066, 'sad': 37.985146045684814, 'surprise': 0.08661238825879991, 'neutral': 34.75918471813202}, 'dominant_emotion': 'sad', 'region': {'x': 160, 'y': 421, 'w': 333, 'h': 333, 'left_eye': (391, 560), 'right_eye': (258, 564)}, 'face_confidence': 0.91}]\n",
            "Analysis for frame_0343.jpg: [{'emotion': {'angry': 3.1398618602670347, 'disgust': 8.486256648068607e-07, 'fear': 0.17382698005524158, 'happy': 0.05157415596837735, 'sad': 9.907140428253438, 'surprise': 6.910868094483386e-05, 'neutral': 86.7275289730745}, 'dominant_emotion': 'neutral', 'region': {'x': 205, 'y': 413, 'w': 352, 'h': 352, 'left_eye': (440, 562), 'right_eye': (305, 559)}, 'face_confidence': 0.91}]\n",
            "Analysis for frame_0926.jpg: [{'emotion': {'angry': 6.98368176817894, 'disgust': 0.00799589033704251, 'fear': 21.729716658592224, 'happy': 0.8048597723245621, 'sad': 43.52235794067383, 'surprise': 0.03694774059113115, 'neutral': 26.91444158554077}, 'dominant_emotion': 'sad', 'region': {'x': 162, 'y': 413, 'w': 343, 'h': 343, 'left_eye': (388, 549), 'right_eye': (254, 563)}, 'face_confidence': 0.92}]\n",
            "Analysis for frame_1257.jpg: [{'emotion': {'angry': 9.007009118795395, 'disgust': 0.0009093520930036902, 'fear': 16.58257395029068, 'happy': 0.6720901001244783, 'sad': 23.615044355392456, 'surprise': 0.011457534128567204, 'neutral': 50.11091232299805}, 'dominant_emotion': 'neutral', 'region': {'x': 182, 'y': 412, 'w': 354, 'h': 354, 'left_eye': (414, 557), 'right_eye': (278, 568)}, 'face_confidence': 0.9}]\n",
            "Analysis for frame_0103.jpg: [{'emotion': {'angry': 6.703439354896545, 'disgust': 0.0015072017959028017, 'fear': 4.3825168162584305, 'happy': 0.07449827971868217, 'sad': 56.07544779777527, 'surprise': 0.003158816252835095, 'neutral': 32.75943100452423}, 'dominant_emotion': 'sad', 'region': {'x': 189, 'y': 400, 'w': 349, 'h': 349, 'left_eye': (417, 545), 'right_eye': (283, 554)}, 'face_confidence': 0.91}]\n",
            "Analysis for frame_0414.jpg: [{'emotion': {'angry': 4.537419602274895, 'disgust': 1.3148277844265976e-05, 'fear': 0.11269358219578862, 'happy': 0.007848122186260298, 'sad': 5.377969518303871, 'surprise': 0.00014962063232815126, 'neutral': 89.96390700340271}, 'dominant_emotion': 'neutral', 'region': {'x': 174, 'y': 415, 'w': 368, 'h': 368, 'left_eye': (414, 566), 'right_eye': (285, 570)}, 'face_confidence': 0.92}]\n",
            "Analysis for frame_2237.jpg: [{'emotion': {'angry': 2.469630539417267, 'disgust': 1.4285515703704732e-05, 'fear': 1.8731135874986649, 'happy': 0.007762661698507145, 'sad': 33.054372668266296, 'surprise': 0.00011656802598736249, 'neutral': 62.59499192237854}, 'dominant_emotion': 'neutral', 'region': {'x': 188, 'y': 443, 'w': 339, 'h': 339, 'left_eye': (416, 579), 'right_eye': (288, 586)}, 'face_confidence': 0.91}]\n",
            "Analysis for frame_0432.jpg: [{'emotion': {'angry': 16.750013828277588, 'disgust': 0.09120175964199007, 'fear': 8.59726071357727, 'happy': 0.35346783697605133, 'sad': 38.50208520889282, 'surprise': 0.11426255805417895, 'neutral': 35.59170961380005}, 'dominant_emotion': 'sad', 'region': {'x': 167, 'y': 400, 'w': 355, 'h': 355, 'left_eye': (401, 546), 'right_eye': (266, 556)}, 'face_confidence': 0.9}]\n",
            "Analysis for frame_1558.jpg: [{'emotion': {'angry': 11.035721923622855, 'disgust': 0.0022284662080987593, 'fear': 4.297526040968175, 'happy': 0.02318394123106778, 'sad': 66.7069713226591, 'surprise': 0.005409492669939006, 'neutral': 17.92895133150204}, 'dominant_emotion': 'sad', 'region': {'x': 188, 'y': 421, 'w': 342, 'h': 342, 'left_eye': (416, 559), 'right_eye': (285, 569)}, 'face_confidence': 0.89}]\n",
            "Analysis for frame_0125.jpg: [{'emotion': {'angry': 44.81927218207453, 'disgust': 0.0014416401527717806, 'fear': 7.990626783296253, 'happy': 0.19589129362806157, 'sad': 22.816685102381097, 'surprise': 0.04175077858930486, 'neutral': 24.134329064568394}, 'dominant_emotion': 'angry', 'region': {'x': 193, 'y': 404, 'w': 346, 'h': 346, 'left_eye': (419, 544), 'right_eye': (290, 553)}, 'face_confidence': 0.88}]\n",
            "Analysis for frame_1244.jpg: [{'emotion': {'angry': 4.221424087882042, 'disgust': 5.891550358683162e-06, 'fear': 9.45475697517395, 'happy': 0.07570729358121753, 'sad': 11.013387888669968, 'surprise': 0.02124105958500877, 'neutral': 75.21347999572754}, 'dominant_emotion': 'neutral', 'region': {'x': 187, 'y': 415, 'w': 344, 'h': 344, 'left_eye': (417, 555), 'right_eye': (285, 559)}, 'face_confidence': 0.92}]\n",
            "Analysis for frame_1885.jpg: [{'emotion': {'angry': 9.588486701250076, 'disgust': 0.0020077293811482377, 'fear': 8.296503871679306, 'happy': 0.24107866920530796, 'sad': 25.844985246658325, 'surprise': 0.02904728753492236, 'neutral': 55.99789023399353}, 'dominant_emotion': 'neutral', 'region': {'x': 152, 'y': 424, 'w': 343, 'h': 343, 'left_eye': (387, 567), 'right_eye': (249, 577)}, 'face_confidence': 0.91}]\n",
            "Analysis for frame_1109.jpg: [{'emotion': {'angry': 41.08055233955383, 'disgust': 0.10456599993631244, 'fear': 2.9128307476639748, 'happy': 1.6033921390771866, 'sad': 43.02826523780823, 'surprise': 0.18453767988830805, 'neutral': 11.085855960845947}, 'dominant_emotion': 'sad', 'region': {'x': 180, 'y': 389, 'w': 341, 'h': 341, 'left_eye': (409, 539), 'right_eye': (276, 548)}, 'face_confidence': 0.92}]\n",
            "Analysis for frame_0547.jpg: [{'emotion': {'angry': 29.196983575820923, 'disgust': 2.0894310281960315e-06, 'fear': 1.0433252900838852, 'happy': 0.011514970537973568, 'sad': 4.289760440587997, 'surprise': 0.0010767021194624249, 'neutral': 65.4573380947113}, 'dominant_emotion': 'neutral', 'region': {'x': 159, 'y': 427, 'w': 345, 'h': 345, 'left_eye': (378, 555), 'right_eye': (250, 580)}, 'face_confidence': 0.91}]\n",
            "Analysis for frame_1030.jpg: [{'emotion': {'angry': 2.6906637992663622, 'disgust': 0.0001348160888750368, 'fear': 37.247853011148806, 'happy': 0.029217751007646203, 'sad': 41.58043663734953, 'surprise': 0.0065255749583955905, 'neutral': 18.445163256506532}, 'dominant_emotion': 'sad', 'region': {'x': 173, 'y': 421, 'w': 331, 'h': 331, 'left_eye': (392, 552), 'right_eye': (262, 566)}, 'face_confidence': 0.9}]\n",
            "Analysis for frame_1006.jpg: [{'emotion': {'angry': 31.773579928109637, 'disgust': 0.00043357136458240886, 'fear': 16.48959714050259, 'happy': 0.050751504251912744, 'sad': 41.39778511497797, 'surprise': 0.005528957921971208, 'neutral': 10.282325480261502}, 'dominant_emotion': 'sad', 'region': {'x': 179, 'y': 412, 'w': 336, 'h': 336, 'left_eye': (401, 548), 'right_eye': (271, 562)}, 'face_confidence': 0.89}]\n",
            "Analysis for frame_1343.jpg: [{'emotion': {'angry': 6.425106525421143, 'disgust': 4.5621877120538556e-05, 'fear': 10.00417023897171, 'happy': 0.013446934462990612, 'sad': 11.091788858175278, 'surprise': 0.009426273754797876, 'neutral': 72.45601415634155}, 'dominant_emotion': 'neutral', 'region': {'x': 185, 'y': 425, 'w': 340, 'h': 340, 'left_eye': (411, 559), 'right_eye': (279, 568)}, 'face_confidence': 0.89}]\n",
            "Analysis for frame_0619.jpg: [{'emotion': {'angry': 0.1317908870987594, 'disgust': 7.843943187037586e-12, 'fear': 0.0053725336329080164, 'happy': 3.8137766722456945e-06, 'sad': 4.410034418106079, 'surprise': 7.066752998746706e-10, 'neutral': 95.45280337333679}, 'dominant_emotion': 'neutral', 'region': {'x': 162, 'y': 451, 'w': 345, 'h': 345, 'left_eye': None, 'right_eye': None}, 'face_confidence': 0.91}]\n",
            "Analysis for frame_1326.jpg: [{'emotion': {'angry': 14.38974566581897, 'disgust': 0.006812983981043148, 'fear': 13.989862622039006, 'happy': 0.31150554784321216, 'sad': 60.11778591659237, 'surprise': 0.04680765292944426, 'neutral': 11.137473745647222}, 'dominant_emotion': 'sad', 'region': {'x': 193, 'y': 411, 'w': 348, 'h': 348, 'left_eye': (424, 554), 'right_eye': (292, 561)}, 'face_confidence': 0.92}]\n",
            "Analysis for frame_0613.jpg: [{'emotion': {'angry': 1.0784382643364825, 'disgust': 2.8651665860107254e-06, 'fear': 0.6093121031261743, 'happy': 0.01433858064019043, 'sad': 16.272033230783535, 'surprise': 6.457507127560518e-05, 'neutral': 82.02581298505146}, 'dominant_emotion': 'neutral', 'region': {'x': 162, 'y': 438, 'w': 352, 'h': 352, 'left_eye': None, 'right_eye': None}, 'face_confidence': 0.9}]\n",
            "Analysis for frame_1844.jpg: [{'emotion': {'angry': 10.055295377969742, 'disgust': 0.0002969773277072818, 'fear': 14.669591188430786, 'happy': 0.14639109140262008, 'sad': 59.844595193862915, 'surprise': 0.0017358279364998452, 'neutral': 15.282094478607178}, 'dominant_emotion': 'sad', 'region': {'x': 181, 'y': 432, 'w': 338, 'h': 338, 'left_eye': (413, 570), 'right_eye': (278, 574)}, 'face_confidence': 0.91}]\n",
            "Analysis for frame_1778.jpg: [{'emotion': {'angry': 11.998136341571808, 'disgust': 0.06912972312420607, 'fear': 15.272518992424011, 'happy': 0.15463721938431263, 'sad': 36.80324852466583, 'surprise': 0.041693856474012136, 'neutral': 35.66063344478607}, 'dominant_emotion': 'sad', 'region': {'x': 178, 'y': 409, 'w': 338, 'h': 338, 'left_eye': (404, 552), 'right_eye': (269, 559)}, 'face_confidence': 0.91}]\n",
            "Analysis for frame_1333.jpg: [{'emotion': {'angry': 9.34481005935729, 'disgust': 0.001187181422031355, 'fear': 6.396310412663842, 'happy': 0.009225692160375694, 'sad': 70.88603203809453, 'surprise': 0.006277375006351621, 'neutral': 13.356161913642998}, 'dominant_emotion': 'sad', 'region': {'x': 200, 'y': 420, 'w': 336, 'h': 336, 'left_eye': None, 'right_eye': None}, 'face_confidence': 0.92}]\n",
            "Analysis for frame_1962.jpg: [{'emotion': {'angry': 5.9469341870467884, 'disgust': 0.00041517833271268904, 'fear': 18.04582393715667, 'happy': 0.027942823783197852, 'sad': 49.86625312164463, 'surprise': 0.0033578570220206853, 'neutral': 26.109278334293165}, 'dominant_emotion': 'sad', 'region': {'x': 184, 'y': 423, 'w': 336, 'h': 336, 'left_eye': (407, 562), 'right_eye': (274, 571)}, 'face_confidence': 0.9}]\n",
            "Analysis for frame_1315.jpg: [{'emotion': {'angry': 0.9267687971018311, 'disgust': 0.0011124979626559552, 'fear': 27.150556701488103, 'happy': 0.9086255135983841, 'sad': 30.33066753514618, 'surprise': 0.01058357209986749, 'neutral': 40.67168720623102}, 'dominant_emotion': 'neutral', 'region': {'x': 162, 'y': 410, 'w': 336, 'h': 336, 'left_eye': None, 'right_eye': None}, 'face_confidence': 0.9}]\n",
            "Analysis for frame_0480.jpg: [{'emotion': {'angry': 3.2505840063095093, 'disgust': 1.1869553340204675e-06, 'fear': 15.496386587619781, 'happy': 0.2649391768500209, 'sad': 10.018670558929443, 'surprise': 0.00013197773114370648, 'neutral': 70.9692895412445}, 'dominant_emotion': 'neutral', 'region': {'x': 180, 'y': 443, 'w': 340, 'h': 340, 'left_eye': None, 'right_eye': None}, 'face_confidence': 0.91}]\n",
            "Analysis for frame_1035.jpg: [{'emotion': {'angry': 1.6790378838777542, 'disgust': 0.0003420664825171116, 'fear': 5.808001756668091, 'happy': 0.07010921835899353, 'sad': 20.347872376441956, 'surprise': 0.0035987864976050332, 'neutral': 72.09104299545288}, 'dominant_emotion': 'neutral', 'region': {'x': 166, 'y': 411, 'w': 335, 'h': 335, 'left_eye': (387, 546), 'right_eye': (255, 565)}, 'face_confidence': 0.91}]\n",
            "Analysis for frame_0467.jpg: [{'emotion': {'angry': 0.2827743004053414, 'disgust': 4.398873350200632e-06, 'fear': 0.3726350132828959, 'happy': 0.15540251968965052, 'sad': 10.127715625030733, 'surprise': 6.135710829867044e-05, 'neutral': 89.06140858300975}, 'dominant_emotion': 'neutral', 'region': {'x': 169, 'y': 476, 'w': 333, 'h': 333, 'left_eye': None, 'right_eye': None}, 'face_confidence': 0.92}]\n",
            "Analysis for frame_1746.jpg: [{'emotion': {'angry': 66.19498133659363, 'disgust': 0.0003417805601202417, 'fear': 3.7892431020736694, 'happy': 3.1851299107074738, 'sad': 12.506388127803802, 'surprise': 0.027802400290966034, 'neutral': 14.296120405197144}, 'dominant_emotion': 'angry', 'region': {'x': 188, 'y': 434, 'w': 332, 'h': 332, 'left_eye': (412, 563), 'right_eye': (284, 571)}, 'face_confidence': 0.9}]\n",
            "Analysis for frame_1384.jpg: [{'emotion': {'angry': 7.144843467762677, 'disgust': 0.0001691281782623121, 'fear': 1.78849540135237, 'happy': 0.016401941934343692, 'sad': 27.212767434881176, 'surprise': 0.0010008398618001966, 'neutral': 63.836322059412126}, 'dominant_emotion': 'neutral', 'region': {'x': 170, 'y': 423, 'w': 352, 'h': 352, 'left_eye': (402, 564), 'right_eye': (274, 576)}, 'face_confidence': 0.92}]\n",
            "Analysis for frame_0495.jpg: [{'emotion': {'angry': 32.267820835113525, 'disgust': 0.0009106844117923174, 'fear': 4.680894687771797, 'happy': 0.21037841215729713, 'sad': 19.971023499965668, 'surprise': 0.014806269609834999, 'neutral': 42.85417199134827}, 'dominant_emotion': 'neutral', 'region': {'x': 173, 'y': 431, 'w': 347, 'h': 347, 'left_eye': (401, 565), 'right_eye': (273, 584)}, 'face_confidence': 0.88}]\n",
            "Analysis for frame_1557.jpg: [{'emotion': {'angry': 11.99074238538742, 'disgust': 0.0020120152839808725, 'fear': 8.226656913757324, 'happy': 0.017002003733068705, 'sad': 56.79912567138672, 'surprise': 0.006223586387932301, 'neutral': 22.958241403102875}, 'dominant_emotion': 'sad', 'region': {'x': 189, 'y': 423, 'w': 338, 'h': 338, 'left_eye': (414, 558), 'right_eye': (285, 569)}, 'face_confidence': 0.88}]\n",
            "Analysis for frame_1793.jpg: [{'emotion': {'angry': 2.633204497396946, 'disgust': 0.0016434263670817018, 'fear': 32.752227783203125, 'happy': 0.07101877126842737, 'sad': 32.805538177490234, 'surprise': 0.015802725101821125, 'neutral': 31.72057271003723}, 'dominant_emotion': 'sad', 'region': {'x': 190, 'y': 420, 'w': 332, 'h': 332, 'left_eye': (409, 556), 'right_eye': (278, 566)}, 'face_confidence': 0.9}]\n",
            "Analysis for frame_0428.jpg: [{'emotion': {'angry': 31.08716607093811, 'disgust': 0.0019252105630584992, 'fear': 0.9891695342957973, 'happy': 0.12018203269690275, 'sad': 20.774586498737335, 'surprise': 0.00188329449883895, 'neutral': 47.02508747577667}, 'dominant_emotion': 'neutral', 'region': {'x': 150, 'y': 411, 'w': 364, 'h': 364, 'left_eye': (389, 556), 'right_eye': (257, 568)}, 'face_confidence': 0.89}]\n",
            "Analysis for frame_1133.jpg: [{'emotion': {'angry': 3.133672847309965, 'disgust': 0.0026328067678266518, 'fear': 29.712506566940956, 'happy': 0.08526626190721846, 'sad': 16.243348569470815, 'surprise': 0.02507861055427962, 'neutral': 50.79749217063282}, 'dominant_emotion': 'neutral', 'region': {'x': 172, 'y': 416, 'w': 329, 'h': 329, 'left_eye': (393, 547), 'right_eye': (265, 560)}, 'face_confidence': 0.89}]\n",
            "Analysis for frame_1003.jpg: [{'emotion': {'angry': 14.000052213668823, 'disgust': 0.00035037942325288896, 'fear': 24.13707673549652, 'happy': 0.3418109845370054, 'sad': 36.27897799015045, 'surprise': 0.0061101985920686275, 'neutral': 25.235629081726074}, 'dominant_emotion': 'sad', 'region': {'x': 177, 'y': 414, 'w': 341, 'h': 341, 'left_eye': (402, 552), 'right_eye': (271, 564)}, 'face_confidence': 0.9}]\n",
            "Analysis for frame_1999.jpg: [{'emotion': {'angry': 9.19904112815857, 'disgust': 7.306766178771795e-05, 'fear': 4.914669692516327, 'happy': 0.6887833587825298, 'sad': 40.071892738342285, 'surprise': 0.002140428841812536, 'neutral': 45.123401284217834}, 'dominant_emotion': 'neutral', 'region': {'x': 182, 'y': 429, 'w': 341, 'h': 341, 'left_eye': None, 'right_eye': None}, 'face_confidence': 0.91}]\n",
            "Analysis for frame_2139.jpg: [{'emotion': {'angry': 53.35253199055982, 'disgust': 0.0026015833741415625, 'fear': 10.751805350292049, 'happy': 0.02589117657117108, 'sad': 23.449428287114397, 'surprise': 0.003908777813344989, 'neutral': 12.413836265434997}, 'dominant_emotion': 'angry', 'region': {'x': 161, 'y': 427, 'w': 340, 'h': 340, 'left_eye': (383, 558), 'right_eye': (256, 583)}, 'face_confidence': 0.9}]\n",
            "Analysis for frame_2177.jpg: [{'emotion': {'angry': 0.4728195257484913, 'disgust': 0.0006156618837849237, 'fear': 0.6676795892417431, 'happy': 4.6873923391103745, 'sad': 7.287684082984924, 'surprise': 0.001219879231939558, 'neutral': 86.8825912475586}, 'dominant_emotion': 'neutral', 'region': {'x': 194, 'y': 417, 'w': 347, 'h': 347, 'left_eye': None, 'right_eye': None}, 'face_confidence': 0.9}]\n",
            "Analysis for frame_1886.jpg: [{'emotion': {'angry': 9.184231609106064, 'disgust': 0.0011932183952012565, 'fear': 8.123549818992615, 'happy': 0.12615200830623507, 'sad': 36.75723373889923, 'surprise': 0.007879809709265828, 'neutral': 45.7997590303421}, 'dominant_emotion': 'neutral', 'region': {'x': 149, 'y': 425, 'w': 345, 'h': 345, 'left_eye': (386, 567), 'right_eye': (250, 576)}, 'face_confidence': 0.92}]\n",
            "Analysis for frame_1797.jpg: [{'emotion': {'angry': 1.872641034424305, 'disgust': 0.004480308052734472, 'fear': 68.35473775863647, 'happy': 0.5068864673376083, 'sad': 18.51852834224701, 'surprise': 0.030829277238808572, 'neutral': 10.711902379989624}, 'dominant_emotion': 'fear', 'region': {'x': 189, 'y': 423, 'w': 332, 'h': 332, 'left_eye': (409, 557), 'right_eye': (278, 569)}, 'face_confidence': 0.9}]\n",
            "Analysis for frame_2285.jpg: [{'emotion': {'angry': 12.080731987953186, 'disgust': 0.028921072953380644, 'fear': 27.67382264137268, 'happy': 0.2043635118752718, 'sad': 40.81754982471466, 'surprise': 0.06752082263119519, 'neutral': 19.127091765403748}, 'dominant_emotion': 'sad', 'region': {'x': 188, 'y': 418, 'w': 328, 'h': 328, 'left_eye': (409, 555), 'right_eye': (276, 563)}, 'face_confidence': 0.92}]\n",
            "Analysis for frame_2081.jpg: [{'emotion': {'angry': 21.833494305610657, 'disgust': 0.0022166110284160823, 'fear': 7.145132124423981, 'happy': 0.0212785234907642, 'sad': 61.33781671524048, 'surprise': 0.0037665646232198924, 'neutral': 9.65629667043686}, 'dominant_emotion': 'sad', 'region': {'x': 173, 'y': 431, 'w': 342, 'h': 342, 'left_eye': (407, 572), 'right_eye': (271, 580)}, 'face_confidence': 0.92}]\n",
            "Analysis for frame_1986.jpg: [{'emotion': {'angry': 6.376755237579346, 'disgust': 0.0007381747309409548, 'fear': 30.288785696029663, 'happy': 0.2666160464286804, 'sad': 26.972880959510803, 'surprise': 0.01952863240148872, 'neutral': 36.074697971343994}, 'dominant_emotion': 'neutral', 'region': {'x': 181, 'y': 422, 'w': 341, 'h': 341, 'left_eye': (405, 561), 'right_eye': (275, 571)}, 'face_confidence': 0.91}]\n",
            "Analysis for frame_0569.jpg: [{'emotion': {'angry': 34.26350951194763, 'disgust': 0.028938701143488288, 'fear': 10.162445157766342, 'happy': 0.0934865209273994, 'sad': 28.474998474121094, 'surprise': 0.021576402650680393, 'neutral': 26.955047249794006}, 'dominant_emotion': 'angry', 'region': {'x': 173, 'y': 421, 'w': 354, 'h': 354, 'left_eye': (405, 560), 'right_eye': (275, 574)}, 'face_confidence': 0.9}]\n",
            "Analysis for frame_0886.jpg: [{'emotion': {'angry': 0.7845584299196684, 'disgust': 4.1065538958908e-06, 'fear': 0.3907064907155644, 'happy': 0.011888302871535748, 'sad': 8.449296391094162, 'surprise': 3.3358789439804924e-05, 'neutral': 90.36350961166505}, 'dominant_emotion': 'neutral', 'region': {'x': 173, 'y': 421, 'w': 355, 'h': 355, 'left_eye': (405, 564), 'right_eye': (275, 576)}, 'face_confidence': 0.91}]\n",
            "Analysis for frame_1355.jpg: [{'emotion': {'angry': 37.37258017063141, 'disgust': 0.0028295280571910553, 'fear': 16.279475390911102, 'happy': 0.07319275173358619, 'sad': 28.83073091506958, 'surprise': 0.03925171622540802, 'neutral': 17.401941120624542}, 'dominant_emotion': 'angry', 'region': {'x': 177, 'y': 426, 'w': 344, 'h': 344, 'left_eye': (405, 559), 'right_eye': (273, 569)}, 'face_confidence': 0.9}]\n",
            "Analysis for frame_2339.jpg: [{'emotion': {'angry': 10.086642061867837, 'disgust': 0.001095138369938457, 'fear': 0.9163826318909306, 'happy': 5.795354741534873, 'sad': 41.06785303758699, 'surprise': 0.008908367984821601, 'neutral': 42.123761303649026}, 'dominant_emotion': 'neutral', 'region': {'x': 170, 'y': 426, 'w': 341, 'h': 341, 'left_eye': (398, 565), 'right_eye': (267, 572)}, 'face_confidence': 0.92}]\n",
            "Analysis for frame_0810.jpg: [{'emotion': {'angry': 23.339395225048065, 'disgust': 0.008098137186607346, 'fear': 34.525471925735474, 'happy': 0.2270800992846489, 'sad': 18.81987750530243, 'surprise': 0.010500035568838939, 'neutral': 23.069576919078827}, 'dominant_emotion': 'fear', 'region': {'x': 147, 'y': 412, 'w': 343, 'h': 343, 'left_eye': (370, 546), 'right_eye': (243, 572)}, 'face_confidence': 0.9}]\n",
            "Analysis for frame_0494.jpg: [{'emotion': {'angry': 27.562925525060358, 'disgust': 0.0006171031881285208, 'fear': 3.143502401531029, 'happy': 0.0628654279716078, 'sad': 21.187622390702057, 'surprise': 0.006956428944061422, 'neutral': 48.035514120520844}, 'dominant_emotion': 'neutral', 'region': {'x': 174, 'y': 432, 'w': 345, 'h': 345, 'left_eye': (399, 564), 'right_eye': (274, 584)}, 'face_confidence': 0.89}]\n",
            "Analysis for frame_1337.jpg: [{'emotion': {'angry': 6.378010660409927, 'disgust': 0.001253014852409251, 'fear': 17.777623236179352, 'happy': 0.018330449529457837, 'sad': 35.64261198043823, 'surprise': 0.010172217298531905, 'neutral': 40.171995759010315}, 'dominant_emotion': 'neutral', 'region': {'x': 190, 'y': 423, 'w': 341, 'h': 341, 'left_eye': (417, 560), 'right_eye': (286, 568)}, 'face_confidence': 0.9}]\n",
            "Analysis for frame_0209.jpg: [{'emotion': {'angry': 22.84316543855255, 'disgust': 0.0011749163186310686, 'fear': 7.086411218215372, 'happy': 0.19098058058462508, 'sad': 42.622291162287134, 'surprise': 0.016612408742204605, 'neutral': 27.239364652557928}, 'dominant_emotion': 'sad', 'region': {'x': 184, 'y': 408, 'w': 351, 'h': 351, 'left_eye': (418, 550), 'right_eye': (283, 558)}, 'face_confidence': 0.91}]\n",
            "Analysis for frame_1251.jpg: [{'emotion': {'angry': 2.558710426092148, 'disgust': 0.0002120179487974383, 'fear': 26.84219181537628, 'happy': 0.10225895093753934, 'sad': 50.89309811592102, 'surprise': 0.006672007293673232, 'neutral': 19.596853852272034}, 'dominant_emotion': 'sad', 'region': {'x': 190, 'y': 414, 'w': 337, 'h': 337, 'left_eye': (415, 553), 'right_eye': (278, 564)}, 'face_confidence': 0.9}]\n",
            "Analysis for frame_1636.jpg: [{'emotion': {'angry': 6.730979337154587, 'disgust': 5.61468960373496e-08, 'fear': 53.54595503484935, 'happy': 0.7293303466189114, 'sad': 4.339646806695867, 'surprise': 0.00021661307000245337, 'neutral': 34.65387431704249}, 'dominant_emotion': 'fear', 'region': {'x': 182, 'y': 432, 'w': 350, 'h': 350, 'left_eye': (419, 583), 'right_eye': (391, 575)}, 'face_confidence': 0.9}]\n",
            "Analysis for frame_0850.jpg: [{'emotion': {'angry': 8.543471520360889, 'disgust': 0.0027865904169120576, 'fear': 11.795577322909512, 'happy': 0.04118594715539481, 'sad': 29.69785388682531, 'surprise': 0.0076190046444373155, 'neutral': 49.911507953585144}, 'dominant_emotion': 'neutral', 'region': {'x': 175, 'y': 409, 'w': 340, 'h': 340, 'left_eye': (402, 547), 'right_eye': (269, 561)}, 'face_confidence': 0.89}]\n",
            "Analysis for frame_0441.jpg: [{'emotion': {'angry': 19.147529849262824, 'disgust': 0.07071592102369195, 'fear': 26.50004485249787, 'happy': 3.32790819274832, 'sad': 38.56101265913323, 'surprise': 0.3763347157141397, 'neutral': 12.01645878055446}, 'dominant_emotion': 'sad', 'region': {'x': 199, 'y': 405, 'w': 330, 'h': 330, 'left_eye': (424, 545), 'right_eye': (286, 552)}, 'face_confidence': 0.92}]\n",
            "Analysis for frame_0182.jpg: [{'emotion': {'angry': 58.49902135122077, 'disgust': 0.0008547334910250612, 'fear': 16.283296499645292, 'happy': 0.12266494166209599, 'sad': 12.986151932019226, 'surprise': 0.021416353053686388, 'neutral': 12.0866029961828}, 'dominant_emotion': 'angry', 'region': {'x': 165, 'y': 415, 'w': 353, 'h': 353, 'left_eye': (395, 548), 'right_eye': (263, 569)}, 'face_confidence': 0.89}]\n",
            "Analysis for frame_0823.jpg: [{'emotion': {'angry': 12.731537981721042, 'disgust': 0.00012137507651863145, 'fear': 70.5439907636637, 'happy': 0.07185172717879576, 'sad': 11.600490605860388, 'surprise': 0.005810486964761434, 'neutral': 5.046193602454281}, 'dominant_emotion': 'fear', 'region': {'x': 153, 'y': 421, 'w': 336, 'h': 336, 'left_eye': (373, 550), 'right_eye': (244, 575)}, 'face_confidence': 0.92}]\n",
            "Analysis for frame_0268.jpg: [{'emotion': {'angry': 4.751967266201973, 'disgust': 0.0002177605210818001, 'fear': 2.5549132376909256, 'happy': 0.009494636469753459, 'sad': 46.17030620574951, 'surprise': 8.97512052233651e-05, 'neutral': 46.513012051582336}, 'dominant_emotion': 'neutral', 'region': {'x': 194, 'y': 421, 'w': 345, 'h': 345, 'left_eye': None, 'right_eye': None}, 'face_confidence': 0.93}]\n",
            "Analysis for frame_0275.jpg: [{'emotion': {'angry': 1.715511828660965, 'disgust': 1.6171661343378219e-06, 'fear': 1.89858078956604, 'happy': 0.0003074818323511863, 'sad': 31.705528497695923, 'surprise': 3.9405071561304794e-05, 'neutral': 64.68002796173096}, 'dominant_emotion': 'neutral', 'region': {'x': 196, 'y': 417, 'w': 355, 'h': 355, 'left_eye': (421, 568), 'right_eye': (303, 564)}, 'face_confidence': 0.91}]\n",
            "Analysis for frame_1054.jpg: [{'emotion': {'angry': 10.934152454137802, 'disgust': 0.0028413844120223075, 'fear': 9.197842329740524, 'happy': 0.3354079555720091, 'sad': 44.170403480529785, 'surprise': 0.01473842712584883, 'neutral': 35.34460961818695}, 'dominant_emotion': 'sad', 'region': {'x': 180, 'y': 417, 'w': 342, 'h': 342, 'left_eye': (404, 555), 'right_eye': (275, 567)}, 'face_confidence': 0.91}]\n",
            "Analysis for frame_1630.jpg: [{'emotion': {'angry': 3.3020496368408203, 'disgust': 1.4521451596749557e-06, 'fear': 0.9543299674987793, 'happy': 0.009922954632202163, 'sad': 5.783704295754433, 'surprise': 0.000487219040223863, 'neutral': 89.94950652122498}, 'dominant_emotion': 'neutral', 'region': {'x': 188, 'y': 436, 'w': 344, 'h': 344, 'left_eye': (418, 576), 'right_eye': (289, 577)}, 'face_confidence': 0.9}]\n",
            "Analysis for frame_0847.jpg: [{'emotion': {'angry': 10.463115572929382, 'disgust': 0.09743571863509715, 'fear': 36.77478730678558, 'happy': 0.23889141157269478, 'sad': 36.360058188438416, 'surprise': 0.18689425196498632, 'neutral': 15.878817439079285}, 'dominant_emotion': 'fear', 'region': {'x': 172, 'y': 411, 'w': 341, 'h': 341, 'left_eye': (401, 547), 'right_eye': (266, 564)}, 'face_confidence': 0.89}]\n",
            "Analysis for frame_0212.jpg: [{'emotion': {'angry': 30.157471317943493, 'disgust': 0.0025829823594510017, 'fear': 3.383645073609957, 'happy': 0.553970058363087, 'sad': 33.52134627358273, 'surprise': 0.01348797683740131, 'neutral': 32.36749856084568}, 'dominant_emotion': 'sad', 'region': {'x': 177, 'y': 409, 'w': 357, 'h': 357, 'left_eye': (411, 550), 'right_eye': (281, 561)}, 'face_confidence': 0.9}]\n",
            "Analysis for frame_2134.jpg: [{'emotion': {'angry': 63.000599980282786, 'disgust': 0.0050800420778148005, 'fear': 5.2380972816828155, 'happy': 0.018793943251366973, 'sad': 19.112869308844886, 'surprise': 0.00683112075842595, 'neutral': 12.61772810009383}, 'dominant_emotion': 'angry', 'region': {'x': 160, 'y': 423, 'w': 346, 'h': 346, 'left_eye': (385, 555), 'right_eye': (255, 580)}, 'face_confidence': 0.9}]\n",
            "Analysis for frame_1039.jpg: [{'emotion': {'angry': 2.8343427926301956, 'disgust': 0.0005920812782278517, 'fear': 15.327104926109314, 'happy': 0.46385745517909527, 'sad': 20.43290287256241, 'surprise': 0.046848299098201096, 'neutral': 60.894352197647095}, 'dominant_emotion': 'neutral', 'region': {'x': 173, 'y': 415, 'w': 328, 'h': 328, 'left_eye': (389, 547), 'right_eye': (259, 562)}, 'face_confidence': 0.91}]\n",
            "Analysis for frame_2016.jpg: [{'emotion': {'angry': 17.43813455104828, 'disgust': 2.418192082132009e-05, 'fear': 33.74372720718384, 'happy': 0.12940190499648452, 'sad': 28.683748841285706, 'surprise': 0.0008654649718664587, 'neutral': 20.00410258769989}, 'dominant_emotion': 'fear', 'region': {'x': 180, 'y': 429, 'w': 333, 'h': 333, 'left_eye': None, 'right_eye': None}, 'face_confidence': 0.89}]\n",
            "Analysis for frame_1077.jpg: [{'emotion': {'angry': 5.787298828363419, 'disgust': 0.000669918927087565, 'fear': 4.7555286437273026, 'happy': 0.037523056380450726, 'sad': 43.524596095085144, 'surprise': 0.0052402345318114385, 'neutral': 45.889148116111755}, 'dominant_emotion': 'neutral', 'region': {'x': 191, 'y': 429, 'w': 341, 'h': 341, 'left_eye': (420, 570), 'right_eye': (288, 572)}, 'face_confidence': 0.92}]\n",
            "Analysis for frame_1079.jpg: [{'emotion': {'angry': 5.805153399705887, 'disgust': 0.00025064125566132134, 'fear': 4.705691337585449, 'happy': 0.0877000973559916, 'sad': 59.470170736312866, 'surprise': 0.0013388145816861652, 'neutral': 29.929691553115845}, 'dominant_emotion': 'sad', 'region': {'x': 189, 'y': 427, 'w': 344, 'h': 344, 'left_eye': (421, 568), 'right_eye': (287, 571)}, 'face_confidence': 0.92}]\n",
            "Analysis for frame_1048.jpg: [{'emotion': {'angry': 27.73774564266205, 'disgust': 0.13950536958873272, 'fear': 17.877644300460815, 'happy': 0.08204496116377413, 'sad': 40.93732535839081, 'surprise': 0.1899584662169218, 'neutral': 13.03577870130539}, 'dominant_emotion': 'sad', 'region': {'x': 183, 'y': 414, 'w': 333, 'h': 333, 'left_eye': (409, 553), 'right_eye': (273, 561)}, 'face_confidence': 0.91}]\n",
            "Analysis for frame_0906.jpg: [{'emotion': {'angry': 48.04908335208893, 'disgust': 0.002790303187794052, 'fear': 9.107591211795807, 'happy': 0.22778192069381475, 'sad': 21.15701287984848, 'surprise': 0.012102149048587307, 'neutral': 21.44363820552826}, 'dominant_emotion': 'angry', 'region': {'x': 156, 'y': 419, 'w': 342, 'h': 342, 'left_eye': (377, 551), 'right_eye': (249, 573)}, 'face_confidence': 0.91}]\n",
            "Analysis for frame_1756.jpg: [{'emotion': {'angry': 14.840520918369293, 'disgust': 0.0001287816530748387, 'fear': 2.1782908588647842, 'happy': 32.1222722530365, 'sad': 27.71937847137451, 'surprise': 0.0003158512072332087, 'neutral': 23.139095306396484}, 'dominant_emotion': 'happy', 'region': {'x': 187, 'y': 438, 'w': 327, 'h': 327, 'left_eye': (413, 569), 'right_eye': (278, 573)}, 'face_confidence': 0.9}]\n",
            "Analysis for frame_0074.jpg: [{'emotion': {'angry': 9.657717496156693, 'disgust': 0.009562066406942904, 'fear': 6.15345686674118, 'happy': 1.262426469475031, 'sad': 62.91287541389465, 'surprise': 0.004177967275609262, 'neutral': 19.999785721302032}, 'dominant_emotion': 'sad', 'region': {'x': 183, 'y': 415, 'w': 335, 'h': 335, 'left_eye': (409, 550), 'right_eye': (275, 559)}, 'face_confidence': 0.89}]\n",
            "Analysis for frame_1888.jpg: [{'emotion': {'angry': 16.35967791080475, 'disgust': 0.0007860920050006825, 'fear': 8.134433627128601, 'happy': 0.03968912351410836, 'sad': 33.64884853363037, 'surprise': 0.006585308437934145, 'neutral': 41.80997908115387}, 'dominant_emotion': 'neutral', 'region': {'x': 147, 'y': 424, 'w': 344, 'h': 344, 'left_eye': (379, 566), 'right_eye': (249, 578)}, 'face_confidence': 0.92}]\n",
            "Analysis for frame_0179.jpg: [{'emotion': {'angry': 17.947383224964142, 'disgust': 0.00021913992895861156, 'fear': 1.7512122169137, 'happy': 0.040567421820014715, 'sad': 11.21087297797203, 'surprise': 0.0021030942662036978, 'neutral': 69.04764175415039}, 'dominant_emotion': 'neutral', 'region': {'x': 165, 'y': 419, 'w': 350, 'h': 350, 'left_eye': (394, 552), 'right_eye': (261, 575)}, 'face_confidence': 0.89}]\n",
            "Analysis for frame_1070.jpg: [{'emotion': {'angry': 9.964530169963837, 'disgust': 0.0018506712876842357, 'fear': 2.228225953876972, 'happy': 0.3723045811057091, 'sad': 46.48143649101257, 'surprise': 0.0013904882507631555, 'neutral': 40.950265526771545}, 'dominant_emotion': 'sad', 'region': {'x': 179, 'y': 426, 'w': 348, 'h': 348, 'left_eye': None, 'right_eye': None}, 'face_confidence': 0.9}]\n",
            "Analysis for frame_2203.jpg: [{'emotion': {'angry': 2.303414929116662, 'disgust': 3.9266118032714355e-06, 'fear': 0.15764299089941328, 'happy': 0.012283004621148385, 'sad': 4.311532784195708, 'surprise': 4.574602303183507e-05, 'neutral': 93.21507771105037}, 'dominant_emotion': 'neutral', 'region': {'x': 181, 'y': 433, 'w': 347, 'h': 347, 'left_eye': (413, 576), 'right_eye': (284, 580)}, 'face_confidence': 0.89}]\n",
            "Analysis for frame_0868.jpg: [{'emotion': {'angry': 6.817294657230377, 'disgust': 0.025713042123243213, 'fear': 23.889057338237762, 'happy': 0.12450609356164932, 'sad': 50.43644309043884, 'surprise': 0.018004920275416225, 'neutral': 18.688982725143433}, 'dominant_emotion': 'sad', 'region': {'x': 210, 'y': 407, 'w': 339, 'h': 339, 'left_eye': (433, 552), 'right_eye': (302, 555)}, 'face_confidence': 0.91}]\n",
            "Analysis for frame_1678.jpg: [{'emotion': {'angry': 5.636771322699943, 'disgust': 0.02961405323874095, 'fear': 14.351378601953817, 'happy': 0.28098547921156636, 'sad': 49.09967769380542, 'surprise': 0.02122397671143433, 'neutral': 30.580354402107524}, 'dominant_emotion': 'sad', 'region': {'x': 174, 'y': 419, 'w': 342, 'h': 342, 'left_eye': (401, 557), 'right_eye': (270, 566)}, 'face_confidence': 0.89}]\n",
            "Analysis for frame_0666.jpg: [{'emotion': {'angry': 19.494006871462688, 'disgust': 0.17974680336899201, 'fear': 17.144655244905383, 'happy': 0.5058989066212066, 'sad': 56.92245446711236, 'surprise': 0.17124192967914698, 'neutral': 5.5820009806157325}, 'dominant_emotion': 'sad', 'region': {'x': 197, 'y': 384, 'w': 342, 'h': 342, 'left_eye': (424, 534), 'right_eye': (293, 538)}, 'face_confidence': 0.93}]\n",
            "Analysis for frame_0332.jpg: [{'emotion': {'angry': 6.91007591365863, 'disgust': 0.03927145558246754, 'fear': 23.48024863240139, 'happy': 1.7323046720260773, 'sad': 24.540168101767527, 'surprise': 0.0335812208490481, 'neutral': 43.26434513755499}, 'dominant_emotion': 'neutral', 'region': {'x': 172, 'y': 399, 'w': 355, 'h': 355, 'left_eye': (398, 535), 'right_eye': (278, 547)}, 'face_confidence': 0.9}]\n",
            "Analysis for frame_2074.jpg: [{'emotion': {'angry': 15.49093609940244, 'disgust': 6.998280052610937e-05, 'fear': 3.7152495938837045, 'happy': 0.10095902292314445, 'sad': 29.419807126499073, 'surprise': 0.0003881600158610214, 'neutral': 51.272595080446614}, 'dominant_emotion': 'neutral', 'region': {'x': 168, 'y': 424, 'w': 351, 'h': 351, 'left_eye': (405, 569), 'right_eye': (272, 573)}, 'face_confidence': 0.91}]\n",
            "Analysis for frame_0397.jpg: [{'emotion': {'angry': 21.818551421165466, 'disgust': 0.030265824170783162, 'fear': 8.459007740020752, 'happy': 1.8482465296983719, 'sad': 20.912811160087585, 'surprise': 0.2514474093914032, 'neutral': 46.679672598838806}, 'dominant_emotion': 'neutral', 'region': {'x': 204, 'y': 400, 'w': 365, 'h': 365, 'left_eye': (447, 555), 'right_eye': (316, 555)}, 'face_confidence': 0.93}]\n",
            "Analysis for frame_1838.jpg: [{'emotion': {'angry': 17.59158968925476, 'disgust': 0.0001170756377177895, 'fear': 6.432526558637619, 'happy': 0.06803532014600933, 'sad': 38.52580189704895, 'surprise': 0.001767488538462203, 'neutral': 37.38016486167908}, 'dominant_emotion': 'sad', 'region': {'x': 188, 'y': 438, 'w': 335, 'h': 335, 'left_eye': (414, 571), 'right_eye': (284, 577)}, 'face_confidence': 0.89}]\n",
            "Analysis for frame_2094.jpg: [{'emotion': {'angry': 26.536709253395706, 'disgust': 0.0005368529585815767, 'fear': 12.956899458992417, 'happy': 0.16157048119327203, 'sad': 34.333581844995244, 'surprise': 0.003356150082160915, 'neutral': 26.007354379576967}, 'dominant_emotion': 'sad', 'region': {'x': 173, 'y': 431, 'w': 339, 'h': 339, 'left_eye': (399, 569), 'right_eye': (267, 576)}, 'face_confidence': 0.91}]\n",
            "Analysis for frame_1710.jpg: [{'emotion': {'angry': 17.63640852408511, 'disgust': 0.005818597458214941, 'fear': 28.355619711353743, 'happy': 0.4974870138599889, 'sad': 43.17249276310119, 'surprise': 0.011086105817483314, 'neutral': 10.321088620554045}, 'dominant_emotion': 'sad', 'region': {'x': 171, 'y': 424, 'w': 336, 'h': 336, 'left_eye': None, 'right_eye': None}, 'face_confidence': 0.91}]\n",
            "Analysis for frame_1956.jpg: [{'emotion': {'angry': 9.222885221242905, 'disgust': 0.0024284187020384707, 'fear': 20.853550732135773, 'happy': 0.04480387724470347, 'sad': 46.08382284641266, 'surprise': 0.013373230467550457, 'neutral': 23.779135942459106}, 'dominant_emotion': 'sad', 'region': {'x': 179, 'y': 423, 'w': 338, 'h': 338, 'left_eye': (405, 562), 'right_eye': (271, 571)}, 'face_confidence': 0.91}]\n",
            "Analysis for frame_1065.jpg: [{'emotion': {'angry': 25.729680061340332, 'disgust': 0.00036299645671533654, 'fear': 0.9779587388038635, 'happy': 1.4240252785384655, 'sad': 45.33025324344635, 'surprise': 0.0029532815460697748, 'neutral': 26.53477191925049}, 'dominant_emotion': 'sad', 'region': {'x': 173, 'y': 424, 'w': 348, 'h': 348, 'left_eye': (403, 564), 'right_eye': (271, 573)}, 'face_confidence': 0.89}]\n",
            "Analysis for frame_1270.jpg: [{'emotion': {'angry': 11.261240392923355, 'disgust': 0.0002538914259275771, 'fear': 28.411108255386353, 'happy': 0.06317576626315713, 'sad': 32.536712288856506, 'surprise': 0.004995515337213874, 'neutral': 27.72251069545746}, 'dominant_emotion': 'sad', 'region': {'x': 185, 'y': 422, 'w': 344, 'h': 344, 'left_eye': (410, 563), 'right_eye': (281, 571)}, 'face_confidence': 0.92}]\n",
            "Analysis for frame_2263.jpg: [{'emotion': {'angry': 3.3913739025592804, 'disgust': 0.0008089421498880256, 'fear': 6.308029592037201, 'happy': 0.007096082845237106, 'sad': 46.45513296127319, 'surprise': 0.0039375488995574415, 'neutral': 43.833619356155396}, 'dominant_emotion': 'sad', 'region': {'x': 186, 'y': 430, 'w': 343, 'h': 343, 'left_eye': (414, 573), 'right_eye': (282, 578)}, 'face_confidence': 0.92}]\n",
            "Analysis for frame_2359.jpg: [{'emotion': {'angry': 3.987596556544304, 'disgust': 1.373224165490683e-05, 'fear': 0.18364121206104755, 'happy': 4.3749649077653885, 'sad': 50.436484813690186, 'surprise': 0.0018946229829452932, 'neutral': 41.01540148258209}, 'dominant_emotion': 'sad', 'region': {'x': 195, 'y': 441, 'w': 319, 'h': 319, 'left_eye': (411, 574), 'right_eye': (284, 577)}, 'face_confidence': 0.89}]\n",
            "Analysis for frame_0989.jpg: [{'emotion': {'angry': 42.83313367761775, 'disgust': 0.0004229909840817293, 'fear': 10.551371938153736, 'happy': 0.21508764711322154, 'sad': 23.93291281854067, 'surprise': 0.030292513084077904, 'neutral': 22.436779431912832}, 'dominant_emotion': 'angry', 'region': {'x': 182, 'y': 418, 'w': 346, 'h': 346, 'left_eye': (409, 555), 'right_eye': (275, 569)}, 'face_confidence': 0.9}]\n",
            "Analysis for frame_2151.jpg: [{'emotion': {'angry': 28.175440430641174, 'disgust': 9.588931249027155e-06, 'fear': 0.7192667108029127, 'happy': 0.16280420823022723, 'sad': 17.640304565429688, 'surprise': 0.000514818930241745, 'neutral': 53.3016562461853}, 'dominant_emotion': 'neutral', 'region': {'x': 169, 'y': 433, 'w': 335, 'h': 335, 'left_eye': (391, 562), 'right_eye': (260, 580)}, 'face_confidence': 0.89}]\n",
            "Analysis for frame_2351.jpg: [{'emotion': {'angry': 8.351429551839828, 'disgust': 0.0009294877600041218, 'fear': 1.0554613545536995, 'happy': 0.05854920600540936, 'sad': 42.831385135650635, 'surprise': 0.0010353918696637265, 'neutral': 47.701215744018555}, 'dominant_emotion': 'neutral', 'region': {'x': 181, 'y': 437, 'w': 327, 'h': 327, 'left_eye': (399, 566), 'right_eye': (271, 578)}, 'face_confidence': 0.91}]\n",
            "Analysis for frame_0294.jpg: [{'emotion': {'angry': 1.783272624015808, 'disgust': 4.5091259615048784e-07, 'fear': 0.3498617559671402, 'happy': 0.0005363646323530702, 'sad': 14.726142585277557, 'surprise': 1.4240731616155244e-05, 'neutral': 83.14017057418823}, 'dominant_emotion': 'neutral', 'region': {'x': 198, 'y': 428, 'w': 349, 'h': 349, 'left_eye': (437, 576), 'right_eye': (300, 571)}, 'face_confidence': 0.92}]\n",
            "Analysis for frame_1833.jpg: [{'emotion': {'angry': 16.503676772117615, 'disgust': 3.127200329799962e-05, 'fear': 3.2887469977140427, 'happy': 0.15926091000437737, 'sad': 35.09541153907776, 'surprise': 0.0006898473657201976, 'neutral': 44.952183961868286}, 'dominant_emotion': 'neutral', 'region': {'x': 188, 'y': 436, 'w': 340, 'h': 340, 'left_eye': (416, 574), 'right_eye': (282, 579)}, 'face_confidence': 0.91}]\n",
            "Analysis for frame_1675.jpg: [{'emotion': {'angry': 3.179263696074486, 'disgust': 0.0005846329713676823, 'fear': 26.339226961135864, 'happy': 0.1162669388577342, 'sad': 48.10406565666199, 'surprise': 0.0026720170353655703, 'neutral': 22.2579225897789}, 'dominant_emotion': 'sad', 'region': {'x': 175, 'y': 419, 'w': 339, 'h': 339, 'left_eye': (400, 556), 'right_eye': (269, 566)}, 'face_confidence': 0.89}]\n",
            "Analysis for frame_1195.jpg: [{'emotion': {'angry': 9.024476259946823, 'disgust': 0.022322854783851653, 'fear': 35.92759072780609, 'happy': 0.4771268926560879, 'sad': 24.537551403045654, 'surprise': 0.02283246722072363, 'neutral': 29.98810112476349}, 'dominant_emotion': 'fear', 'region': {'x': 169, 'y': 405, 'w': 345, 'h': 345, 'left_eye': (396, 547), 'right_eye': (263, 563)}, 'face_confidence': 0.89}]\n",
            "Analysis for frame_0602.jpg: [{'emotion': {'angry': 9.504033625125885, 'disgust': 0.02408754371572286, 'fear': 34.70889627933502, 'happy': 1.1890818364918232, 'sad': 26.703134179115295, 'surprise': 0.04912162548862398, 'neutral': 27.82164216041565}, 'dominant_emotion': 'fear', 'region': {'x': 175, 'y': 423, 'w': 350, 'h': 350, 'left_eye': (393, 550), 'right_eye': (273, 568)}, 'face_confidence': 0.91}]\n",
            "Analysis for frame_2298.jpg: [{'emotion': {'angry': 2.3489369079470634, 'disgust': 0.0007526388344558654, 'fear': 31.84448480606079, 'happy': 0.17782386858016253, 'sad': 46.873435378074646, 'surprise': 0.004718959462479688, 'neutral': 18.749843537807465}, 'dominant_emotion': 'sad', 'region': {'x': 183, 'y': 423, 'w': 329, 'h': 329, 'left_eye': (405, 558), 'right_eye': (273, 569)}, 'face_confidence': 0.9}]\n",
            "Analysis for frame_1666.jpg: [{'emotion': {'angry': 10.137750771581942, 'disgust': 0.013866212580119799, 'fear': 16.31884632853357, 'happy': 0.16602484509129045, 'sad': 64.55643426026481, 'surprise': 0.01731829275751212, 'neutral': 8.78974660283408}, 'dominant_emotion': 'sad', 'region': {'x': 185, 'y': 413, 'w': 334, 'h': 334, 'left_eye': (412, 554), 'right_eye': (276, 556)}, 'face_confidence': 0.92}]\n",
            "Analysis for frame_1517.jpg: [{'emotion': {'angry': 39.82144119483934, 'disgust': 0.0031586121494859877, 'fear': 11.364089833010455, 'happy': 0.12572913794468188, 'sad': 24.220450315421783, 'surprise': 0.014978473733882757, 'neutral': 24.45014572737864}, 'dominant_emotion': 'angry', 'region': {'x': 153, 'y': 422, 'w': 347, 'h': 347, 'left_eye': (378, 552), 'right_eye': (248, 581)}, 'face_confidence': 0.89}]\n",
            "Analysis for frame_0946.jpg: [{'emotion': {'angry': 40.688252449035645, 'disgust': 0.006566396041307598, 'fear': 19.087377190589905, 'happy': 1.0717552155256271, 'sad': 15.761595964431763, 'surprise': 0.12403837172314525, 'neutral': 23.260413110256195}, 'dominant_emotion': 'angry', 'region': {'x': 186, 'y': 412, 'w': 334, 'h': 334, 'left_eye': (408, 547), 'right_eye': (278, 558)}, 'face_confidence': 0.9}]\n",
            "Analysis for frame_1481.jpg: [{'emotion': {'angry': 3.562470737842961, 'disgust': 0.0003660750498885086, 'fear': 44.44367852471343, 'happy': 1.2973527265997367, 'sad': 37.59351894816869, 'surprise': 0.0035658440844519262, 'neutral': 13.099043852033844}, 'dominant_emotion': 'fear', 'region': {'x': 174, 'y': 418, 'w': 340, 'h': 340, 'left_eye': (399, 554), 'right_eye': (268, 567)}, 'face_confidence': 0.91}]\n",
            "Analysis for frame_1227.jpg: [{'emotion': {'angry': 7.941566609330965, 'disgust': 0.002430944840515442, 'fear': 14.700767660232504, 'happy': 0.1530089714426066, 'sad': 58.45576625535086, 'surprise': 0.006367778437049724, 'neutral': 18.740095942031854}, 'dominant_emotion': 'sad', 'region': {'x': 178, 'y': 414, 'w': 342, 'h': 342, 'left_eye': (406, 554), 'right_eye': (272, 565)}, 'face_confidence': 0.91}]\n",
            "Analysis for frame_1747.jpg: [{'emotion': {'angry': 32.49750733375549, 'disgust': 8.770217050368956e-05, 'fear': 0.6214723456650972, 'happy': 1.7206264659762383, 'sad': 11.489808559417725, 'surprise': 0.00935148709686473, 'neutral': 53.66114377975464}, 'dominant_emotion': 'neutral', 'region': {'x': 194, 'y': 441, 'w': 323, 'h': 323, 'left_eye': (411, 566), 'right_eye': (284, 574)}, 'face_confidence': 0.89}]\n",
            "Analysis for frame_1360.jpg: [{'emotion': {'angry': 12.53940463066101, 'disgust': 0.0007949006430862937, 'fear': 6.5791502594947815, 'happy': 0.03433890815358609, 'sad': 15.12649953365326, 'surprise': 0.016169637092389166, 'neutral': 65.70364236831665}, 'dominant_emotion': 'neutral', 'region': {'x': 175, 'y': 425, 'w': 342, 'h': 342, 'left_eye': (403, 558), 'right_eye': (271, 569)}, 'face_confidence': 0.89}]\n",
            "Analysis for frame_2366.jpg: [{'emotion': {'angry': 2.9781851917505264, 'disgust': 4.36253557722921e-06, 'fear': 0.36276807077229023, 'happy': 0.14327579410746694, 'sad': 22.83555120229721, 'surprise': 0.0005993032118567498, 'neutral': 73.67962002754211}, 'dominant_emotion': 'neutral', 'region': {'x': 184, 'y': 434, 'w': 332, 'h': 332, 'left_eye': (409, 570), 'right_eye': (276, 577)}, 'face_confidence': 0.89}]\n",
            "Analysis for frame_1013.jpg: [{'emotion': {'angry': 19.161905348300934, 'disgust': 0.0031589479476679116, 'fear': 7.07356259226799, 'happy': 0.15159891918301582, 'sad': 42.09109842777252, 'surprise': 0.024024675076361746, 'neutral': 31.494644284248352}, 'dominant_emotion': 'sad', 'region': {'x': 176, 'y': 405, 'w': 342, 'h': 342, 'left_eye': (403, 544), 'right_eye': (271, 558)}, 'face_confidence': 0.89}]\n",
            "Analysis for frame_0716.jpg: [{'emotion': {'angry': 9.010150075563793, 'disgust': 0.004924593233898251, 'fear': 14.398051166418265, 'happy': 0.6064249564066503, 'sad': 28.229244245841755, 'surprise': 0.004014187527967618, 'neutral': 47.74719165248821}, 'dominant_emotion': 'neutral', 'region': {'x': 174, 'y': 419, 'w': 346, 'h': 346, 'left_eye': (392, 549), 'right_eye': (276, 564)}, 'face_confidence': 0.92}]\n",
            "Analysis for frame_0756.jpg: [{'emotion': {'angry': 32.3125422000885, 'disgust': 0.00016367724811061635, 'fear': 4.617973417043686, 'happy': 0.9843256324529648, 'sad': 17.68033057451248, 'surprise': 0.002194162516389042, 'neutral': 44.40246522426605}, 'dominant_emotion': 'neutral', 'region': {'x': 173, 'y': 411, 'w': 355, 'h': 355, 'left_eye': None, 'right_eye': None}, 'face_confidence': 0.91}]\n",
            "Analysis for frame_0608.jpg: [{'emotion': {'angry': 4.03281402196717, 'disgust': 8.262394014338035e-05, 'fear': 4.916190887547626, 'happy': 0.0235822416553023, 'sad': 37.49338835556646, 'surprise': 0.0013734983622023926, 'neutral': 53.532564218930695}, 'dominant_emotion': 'neutral', 'region': {'x': 170, 'y': 425, 'w': 354, 'h': 354, 'left_eye': (403, 565), 'right_eye': (270, 579)}, 'face_confidence': 0.9}]\n",
            "Analysis for frame_2023.jpg: [{'emotion': {'angry': 24.58549439907074, 'disgust': 0.004108676148462109, 'fear': 21.674714982509613, 'happy': 0.3257463686168194, 'sad': 29.68243956565857, 'surprise': 0.09891730733215809, 'neutral': 23.628582060337067}, 'dominant_emotion': 'sad', 'region': {'x': 184, 'y': 424, 'w': 330, 'h': 330, 'left_eye': (407, 558), 'right_eye': (270, 570)}, 'face_confidence': 0.89}]\n",
            "Analysis for frame_0056.jpg: [{'emotion': {'angry': 48.902889955388304, 'disgust': 0.00102383986286144, 'fear': 9.018195750498265, 'happy': 0.7051386779712054, 'sad': 13.295891975866791, 'surprise': 0.08729350396764325, 'neutral': 27.989566682525478}, 'dominant_emotion': 'angry', 'region': {'x': 188, 'y': 410, 'w': 342, 'h': 342, 'left_eye': (421, 549), 'right_eye': (288, 551)}, 'face_confidence': 0.88}]\n",
            "Analysis for frame_1874.jpg: [{'emotion': {'angry': 5.501993373036385, 'disgust': 0.002433761255815625, 'fear': 20.535673201084137, 'happy': 0.4356512799859047, 'sad': 45.89480757713318, 'surprise': 0.029843291849829257, 'neutral': 27.599593997001648}, 'dominant_emotion': 'sad', 'region': {'x': 165, 'y': 425, 'w': 327, 'h': 327, 'left_eye': (391, 562), 'right_eye': (256, 567)}, 'face_confidence': 0.92}]\n",
            "Analysis for frame_0878.jpg: [{'emotion': {'angry': 0.8085031062364578, 'disgust': 0.00038007092371117324, 'fear': 1.5054170042276382, 'happy': 0.1642156159505248, 'sad': 28.813573718070984, 'surprise': 0.00042019933061965276, 'neutral': 68.70749592781067}, 'dominant_emotion': 'neutral', 'region': {'x': 184, 'y': 424, 'w': 348, 'h': 348, 'left_eye': None, 'right_eye': None}, 'face_confidence': 0.93}]\n",
            "Analysis for frame_2116.jpg: [{'emotion': {'angry': 18.040169775485992, 'disgust': 0.04696316318586469, 'fear': 25.894615054130554, 'happy': 0.5402375943958759, 'sad': 21.811747550964355, 'surprise': 0.061069062212482095, 'neutral': 33.605194091796875}, 'dominant_emotion': 'neutral', 'region': {'x': 183, 'y': 419, 'w': 338, 'h': 338, 'left_eye': (408, 557), 'right_eye': (276, 567)}, 'face_confidence': 0.89}]\n",
            "Analysis for frame_0336.jpg: [{'emotion': {'angry': 1.3129175640642643, 'disgust': 0.00016685405626049032, 'fear': 13.979031145572662, 'happy': 0.06903422181494534, 'sad': 43.13766956329346, 'surprise': 0.0020025476260343567, 'neutral': 41.49918556213379}, 'dominant_emotion': 'sad', 'region': {'x': 190, 'y': 408, 'w': 343, 'h': 343, 'left_eye': (420, 548), 'right_eye': (284, 555)}, 'face_confidence': 0.87}]\n",
            "Analysis for frame_2274.jpg: [{'emotion': {'angry': 5.243317722875936, 'disgust': 0.0006719290868527829, 'fear': 6.10311961788652, 'happy': 0.02167508193497103, 'sad': 46.39792122828491, 'surprise': 0.004709326375296235, 'neutral': 42.22858799866366}, 'dominant_emotion': 'sad', 'region': {'x': 191, 'y': 421, 'w': 338, 'h': 338, 'left_eye': (417, 561), 'right_eye': (284, 569)}, 'face_confidence': 0.91}]\n",
            "Analysis for frame_1676.jpg: [{'emotion': {'angry': 7.151656597852707, 'disgust': 0.0030916999094188213, 'fear': 28.981563448905945, 'happy': 0.5494967103004456, 'sad': 39.71071541309357, 'surprise': 0.01896667672554031, 'neutral': 23.584510385990143}, 'dominant_emotion': 'sad', 'region': {'x': 172, 'y': 417, 'w': 344, 'h': 344, 'left_eye': (402, 558), 'right_eye': (269, 569)}, 'face_confidence': 0.89}]\n",
            "Analysis for frame_0832.jpg: [{'emotion': {'angry': 26.191118359565735, 'disgust': 0.003299837771919556, 'fear': 20.99156081676483, 'happy': 0.10236455127596855, 'sad': 26.063266396522522, 'surprise': 0.07329571526497602, 'neutral': 26.57509446144104}, 'dominant_emotion': 'neutral', 'region': {'x': 160, 'y': 416, 'w': 348, 'h': 348, 'left_eye': (383, 546), 'right_eye': (255, 575)}, 'face_confidence': 0.9}]\n",
            "Analysis for frame_0500.jpg: [{'emotion': {'angry': 48.44052791595459, 'disgust': 1.391351958091036e-05, 'fear': 1.1126640252768993, 'happy': 0.023371254792436957, 'sad': 8.063863217830658, 'surprise': 0.0011909607565030456, 'neutral': 42.35837161540985}, 'dominant_emotion': 'angry', 'region': {'x': 172, 'y': 433, 'w': 351, 'h': 351, 'left_eye': (404, 566), 'right_eye': (275, 585)}, 'face_confidence': 0.9}]\n",
            "Analysis for frame_0458.jpg: [{'emotion': {'angry': 0.39708954205041624, 'disgust': 9.592017147302957e-08, 'fear': 0.13402372863605874, 'happy': 0.008426270228985148, 'sad': 5.136759339361269, 'surprise': 2.5099577199931186e-07, 'neutral': 94.32369538263137}, 'dominant_emotion': 'neutral', 'region': {'x': 183, 'y': 444, 'w': 338, 'h': 338, 'left_eye': None, 'right_eye': None}, 'face_confidence': 0.9}]\n",
            "Analysis for frame_2105.jpg: [{'emotion': {'angry': 12.799858319750925, 'disgust': 0.005627829494938336, 'fear': 14.350188633810797, 'happy': 0.022042491622939208, 'sad': 42.93632763244674, 'surprise': 0.013859697454162535, 'neutral': 29.872097365385137}, 'dominant_emotion': 'sad', 'region': {'x': 181, 'y': 419, 'w': 334, 'h': 334, 'left_eye': (404, 555), 'right_eye': (272, 567)}, 'face_confidence': 0.91}]\n",
            "Analysis for frame_0450.jpg: [{'emotion': {'angry': 12.457837164402008, 'disgust': 0.00014028670420884737, 'fear': 5.633759126067162, 'happy': 0.5948543082922697, 'sad': 22.606422007083893, 'surprise': 0.0017565020243637264, 'neutral': 58.70522856712341}, 'dominant_emotion': 'neutral', 'region': {'x': 175, 'y': 424, 'w': 341, 'h': 341, 'left_eye': None, 'right_eye': None}, 'face_confidence': 0.91}]\n",
            "Analysis for frame_2185.jpg: [{'emotion': {'angry': 12.151596695184708, 'disgust': 0.000454104520031251, 'fear': 0.3474646946415305, 'happy': 0.04183004202786833, 'sad': 46.82217240333557, 'surprise': 7.489813356187369e-05, 'neutral': 40.63639938831329}, 'dominant_emotion': 'sad', 'region': {'x': 185, 'y': 416, 'w': 348, 'h': 348, 'left_eye': (419, 568), 'right_eye': (281, 576)}, 'face_confidence': 0.91}]\n",
            "Analysis for frame_0216.jpg: [{'emotion': {'angry': 30.82086741924286, 'disgust': 0.0004920110313832993, 'fear': 17.614111304283142, 'happy': 0.2965352265164256, 'sad': 23.081718385219574, 'surprise': 0.03142821369692683, 'neutral': 28.154847025871277}, 'dominant_emotion': 'angry', 'region': {'x': 180, 'y': 418, 'w': 348, 'h': 348, 'left_eye': (412, 554), 'right_eye': (279, 564)}, 'face_confidence': 0.88}]\n",
            "Analysis for frame_1680.jpg: [{'emotion': {'angry': 2.4519475176930428, 'disgust': 0.001208685807796428, 'fear': 32.93059766292572, 'happy': 0.11787982657551765, 'sad': 47.49323129653931, 'surprise': 0.0067206332460045815, 'neutral': 16.99841171503067}, 'dominant_emotion': 'sad', 'region': {'x': 175, 'y': 421, 'w': 336, 'h': 336, 'left_eye': (399, 557), 'right_eye': (268, 567)}, 'face_confidence': 0.89}]\n",
            "Analysis for frame_2147.jpg: [{'emotion': {'angry': 4.692249372601509, 'disgust': 8.492600400700212e-07, 'fear': 0.2984605962410569, 'happy': 0.006925711204530671, 'sad': 27.926313877105713, 'surprise': 4.551448853362672e-05, 'neutral': 67.07600355148315}, 'dominant_emotion': 'neutral', 'region': {'x': 167, 'y': 432, 'w': 335, 'h': 335, 'left_eye': (388, 562), 'right_eye': (260, 580)}, 'face_confidence': 0.89}]\n",
            "Analysis for frame_1592.jpg: [{'emotion': {'angry': 5.522219838075737e-11, 'disgust': 6.351382704833177e-26, 'fear': 21.613259411648478, 'happy': 5.359045818455567e-09, 'sad': 40.69245700195175, 'surprise': 8.169808372719132e-09, 'neutral': 37.69428358639977}, 'dominant_emotion': 'sad', 'region': {'x': 174, 'y': 423, 'w': 344, 'h': 344, 'left_eye': (402, 563), 'right_eye': (393, 549)}, 'face_confidence': 0.91}]\n",
            "Analysis for frame_1494.jpg: [{'emotion': {'angry': 21.473519504070282, 'disgust': 0.00010509239700695616, 'fear': 7.089436799287796, 'happy': 0.016324632451869547, 'sad': 22.593218088150024, 'surprise': 0.0038906266127014533, 'neutral': 48.823508620262146}, 'dominant_emotion': 'neutral', 'region': {'x': 158, 'y': 419, 'w': 344, 'h': 344, 'left_eye': (384, 555), 'right_eye': (251, 575)}, 'face_confidence': 0.89}]\n",
            "Analysis for frame_1119.jpg: [{'emotion': {'angry': 22.812776267528534, 'disgust': 0.23378343321383, 'fear': 21.48396074771881, 'happy': 3.7627261132001877, 'sad': 32.762932777404785, 'surprise': 1.0242342948913574, 'neutral': 17.91958659887314}, 'dominant_emotion': 'sad', 'region': {'x': 178, 'y': 396, 'w': 335, 'h': 335, 'left_eye': (402, 539), 'right_eye': (270, 550)}, 'face_confidence': 0.92}]\n",
            "Analysis for frame_2133.jpg: [{'emotion': {'angry': 39.94256556034088, 'disgust': 0.006103764462750405, 'fear': 18.866458535194397, 'happy': 0.0367264321539551, 'sad': 23.844116926193237, 'surprise': 0.008045705908443779, 'neutral': 17.29598343372345}, 'dominant_emotion': 'angry', 'region': {'x': 163, 'y': 425, 'w': 340, 'h': 340, 'left_eye': (385, 556), 'right_eye': (256, 581)}, 'face_confidence': 0.89}]\n",
            "Analysis for frame_0672.jpg: [{'emotion': {'angry': 2.6325924322009087, 'disgust': 0.01303890603594482, 'fear': 40.07649123668671, 'happy': 1.4983132481575012, 'sad': 52.26205587387085, 'surprise': 0.12083877809345722, 'neutral': 3.3966708928346634}, 'dominant_emotion': 'sad', 'region': {'x': 199, 'y': 389, 'w': 329, 'h': 329, 'left_eye': None, 'right_eye': None}, 'face_confidence': 0.91}]\n",
            "Analysis for frame_1386.jpg: [{'emotion': {'angry': 4.576211795210838, 'disgust': 1.787583272516713e-05, 'fear': 1.6756132245063782, 'happy': 0.007301416917471215, 'sad': 26.74030065536499, 'surprise': 0.0011553080184967257, 'neutral': 66.99939966201782}, 'dominant_emotion': 'neutral', 'region': {'x': 173, 'y': 426, 'w': 350, 'h': 350, 'left_eye': (402, 566), 'right_eye': (277, 575)}, 'face_confidence': 0.92}]\n",
            "Analysis for frame_1875.jpg: [{'emotion': {'angry': 9.694623202085495, 'disgust': 0.008486083970637992, 'fear': 3.892778605222702, 'happy': 0.20145897287875414, 'sad': 56.99363946914673, 'surprise': 0.02023730630753562, 'neutral': 29.188773036003113}, 'dominant_emotion': 'sad', 'region': {'x': 163, 'y': 423, 'w': 329, 'h': 329, 'left_eye': (390, 563), 'right_eye': (260, 565)}, 'face_confidence': 0.93}]\n",
            "Analysis for frame_0899.jpg: [{'emotion': {'angry': 32.390092922438036, 'disgust': 0.001466357851133165, 'fear': 12.59175239899726, 'happy': 0.06604792810591423, 'sad': 33.259784190680485, 'surprise': 0.0051145934136184335, 'neutral': 21.68573776653555}, 'dominant_emotion': 'sad', 'region': {'x': 160, 'y': 417, 'w': 347, 'h': 347, 'left_eye': (385, 553), 'right_eye': (256, 575)}, 'face_confidence': 0.89}]\n",
            "Analysis for frame_0593.jpg: [{'emotion': {'angry': 72.95958673472246, 'disgust': 6.343823645463683e-06, 'fear': 15.785757098884236, 'happy': 0.07131622091725122, 'sad': 5.92403072703251, 'surprise': 0.0026130133323866937, 'neutral': 5.256695554458565}, 'dominant_emotion': 'angry', 'region': {'x': 186, 'y': 422, 'w': 351, 'h': 351, 'left_eye': (418, 563), 'right_eye': (286, 569)}, 'face_confidence': 0.92}]\n",
            "Analysis for frame_1607.jpg: [{'emotion': {'angry': 0.7912593893706799, 'disgust': 1.8074688057367894e-05, 'fear': 12.704889476299286, 'happy': 0.03434266254771501, 'sad': 41.383299231529236, 'surprise': 0.0014988030670792796, 'neutral': 45.084694027900696}, 'dominant_emotion': 'neutral', 'region': {'x': 187, 'y': 429, 'w': 337, 'h': 337, 'left_eye': None, 'right_eye': None}, 'face_confidence': 0.92}]\n",
            "Analysis for frame_2167.jpg: [{'emotion': {'angry': 7.300022679568689, 'disgust': 0.005646908148333543, 'fear': 6.34862520388515, 'happy': 0.07300237628831723, 'sad': 56.45422675932805, 'surprise': 0.010956718249926313, 'neutral': 29.80752168938647}, 'dominant_emotion': 'sad', 'region': {'x': 196, 'y': 423, 'w': 333, 'h': 333, 'left_eye': None, 'right_eye': None}, 'face_confidence': 0.9}]\n",
            "Analysis for frame_0452.jpg: [{'emotion': {'angry': 18.157249689102173, 'disgust': 6.686622100460227e-05, 'fear': 7.563407719135284, 'happy': 0.4486857447773218, 'sad': 21.200624108314514, 'surprise': 0.001253680147783598, 'neutral': 52.62870788574219}, 'dominant_emotion': 'neutral', 'region': {'x': 177, 'y': 431, 'w': 338, 'h': 338, 'left_eye': None, 'right_eye': None}, 'face_confidence': 0.92}]\n",
            "Analysis for frame_1182.jpg: [{'emotion': {'angry': 12.032583355903625, 'disgust': 0.09840731509029865, 'fear': 25.382131338119507, 'happy': 8.611784130334854, 'sad': 31.51364028453827, 'surprise': 0.21933414973318577, 'neutral': 22.142121195793152}, 'dominant_emotion': 'sad', 'region': {'x': 179, 'y': 402, 'w': 335, 'h': 335, 'left_eye': (405, 545), 'right_eye': (268, 553)}, 'face_confidence': 0.91}]\n",
            "Analysis for frame_0542.jpg: [{'emotion': {'angry': 35.689654093364126, 'disgust': 8.928698313321705e-06, 'fear': 1.5505543902846808, 'happy': 0.0032412741460758686, 'sad': 4.727860449425009, 'surprise': 0.0012527738200349497, 'neutral': 58.02742588683521}, 'dominant_emotion': 'neutral', 'region': {'x': 162, 'y': 433, 'w': 343, 'h': 343, 'left_eye': (385, 560), 'right_eye': (256, 584)}, 'face_confidence': 0.88}]\n",
            "Analysis for frame_0633.jpg: [{'emotion': {'angry': 0.11897362546465548, 'disgust': 8.066706638030236e-10, 'fear': 0.0314414170684765, 'happy': 0.00021299703253950932, 'sad': 4.363353437981214, 'surprise': 5.881260274062946e-08, 'neutral': 95.48602077281599}, 'dominant_emotion': 'neutral', 'region': {'x': 172, 'y': 446, 'w': 347, 'h': 347, 'left_eye': None, 'right_eye': None}, 'face_confidence': 0.91}]\n",
            "Analysis for frame_2011.jpg: [{'emotion': {'angry': 17.285610735416412, 'disgust': 0.0005459252861328423, 'fear': 18.180112540721893, 'happy': 0.08849508012644947, 'sad': 18.90929937362671, 'surprise': 0.011234359408263117, 'neutral': 45.524704456329346}, 'dominant_emotion': 'neutral', 'region': {'x': 183, 'y': 430, 'w': 329, 'h': 329, 'left_eye': (399, 561), 'right_eye': (268, 575)}, 'face_confidence': 0.91}]\n",
            "Analysis for frame_1454.jpg: [{'emotion': {'angry': 18.391123414039612, 'disgust': 0.0003862720404868014, 'fear': 18.44358742237091, 'happy': 0.3922236617654562, 'sad': 57.81885385513306, 'surprise': 0.005860755845787935, 'neutral': 4.947963729500771}, 'dominant_emotion': 'sad', 'region': {'x': 185, 'y': 410, 'w': 330, 'h': 330, 'left_eye': (409, 549), 'right_eye': (274, 557)}, 'face_confidence': 0.9}]\n",
            "Analysis for frame_2033.jpg: [{'emotion': {'angry': 11.253032759012745, 'disgust': 0.0003179828998684819, 'fear': 8.331380536042484, 'happy': 0.16380757836968174, 'sad': 47.95832025756361, 'surprise': 0.006609669465589193, 'neutral': 32.28653265753583}, 'dominant_emotion': 'sad', 'region': {'x': 182, 'y': 431, 'w': 338, 'h': 338, 'left_eye': (410, 568), 'right_eye': (280, 571)}, 'face_confidence': 0.9}]\n",
            "Analysis for frame_0764.jpg: [{'emotion': {'angry': 15.960561690363985, 'disgust': 0.0019130627382532835, 'fear': 13.399433398212993, 'happy': 0.3497126953505096, 'sad': 54.398289585011575, 'surprise': 0.004783872567273532, 'neutral': 15.885306351501129}, 'dominant_emotion': 'sad', 'region': {'x': 175, 'y': 420, 'w': 347, 'h': 347, 'left_eye': (405, 558), 'right_eye': (273, 571)}, 'face_confidence': 0.9}]\n",
            "Analysis for frame_2150.jpg: [{'emotion': {'angry': 4.182890430092812, 'disgust': 9.507931331143027e-07, 'fear': 0.4231369588524103, 'happy': 0.048155125114135444, 'sad': 19.070526957511902, 'surprise': 0.0003604551238822751, 'neutral': 76.27492547035217}, 'dominant_emotion': 'neutral', 'region': {'x': 171, 'y': 434, 'w': 330, 'h': 330, 'left_eye': (389, 560), 'right_eye': (261, 579)}, 'face_confidence': 0.87}]\n",
            "Analysis for frame_1052.jpg: [{'emotion': {'angry': 21.248606294559682, 'disgust': 0.019275428233896556, 'fear': 15.07739841015358, 'happy': 0.6478621317759595, 'sad': 49.415877531066236, 'surprise': 0.06494921789178636, 'neutral': 13.526031252618878}, 'dominant_emotion': 'sad', 'region': {'x': 178, 'y': 419, 'w': 337, 'h': 337, 'left_eye': (403, 554), 'right_eye': (271, 566)}, 'face_confidence': 0.89}]\n",
            "Analysis for frame_1943.jpg: [{'emotion': {'angry': 1.3752689585089684, 'disgust': 2.3247188618569226e-07, 'fear': 0.7018725853413343, 'happy': 0.0005244566636974923, 'sad': 38.70824575424194, 'surprise': 1.7608149960324226e-05, 'neutral': 59.214067459106445}, 'dominant_emotion': 'neutral', 'region': {'x': 173, 'y': 435, 'w': 343, 'h': 343, 'left_eye': None, 'right_eye': None}, 'face_confidence': 0.89}]\n",
            "Analysis for frame_1624.jpg: [{'emotion': {'angry': 5.558365128441468, 'disgust': 0.001109846057688394, 'fear': 3.96775389823364, 'happy': 0.12534302989384888, 'sad': 29.138568537064618, 'surprise': 0.0032255899193701426, 'neutral': 61.20563879080281}, 'dominant_emotion': 'neutral', 'region': {'x': 192, 'y': 434, 'w': 335, 'h': 335, 'left_eye': (419, 570), 'right_eye': (290, 572)}, 'face_confidence': 0.89}]\n",
            "Analysis for frame_1448.jpg: [{'emotion': {'angry': 4.195321228821351, 'disgust': 0.012664074192755621, 'fear': 16.157650420525695, 'happy': 8.570125464804498, 'sad': 65.35851748934492, 'surprise': 0.01197642412524777, 'neutral': 5.693746697529954}, 'dominant_emotion': 'sad', 'region': {'x': 181, 'y': 399, 'w': 339, 'h': 339, 'left_eye': (414, 546), 'right_eye': (274, 549)}, 'face_confidence': 0.92}]\n",
            "Analysis for frame_0069.jpg: [{'emotion': {'angry': 25.539927216763928, 'disgust': 0.002237305804214041, 'fear': 3.5892645173826527, 'happy': 0.24089160414139058, 'sad': 53.56678685944002, 'surprise': 0.0016144365015895441, 'neutral': 17.059280995087683}, 'dominant_emotion': 'sad', 'region': {'x': 187, 'y': 415, 'w': 336, 'h': 336, 'left_eye': (415, 552), 'right_eye': (280, 558)}, 'face_confidence': 0.91}]\n",
            "Analysis for frame_2088.jpg: [{'emotion': {'angry': 6.332796812057495, 'disgust': 0.0001313818984272075, 'fear': 10.965421050786972, 'happy': 0.15583822969347239, 'sad': 40.65086543560028, 'surprise': 0.0028817839847761206, 'neutral': 41.89206659793854}, 'dominant_emotion': 'neutral', 'region': {'x': 173, 'y': 432, 'w': 342, 'h': 342, 'left_eye': (403, 571), 'right_eye': (270, 579)}, 'face_confidence': 0.89}]\n",
            "Analysis for frame_1917.jpg: [{'emotion': {'angry': 5.971306934952736, 'disgust': 0.00035351533824723447, 'fear': 6.861615926027298, 'happy': 0.19771356601268053, 'sad': 64.16038870811462, 'surprise': 0.0033707281545503065, 'neutral': 22.80524969100952}, 'dominant_emotion': 'sad', 'region': {'x': 169, 'y': 426, 'w': 335, 'h': 335, 'left_eye': (394, 559), 'right_eye': (262, 571)}, 'face_confidence': 0.89}]\n",
            "Analysis for frame_0244.jpg: [{'emotion': {'angry': 14.514942467212677, 'disgust': 0.04209854523651302, 'fear': 30.636796355247498, 'happy': 1.8703775480389595, 'sad': 22.50552922487259, 'surprise': 0.05779724451713264, 'neutral': 30.37245273590088}, 'dominant_emotion': 'fear', 'region': {'x': 180, 'y': 402, 'w': 345, 'h': 345, 'left_eye': (391, 527), 'right_eye': (279, 548)}, 'face_confidence': 0.9}]\n",
            "Analysis for frame_1564.jpg: [{'emotion': {'angry': 16.764508696139895, 'disgust': 0.00018950013312693176, 'fear': 21.342537861172897, 'happy': 0.032027028826493484, 'sad': 27.108353627723886, 'surprise': 0.013339836867525353, 'neutral': 34.7390484498797}, 'dominant_emotion': 'neutral', 'region': {'x': 199, 'y': 422, 'w': 337, 'h': 337, 'left_eye': (425, 557), 'right_eye': (295, 565)}, 'face_confidence': 0.9}]\n",
            "Analysis for frame_0789.jpg: [{'emotion': {'angry': 16.147197782993317, 'disgust': 0.09901889134198427, 'fear': 3.4831903874874115, 'happy': 3.981979936361313, 'sad': 21.053805947303772, 'surprise': 0.5632896907627583, 'neutral': 54.67151403427124}, 'dominant_emotion': 'neutral', 'region': {'x': 172, 'y': 395, 'w': 341, 'h': 341, 'left_eye': (400, 537), 'right_eye': (265, 554)}, 'face_confidence': 0.91}]\n",
            "Analysis for frame_0936.jpg: [{'emotion': {'angry': 24.92087632417679, 'disgust': 0.03750777104869485, 'fear': 10.687369108200073, 'happy': 2.1549832075834274, 'sad': 28.4548282623291, 'surprise': 0.27926904149353504, 'neutral': 33.46516191959381}, 'dominant_emotion': 'neutral', 'region': {'x': 168, 'y': 405, 'w': 346, 'h': 346, 'left_eye': (396, 545), 'right_eye': (263, 560)}, 'face_confidence': 0.91}]\n",
            "Analysis for frame_0064.jpg: [{'emotion': {'angry': 5.567860975861549, 'disgust': 0.00015872236645009252, 'fear': 2.578286826610565, 'happy': 0.14860979281365871, 'sad': 52.52144932746887, 'surprise': 0.0004847561285714619, 'neutral': 39.183154702186584}, 'dominant_emotion': 'sad', 'region': {'x': 186, 'y': 414, 'w': 345, 'h': 345, 'left_eye': (427, 560), 'right_eye': (280, 564)}, 'face_confidence': 0.91}]\n",
            "Analysis for frame_1341.jpg: [{'emotion': {'angry': 6.97096660733223, 'disgust': 2.9901954690103594e-05, 'fear': 3.1159276142716408, 'happy': 0.0074810770456679165, 'sad': 9.438034147024155, 'surprise': 0.004296787301427685, 'neutral': 80.46326637268066}, 'dominant_emotion': 'neutral', 'region': {'x': 187, 'y': 427, 'w': 337, 'h': 337, 'left_eye': (414, 560), 'right_eye': (282, 567)}, 'face_confidence': 0.88}]\n",
            "Analysis for frame_0614.jpg: [{'emotion': {'angry': 0.31673950143158436, 'disgust': 4.570570588668943e-08, 'fear': 0.18825302831828594, 'happy': 0.0008855087799020112, 'sad': 8.923104405403137, 'surprise': 1.2039214958292632e-06, 'neutral': 90.57101607322693}, 'dominant_emotion': 'neutral', 'region': {'x': 166, 'y': 443, 'w': 346, 'h': 346, 'left_eye': None, 'right_eye': None}, 'face_confidence': 0.89}]\n",
            "Analysis for frame_1036.jpg: [{'emotion': {'angry': 7.547225058078766, 'disgust': 0.00022840929432277335, 'fear': 13.757273554801941, 'happy': 0.013797791325487196, 'sad': 23.398111760616302, 'surprise': 0.010731956717791036, 'neutral': 55.27263283729553}, 'dominant_emotion': 'neutral', 'region': {'x': 166, 'y': 413, 'w': 333, 'h': 333, 'left_eye': (387, 547), 'right_eye': (256, 565)}, 'face_confidence': 0.91}]\n",
            "Analysis for frame_0653.jpg: [{'emotion': {'angry': 8.386971056461334, 'disgust': 0.00015163918760663364, 'fear': 9.209518134593964, 'happy': 0.03713348705787212, 'sad': 20.155934989452362, 'surprise': 0.019565323600545526, 'neutral': 62.19072341918945}, 'dominant_emotion': 'neutral', 'region': {'x': 196, 'y': 428, 'w': 346, 'h': 346, 'left_eye': (427, 566), 'right_eye': (298, 571)}, 'face_confidence': 0.91}]\n",
            "Analysis for frame_1392.jpg: [{'emotion': {'angry': 4.130044206976891, 'disgust': 0.00016867342083060066, 'fear': 8.324527740478516, 'happy': 0.07123094401322305, 'sad': 41.76702797412872, 'surprise': 0.002286315429955721, 'neutral': 45.704710483551025}, 'dominant_emotion': 'neutral', 'region': {'x': 185, 'y': 423, 'w': 340, 'h': 340, 'left_eye': (412, 562), 'right_eye': (283, 567)}, 'face_confidence': 0.91}]\n",
            "Analysis for frame_1002.jpg: [{'emotion': {'angry': 14.310632430239625, 'disgust': 0.0005240273652040607, 'fear': 12.885871483579697, 'happy': 0.22184410747508915, 'sad': 31.270997968793157, 'surprise': 0.006786816730198877, 'neutral': 41.30333765705375}, 'dominant_emotion': 'neutral', 'region': {'x': 178, 'y': 418, 'w': 339, 'h': 339, 'left_eye': (401, 553), 'right_eye': (271, 565)}, 'face_confidence': 0.89}]\n",
            "Analysis for frame_1441.jpg: [{'emotion': {'angry': 8.226445081657758, 'disgust': 0.11130348849403995, 'fear': 21.938008435009905, 'happy': 4.874707922374258, 'sad': 57.50367551998192, 'surprise': 0.2197936380900576, 'neutral': 7.126060023777482}, 'dominant_emotion': 'sad', 'region': {'x': 186, 'y': 394, 'w': 331, 'h': 331, 'left_eye': (409, 538), 'right_eye': (276, 545)}, 'face_confidence': 0.9}]\n",
            "Analysis for frame_0344.jpg: [{'emotion': {'angry': 2.242935076355934, 'disgust': 8.10777578408306e-07, 'fear': 0.14347864780575037, 'happy': 0.08410445298068225, 'sad': 6.7342013120651245, 'surprise': 9.370304496769677e-05, 'neutral': 90.7951831817627}, 'dominant_emotion': 'neutral', 'region': {'x': 205, 'y': 414, 'w': 351, 'h': 351, 'left_eye': (438, 561), 'right_eye': (305, 559)}, 'face_confidence': 0.91}]\n",
            "Analysis for frame_1475.jpg: [{'emotion': {'angry': 2.9772741720080376, 'disgust': 0.0019789520592894405, 'fear': 24.09757375717163, 'happy': 0.23731046821922064, 'sad': 47.826775908470154, 'surprise': 0.007932078005978838, 'neutral': 24.851156771183014}, 'dominant_emotion': 'sad', 'region': {'x': 180, 'y': 421, 'w': 340, 'h': 340, 'left_eye': (404, 559), 'right_eye': (273, 571)}, 'face_confidence': 0.9}]\n",
            "Analysis for frame_2338.jpg: [{'emotion': {'angry': 17.474110424518585, 'disgust': 8.423469921581273e-05, 'fear': 1.546176802366972, 'happy': 0.3275495022535324, 'sad': 30.330872535705566, 'surprise': 0.004516410263022408, 'neutral': 50.316691398620605}, 'dominant_emotion': 'neutral', 'region': {'x': 171, 'y': 425, 'w': 345, 'h': 345, 'left_eye': (399, 565), 'right_eye': (267, 573)}, 'face_confidence': 0.91}]\n",
            "Analysis for frame_1354.jpg: [{'emotion': {'angry': 4.361807442415204, 'disgust': 1.4080154060372458e-05, 'fear': 2.890398711883945, 'happy': 0.009087420581229886, 'sad': 6.544568779740857, 'surprise': 0.004212728050411302, 'neutral': 86.1899129265495}, 'dominant_emotion': 'neutral', 'region': {'x': 176, 'y': 424, 'w': 344, 'h': 344, 'left_eye': (406, 559), 'right_eye': (274, 568)}, 'face_confidence': 0.9}]\n",
            "Analysis for frame_0026.jpg: [{'emotion': {'angry': 0.028972879498511822, 'disgust': 7.702098973609061e-05, 'fear': 0.17849019395501578, 'happy': 85.90159332165678, 'sad': 0.22579353717228992, 'surprise': 0.011754866109519667, 'neutral': 13.65332237799897}, 'dominant_emotion': 'happy', 'region': {'x': 194, 'y': 416, 'w': 330, 'h': 330, 'left_eye': (423, 565), 'right_eye': (305, 538)}, 'face_confidence': 0.92}]\n",
            "Analysis for frame_1600.jpg: [{'emotion': {'angry': 8.682551234960556, 'disgust': 0.0003911837666237261, 'fear': 16.491398215293884, 'happy': 0.07347833598032594, 'sad': 41.532689332962036, 'surprise': 0.008426277054240927, 'neutral': 33.21106433868408}, 'dominant_emotion': 'sad', 'region': {'x': 175, 'y': 423, 'w': 338, 'h': 338, 'left_eye': (393, 559), 'right_eye': (261, 580)}, 'face_confidence': 0.91}]\n",
            "Analysis for frame_1197.jpg: [{'emotion': {'angry': 6.318135559558868, 'disgust': 0.019290520867798477, 'fear': 43.646711111068726, 'happy': 0.4362232517451048, 'sad': 27.58144736289978, 'surprise': 0.04741490993183106, 'neutral': 21.950779855251312}, 'dominant_emotion': 'fear', 'region': {'x': 170, 'y': 406, 'w': 343, 'h': 343, 'left_eye': (396, 546), 'right_eye': (262, 561)}, 'face_confidence': 0.89}]\n",
            "Analysis for frame_1186.jpg: [{'emotion': {'angry': 5.105820670723915, 'disgust': 0.05302312783896923, 'fear': 34.21327769756317, 'happy': 2.608256973326206, 'sad': 34.88703668117523, 'surprise': 0.10946945985779166, 'neutral': 23.02311807870865}, 'dominant_emotion': 'sad', 'region': {'x': 178, 'y': 405, 'w': 336, 'h': 336, 'left_eye': (403, 545), 'right_eye': (268, 556)}, 'face_confidence': 0.9}]\n",
            "Analysis for frame_1273.jpg: [{'emotion': {'angry': 3.5008221864700317, 'disgust': 0.013792316894978285, 'fear': 39.219024777412415, 'happy': 0.9445283561944962, 'sad': 22.02105224132538, 'surprise': 0.01663710572756827, 'neutral': 34.28415060043335}, 'dominant_emotion': 'fear', 'region': {'x': 182, 'y': 417, 'w': 345, 'h': 345, 'left_eye': (406, 551), 'right_eye': (280, 562)}, 'face_confidence': 0.92}]\n",
            "Analysis for frame_1622.jpg: [{'emotion': {'angry': 3.647708147764206, 'disgust': 0.0006798779395467136, 'fear': 21.899859607219696, 'happy': 0.148914591409266, 'sad': 24.018582701683044, 'surprise': 0.019461226474959403, 'neutral': 50.26479363441467}, 'dominant_emotion': 'neutral', 'region': {'x': 196, 'y': 432, 'w': 330, 'h': 330, 'left_eye': (420, 566), 'right_eye': (289, 569)}, 'face_confidence': 0.9}]\n",
            "Analysis for frame_0664.jpg: [{'emotion': {'angry': 27.441880106925964, 'disgust': 0.2918850863352418, 'fear': 9.812670946121216, 'happy': 0.7030027452856302, 'sad': 53.71459126472473, 'surprise': 0.599319813773036, 'neutral': 7.436652481555939}, 'dominant_emotion': 'sad', 'region': {'x': 193, 'y': 388, 'w': 346, 'h': 346, 'left_eye': (425, 538), 'right_eye': (291, 544)}, 'face_confidence': 0.91}]\n",
            "Analysis for frame_1074.jpg: [{'emotion': {'angry': 1.3174590654671192, 'disgust': 6.84388453464635e-05, 'fear': 8.139611780643463, 'happy': 0.014029689191374928, 'sad': 35.174164175987244, 'surprise': 0.0010723989362304565, 'neutral': 55.353593826293945}, 'dominant_emotion': 'neutral', 'region': {'x': 191, 'y': 429, 'w': 342, 'h': 342, 'left_eye': (420, 571), 'right_eye': (284, 571)}, 'face_confidence': 0.91}]\n",
            "Analysis for frame_1000.jpg: [{'emotion': {'angry': 51.51795148849487, 'disgust': 0.000157388319621532, 'fear': 1.3706195168197155, 'happy': 1.2363028712570667, 'sad': 14.219826459884644, 'surprise': 0.0019034809156437404, 'neutral': 31.65324032306671}, 'dominant_emotion': 'angry', 'region': {'x': 178, 'y': 420, 'w': 342, 'h': 342, 'left_eye': (401, 554), 'right_eye': (272, 568)}, 'face_confidence': 0.9}]\n",
            "Analysis for frame_0728.jpg: [{'emotion': {'angry': 16.43064171075821, 'disgust': 0.0030295275792013854, 'fear': 14.66437578201294, 'happy': 0.218755635432899, 'sad': 34.73086059093475, 'surprise': 0.03302722470834851, 'neutral': 33.91931354999542}, 'dominant_emotion': 'sad', 'region': {'x': 166, 'y': 421, 'w': 343, 'h': 343, 'left_eye': (394, 554), 'right_eye': (261, 570)}, 'face_confidence': 0.89}]\n",
            "Analysis for frame_0095.jpg: [{'emotion': {'angry': 29.768210649490356, 'disgust': 0.0015906683984212577, 'fear': 12.930342555046082, 'happy': 0.59132045134902, 'sad': 14.829027652740479, 'surprise': 0.09839365957304835, 'neutral': 41.78111255168915}, 'dominant_emotion': 'neutral', 'region': {'x': 184, 'y': 405, 'w': 347, 'h': 347, 'left_eye': (411, 543), 'right_eye': (279, 555)}, 'face_confidence': 0.89}]\n",
            "Analysis for frame_2209.jpg: [{'emotion': {'angry': 9.3667671084404, 'disgust': 5.525340043277538e-05, 'fear': 1.787734031677246, 'happy': 0.055627344409003854, 'sad': 17.15897023677826, 'surprise': 0.0022388358047464862, 'neutral': 71.62860631942749}, 'dominant_emotion': 'neutral', 'region': {'x': 181, 'y': 433, 'w': 344, 'h': 344, 'left_eye': (411, 572), 'right_eye': (282, 578)}, 'face_confidence': 0.9}]\n",
            "Analysis for frame_0145.jpg: [{'emotion': {'angry': 31.282609701156616, 'disgust': 0.0018421374988975003, 'fear': 26.719236373901367, 'happy': 0.2651149407029152, 'sad': 27.42234468460083, 'surprise': 0.02663536579348147, 'neutral': 14.282219111919403}, 'dominant_emotion': 'angry', 'region': {'x': 180, 'y': 407, 'w': 345, 'h': 345, 'left_eye': (409, 547), 'right_eye': (277, 559)}, 'face_confidence': 0.88}]\n",
            "Analysis for frame_0366.jpg: [{'emotion': {'angry': 3.3413196111511954, 'disgust': 0.002795081475759125, 'fear': 13.515149862477175, 'happy': 0.19546226832045724, 'sad': 39.36554726156874, 'surprise': 0.007916214707435799, 'neutral': 43.5718145115265}, 'dominant_emotion': 'neutral', 'region': {'x': 218, 'y': 412, 'w': 352, 'h': 352, 'left_eye': None, 'right_eye': None}, 'face_confidence': 0.91}]\n",
            "Analysis for frame_1174.jpg: [{'emotion': {'angry': 19.554118812084198, 'disgust': 0.007943532546050847, 'fear': 24.537208676338196, 'happy': 8.94448608160019, 'sad': 29.201874136924744, 'surprise': 0.5262205377221107, 'neutral': 17.2281414270401}, 'dominant_emotion': 'sad', 'region': {'x': 184, 'y': 391, 'w': 341, 'h': 341, 'left_eye': (412, 538), 'right_eye': (276, 548)}, 'face_confidence': 0.91}]\n",
            "Analysis for frame_1307.jpg: [{'emotion': {'angry': 36.68563663959503, 'disgust': 0.02354379539610818, 'fear': 10.846506804227829, 'happy': 0.2342253690585494, 'sad': 31.294703483581543, 'surprise': 0.023936516663525254, 'neutral': 20.891442894935608}, 'dominant_emotion': 'angry', 'region': {'x': 166, 'y': 404, 'w': 348, 'h': 348, 'left_eye': (393, 544), 'right_eye': (261, 563)}, 'face_confidence': 0.88}]\n",
            "Analysis for frame_0704.jpg: [{'emotion': {'angry': 41.83505080164085, 'disgust': 6.279889997238335e-05, 'fear': 6.423284134064214, 'happy': 0.08440267835142354, 'sad': 18.536361281438026, 'surprise': 0.0032856187596304355, 'neutral': 33.11755455941612}, 'dominant_emotion': 'angry', 'region': {'x': 176, 'y': 422, 'w': 346, 'h': 346, 'left_eye': (403, 560), 'right_eye': (271, 574)}, 'face_confidence': 0.91}]\n",
            "Analysis for frame_0010.jpg: [{'emotion': {'angry': 2.5161225348711014, 'disgust': 0.0007687773177167401, 'fear': 37.920525670051575, 'happy': 3.0650390312075615, 'sad': 53.5484254360199, 'surprise': 0.011396697664167732, 'neutral': 2.9377225786447525}, 'dominant_emotion': 'sad', 'region': {'x': 223, 'y': 401, 'w': 304, 'h': 304, 'left_eye': (433, 542), 'right_eye': (311, 532)}, 'face_confidence': 0.92}]\n",
            "Analysis for frame_1473.jpg: [{'emotion': {'angry': 11.243267282442288, 'disgust': 0.011081784692811054, 'fear': 5.834271734015449, 'happy': 0.4079349116495199, 'sad': 61.62621746219501, 'surprise': 0.013710748406581486, 'neutral': 20.86351787230479}, 'dominant_emotion': 'sad', 'region': {'x': 186, 'y': 421, 'w': 335, 'h': 335, 'left_eye': (408, 556), 'right_eye': (274, 573)}, 'face_confidence': 0.9}]\n",
            "Analysis for frame_2255.jpg: [{'emotion': {'angry': 0.7540235761553049, 'disgust': 0.000554639291294734, 'fear': 15.450307726860046, 'happy': 0.8724276907742023, 'sad': 43.29753816127777, 'surprise': 0.000832352634461131, 'neutral': 39.62431848049164}, 'dominant_emotion': 'sad', 'region': {'x': 189, 'y': 432, 'w': 335, 'h': 335, 'left_eye': None, 'right_eye': None}, 'face_confidence': 0.91}]\n",
            "Analysis for frame_2120.jpg: [{'emotion': {'angry': 27.750495404064107, 'disgust': 0.0014670297717080086, 'fear': 14.216938819520333, 'happy': 0.02649572295272028, 'sad': 27.93104683530889, 'surprise': 0.026103720503185154, 'neutral': 30.047464972432252}, 'dominant_emotion': 'neutral', 'region': {'x': 187, 'y': 421, 'w': 333, 'h': 333, 'left_eye': (410, 557), 'right_eye': (276, 568)}, 'face_confidence': 0.92}]\n",
            "Analysis for frame_1509.jpg: [{'emotion': {'angry': 65.06613880790107, 'disgust': 0.007213595811436076, 'fear': 4.365971944688078, 'happy': 0.06530469207046581, 'sad': 20.734496160417567, 'surprise': 0.004015215257041879, 'neutral': 9.75686295371431}, 'dominant_emotion': 'angry', 'region': {'x': 153, 'y': 424, 'w': 348, 'h': 348, 'left_eye': (380, 558), 'right_eye': (250, 579)}, 'face_confidence': 0.92}]\n",
            "Analysis for frame_1347.jpg: [{'emotion': {'angry': 2.3177310824394226, 'disgust': 1.8795441647512234e-06, 'fear': 3.447163850069046, 'happy': 0.016264751320704818, 'sad': 4.446141794323921, 'surprise': 0.005085629891254939, 'neutral': 89.76761102676392}, 'dominant_emotion': 'neutral', 'region': {'x': 177, 'y': 420, 'w': 349, 'h': 349, 'left_eye': (408, 558), 'right_eye': (278, 566)}, 'face_confidence': 0.9}]\n",
            "Analysis for frame_0695.jpg: [{'emotion': {'angry': 52.014461279777365, 'disgust': 0.0002117322663944704, 'fear': 12.405908847207359, 'happy': 0.1636695912804956, 'sad': 24.72311554688904, 'surprise': 0.0019037831632579885, 'neutral': 10.690731447382655}, 'dominant_emotion': 'angry', 'region': {'x': 169, 'y': 421, 'w': 346, 'h': 346, 'left_eye': (398, 558), 'right_eye': (267, 574)}, 'face_confidence': 0.89}]\n",
            "Analysis for frame_0380.jpg: [{'emotion': {'angry': 6.490906714851064, 'disgust': 0.024242713687972796, 'fear': 10.69295768099771, 'happy': 0.4451070246164217, 'sad': 80.09471178619336, 'surprise': 0.049600945249628735, 'neutral': 2.202471104411549}, 'dominant_emotion': 'sad', 'region': {'x': 229, 'y': 403, 'w': 344, 'h': 344, 'left_eye': (463, 552), 'right_eye': (332, 544)}, 'face_confidence': 0.93}]\n",
            "Analysis for frame_0972.jpg: [{'emotion': {'angry': 8.900707215070724, 'disgust': 0.02031594776781276, 'fear': 13.3255735039711, 'happy': 2.079189196228981, 'sad': 23.57552945613861, 'surprise': 0.14210883527994156, 'neutral': 51.956576108932495}, 'dominant_emotion': 'neutral', 'region': {'x': 182, 'y': 413, 'w': 333, 'h': 333, 'left_eye': None, 'right_eye': None}, 'face_confidence': 0.9}]\n",
            "Analysis for frame_0076.jpg: [{'emotion': {'angry': 1.6761859878897667, 'disgust': 6.168448862808873e-05, 'fear': 1.0069851763546467, 'happy': 1.1045272462069988, 'sad': 42.191317677497864, 'surprise': 0.0005439332198875491, 'neutral': 54.02037501335144}, 'dominant_emotion': 'neutral', 'region': {'x': 182, 'y': 417, 'w': 334, 'h': 334, 'left_eye': (409, 554), 'right_eye': (274, 561)}, 'face_confidence': 0.9}]\n",
            "Analysis for frame_1904.jpg: [{'emotion': {'angry': 10.07091999053955, 'disgust': 0.0001413863856214448, 'fear': 17.47669279575348, 'happy': 0.12837700778618455, 'sad': 51.41306519508362, 'surprise': 0.004115312549402006, 'neutral': 20.906689763069153}, 'dominant_emotion': 'sad', 'region': {'x': 162, 'y': 431, 'w': 329, 'h': 329, 'left_eye': None, 'right_eye': None}, 'face_confidence': 0.9}]\n",
            "Analysis for frame_2064.jpg: [{'emotion': {'angry': 4.360982663093964, 'disgust': 9.499355824163816e-06, 'fear': 0.8077464547900233, 'happy': 0.01967846009360761, 'sad': 5.220381109141178, 'surprise': 0.013676875911485458, 'neutral': 89.5775252328828}, 'dominant_emotion': 'neutral', 'region': {'x': 173, 'y': 434, 'w': 343, 'h': 343, 'left_eye': (401, 569), 'right_eye': (276, 573)}, 'face_confidence': 0.89}]\n",
            "Analysis for frame_2178.jpg: [{'emotion': {'angry': 0.40503162890672684, 'disgust': 0.0020151792341494, 'fear': 2.0454520359635353, 'happy': 35.55628955364227, 'sad': 6.358450651168823, 'surprise': 0.0119296571938321, 'neutral': 55.62083721160889}, 'dominant_emotion': 'neutral', 'region': {'x': 195, 'y': 420, 'w': 341, 'h': 341, 'left_eye': None, 'right_eye': None}, 'face_confidence': 0.89}]\n",
            "Analysis for frame_1099.jpg: [{'emotion': {'angry': 5.378827773262726, 'disgust': 0.0018803174709578214, 'fear': 8.371662847498825, 'happy': 0.1655529468277363, 'sad': 69.91106688446204, 'surprise': 0.0030067913003704915, 'neutral': 16.168006728172703}, 'dominant_emotion': 'sad', 'region': {'x': 184, 'y': 423, 'w': 336, 'h': 336, 'left_eye': (409, 558), 'right_eye': (276, 570)}, 'face_confidence': 0.9}]\n",
            "Analysis for frame_1375.jpg: [{'emotion': {'angry': 16.38854742050171, 'disgust': 0.017151130305137485, 'fear': 29.31232750415802, 'happy': 1.0450545698404312, 'sad': 28.81404757499695, 'surprise': 0.0708452076651156, 'neutral': 24.35203194618225}, 'dominant_emotion': 'fear', 'region': {'x': 176, 'y': 418, 'w': 349, 'h': 349, 'left_eye': (397, 552), 'right_eye': (274, 569)}, 'face_confidence': 0.89}]\n",
            "Analysis for frame_0771.jpg: [{'emotion': {'angry': 7.827718555927277, 'disgust': 4.486784987989267e-06, 'fear': 2.7172451838850975, 'happy': 0.04359433951321989, 'sad': 15.049366652965546, 'surprise': 0.0007530823950219201, 'neutral': 74.36131834983826}, 'dominant_emotion': 'neutral', 'region': {'x': 174, 'y': 428, 'w': 353, 'h': 353, 'left_eye': (408, 570), 'right_eye': (275, 577)}, 'face_confidence': 0.92}]\n",
            "Analysis for frame_2160.jpg: [{'emotion': {'angry': 8.52517661752422, 'disgust': 0.00011798969395853889, 'fear': 19.33492801605797, 'happy': 0.04922897792543208, 'sad': 43.25689593039703, 'surprise': 0.004356639848113898, 'neutral': 28.829300860083205}, 'dominant_emotion': 'sad', 'region': {'x': 175, 'y': 424, 'w': 345, 'h': 345, 'left_eye': (399, 563), 'right_eye': (269, 576)}, 'face_confidence': 0.91}]\n",
            "Collected face emotions: [[{'emotion': {'angry': 1.9642970977071408, 'disgust': 0.020763015053080463, 'fear': 57.59628324552974, 'happy': 1.6344699922835837, 'sad': 22.52273589101602, 'surprise': 0.135743334074368, 'neutral': 16.125702425753783}, 'dominant_emotion': 'fear', 'region': {'x': 182, 'y': 407, 'w': 331, 'h': 331, 'left_eye': (403, 544), 'right_eye': (269, 556)}, 'face_confidence': 0.89}], [{'emotion': {'angry': 1.9976748153567314, 'disgust': 3.3184147696374566e-05, 'fear': 0.5569330416619778, 'happy': 0.0135901864268817, 'sad': 67.98020601272583, 'surprise': 2.8370618565531913e-05, 'neutral': 29.451534152030945}, 'dominant_emotion': 'sad', 'region': {'x': 174, 'y': 424, 'w': 342, 'h': 342, 'left_eye': None, 'right_eye': None}, 'face_confidence': 0.9}], [{'emotion': {'angry': 0.7071939762681723, 'disgust': 1.8993047135040797e-06, 'fear': 1.4926242642104626, 'happy': 0.0004588804131344659, 'sad': 39.791908860206604, 'surprise': 2.0517735777048074e-05, 'neutral': 58.00779461860657}, 'dominant_emotion': 'neutral', 'region': {'x': 190, 'y': 440, 'w': 335, 'h': 335, 'left_eye': None, 'right_eye': None}, 'face_confidence': 0.9}], [{'emotion': {'angry': 0.45609641820192337, 'disgust': 4.017213086626725e-05, 'fear': 0.22084005177021027, 'happy': 0.13454511063173413, 'sad': 8.403324335813522, 'surprise': 0.000536763627678738, 'neutral': 90.7846212387085}, 'dominant_emotion': 'neutral', 'region': {'x': 184, 'y': 415, 'w': 352, 'h': 352, 'left_eye': None, 'right_eye': None}, 'face_confidence': 0.9}], [{'emotion': {'angry': 7.027009129524231, 'disgust': 0.0760148570407182, 'fear': 18.674257397651672, 'happy': 10.58296263217926, 'sad': 31.971466541290283, 'surprise': 0.28838864527642727, 'neutral': 31.379905343055725}, 'dominant_emotion': 'sad', 'region': {'x': 179, 'y': 405, 'w': 332, 'h': 332, 'left_eye': (401, 543), 'right_eye': (268, 556)}, 'face_confidence': 0.9}], [{'emotion': {'angry': 20.01878470182419, 'disgust': 0.006493399268947542, 'fear': 4.177766293287277, 'happy': 5.281344801187515, 'sad': 40.52189290523529, 'surprise': 0.011782846559071913, 'neutral': 29.981938004493713}, 'dominant_emotion': 'sad', 'region': {'x': 191, 'y': 415, 'w': 333, 'h': 333, 'left_eye': (419, 560), 'right_eye': (291, 555)}, 'face_confidence': 0.91}], [{'emotion': {'angry': 44.318906149994596, 'disgust': 3.443444869536319e-05, 'fear': 5.000505372821644, 'happy': 0.13185360759751708, 'sad': 13.689333058675164, 'surprise': 0.0011833435063606885, 'neutral': 36.85817577145389}, 'dominant_emotion': 'angry', 'region': {'x': 155, 'y': 429, 'w': 337, 'h': 337, 'left_eye': None, 'right_eye': None}, 'face_confidence': 0.92}], [{'emotion': {'angry': 13.58848661184311, 'disgust': 1.6274810832328512e-05, 'fear': 10.731348395347595, 'happy': 0.057312072021886706, 'sad': 31.502515077590942, 'surprise': 0.0015912504750303924, 'neutral': 44.11873817443848}, 'dominant_emotion': 'neutral', 'region': {'x': 184, 'y': 430, 'w': 333, 'h': 333, 'left_eye': (406, 566), 'right_eye': (273, 575)}, 'face_confidence': 0.9}], [{'emotion': {'angry': 43.58987808227539, 'disgust': 0.001440652795281494, 'fear': 8.804424852132797, 'happy': 0.061400653794407845, 'sad': 15.096819400787354, 'surprise': 0.017749052494764328, 'neutral': 32.42828845977783}, 'dominant_emotion': 'angry', 'region': {'x': 180, 'y': 431, 'w': 340, 'h': 340, 'left_eye': (405, 562), 'right_eye': (274, 577)}, 'face_confidence': 0.89}], [{'emotion': {'angry': 1.8649704003316403, 'disgust': 0.006092103648599827, 'fear': 35.244806721496985, 'happy': 43.56883427911009, 'sad': 12.330183376680814, 'surprise': 0.5051519091517871, 'neutral': 6.479967771766649}, 'dominant_emotion': 'happy', 'region': {'x': 186, 'y': 396, 'w': 332, 'h': 332, 'left_eye': None, 'right_eye': None}, 'face_confidence': 0.9}], [{'emotion': {'angry': 3.0682306736707687, 'disgust': 0.0010028099495684728, 'fear': 30.01648187637329, 'happy': 0.053298164857551455, 'sad': 17.074505984783173, 'surprise': 0.0037073321436764672, 'neutral': 49.78277087211609}, 'dominant_emotion': 'neutral', 'region': {'x': 182, 'y': 429, 'w': 323, 'h': 323, 'left_eye': (400, 562), 'right_eye': (269, 573)}, 'face_confidence': 0.89}], [{'emotion': {'angry': 15.951767563819885, 'disgust': 0.009090480307349935, 'fear': 33.08974206447601, 'happy': 0.49295928329229355, 'sad': 23.44389259815216, 'surprise': 0.0644677085801959, 'neutral': 26.948082447052002}, 'dominant_emotion': 'fear', 'region': {'x': 167, 'y': 416, 'w': 338, 'h': 338, 'left_eye': (392, 548), 'right_eye': (262, 562)}, 'face_confidence': 0.9}], [{'emotion': {'angry': 15.42145162820816, 'disgust': 1.5554003596207622e-05, 'fear': 0.8229457773268223, 'happy': 0.02585630863904953, 'sad': 12.685875594615936, 'surprise': 0.00013822050277667586, 'neutral': 71.04371786117554}, 'dominant_emotion': 'neutral', 'region': {'x': 170, 'y': 427, 'w': 353, 'h': 353, 'left_eye': (404, 568), 'right_eye': (271, 577)}, 'face_confidence': 0.9}], [{'emotion': {'angry': 0.24639368057250977, 'disgust': 3.0302034215168305e-07, 'fear': 0.012754446652252227, 'happy': 0.0096081719675567, 'sad': 2.569207176566124, 'surprise': 2.441031909938829e-06, 'neutral': 97.16203808784485}, 'dominant_emotion': 'neutral', 'region': {'x': 180, 'y': 424, 'w': 355, 'h': 355, 'left_eye': (411, 569), 'right_eye': (279, 577)}, 'face_confidence': 0.89}], [{'emotion': {'angry': 0.5293441636078553, 'disgust': 0.012350165360440655, 'fear': 7.826649585562895, 'happy': 63.59564824052432, 'sad': 4.559019378902838, 'surprise': 0.13515536421899368, 'neutral': 23.341835837583044}, 'dominant_emotion': 'happy', 'region': {'x': 195, 'y': 414, 'w': 332, 'h': 332, 'left_eye': None, 'right_eye': None}, 'face_confidence': 0.91}], [{'emotion': {'angry': 38.492118626363194, 'disgust': 1.2901359328228395e-05, 'fear': 1.03798309939999, 'happy': 0.0476425367399327, 'sad': 23.889188402246738, 'surprise': 0.00020957169338952598, 'neutral': 36.53284529047282}, 'dominant_emotion': 'angry', 'region': {'x': 170, 'y': 432, 'w': 338, 'h': 338, 'left_eye': (393, 565), 'right_eye': (264, 581)}, 'face_confidence': 0.89}], [{'emotion': {'angry': 57.97688364982605, 'disgust': 0.06138755124993622, 'fear': 13.317251205444336, 'happy': 0.03175118763465434, 'sad': 27.15020775794983, 'surprise': 0.16611050814390182, 'neutral': 1.296408288180828}, 'dominant_emotion': 'angry', 'region': {'x': 223, 'y': 397, 'w': 301, 'h': 301, 'left_eye': None, 'right_eye': None}, 'face_confidence': 0.94}], [{'emotion': {'angry': 2.830136753618717, 'disgust': 0.0001785924155228713, 'fear': 8.458445221185684, 'happy': 0.11833764147013426, 'sad': 31.11892342567444, 'surprise': 0.0029390135750873014, 'neutral': 57.47103691101074}, 'dominant_emotion': 'neutral', 'region': {'x': 182, 'y': 425, 'w': 350, 'h': 350, 'left_eye': None, 'right_eye': None}, 'face_confidence': 0.9}], [{'emotion': {'angry': 3.7893860065571072, 'disgust': 6.708978306441715e-06, 'fear': 4.335484167068253, 'happy': 0.008604937251159907, 'sad': 16.83928768868969, 'surprise': 0.0008187722902758295, 'neutral': 75.02641529002281}, 'dominant_emotion': 'neutral', 'region': {'x': 175, 'y': 428, 'w': 339, 'h': 339, 'left_eye': (396, 564), 'right_eye': (268, 577)}, 'face_confidence': 0.91}], [{'emotion': {'angry': 36.39247932389255, 'disgust': 0.00012074637689987372, 'fear': 25.03784448133972, 'happy': 0.27067336935838276, 'sad': 15.152379283450799, 'surprise': 0.06099386737086578, 'neutral': 23.085513596863365}, 'dominant_emotion': 'angry', 'region': {'x': 197, 'y': 418, 'w': 342, 'h': 342, 'left_eye': (424, 555), 'right_eye': (295, 561)}, 'face_confidence': 0.91}], [{'emotion': {'angry': 2.8503568843007088, 'disgust': 5.594694130195421e-05, 'fear': 14.664825797080994, 'happy': 0.14118540566414595, 'sad': 27.188360691070557, 'surprise': 0.007211295451270416, 'neutral': 55.14800548553467}, 'dominant_emotion': 'neutral', 'region': {'x': 184, 'y': 422, 'w': 345, 'h': 345, 'left_eye': (415, 562), 'right_eye': (286, 568)}, 'face_confidence': 0.91}], [{'emotion': {'angry': 47.970762848854065, 'disgust': 0.04722789453808218, 'fear': 30.345559120178223, 'happy': 0.909720454365015, 'sad': 17.48719811439514, 'surprise': 0.5190023221075535, 'neutral': 2.7205267921090126}, 'dominant_emotion': 'angry', 'region': {'x': 215, 'y': 395, 'w': 311, 'h': 311, 'left_eye': (435, 541), 'right_eye': (307, 529)}, 'face_confidence': 0.92}], [{'emotion': {'angry': 8.829913288354874, 'disgust': 0.0004299112333683297, 'fear': 3.652491420507431, 'happy': 1.5710292384028435, 'sad': 30.638134479522705, 'surprise': 0.026195347891189158, 'neutral': 55.281805992126465}, 'dominant_emotion': 'neutral', 'region': {'x': 147, 'y': 407, 'w': 350, 'h': 350, 'left_eye': (368, 538), 'right_eye': (244, 560)}, 'face_confidence': 0.91}], [{'emotion': {'angry': 7.017672806978226, 'disgust': 1.8039220606169692e-05, 'fear': 61.510640382766724, 'happy': 2.074425481259823, 'sad': 17.515943944454193, 'surprise': 0.013115887122694403, 'neutral': 11.868183314800262}, 'dominant_emotion': 'fear', 'region': {'x': 185, 'y': 427, 'w': 329, 'h': 329, 'left_eye': None, 'right_eye': None}, 'face_confidence': 0.9}], [{'emotion': {'angry': 7.214047759771347, 'disgust': 0.01792622497305274, 'fear': 19.509728252887726, 'happy': 0.42735650204122066, 'sad': 37.985146045684814, 'surprise': 0.08661238825879991, 'neutral': 34.75918471813202}, 'dominant_emotion': 'sad', 'region': {'x': 160, 'y': 421, 'w': 333, 'h': 333, 'left_eye': (391, 560), 'right_eye': (258, 564)}, 'face_confidence': 0.91}], [{'emotion': {'angry': 3.1398618602670347, 'disgust': 8.486256648068607e-07, 'fear': 0.17382698005524158, 'happy': 0.05157415596837735, 'sad': 9.907140428253438, 'surprise': 6.910868094483386e-05, 'neutral': 86.7275289730745}, 'dominant_emotion': 'neutral', 'region': {'x': 205, 'y': 413, 'w': 352, 'h': 352, 'left_eye': (440, 562), 'right_eye': (305, 559)}, 'face_confidence': 0.91}], [{'emotion': {'angry': 6.98368176817894, 'disgust': 0.00799589033704251, 'fear': 21.729716658592224, 'happy': 0.8048597723245621, 'sad': 43.52235794067383, 'surprise': 0.03694774059113115, 'neutral': 26.91444158554077}, 'dominant_emotion': 'sad', 'region': {'x': 162, 'y': 413, 'w': 343, 'h': 343, 'left_eye': (388, 549), 'right_eye': (254, 563)}, 'face_confidence': 0.92}], [{'emotion': {'angry': 9.007009118795395, 'disgust': 0.0009093520930036902, 'fear': 16.58257395029068, 'happy': 0.6720901001244783, 'sad': 23.615044355392456, 'surprise': 0.011457534128567204, 'neutral': 50.11091232299805}, 'dominant_emotion': 'neutral', 'region': {'x': 182, 'y': 412, 'w': 354, 'h': 354, 'left_eye': (414, 557), 'right_eye': (278, 568)}, 'face_confidence': 0.9}], [{'emotion': {'angry': 6.703439354896545, 'disgust': 0.0015072017959028017, 'fear': 4.3825168162584305, 'happy': 0.07449827971868217, 'sad': 56.07544779777527, 'surprise': 0.003158816252835095, 'neutral': 32.75943100452423}, 'dominant_emotion': 'sad', 'region': {'x': 189, 'y': 400, 'w': 349, 'h': 349, 'left_eye': (417, 545), 'right_eye': (283, 554)}, 'face_confidence': 0.91}], [{'emotion': {'angry': 4.537419602274895, 'disgust': 1.3148277844265976e-05, 'fear': 0.11269358219578862, 'happy': 0.007848122186260298, 'sad': 5.377969518303871, 'surprise': 0.00014962063232815126, 'neutral': 89.96390700340271}, 'dominant_emotion': 'neutral', 'region': {'x': 174, 'y': 415, 'w': 368, 'h': 368, 'left_eye': (414, 566), 'right_eye': (285, 570)}, 'face_confidence': 0.92}], [{'emotion': {'angry': 2.469630539417267, 'disgust': 1.4285515703704732e-05, 'fear': 1.8731135874986649, 'happy': 0.007762661698507145, 'sad': 33.054372668266296, 'surprise': 0.00011656802598736249, 'neutral': 62.59499192237854}, 'dominant_emotion': 'neutral', 'region': {'x': 188, 'y': 443, 'w': 339, 'h': 339, 'left_eye': (416, 579), 'right_eye': (288, 586)}, 'face_confidence': 0.91}], [{'emotion': {'angry': 16.750013828277588, 'disgust': 0.09120175964199007, 'fear': 8.59726071357727, 'happy': 0.35346783697605133, 'sad': 38.50208520889282, 'surprise': 0.11426255805417895, 'neutral': 35.59170961380005}, 'dominant_emotion': 'sad', 'region': {'x': 167, 'y': 400, 'w': 355, 'h': 355, 'left_eye': (401, 546), 'right_eye': (266, 556)}, 'face_confidence': 0.9}], [{'emotion': {'angry': 11.035721923622855, 'disgust': 0.0022284662080987593, 'fear': 4.297526040968175, 'happy': 0.02318394123106778, 'sad': 66.7069713226591, 'surprise': 0.005409492669939006, 'neutral': 17.92895133150204}, 'dominant_emotion': 'sad', 'region': {'x': 188, 'y': 421, 'w': 342, 'h': 342, 'left_eye': (416, 559), 'right_eye': (285, 569)}, 'face_confidence': 0.89}], [{'emotion': {'angry': 44.81927218207453, 'disgust': 0.0014416401527717806, 'fear': 7.990626783296253, 'happy': 0.19589129362806157, 'sad': 22.816685102381097, 'surprise': 0.04175077858930486, 'neutral': 24.134329064568394}, 'dominant_emotion': 'angry', 'region': {'x': 193, 'y': 404, 'w': 346, 'h': 346, 'left_eye': (419, 544), 'right_eye': (290, 553)}, 'face_confidence': 0.88}], [{'emotion': {'angry': 4.221424087882042, 'disgust': 5.891550358683162e-06, 'fear': 9.45475697517395, 'happy': 0.07570729358121753, 'sad': 11.013387888669968, 'surprise': 0.02124105958500877, 'neutral': 75.21347999572754}, 'dominant_emotion': 'neutral', 'region': {'x': 187, 'y': 415, 'w': 344, 'h': 344, 'left_eye': (417, 555), 'right_eye': (285, 559)}, 'face_confidence': 0.92}], [{'emotion': {'angry': 9.588486701250076, 'disgust': 0.0020077293811482377, 'fear': 8.296503871679306, 'happy': 0.24107866920530796, 'sad': 25.844985246658325, 'surprise': 0.02904728753492236, 'neutral': 55.99789023399353}, 'dominant_emotion': 'neutral', 'region': {'x': 152, 'y': 424, 'w': 343, 'h': 343, 'left_eye': (387, 567), 'right_eye': (249, 577)}, 'face_confidence': 0.91}], [{'emotion': {'angry': 41.08055233955383, 'disgust': 0.10456599993631244, 'fear': 2.9128307476639748, 'happy': 1.6033921390771866, 'sad': 43.02826523780823, 'surprise': 0.18453767988830805, 'neutral': 11.085855960845947}, 'dominant_emotion': 'sad', 'region': {'x': 180, 'y': 389, 'w': 341, 'h': 341, 'left_eye': (409, 539), 'right_eye': (276, 548)}, 'face_confidence': 0.92}], [{'emotion': {'angry': 29.196983575820923, 'disgust': 2.0894310281960315e-06, 'fear': 1.0433252900838852, 'happy': 0.011514970537973568, 'sad': 4.289760440587997, 'surprise': 0.0010767021194624249, 'neutral': 65.4573380947113}, 'dominant_emotion': 'neutral', 'region': {'x': 159, 'y': 427, 'w': 345, 'h': 345, 'left_eye': (378, 555), 'right_eye': (250, 580)}, 'face_confidence': 0.91}], [{'emotion': {'angry': 2.6906637992663622, 'disgust': 0.0001348160888750368, 'fear': 37.247853011148806, 'happy': 0.029217751007646203, 'sad': 41.58043663734953, 'surprise': 0.0065255749583955905, 'neutral': 18.445163256506532}, 'dominant_emotion': 'sad', 'region': {'x': 173, 'y': 421, 'w': 331, 'h': 331, 'left_eye': (392, 552), 'right_eye': (262, 566)}, 'face_confidence': 0.9}], [{'emotion': {'angry': 31.773579928109637, 'disgust': 0.00043357136458240886, 'fear': 16.48959714050259, 'happy': 0.050751504251912744, 'sad': 41.39778511497797, 'surprise': 0.005528957921971208, 'neutral': 10.282325480261502}, 'dominant_emotion': 'sad', 'region': {'x': 179, 'y': 412, 'w': 336, 'h': 336, 'left_eye': (401, 548), 'right_eye': (271, 562)}, 'face_confidence': 0.89}], [{'emotion': {'angry': 6.425106525421143, 'disgust': 4.5621877120538556e-05, 'fear': 10.00417023897171, 'happy': 0.013446934462990612, 'sad': 11.091788858175278, 'surprise': 0.009426273754797876, 'neutral': 72.45601415634155}, 'dominant_emotion': 'neutral', 'region': {'x': 185, 'y': 425, 'w': 340, 'h': 340, 'left_eye': (411, 559), 'right_eye': (279, 568)}, 'face_confidence': 0.89}], [{'emotion': {'angry': 0.1317908870987594, 'disgust': 7.843943187037586e-12, 'fear': 0.0053725336329080164, 'happy': 3.8137766722456945e-06, 'sad': 4.410034418106079, 'surprise': 7.066752998746706e-10, 'neutral': 95.45280337333679}, 'dominant_emotion': 'neutral', 'region': {'x': 162, 'y': 451, 'w': 345, 'h': 345, 'left_eye': None, 'right_eye': None}, 'face_confidence': 0.91}], [{'emotion': {'angry': 14.38974566581897, 'disgust': 0.006812983981043148, 'fear': 13.989862622039006, 'happy': 0.31150554784321216, 'sad': 60.11778591659237, 'surprise': 0.04680765292944426, 'neutral': 11.137473745647222}, 'dominant_emotion': 'sad', 'region': {'x': 193, 'y': 411, 'w': 348, 'h': 348, 'left_eye': (424, 554), 'right_eye': (292, 561)}, 'face_confidence': 0.92}], [{'emotion': {'angry': 1.0784382643364825, 'disgust': 2.8651665860107254e-06, 'fear': 0.6093121031261743, 'happy': 0.01433858064019043, 'sad': 16.272033230783535, 'surprise': 6.457507127560518e-05, 'neutral': 82.02581298505146}, 'dominant_emotion': 'neutral', 'region': {'x': 162, 'y': 438, 'w': 352, 'h': 352, 'left_eye': None, 'right_eye': None}, 'face_confidence': 0.9}], [{'emotion': {'angry': 10.055295377969742, 'disgust': 0.0002969773277072818, 'fear': 14.669591188430786, 'happy': 0.14639109140262008, 'sad': 59.844595193862915, 'surprise': 0.0017358279364998452, 'neutral': 15.282094478607178}, 'dominant_emotion': 'sad', 'region': {'x': 181, 'y': 432, 'w': 338, 'h': 338, 'left_eye': (413, 570), 'right_eye': (278, 574)}, 'face_confidence': 0.91}], [{'emotion': {'angry': 11.998136341571808, 'disgust': 0.06912972312420607, 'fear': 15.272518992424011, 'happy': 0.15463721938431263, 'sad': 36.80324852466583, 'surprise': 0.041693856474012136, 'neutral': 35.66063344478607}, 'dominant_emotion': 'sad', 'region': {'x': 178, 'y': 409, 'w': 338, 'h': 338, 'left_eye': (404, 552), 'right_eye': (269, 559)}, 'face_confidence': 0.91}], [{'emotion': {'angry': 9.34481005935729, 'disgust': 0.001187181422031355, 'fear': 6.396310412663842, 'happy': 0.009225692160375694, 'sad': 70.88603203809453, 'surprise': 0.006277375006351621, 'neutral': 13.356161913642998}, 'dominant_emotion': 'sad', 'region': {'x': 200, 'y': 420, 'w': 336, 'h': 336, 'left_eye': None, 'right_eye': None}, 'face_confidence': 0.92}], [{'emotion': {'angry': 5.9469341870467884, 'disgust': 0.00041517833271268904, 'fear': 18.04582393715667, 'happy': 0.027942823783197852, 'sad': 49.86625312164463, 'surprise': 0.0033578570220206853, 'neutral': 26.109278334293165}, 'dominant_emotion': 'sad', 'region': {'x': 184, 'y': 423, 'w': 336, 'h': 336, 'left_eye': (407, 562), 'right_eye': (274, 571)}, 'face_confidence': 0.9}], [{'emotion': {'angry': 0.9267687971018311, 'disgust': 0.0011124979626559552, 'fear': 27.150556701488103, 'happy': 0.9086255135983841, 'sad': 30.33066753514618, 'surprise': 0.01058357209986749, 'neutral': 40.67168720623102}, 'dominant_emotion': 'neutral', 'region': {'x': 162, 'y': 410, 'w': 336, 'h': 336, 'left_eye': None, 'right_eye': None}, 'face_confidence': 0.9}], [{'emotion': {'angry': 3.2505840063095093, 'disgust': 1.1869553340204675e-06, 'fear': 15.496386587619781, 'happy': 0.2649391768500209, 'sad': 10.018670558929443, 'surprise': 0.00013197773114370648, 'neutral': 70.9692895412445}, 'dominant_emotion': 'neutral', 'region': {'x': 180, 'y': 443, 'w': 340, 'h': 340, 'left_eye': None, 'right_eye': None}, 'face_confidence': 0.91}], [{'emotion': {'angry': 1.6790378838777542, 'disgust': 0.0003420664825171116, 'fear': 5.808001756668091, 'happy': 0.07010921835899353, 'sad': 20.347872376441956, 'surprise': 0.0035987864976050332, 'neutral': 72.09104299545288}, 'dominant_emotion': 'neutral', 'region': {'x': 166, 'y': 411, 'w': 335, 'h': 335, 'left_eye': (387, 546), 'right_eye': (255, 565)}, 'face_confidence': 0.91}], [{'emotion': {'angry': 0.2827743004053414, 'disgust': 4.398873350200632e-06, 'fear': 0.3726350132828959, 'happy': 0.15540251968965052, 'sad': 10.127715625030733, 'surprise': 6.135710829867044e-05, 'neutral': 89.06140858300975}, 'dominant_emotion': 'neutral', 'region': {'x': 169, 'y': 476, 'w': 333, 'h': 333, 'left_eye': None, 'right_eye': None}, 'face_confidence': 0.92}], [{'emotion': {'angry': 66.19498133659363, 'disgust': 0.0003417805601202417, 'fear': 3.7892431020736694, 'happy': 3.1851299107074738, 'sad': 12.506388127803802, 'surprise': 0.027802400290966034, 'neutral': 14.296120405197144}, 'dominant_emotion': 'angry', 'region': {'x': 188, 'y': 434, 'w': 332, 'h': 332, 'left_eye': (412, 563), 'right_eye': (284, 571)}, 'face_confidence': 0.9}], [{'emotion': {'angry': 7.144843467762677, 'disgust': 0.0001691281782623121, 'fear': 1.78849540135237, 'happy': 0.016401941934343692, 'sad': 27.212767434881176, 'surprise': 0.0010008398618001966, 'neutral': 63.836322059412126}, 'dominant_emotion': 'neutral', 'region': {'x': 170, 'y': 423, 'w': 352, 'h': 352, 'left_eye': (402, 564), 'right_eye': (274, 576)}, 'face_confidence': 0.92}], [{'emotion': {'angry': 32.267820835113525, 'disgust': 0.0009106844117923174, 'fear': 4.680894687771797, 'happy': 0.21037841215729713, 'sad': 19.971023499965668, 'surprise': 0.014806269609834999, 'neutral': 42.85417199134827}, 'dominant_emotion': 'neutral', 'region': {'x': 173, 'y': 431, 'w': 347, 'h': 347, 'left_eye': (401, 565), 'right_eye': (273, 584)}, 'face_confidence': 0.88}], [{'emotion': {'angry': 11.99074238538742, 'disgust': 0.0020120152839808725, 'fear': 8.226656913757324, 'happy': 0.017002003733068705, 'sad': 56.79912567138672, 'surprise': 0.006223586387932301, 'neutral': 22.958241403102875}, 'dominant_emotion': 'sad', 'region': {'x': 189, 'y': 423, 'w': 338, 'h': 338, 'left_eye': (414, 558), 'right_eye': (285, 569)}, 'face_confidence': 0.88}], [{'emotion': {'angry': 2.633204497396946, 'disgust': 0.0016434263670817018, 'fear': 32.752227783203125, 'happy': 0.07101877126842737, 'sad': 32.805538177490234, 'surprise': 0.015802725101821125, 'neutral': 31.72057271003723}, 'dominant_emotion': 'sad', 'region': {'x': 190, 'y': 420, 'w': 332, 'h': 332, 'left_eye': (409, 556), 'right_eye': (278, 566)}, 'face_confidence': 0.9}], [{'emotion': {'angry': 31.08716607093811, 'disgust': 0.0019252105630584992, 'fear': 0.9891695342957973, 'happy': 0.12018203269690275, 'sad': 20.774586498737335, 'surprise': 0.00188329449883895, 'neutral': 47.02508747577667}, 'dominant_emotion': 'neutral', 'region': {'x': 150, 'y': 411, 'w': 364, 'h': 364, 'left_eye': (389, 556), 'right_eye': (257, 568)}, 'face_confidence': 0.89}], [{'emotion': {'angry': 3.133672847309965, 'disgust': 0.0026328067678266518, 'fear': 29.712506566940956, 'happy': 0.08526626190721846, 'sad': 16.243348569470815, 'surprise': 0.02507861055427962, 'neutral': 50.79749217063282}, 'dominant_emotion': 'neutral', 'region': {'x': 172, 'y': 416, 'w': 329, 'h': 329, 'left_eye': (393, 547), 'right_eye': (265, 560)}, 'face_confidence': 0.89}], [{'emotion': {'angry': 14.000052213668823, 'disgust': 0.00035037942325288896, 'fear': 24.13707673549652, 'happy': 0.3418109845370054, 'sad': 36.27897799015045, 'surprise': 0.0061101985920686275, 'neutral': 25.235629081726074}, 'dominant_emotion': 'sad', 'region': {'x': 177, 'y': 414, 'w': 341, 'h': 341, 'left_eye': (402, 552), 'right_eye': (271, 564)}, 'face_confidence': 0.9}], [{'emotion': {'angry': 9.19904112815857, 'disgust': 7.306766178771795e-05, 'fear': 4.914669692516327, 'happy': 0.6887833587825298, 'sad': 40.071892738342285, 'surprise': 0.002140428841812536, 'neutral': 45.123401284217834}, 'dominant_emotion': 'neutral', 'region': {'x': 182, 'y': 429, 'w': 341, 'h': 341, 'left_eye': None, 'right_eye': None}, 'face_confidence': 0.91}], [{'emotion': {'angry': 53.35253199055982, 'disgust': 0.0026015833741415625, 'fear': 10.751805350292049, 'happy': 0.02589117657117108, 'sad': 23.449428287114397, 'surprise': 0.003908777813344989, 'neutral': 12.413836265434997}, 'dominant_emotion': 'angry', 'region': {'x': 161, 'y': 427, 'w': 340, 'h': 340, 'left_eye': (383, 558), 'right_eye': (256, 583)}, 'face_confidence': 0.9}], [{'emotion': {'angry': 0.4728195257484913, 'disgust': 0.0006156618837849237, 'fear': 0.6676795892417431, 'happy': 4.6873923391103745, 'sad': 7.287684082984924, 'surprise': 0.001219879231939558, 'neutral': 86.8825912475586}, 'dominant_emotion': 'neutral', 'region': {'x': 194, 'y': 417, 'w': 347, 'h': 347, 'left_eye': None, 'right_eye': None}, 'face_confidence': 0.9}], [{'emotion': {'angry': 9.184231609106064, 'disgust': 0.0011932183952012565, 'fear': 8.123549818992615, 'happy': 0.12615200830623507, 'sad': 36.75723373889923, 'surprise': 0.007879809709265828, 'neutral': 45.7997590303421}, 'dominant_emotion': 'neutral', 'region': {'x': 149, 'y': 425, 'w': 345, 'h': 345, 'left_eye': (386, 567), 'right_eye': (250, 576)}, 'face_confidence': 0.92}], [{'emotion': {'angry': 1.872641034424305, 'disgust': 0.004480308052734472, 'fear': 68.35473775863647, 'happy': 0.5068864673376083, 'sad': 18.51852834224701, 'surprise': 0.030829277238808572, 'neutral': 10.711902379989624}, 'dominant_emotion': 'fear', 'region': {'x': 189, 'y': 423, 'w': 332, 'h': 332, 'left_eye': (409, 557), 'right_eye': (278, 569)}, 'face_confidence': 0.9}], [{'emotion': {'angry': 12.080731987953186, 'disgust': 0.028921072953380644, 'fear': 27.67382264137268, 'happy': 0.2043635118752718, 'sad': 40.81754982471466, 'surprise': 0.06752082263119519, 'neutral': 19.127091765403748}, 'dominant_emotion': 'sad', 'region': {'x': 188, 'y': 418, 'w': 328, 'h': 328, 'left_eye': (409, 555), 'right_eye': (276, 563)}, 'face_confidence': 0.92}], [{'emotion': {'angry': 21.833494305610657, 'disgust': 0.0022166110284160823, 'fear': 7.145132124423981, 'happy': 0.0212785234907642, 'sad': 61.33781671524048, 'surprise': 0.0037665646232198924, 'neutral': 9.65629667043686}, 'dominant_emotion': 'sad', 'region': {'x': 173, 'y': 431, 'w': 342, 'h': 342, 'left_eye': (407, 572), 'right_eye': (271, 580)}, 'face_confidence': 0.92}], [{'emotion': {'angry': 6.376755237579346, 'disgust': 0.0007381747309409548, 'fear': 30.288785696029663, 'happy': 0.2666160464286804, 'sad': 26.972880959510803, 'surprise': 0.01952863240148872, 'neutral': 36.074697971343994}, 'dominant_emotion': 'neutral', 'region': {'x': 181, 'y': 422, 'w': 341, 'h': 341, 'left_eye': (405, 561), 'right_eye': (275, 571)}, 'face_confidence': 0.91}], [{'emotion': {'angry': 34.26350951194763, 'disgust': 0.028938701143488288, 'fear': 10.162445157766342, 'happy': 0.0934865209273994, 'sad': 28.474998474121094, 'surprise': 0.021576402650680393, 'neutral': 26.955047249794006}, 'dominant_emotion': 'angry', 'region': {'x': 173, 'y': 421, 'w': 354, 'h': 354, 'left_eye': (405, 560), 'right_eye': (275, 574)}, 'face_confidence': 0.9}], [{'emotion': {'angry': 0.7845584299196684, 'disgust': 4.1065538958908e-06, 'fear': 0.3907064907155644, 'happy': 0.011888302871535748, 'sad': 8.449296391094162, 'surprise': 3.3358789439804924e-05, 'neutral': 90.36350961166505}, 'dominant_emotion': 'neutral', 'region': {'x': 173, 'y': 421, 'w': 355, 'h': 355, 'left_eye': (405, 564), 'right_eye': (275, 576)}, 'face_confidence': 0.91}], [{'emotion': {'angry': 37.37258017063141, 'disgust': 0.0028295280571910553, 'fear': 16.279475390911102, 'happy': 0.07319275173358619, 'sad': 28.83073091506958, 'surprise': 0.03925171622540802, 'neutral': 17.401941120624542}, 'dominant_emotion': 'angry', 'region': {'x': 177, 'y': 426, 'w': 344, 'h': 344, 'left_eye': (405, 559), 'right_eye': (273, 569)}, 'face_confidence': 0.9}], [{'emotion': {'angry': 10.086642061867837, 'disgust': 0.001095138369938457, 'fear': 0.9163826318909306, 'happy': 5.795354741534873, 'sad': 41.06785303758699, 'surprise': 0.008908367984821601, 'neutral': 42.123761303649026}, 'dominant_emotion': 'neutral', 'region': {'x': 170, 'y': 426, 'w': 341, 'h': 341, 'left_eye': (398, 565), 'right_eye': (267, 572)}, 'face_confidence': 0.92}], [{'emotion': {'angry': 23.339395225048065, 'disgust': 0.008098137186607346, 'fear': 34.525471925735474, 'happy': 0.2270800992846489, 'sad': 18.81987750530243, 'surprise': 0.010500035568838939, 'neutral': 23.069576919078827}, 'dominant_emotion': 'fear', 'region': {'x': 147, 'y': 412, 'w': 343, 'h': 343, 'left_eye': (370, 546), 'right_eye': (243, 572)}, 'face_confidence': 0.9}], [{'emotion': {'angry': 27.562925525060358, 'disgust': 0.0006171031881285208, 'fear': 3.143502401531029, 'happy': 0.0628654279716078, 'sad': 21.187622390702057, 'surprise': 0.006956428944061422, 'neutral': 48.035514120520844}, 'dominant_emotion': 'neutral', 'region': {'x': 174, 'y': 432, 'w': 345, 'h': 345, 'left_eye': (399, 564), 'right_eye': (274, 584)}, 'face_confidence': 0.89}], [{'emotion': {'angry': 6.378010660409927, 'disgust': 0.001253014852409251, 'fear': 17.777623236179352, 'happy': 0.018330449529457837, 'sad': 35.64261198043823, 'surprise': 0.010172217298531905, 'neutral': 40.171995759010315}, 'dominant_emotion': 'neutral', 'region': {'x': 190, 'y': 423, 'w': 341, 'h': 341, 'left_eye': (417, 560), 'right_eye': (286, 568)}, 'face_confidence': 0.9}], [{'emotion': {'angry': 22.84316543855255, 'disgust': 0.0011749163186310686, 'fear': 7.086411218215372, 'happy': 0.19098058058462508, 'sad': 42.622291162287134, 'surprise': 0.016612408742204605, 'neutral': 27.239364652557928}, 'dominant_emotion': 'sad', 'region': {'x': 184, 'y': 408, 'w': 351, 'h': 351, 'left_eye': (418, 550), 'right_eye': (283, 558)}, 'face_confidence': 0.91}], [{'emotion': {'angry': 2.558710426092148, 'disgust': 0.0002120179487974383, 'fear': 26.84219181537628, 'happy': 0.10225895093753934, 'sad': 50.89309811592102, 'surprise': 0.006672007293673232, 'neutral': 19.596853852272034}, 'dominant_emotion': 'sad', 'region': {'x': 190, 'y': 414, 'w': 337, 'h': 337, 'left_eye': (415, 553), 'right_eye': (278, 564)}, 'face_confidence': 0.9}], [{'emotion': {'angry': 6.730979337154587, 'disgust': 5.61468960373496e-08, 'fear': 53.54595503484935, 'happy': 0.7293303466189114, 'sad': 4.339646806695867, 'surprise': 0.00021661307000245337, 'neutral': 34.65387431704249}, 'dominant_emotion': 'fear', 'region': {'x': 182, 'y': 432, 'w': 350, 'h': 350, 'left_eye': (419, 583), 'right_eye': (391, 575)}, 'face_confidence': 0.9}], [{'emotion': {'angry': 8.543471520360889, 'disgust': 0.0027865904169120576, 'fear': 11.795577322909512, 'happy': 0.04118594715539481, 'sad': 29.69785388682531, 'surprise': 0.0076190046444373155, 'neutral': 49.911507953585144}, 'dominant_emotion': 'neutral', 'region': {'x': 175, 'y': 409, 'w': 340, 'h': 340, 'left_eye': (402, 547), 'right_eye': (269, 561)}, 'face_confidence': 0.89}], [{'emotion': {'angry': 19.147529849262824, 'disgust': 0.07071592102369195, 'fear': 26.50004485249787, 'happy': 3.32790819274832, 'sad': 38.56101265913323, 'surprise': 0.3763347157141397, 'neutral': 12.01645878055446}, 'dominant_emotion': 'sad', 'region': {'x': 199, 'y': 405, 'w': 330, 'h': 330, 'left_eye': (424, 545), 'right_eye': (286, 552)}, 'face_confidence': 0.92}], [{'emotion': {'angry': 58.49902135122077, 'disgust': 0.0008547334910250612, 'fear': 16.283296499645292, 'happy': 0.12266494166209599, 'sad': 12.986151932019226, 'surprise': 0.021416353053686388, 'neutral': 12.0866029961828}, 'dominant_emotion': 'angry', 'region': {'x': 165, 'y': 415, 'w': 353, 'h': 353, 'left_eye': (395, 548), 'right_eye': (263, 569)}, 'face_confidence': 0.89}], [{'emotion': {'angry': 12.731537981721042, 'disgust': 0.00012137507651863145, 'fear': 70.5439907636637, 'happy': 0.07185172717879576, 'sad': 11.600490605860388, 'surprise': 0.005810486964761434, 'neutral': 5.046193602454281}, 'dominant_emotion': 'fear', 'region': {'x': 153, 'y': 421, 'w': 336, 'h': 336, 'left_eye': (373, 550), 'right_eye': (244, 575)}, 'face_confidence': 0.92}], [{'emotion': {'angry': 4.751967266201973, 'disgust': 0.0002177605210818001, 'fear': 2.5549132376909256, 'happy': 0.009494636469753459, 'sad': 46.17030620574951, 'surprise': 8.97512052233651e-05, 'neutral': 46.513012051582336}, 'dominant_emotion': 'neutral', 'region': {'x': 194, 'y': 421, 'w': 345, 'h': 345, 'left_eye': None, 'right_eye': None}, 'face_confidence': 0.93}], [{'emotion': {'angry': 1.715511828660965, 'disgust': 1.6171661343378219e-06, 'fear': 1.89858078956604, 'happy': 0.0003074818323511863, 'sad': 31.705528497695923, 'surprise': 3.9405071561304794e-05, 'neutral': 64.68002796173096}, 'dominant_emotion': 'neutral', 'region': {'x': 196, 'y': 417, 'w': 355, 'h': 355, 'left_eye': (421, 568), 'right_eye': (303, 564)}, 'face_confidence': 0.91}], [{'emotion': {'angry': 10.934152454137802, 'disgust': 0.0028413844120223075, 'fear': 9.197842329740524, 'happy': 0.3354079555720091, 'sad': 44.170403480529785, 'surprise': 0.01473842712584883, 'neutral': 35.34460961818695}, 'dominant_emotion': 'sad', 'region': {'x': 180, 'y': 417, 'w': 342, 'h': 342, 'left_eye': (404, 555), 'right_eye': (275, 567)}, 'face_confidence': 0.91}], [{'emotion': {'angry': 3.3020496368408203, 'disgust': 1.4521451596749557e-06, 'fear': 0.9543299674987793, 'happy': 0.009922954632202163, 'sad': 5.783704295754433, 'surprise': 0.000487219040223863, 'neutral': 89.94950652122498}, 'dominant_emotion': 'neutral', 'region': {'x': 188, 'y': 436, 'w': 344, 'h': 344, 'left_eye': (418, 576), 'right_eye': (289, 577)}, 'face_confidence': 0.9}], [{'emotion': {'angry': 10.463115572929382, 'disgust': 0.09743571863509715, 'fear': 36.77478730678558, 'happy': 0.23889141157269478, 'sad': 36.360058188438416, 'surprise': 0.18689425196498632, 'neutral': 15.878817439079285}, 'dominant_emotion': 'fear', 'region': {'x': 172, 'y': 411, 'w': 341, 'h': 341, 'left_eye': (401, 547), 'right_eye': (266, 564)}, 'face_confidence': 0.89}], [{'emotion': {'angry': 30.157471317943493, 'disgust': 0.0025829823594510017, 'fear': 3.383645073609957, 'happy': 0.553970058363087, 'sad': 33.52134627358273, 'surprise': 0.01348797683740131, 'neutral': 32.36749856084568}, 'dominant_emotion': 'sad', 'region': {'x': 177, 'y': 409, 'w': 357, 'h': 357, 'left_eye': (411, 550), 'right_eye': (281, 561)}, 'face_confidence': 0.9}], [{'emotion': {'angry': 63.000599980282786, 'disgust': 0.0050800420778148005, 'fear': 5.2380972816828155, 'happy': 0.018793943251366973, 'sad': 19.112869308844886, 'surprise': 0.00683112075842595, 'neutral': 12.61772810009383}, 'dominant_emotion': 'angry', 'region': {'x': 160, 'y': 423, 'w': 346, 'h': 346, 'left_eye': (385, 555), 'right_eye': (255, 580)}, 'face_confidence': 0.9}], [{'emotion': {'angry': 2.8343427926301956, 'disgust': 0.0005920812782278517, 'fear': 15.327104926109314, 'happy': 0.46385745517909527, 'sad': 20.43290287256241, 'surprise': 0.046848299098201096, 'neutral': 60.894352197647095}, 'dominant_emotion': 'neutral', 'region': {'x': 173, 'y': 415, 'w': 328, 'h': 328, 'left_eye': (389, 547), 'right_eye': (259, 562)}, 'face_confidence': 0.91}], [{'emotion': {'angry': 17.43813455104828, 'disgust': 2.418192082132009e-05, 'fear': 33.74372720718384, 'happy': 0.12940190499648452, 'sad': 28.683748841285706, 'surprise': 0.0008654649718664587, 'neutral': 20.00410258769989}, 'dominant_emotion': 'fear', 'region': {'x': 180, 'y': 429, 'w': 333, 'h': 333, 'left_eye': None, 'right_eye': None}, 'face_confidence': 0.89}], [{'emotion': {'angry': 5.787298828363419, 'disgust': 0.000669918927087565, 'fear': 4.7555286437273026, 'happy': 0.037523056380450726, 'sad': 43.524596095085144, 'surprise': 0.0052402345318114385, 'neutral': 45.889148116111755}, 'dominant_emotion': 'neutral', 'region': {'x': 191, 'y': 429, 'w': 341, 'h': 341, 'left_eye': (420, 570), 'right_eye': (288, 572)}, 'face_confidence': 0.92}], [{'emotion': {'angry': 5.805153399705887, 'disgust': 0.00025064125566132134, 'fear': 4.705691337585449, 'happy': 0.0877000973559916, 'sad': 59.470170736312866, 'surprise': 0.0013388145816861652, 'neutral': 29.929691553115845}, 'dominant_emotion': 'sad', 'region': {'x': 189, 'y': 427, 'w': 344, 'h': 344, 'left_eye': (421, 568), 'right_eye': (287, 571)}, 'face_confidence': 0.92}], [{'emotion': {'angry': 27.73774564266205, 'disgust': 0.13950536958873272, 'fear': 17.877644300460815, 'happy': 0.08204496116377413, 'sad': 40.93732535839081, 'surprise': 0.1899584662169218, 'neutral': 13.03577870130539}, 'dominant_emotion': 'sad', 'region': {'x': 183, 'y': 414, 'w': 333, 'h': 333, 'left_eye': (409, 553), 'right_eye': (273, 561)}, 'face_confidence': 0.91}], [{'emotion': {'angry': 48.04908335208893, 'disgust': 0.002790303187794052, 'fear': 9.107591211795807, 'happy': 0.22778192069381475, 'sad': 21.15701287984848, 'surprise': 0.012102149048587307, 'neutral': 21.44363820552826}, 'dominant_emotion': 'angry', 'region': {'x': 156, 'y': 419, 'w': 342, 'h': 342, 'left_eye': (377, 551), 'right_eye': (249, 573)}, 'face_confidence': 0.91}], [{'emotion': {'angry': 14.840520918369293, 'disgust': 0.0001287816530748387, 'fear': 2.1782908588647842, 'happy': 32.1222722530365, 'sad': 27.71937847137451, 'surprise': 0.0003158512072332087, 'neutral': 23.139095306396484}, 'dominant_emotion': 'happy', 'region': {'x': 187, 'y': 438, 'w': 327, 'h': 327, 'left_eye': (413, 569), 'right_eye': (278, 573)}, 'face_confidence': 0.9}], [{'emotion': {'angry': 9.657717496156693, 'disgust': 0.009562066406942904, 'fear': 6.15345686674118, 'happy': 1.262426469475031, 'sad': 62.91287541389465, 'surprise': 0.004177967275609262, 'neutral': 19.999785721302032}, 'dominant_emotion': 'sad', 'region': {'x': 183, 'y': 415, 'w': 335, 'h': 335, 'left_eye': (409, 550), 'right_eye': (275, 559)}, 'face_confidence': 0.89}], [{'emotion': {'angry': 16.35967791080475, 'disgust': 0.0007860920050006825, 'fear': 8.134433627128601, 'happy': 0.03968912351410836, 'sad': 33.64884853363037, 'surprise': 0.006585308437934145, 'neutral': 41.80997908115387}, 'dominant_emotion': 'neutral', 'region': {'x': 147, 'y': 424, 'w': 344, 'h': 344, 'left_eye': (379, 566), 'right_eye': (249, 578)}, 'face_confidence': 0.92}], [{'emotion': {'angry': 17.947383224964142, 'disgust': 0.00021913992895861156, 'fear': 1.7512122169137, 'happy': 0.040567421820014715, 'sad': 11.21087297797203, 'surprise': 0.0021030942662036978, 'neutral': 69.04764175415039}, 'dominant_emotion': 'neutral', 'region': {'x': 165, 'y': 419, 'w': 350, 'h': 350, 'left_eye': (394, 552), 'right_eye': (261, 575)}, 'face_confidence': 0.89}], [{'emotion': {'angry': 9.964530169963837, 'disgust': 0.0018506712876842357, 'fear': 2.228225953876972, 'happy': 0.3723045811057091, 'sad': 46.48143649101257, 'surprise': 0.0013904882507631555, 'neutral': 40.950265526771545}, 'dominant_emotion': 'sad', 'region': {'x': 179, 'y': 426, 'w': 348, 'h': 348, 'left_eye': None, 'right_eye': None}, 'face_confidence': 0.9}], [{'emotion': {'angry': 2.303414929116662, 'disgust': 3.9266118032714355e-06, 'fear': 0.15764299089941328, 'happy': 0.012283004621148385, 'sad': 4.311532784195708, 'surprise': 4.574602303183507e-05, 'neutral': 93.21507771105037}, 'dominant_emotion': 'neutral', 'region': {'x': 181, 'y': 433, 'w': 347, 'h': 347, 'left_eye': (413, 576), 'right_eye': (284, 580)}, 'face_confidence': 0.89}], [{'emotion': {'angry': 6.817294657230377, 'disgust': 0.025713042123243213, 'fear': 23.889057338237762, 'happy': 0.12450609356164932, 'sad': 50.43644309043884, 'surprise': 0.018004920275416225, 'neutral': 18.688982725143433}, 'dominant_emotion': 'sad', 'region': {'x': 210, 'y': 407, 'w': 339, 'h': 339, 'left_eye': (433, 552), 'right_eye': (302, 555)}, 'face_confidence': 0.91}], [{'emotion': {'angry': 5.636771322699943, 'disgust': 0.02961405323874095, 'fear': 14.351378601953817, 'happy': 0.28098547921156636, 'sad': 49.09967769380542, 'surprise': 0.02122397671143433, 'neutral': 30.580354402107524}, 'dominant_emotion': 'sad', 'region': {'x': 174, 'y': 419, 'w': 342, 'h': 342, 'left_eye': (401, 557), 'right_eye': (270, 566)}, 'face_confidence': 0.89}], [{'emotion': {'angry': 19.494006871462688, 'disgust': 0.17974680336899201, 'fear': 17.144655244905383, 'happy': 0.5058989066212066, 'sad': 56.92245446711236, 'surprise': 0.17124192967914698, 'neutral': 5.5820009806157325}, 'dominant_emotion': 'sad', 'region': {'x': 197, 'y': 384, 'w': 342, 'h': 342, 'left_eye': (424, 534), 'right_eye': (293, 538)}, 'face_confidence': 0.93}], [{'emotion': {'angry': 6.91007591365863, 'disgust': 0.03927145558246754, 'fear': 23.48024863240139, 'happy': 1.7323046720260773, 'sad': 24.540168101767527, 'surprise': 0.0335812208490481, 'neutral': 43.26434513755499}, 'dominant_emotion': 'neutral', 'region': {'x': 172, 'y': 399, 'w': 355, 'h': 355, 'left_eye': (398, 535), 'right_eye': (278, 547)}, 'face_confidence': 0.9}], [{'emotion': {'angry': 15.49093609940244, 'disgust': 6.998280052610937e-05, 'fear': 3.7152495938837045, 'happy': 0.10095902292314445, 'sad': 29.419807126499073, 'surprise': 0.0003881600158610214, 'neutral': 51.272595080446614}, 'dominant_emotion': 'neutral', 'region': {'x': 168, 'y': 424, 'w': 351, 'h': 351, 'left_eye': (405, 569), 'right_eye': (272, 573)}, 'face_confidence': 0.91}], [{'emotion': {'angry': 21.818551421165466, 'disgust': 0.030265824170783162, 'fear': 8.459007740020752, 'happy': 1.8482465296983719, 'sad': 20.912811160087585, 'surprise': 0.2514474093914032, 'neutral': 46.679672598838806}, 'dominant_emotion': 'neutral', 'region': {'x': 204, 'y': 400, 'w': 365, 'h': 365, 'left_eye': (447, 555), 'right_eye': (316, 555)}, 'face_confidence': 0.93}], [{'emotion': {'angry': 17.59158968925476, 'disgust': 0.0001170756377177895, 'fear': 6.432526558637619, 'happy': 0.06803532014600933, 'sad': 38.52580189704895, 'surprise': 0.001767488538462203, 'neutral': 37.38016486167908}, 'dominant_emotion': 'sad', 'region': {'x': 188, 'y': 438, 'w': 335, 'h': 335, 'left_eye': (414, 571), 'right_eye': (284, 577)}, 'face_confidence': 0.89}], [{'emotion': {'angry': 26.536709253395706, 'disgust': 0.0005368529585815767, 'fear': 12.956899458992417, 'happy': 0.16157048119327203, 'sad': 34.333581844995244, 'surprise': 0.003356150082160915, 'neutral': 26.007354379576967}, 'dominant_emotion': 'sad', 'region': {'x': 173, 'y': 431, 'w': 339, 'h': 339, 'left_eye': (399, 569), 'right_eye': (267, 576)}, 'face_confidence': 0.91}], [{'emotion': {'angry': 17.63640852408511, 'disgust': 0.005818597458214941, 'fear': 28.355619711353743, 'happy': 0.4974870138599889, 'sad': 43.17249276310119, 'surprise': 0.011086105817483314, 'neutral': 10.321088620554045}, 'dominant_emotion': 'sad', 'region': {'x': 171, 'y': 424, 'w': 336, 'h': 336, 'left_eye': None, 'right_eye': None}, 'face_confidence': 0.91}], [{'emotion': {'angry': 9.222885221242905, 'disgust': 0.0024284187020384707, 'fear': 20.853550732135773, 'happy': 0.04480387724470347, 'sad': 46.08382284641266, 'surprise': 0.013373230467550457, 'neutral': 23.779135942459106}, 'dominant_emotion': 'sad', 'region': {'x': 179, 'y': 423, 'w': 338, 'h': 338, 'left_eye': (405, 562), 'right_eye': (271, 571)}, 'face_confidence': 0.91}], [{'emotion': {'angry': 25.729680061340332, 'disgust': 0.00036299645671533654, 'fear': 0.9779587388038635, 'happy': 1.4240252785384655, 'sad': 45.33025324344635, 'surprise': 0.0029532815460697748, 'neutral': 26.53477191925049}, 'dominant_emotion': 'sad', 'region': {'x': 173, 'y': 424, 'w': 348, 'h': 348, 'left_eye': (403, 564), 'right_eye': (271, 573)}, 'face_confidence': 0.89}], [{'emotion': {'angry': 11.261240392923355, 'disgust': 0.0002538914259275771, 'fear': 28.411108255386353, 'happy': 0.06317576626315713, 'sad': 32.536712288856506, 'surprise': 0.004995515337213874, 'neutral': 27.72251069545746}, 'dominant_emotion': 'sad', 'region': {'x': 185, 'y': 422, 'w': 344, 'h': 344, 'left_eye': (410, 563), 'right_eye': (281, 571)}, 'face_confidence': 0.92}], [{'emotion': {'angry': 3.3913739025592804, 'disgust': 0.0008089421498880256, 'fear': 6.308029592037201, 'happy': 0.007096082845237106, 'sad': 46.45513296127319, 'surprise': 0.0039375488995574415, 'neutral': 43.833619356155396}, 'dominant_emotion': 'sad', 'region': {'x': 186, 'y': 430, 'w': 343, 'h': 343, 'left_eye': (414, 573), 'right_eye': (282, 578)}, 'face_confidence': 0.92}], [{'emotion': {'angry': 3.987596556544304, 'disgust': 1.373224165490683e-05, 'fear': 0.18364121206104755, 'happy': 4.3749649077653885, 'sad': 50.436484813690186, 'surprise': 0.0018946229829452932, 'neutral': 41.01540148258209}, 'dominant_emotion': 'sad', 'region': {'x': 195, 'y': 441, 'w': 319, 'h': 319, 'left_eye': (411, 574), 'right_eye': (284, 577)}, 'face_confidence': 0.89}], [{'emotion': {'angry': 42.83313367761775, 'disgust': 0.0004229909840817293, 'fear': 10.551371938153736, 'happy': 0.21508764711322154, 'sad': 23.93291281854067, 'surprise': 0.030292513084077904, 'neutral': 22.436779431912832}, 'dominant_emotion': 'angry', 'region': {'x': 182, 'y': 418, 'w': 346, 'h': 346, 'left_eye': (409, 555), 'right_eye': (275, 569)}, 'face_confidence': 0.9}], [{'emotion': {'angry': 28.175440430641174, 'disgust': 9.588931249027155e-06, 'fear': 0.7192667108029127, 'happy': 0.16280420823022723, 'sad': 17.640304565429688, 'surprise': 0.000514818930241745, 'neutral': 53.3016562461853}, 'dominant_emotion': 'neutral', 'region': {'x': 169, 'y': 433, 'w': 335, 'h': 335, 'left_eye': (391, 562), 'right_eye': (260, 580)}, 'face_confidence': 0.89}], [{'emotion': {'angry': 8.351429551839828, 'disgust': 0.0009294877600041218, 'fear': 1.0554613545536995, 'happy': 0.05854920600540936, 'sad': 42.831385135650635, 'surprise': 0.0010353918696637265, 'neutral': 47.701215744018555}, 'dominant_emotion': 'neutral', 'region': {'x': 181, 'y': 437, 'w': 327, 'h': 327, 'left_eye': (399, 566), 'right_eye': (271, 578)}, 'face_confidence': 0.91}], [{'emotion': {'angry': 1.783272624015808, 'disgust': 4.5091259615048784e-07, 'fear': 0.3498617559671402, 'happy': 0.0005363646323530702, 'sad': 14.726142585277557, 'surprise': 1.4240731616155244e-05, 'neutral': 83.14017057418823}, 'dominant_emotion': 'neutral', 'region': {'x': 198, 'y': 428, 'w': 349, 'h': 349, 'left_eye': (437, 576), 'right_eye': (300, 571)}, 'face_confidence': 0.92}], [{'emotion': {'angry': 16.503676772117615, 'disgust': 3.127200329799962e-05, 'fear': 3.2887469977140427, 'happy': 0.15926091000437737, 'sad': 35.09541153907776, 'surprise': 0.0006898473657201976, 'neutral': 44.952183961868286}, 'dominant_emotion': 'neutral', 'region': {'x': 188, 'y': 436, 'w': 340, 'h': 340, 'left_eye': (416, 574), 'right_eye': (282, 579)}, 'face_confidence': 0.91}], [{'emotion': {'angry': 3.179263696074486, 'disgust': 0.0005846329713676823, 'fear': 26.339226961135864, 'happy': 0.1162669388577342, 'sad': 48.10406565666199, 'surprise': 0.0026720170353655703, 'neutral': 22.2579225897789}, 'dominant_emotion': 'sad', 'region': {'x': 175, 'y': 419, 'w': 339, 'h': 339, 'left_eye': (400, 556), 'right_eye': (269, 566)}, 'face_confidence': 0.89}], [{'emotion': {'angry': 9.024476259946823, 'disgust': 0.022322854783851653, 'fear': 35.92759072780609, 'happy': 0.4771268926560879, 'sad': 24.537551403045654, 'surprise': 0.02283246722072363, 'neutral': 29.98810112476349}, 'dominant_emotion': 'fear', 'region': {'x': 169, 'y': 405, 'w': 345, 'h': 345, 'left_eye': (396, 547), 'right_eye': (263, 563)}, 'face_confidence': 0.89}], [{'emotion': {'angry': 9.504033625125885, 'disgust': 0.02408754371572286, 'fear': 34.70889627933502, 'happy': 1.1890818364918232, 'sad': 26.703134179115295, 'surprise': 0.04912162548862398, 'neutral': 27.82164216041565}, 'dominant_emotion': 'fear', 'region': {'x': 175, 'y': 423, 'w': 350, 'h': 350, 'left_eye': (393, 550), 'right_eye': (273, 568)}, 'face_confidence': 0.91}], [{'emotion': {'angry': 2.3489369079470634, 'disgust': 0.0007526388344558654, 'fear': 31.84448480606079, 'happy': 0.17782386858016253, 'sad': 46.873435378074646, 'surprise': 0.004718959462479688, 'neutral': 18.749843537807465}, 'dominant_emotion': 'sad', 'region': {'x': 183, 'y': 423, 'w': 329, 'h': 329, 'left_eye': (405, 558), 'right_eye': (273, 569)}, 'face_confidence': 0.9}], [{'emotion': {'angry': 10.137750771581942, 'disgust': 0.013866212580119799, 'fear': 16.31884632853357, 'happy': 0.16602484509129045, 'sad': 64.55643426026481, 'surprise': 0.01731829275751212, 'neutral': 8.78974660283408}, 'dominant_emotion': 'sad', 'region': {'x': 185, 'y': 413, 'w': 334, 'h': 334, 'left_eye': (412, 554), 'right_eye': (276, 556)}, 'face_confidence': 0.92}], [{'emotion': {'angry': 39.82144119483934, 'disgust': 0.0031586121494859877, 'fear': 11.364089833010455, 'happy': 0.12572913794468188, 'sad': 24.220450315421783, 'surprise': 0.014978473733882757, 'neutral': 24.45014572737864}, 'dominant_emotion': 'angry', 'region': {'x': 153, 'y': 422, 'w': 347, 'h': 347, 'left_eye': (378, 552), 'right_eye': (248, 581)}, 'face_confidence': 0.89}], [{'emotion': {'angry': 40.688252449035645, 'disgust': 0.006566396041307598, 'fear': 19.087377190589905, 'happy': 1.0717552155256271, 'sad': 15.761595964431763, 'surprise': 0.12403837172314525, 'neutral': 23.260413110256195}, 'dominant_emotion': 'angry', 'region': {'x': 186, 'y': 412, 'w': 334, 'h': 334, 'left_eye': (408, 547), 'right_eye': (278, 558)}, 'face_confidence': 0.9}], [{'emotion': {'angry': 3.562470737842961, 'disgust': 0.0003660750498885086, 'fear': 44.44367852471343, 'happy': 1.2973527265997367, 'sad': 37.59351894816869, 'surprise': 0.0035658440844519262, 'neutral': 13.099043852033844}, 'dominant_emotion': 'fear', 'region': {'x': 174, 'y': 418, 'w': 340, 'h': 340, 'left_eye': (399, 554), 'right_eye': (268, 567)}, 'face_confidence': 0.91}], [{'emotion': {'angry': 7.941566609330965, 'disgust': 0.002430944840515442, 'fear': 14.700767660232504, 'happy': 0.1530089714426066, 'sad': 58.45576625535086, 'surprise': 0.006367778437049724, 'neutral': 18.740095942031854}, 'dominant_emotion': 'sad', 'region': {'x': 178, 'y': 414, 'w': 342, 'h': 342, 'left_eye': (406, 554), 'right_eye': (272, 565)}, 'face_confidence': 0.91}], [{'emotion': {'angry': 32.49750733375549, 'disgust': 8.770217050368956e-05, 'fear': 0.6214723456650972, 'happy': 1.7206264659762383, 'sad': 11.489808559417725, 'surprise': 0.00935148709686473, 'neutral': 53.66114377975464}, 'dominant_emotion': 'neutral', 'region': {'x': 194, 'y': 441, 'w': 323, 'h': 323, 'left_eye': (411, 566), 'right_eye': (284, 574)}, 'face_confidence': 0.89}], [{'emotion': {'angry': 12.53940463066101, 'disgust': 0.0007949006430862937, 'fear': 6.5791502594947815, 'happy': 0.03433890815358609, 'sad': 15.12649953365326, 'surprise': 0.016169637092389166, 'neutral': 65.70364236831665}, 'dominant_emotion': 'neutral', 'region': {'x': 175, 'y': 425, 'w': 342, 'h': 342, 'left_eye': (403, 558), 'right_eye': (271, 569)}, 'face_confidence': 0.89}], [{'emotion': {'angry': 2.9781851917505264, 'disgust': 4.36253557722921e-06, 'fear': 0.36276807077229023, 'happy': 0.14327579410746694, 'sad': 22.83555120229721, 'surprise': 0.0005993032118567498, 'neutral': 73.67962002754211}, 'dominant_emotion': 'neutral', 'region': {'x': 184, 'y': 434, 'w': 332, 'h': 332, 'left_eye': (409, 570), 'right_eye': (276, 577)}, 'face_confidence': 0.89}], [{'emotion': {'angry': 19.161905348300934, 'disgust': 0.0031589479476679116, 'fear': 7.07356259226799, 'happy': 0.15159891918301582, 'sad': 42.09109842777252, 'surprise': 0.024024675076361746, 'neutral': 31.494644284248352}, 'dominant_emotion': 'sad', 'region': {'x': 176, 'y': 405, 'w': 342, 'h': 342, 'left_eye': (403, 544), 'right_eye': (271, 558)}, 'face_confidence': 0.89}], [{'emotion': {'angry': 9.010150075563793, 'disgust': 0.004924593233898251, 'fear': 14.398051166418265, 'happy': 0.6064249564066503, 'sad': 28.229244245841755, 'surprise': 0.004014187527967618, 'neutral': 47.74719165248821}, 'dominant_emotion': 'neutral', 'region': {'x': 174, 'y': 419, 'w': 346, 'h': 346, 'left_eye': (392, 549), 'right_eye': (276, 564)}, 'face_confidence': 0.92}], [{'emotion': {'angry': 32.3125422000885, 'disgust': 0.00016367724811061635, 'fear': 4.617973417043686, 'happy': 0.9843256324529648, 'sad': 17.68033057451248, 'surprise': 0.002194162516389042, 'neutral': 44.40246522426605}, 'dominant_emotion': 'neutral', 'region': {'x': 173, 'y': 411, 'w': 355, 'h': 355, 'left_eye': None, 'right_eye': None}, 'face_confidence': 0.91}], [{'emotion': {'angry': 4.03281402196717, 'disgust': 8.262394014338035e-05, 'fear': 4.916190887547626, 'happy': 0.0235822416553023, 'sad': 37.49338835556646, 'surprise': 0.0013734983622023926, 'neutral': 53.532564218930695}, 'dominant_emotion': 'neutral', 'region': {'x': 170, 'y': 425, 'w': 354, 'h': 354, 'left_eye': (403, 565), 'right_eye': (270, 579)}, 'face_confidence': 0.9}], [{'emotion': {'angry': 24.58549439907074, 'disgust': 0.004108676148462109, 'fear': 21.674714982509613, 'happy': 0.3257463686168194, 'sad': 29.68243956565857, 'surprise': 0.09891730733215809, 'neutral': 23.628582060337067}, 'dominant_emotion': 'sad', 'region': {'x': 184, 'y': 424, 'w': 330, 'h': 330, 'left_eye': (407, 558), 'right_eye': (270, 570)}, 'face_confidence': 0.89}], [{'emotion': {'angry': 48.902889955388304, 'disgust': 0.00102383986286144, 'fear': 9.018195750498265, 'happy': 0.7051386779712054, 'sad': 13.295891975866791, 'surprise': 0.08729350396764325, 'neutral': 27.989566682525478}, 'dominant_emotion': 'angry', 'region': {'x': 188, 'y': 410, 'w': 342, 'h': 342, 'left_eye': (421, 549), 'right_eye': (288, 551)}, 'face_confidence': 0.88}], [{'emotion': {'angry': 5.501993373036385, 'disgust': 0.002433761255815625, 'fear': 20.535673201084137, 'happy': 0.4356512799859047, 'sad': 45.89480757713318, 'surprise': 0.029843291849829257, 'neutral': 27.599593997001648}, 'dominant_emotion': 'sad', 'region': {'x': 165, 'y': 425, 'w': 327, 'h': 327, 'left_eye': (391, 562), 'right_eye': (256, 567)}, 'face_confidence': 0.92}], [{'emotion': {'angry': 0.8085031062364578, 'disgust': 0.00038007092371117324, 'fear': 1.5054170042276382, 'happy': 0.1642156159505248, 'sad': 28.813573718070984, 'surprise': 0.00042019933061965276, 'neutral': 68.70749592781067}, 'dominant_emotion': 'neutral', 'region': {'x': 184, 'y': 424, 'w': 348, 'h': 348, 'left_eye': None, 'right_eye': None}, 'face_confidence': 0.93}], [{'emotion': {'angry': 18.040169775485992, 'disgust': 0.04696316318586469, 'fear': 25.894615054130554, 'happy': 0.5402375943958759, 'sad': 21.811747550964355, 'surprise': 0.061069062212482095, 'neutral': 33.605194091796875}, 'dominant_emotion': 'neutral', 'region': {'x': 183, 'y': 419, 'w': 338, 'h': 338, 'left_eye': (408, 557), 'right_eye': (276, 567)}, 'face_confidence': 0.89}], [{'emotion': {'angry': 1.3129175640642643, 'disgust': 0.00016685405626049032, 'fear': 13.979031145572662, 'happy': 0.06903422181494534, 'sad': 43.13766956329346, 'surprise': 0.0020025476260343567, 'neutral': 41.49918556213379}, 'dominant_emotion': 'sad', 'region': {'x': 190, 'y': 408, 'w': 343, 'h': 343, 'left_eye': (420, 548), 'right_eye': (284, 555)}, 'face_confidence': 0.87}], [{'emotion': {'angry': 5.243317722875936, 'disgust': 0.0006719290868527829, 'fear': 6.10311961788652, 'happy': 0.02167508193497103, 'sad': 46.39792122828491, 'surprise': 0.004709326375296235, 'neutral': 42.22858799866366}, 'dominant_emotion': 'sad', 'region': {'x': 191, 'y': 421, 'w': 338, 'h': 338, 'left_eye': (417, 561), 'right_eye': (284, 569)}, 'face_confidence': 0.91}], [{'emotion': {'angry': 7.151656597852707, 'disgust': 0.0030916999094188213, 'fear': 28.981563448905945, 'happy': 0.5494967103004456, 'sad': 39.71071541309357, 'surprise': 0.01896667672554031, 'neutral': 23.584510385990143}, 'dominant_emotion': 'sad', 'region': {'x': 172, 'y': 417, 'w': 344, 'h': 344, 'left_eye': (402, 558), 'right_eye': (269, 569)}, 'face_confidence': 0.89}], [{'emotion': {'angry': 26.191118359565735, 'disgust': 0.003299837771919556, 'fear': 20.99156081676483, 'happy': 0.10236455127596855, 'sad': 26.063266396522522, 'surprise': 0.07329571526497602, 'neutral': 26.57509446144104}, 'dominant_emotion': 'neutral', 'region': {'x': 160, 'y': 416, 'w': 348, 'h': 348, 'left_eye': (383, 546), 'right_eye': (255, 575)}, 'face_confidence': 0.9}], [{'emotion': {'angry': 48.44052791595459, 'disgust': 1.391351958091036e-05, 'fear': 1.1126640252768993, 'happy': 0.023371254792436957, 'sad': 8.063863217830658, 'surprise': 0.0011909607565030456, 'neutral': 42.35837161540985}, 'dominant_emotion': 'angry', 'region': {'x': 172, 'y': 433, 'w': 351, 'h': 351, 'left_eye': (404, 566), 'right_eye': (275, 585)}, 'face_confidence': 0.9}], [{'emotion': {'angry': 0.39708954205041624, 'disgust': 9.592017147302957e-08, 'fear': 0.13402372863605874, 'happy': 0.008426270228985148, 'sad': 5.136759339361269, 'surprise': 2.5099577199931186e-07, 'neutral': 94.32369538263137}, 'dominant_emotion': 'neutral', 'region': {'x': 183, 'y': 444, 'w': 338, 'h': 338, 'left_eye': None, 'right_eye': None}, 'face_confidence': 0.9}], [{'emotion': {'angry': 12.799858319750925, 'disgust': 0.005627829494938336, 'fear': 14.350188633810797, 'happy': 0.022042491622939208, 'sad': 42.93632763244674, 'surprise': 0.013859697454162535, 'neutral': 29.872097365385137}, 'dominant_emotion': 'sad', 'region': {'x': 181, 'y': 419, 'w': 334, 'h': 334, 'left_eye': (404, 555), 'right_eye': (272, 567)}, 'face_confidence': 0.91}], [{'emotion': {'angry': 12.457837164402008, 'disgust': 0.00014028670420884737, 'fear': 5.633759126067162, 'happy': 0.5948543082922697, 'sad': 22.606422007083893, 'surprise': 0.0017565020243637264, 'neutral': 58.70522856712341}, 'dominant_emotion': 'neutral', 'region': {'x': 175, 'y': 424, 'w': 341, 'h': 341, 'left_eye': None, 'right_eye': None}, 'face_confidence': 0.91}], [{'emotion': {'angry': 12.151596695184708, 'disgust': 0.000454104520031251, 'fear': 0.3474646946415305, 'happy': 0.04183004202786833, 'sad': 46.82217240333557, 'surprise': 7.489813356187369e-05, 'neutral': 40.63639938831329}, 'dominant_emotion': 'sad', 'region': {'x': 185, 'y': 416, 'w': 348, 'h': 348, 'left_eye': (419, 568), 'right_eye': (281, 576)}, 'face_confidence': 0.91}], [{'emotion': {'angry': 30.82086741924286, 'disgust': 0.0004920110313832993, 'fear': 17.614111304283142, 'happy': 0.2965352265164256, 'sad': 23.081718385219574, 'surprise': 0.03142821369692683, 'neutral': 28.154847025871277}, 'dominant_emotion': 'angry', 'region': {'x': 180, 'y': 418, 'w': 348, 'h': 348, 'left_eye': (412, 554), 'right_eye': (279, 564)}, 'face_confidence': 0.88}], [{'emotion': {'angry': 2.4519475176930428, 'disgust': 0.001208685807796428, 'fear': 32.93059766292572, 'happy': 0.11787982657551765, 'sad': 47.49323129653931, 'surprise': 0.0067206332460045815, 'neutral': 16.99841171503067}, 'dominant_emotion': 'sad', 'region': {'x': 175, 'y': 421, 'w': 336, 'h': 336, 'left_eye': (399, 557), 'right_eye': (268, 567)}, 'face_confidence': 0.89}], [{'emotion': {'angry': 4.692249372601509, 'disgust': 8.492600400700212e-07, 'fear': 0.2984605962410569, 'happy': 0.006925711204530671, 'sad': 27.926313877105713, 'surprise': 4.551448853362672e-05, 'neutral': 67.07600355148315}, 'dominant_emotion': 'neutral', 'region': {'x': 167, 'y': 432, 'w': 335, 'h': 335, 'left_eye': (388, 562), 'right_eye': (260, 580)}, 'face_confidence': 0.89}], [{'emotion': {'angry': 5.522219838075737e-11, 'disgust': 6.351382704833177e-26, 'fear': 21.613259411648478, 'happy': 5.359045818455567e-09, 'sad': 40.69245700195175, 'surprise': 8.169808372719132e-09, 'neutral': 37.69428358639977}, 'dominant_emotion': 'sad', 'region': {'x': 174, 'y': 423, 'w': 344, 'h': 344, 'left_eye': (402, 563), 'right_eye': (393, 549)}, 'face_confidence': 0.91}], [{'emotion': {'angry': 21.473519504070282, 'disgust': 0.00010509239700695616, 'fear': 7.089436799287796, 'happy': 0.016324632451869547, 'sad': 22.593218088150024, 'surprise': 0.0038906266127014533, 'neutral': 48.823508620262146}, 'dominant_emotion': 'neutral', 'region': {'x': 158, 'y': 419, 'w': 344, 'h': 344, 'left_eye': (384, 555), 'right_eye': (251, 575)}, 'face_confidence': 0.89}], [{'emotion': {'angry': 22.812776267528534, 'disgust': 0.23378343321383, 'fear': 21.48396074771881, 'happy': 3.7627261132001877, 'sad': 32.762932777404785, 'surprise': 1.0242342948913574, 'neutral': 17.91958659887314}, 'dominant_emotion': 'sad', 'region': {'x': 178, 'y': 396, 'w': 335, 'h': 335, 'left_eye': (402, 539), 'right_eye': (270, 550)}, 'face_confidence': 0.92}], [{'emotion': {'angry': 39.94256556034088, 'disgust': 0.006103764462750405, 'fear': 18.866458535194397, 'happy': 0.0367264321539551, 'sad': 23.844116926193237, 'surprise': 0.008045705908443779, 'neutral': 17.29598343372345}, 'dominant_emotion': 'angry', 'region': {'x': 163, 'y': 425, 'w': 340, 'h': 340, 'left_eye': (385, 556), 'right_eye': (256, 581)}, 'face_confidence': 0.89}], [{'emotion': {'angry': 2.6325924322009087, 'disgust': 0.01303890603594482, 'fear': 40.07649123668671, 'happy': 1.4983132481575012, 'sad': 52.26205587387085, 'surprise': 0.12083877809345722, 'neutral': 3.3966708928346634}, 'dominant_emotion': 'sad', 'region': {'x': 199, 'y': 389, 'w': 329, 'h': 329, 'left_eye': None, 'right_eye': None}, 'face_confidence': 0.91}], [{'emotion': {'angry': 4.576211795210838, 'disgust': 1.787583272516713e-05, 'fear': 1.6756132245063782, 'happy': 0.007301416917471215, 'sad': 26.74030065536499, 'surprise': 0.0011553080184967257, 'neutral': 66.99939966201782}, 'dominant_emotion': 'neutral', 'region': {'x': 173, 'y': 426, 'w': 350, 'h': 350, 'left_eye': (402, 566), 'right_eye': (277, 575)}, 'face_confidence': 0.92}], [{'emotion': {'angry': 9.694623202085495, 'disgust': 0.008486083970637992, 'fear': 3.892778605222702, 'happy': 0.20145897287875414, 'sad': 56.99363946914673, 'surprise': 0.02023730630753562, 'neutral': 29.188773036003113}, 'dominant_emotion': 'sad', 'region': {'x': 163, 'y': 423, 'w': 329, 'h': 329, 'left_eye': (390, 563), 'right_eye': (260, 565)}, 'face_confidence': 0.93}], [{'emotion': {'angry': 32.390092922438036, 'disgust': 0.001466357851133165, 'fear': 12.59175239899726, 'happy': 0.06604792810591423, 'sad': 33.259784190680485, 'surprise': 0.0051145934136184335, 'neutral': 21.68573776653555}, 'dominant_emotion': 'sad', 'region': {'x': 160, 'y': 417, 'w': 347, 'h': 347, 'left_eye': (385, 553), 'right_eye': (256, 575)}, 'face_confidence': 0.89}], [{'emotion': {'angry': 72.95958673472246, 'disgust': 6.343823645463683e-06, 'fear': 15.785757098884236, 'happy': 0.07131622091725122, 'sad': 5.92403072703251, 'surprise': 0.0026130133323866937, 'neutral': 5.256695554458565}, 'dominant_emotion': 'angry', 'region': {'x': 186, 'y': 422, 'w': 351, 'h': 351, 'left_eye': (418, 563), 'right_eye': (286, 569)}, 'face_confidence': 0.92}], [{'emotion': {'angry': 0.7912593893706799, 'disgust': 1.8074688057367894e-05, 'fear': 12.704889476299286, 'happy': 0.03434266254771501, 'sad': 41.383299231529236, 'surprise': 0.0014988030670792796, 'neutral': 45.084694027900696}, 'dominant_emotion': 'neutral', 'region': {'x': 187, 'y': 429, 'w': 337, 'h': 337, 'left_eye': None, 'right_eye': None}, 'face_confidence': 0.92}], [{'emotion': {'angry': 7.300022679568689, 'disgust': 0.005646908148333543, 'fear': 6.34862520388515, 'happy': 0.07300237628831723, 'sad': 56.45422675932805, 'surprise': 0.010956718249926313, 'neutral': 29.80752168938647}, 'dominant_emotion': 'sad', 'region': {'x': 196, 'y': 423, 'w': 333, 'h': 333, 'left_eye': None, 'right_eye': None}, 'face_confidence': 0.9}], [{'emotion': {'angry': 18.157249689102173, 'disgust': 6.686622100460227e-05, 'fear': 7.563407719135284, 'happy': 0.4486857447773218, 'sad': 21.200624108314514, 'surprise': 0.001253680147783598, 'neutral': 52.62870788574219}, 'dominant_emotion': 'neutral', 'region': {'x': 177, 'y': 431, 'w': 338, 'h': 338, 'left_eye': None, 'right_eye': None}, 'face_confidence': 0.92}], [{'emotion': {'angry': 12.032583355903625, 'disgust': 0.09840731509029865, 'fear': 25.382131338119507, 'happy': 8.611784130334854, 'sad': 31.51364028453827, 'surprise': 0.21933414973318577, 'neutral': 22.142121195793152}, 'dominant_emotion': 'sad', 'region': {'x': 179, 'y': 402, 'w': 335, 'h': 335, 'left_eye': (405, 545), 'right_eye': (268, 553)}, 'face_confidence': 0.91}], [{'emotion': {'angry': 35.689654093364126, 'disgust': 8.928698313321705e-06, 'fear': 1.5505543902846808, 'happy': 0.0032412741460758686, 'sad': 4.727860449425009, 'surprise': 0.0012527738200349497, 'neutral': 58.02742588683521}, 'dominant_emotion': 'neutral', 'region': {'x': 162, 'y': 433, 'w': 343, 'h': 343, 'left_eye': (385, 560), 'right_eye': (256, 584)}, 'face_confidence': 0.88}], [{'emotion': {'angry': 0.11897362546465548, 'disgust': 8.066706638030236e-10, 'fear': 0.0314414170684765, 'happy': 0.00021299703253950932, 'sad': 4.363353437981214, 'surprise': 5.881260274062946e-08, 'neutral': 95.48602077281599}, 'dominant_emotion': 'neutral', 'region': {'x': 172, 'y': 446, 'w': 347, 'h': 347, 'left_eye': None, 'right_eye': None}, 'face_confidence': 0.91}], [{'emotion': {'angry': 17.285610735416412, 'disgust': 0.0005459252861328423, 'fear': 18.180112540721893, 'happy': 0.08849508012644947, 'sad': 18.90929937362671, 'surprise': 0.011234359408263117, 'neutral': 45.524704456329346}, 'dominant_emotion': 'neutral', 'region': {'x': 183, 'y': 430, 'w': 329, 'h': 329, 'left_eye': (399, 561), 'right_eye': (268, 575)}, 'face_confidence': 0.91}], [{'emotion': {'angry': 18.391123414039612, 'disgust': 0.0003862720404868014, 'fear': 18.44358742237091, 'happy': 0.3922236617654562, 'sad': 57.81885385513306, 'surprise': 0.005860755845787935, 'neutral': 4.947963729500771}, 'dominant_emotion': 'sad', 'region': {'x': 185, 'y': 410, 'w': 330, 'h': 330, 'left_eye': (409, 549), 'right_eye': (274, 557)}, 'face_confidence': 0.9}], [{'emotion': {'angry': 11.253032759012745, 'disgust': 0.0003179828998684819, 'fear': 8.331380536042484, 'happy': 0.16380757836968174, 'sad': 47.95832025756361, 'surprise': 0.006609669465589193, 'neutral': 32.28653265753583}, 'dominant_emotion': 'sad', 'region': {'x': 182, 'y': 431, 'w': 338, 'h': 338, 'left_eye': (410, 568), 'right_eye': (280, 571)}, 'face_confidence': 0.9}], [{'emotion': {'angry': 15.960561690363985, 'disgust': 0.0019130627382532835, 'fear': 13.399433398212993, 'happy': 0.3497126953505096, 'sad': 54.398289585011575, 'surprise': 0.004783872567273532, 'neutral': 15.885306351501129}, 'dominant_emotion': 'sad', 'region': {'x': 175, 'y': 420, 'w': 347, 'h': 347, 'left_eye': (405, 558), 'right_eye': (273, 571)}, 'face_confidence': 0.9}], [{'emotion': {'angry': 4.182890430092812, 'disgust': 9.507931331143027e-07, 'fear': 0.4231369588524103, 'happy': 0.048155125114135444, 'sad': 19.070526957511902, 'surprise': 0.0003604551238822751, 'neutral': 76.27492547035217}, 'dominant_emotion': 'neutral', 'region': {'x': 171, 'y': 434, 'w': 330, 'h': 330, 'left_eye': (389, 560), 'right_eye': (261, 579)}, 'face_confidence': 0.87}], [{'emotion': {'angry': 21.248606294559682, 'disgust': 0.019275428233896556, 'fear': 15.07739841015358, 'happy': 0.6478621317759595, 'sad': 49.415877531066236, 'surprise': 0.06494921789178636, 'neutral': 13.526031252618878}, 'dominant_emotion': 'sad', 'region': {'x': 178, 'y': 419, 'w': 337, 'h': 337, 'left_eye': (403, 554), 'right_eye': (271, 566)}, 'face_confidence': 0.89}], [{'emotion': {'angry': 1.3752689585089684, 'disgust': 2.3247188618569226e-07, 'fear': 0.7018725853413343, 'happy': 0.0005244566636974923, 'sad': 38.70824575424194, 'surprise': 1.7608149960324226e-05, 'neutral': 59.214067459106445}, 'dominant_emotion': 'neutral', 'region': {'x': 173, 'y': 435, 'w': 343, 'h': 343, 'left_eye': None, 'right_eye': None}, 'face_confidence': 0.89}], [{'emotion': {'angry': 5.558365128441468, 'disgust': 0.001109846057688394, 'fear': 3.96775389823364, 'happy': 0.12534302989384888, 'sad': 29.138568537064618, 'surprise': 0.0032255899193701426, 'neutral': 61.20563879080281}, 'dominant_emotion': 'neutral', 'region': {'x': 192, 'y': 434, 'w': 335, 'h': 335, 'left_eye': (419, 570), 'right_eye': (290, 572)}, 'face_confidence': 0.89}], [{'emotion': {'angry': 4.195321228821351, 'disgust': 0.012664074192755621, 'fear': 16.157650420525695, 'happy': 8.570125464804498, 'sad': 65.35851748934492, 'surprise': 0.01197642412524777, 'neutral': 5.693746697529954}, 'dominant_emotion': 'sad', 'region': {'x': 181, 'y': 399, 'w': 339, 'h': 339, 'left_eye': (414, 546), 'right_eye': (274, 549)}, 'face_confidence': 0.92}], [{'emotion': {'angry': 25.539927216763928, 'disgust': 0.002237305804214041, 'fear': 3.5892645173826527, 'happy': 0.24089160414139058, 'sad': 53.56678685944002, 'surprise': 0.0016144365015895441, 'neutral': 17.059280995087683}, 'dominant_emotion': 'sad', 'region': {'x': 187, 'y': 415, 'w': 336, 'h': 336, 'left_eye': (415, 552), 'right_eye': (280, 558)}, 'face_confidence': 0.91}], [{'emotion': {'angry': 6.332796812057495, 'disgust': 0.0001313818984272075, 'fear': 10.965421050786972, 'happy': 0.15583822969347239, 'sad': 40.65086543560028, 'surprise': 0.0028817839847761206, 'neutral': 41.89206659793854}, 'dominant_emotion': 'neutral', 'region': {'x': 173, 'y': 432, 'w': 342, 'h': 342, 'left_eye': (403, 571), 'right_eye': (270, 579)}, 'face_confidence': 0.89}], [{'emotion': {'angry': 5.971306934952736, 'disgust': 0.00035351533824723447, 'fear': 6.861615926027298, 'happy': 0.19771356601268053, 'sad': 64.16038870811462, 'surprise': 0.0033707281545503065, 'neutral': 22.80524969100952}, 'dominant_emotion': 'sad', 'region': {'x': 169, 'y': 426, 'w': 335, 'h': 335, 'left_eye': (394, 559), 'right_eye': (262, 571)}, 'face_confidence': 0.89}], [{'emotion': {'angry': 14.514942467212677, 'disgust': 0.04209854523651302, 'fear': 30.636796355247498, 'happy': 1.8703775480389595, 'sad': 22.50552922487259, 'surprise': 0.05779724451713264, 'neutral': 30.37245273590088}, 'dominant_emotion': 'fear', 'region': {'x': 180, 'y': 402, 'w': 345, 'h': 345, 'left_eye': (391, 527), 'right_eye': (279, 548)}, 'face_confidence': 0.9}], [{'emotion': {'angry': 16.764508696139895, 'disgust': 0.00018950013312693176, 'fear': 21.342537861172897, 'happy': 0.032027028826493484, 'sad': 27.108353627723886, 'surprise': 0.013339836867525353, 'neutral': 34.7390484498797}, 'dominant_emotion': 'neutral', 'region': {'x': 199, 'y': 422, 'w': 337, 'h': 337, 'left_eye': (425, 557), 'right_eye': (295, 565)}, 'face_confidence': 0.9}], [{'emotion': {'angry': 16.147197782993317, 'disgust': 0.09901889134198427, 'fear': 3.4831903874874115, 'happy': 3.981979936361313, 'sad': 21.053805947303772, 'surprise': 0.5632896907627583, 'neutral': 54.67151403427124}, 'dominant_emotion': 'neutral', 'region': {'x': 172, 'y': 395, 'w': 341, 'h': 341, 'left_eye': (400, 537), 'right_eye': (265, 554)}, 'face_confidence': 0.91}], [{'emotion': {'angry': 24.92087632417679, 'disgust': 0.03750777104869485, 'fear': 10.687369108200073, 'happy': 2.1549832075834274, 'sad': 28.4548282623291, 'surprise': 0.27926904149353504, 'neutral': 33.46516191959381}, 'dominant_emotion': 'neutral', 'region': {'x': 168, 'y': 405, 'w': 346, 'h': 346, 'left_eye': (396, 545), 'right_eye': (263, 560)}, 'face_confidence': 0.91}], [{'emotion': {'angry': 5.567860975861549, 'disgust': 0.00015872236645009252, 'fear': 2.578286826610565, 'happy': 0.14860979281365871, 'sad': 52.52144932746887, 'surprise': 0.0004847561285714619, 'neutral': 39.183154702186584}, 'dominant_emotion': 'sad', 'region': {'x': 186, 'y': 414, 'w': 345, 'h': 345, 'left_eye': (427, 560), 'right_eye': (280, 564)}, 'face_confidence': 0.91}], [{'emotion': {'angry': 6.97096660733223, 'disgust': 2.9901954690103594e-05, 'fear': 3.1159276142716408, 'happy': 0.0074810770456679165, 'sad': 9.438034147024155, 'surprise': 0.004296787301427685, 'neutral': 80.46326637268066}, 'dominant_emotion': 'neutral', 'region': {'x': 187, 'y': 427, 'w': 337, 'h': 337, 'left_eye': (414, 560), 'right_eye': (282, 567)}, 'face_confidence': 0.88}], [{'emotion': {'angry': 0.31673950143158436, 'disgust': 4.570570588668943e-08, 'fear': 0.18825302831828594, 'happy': 0.0008855087799020112, 'sad': 8.923104405403137, 'surprise': 1.2039214958292632e-06, 'neutral': 90.57101607322693}, 'dominant_emotion': 'neutral', 'region': {'x': 166, 'y': 443, 'w': 346, 'h': 346, 'left_eye': None, 'right_eye': None}, 'face_confidence': 0.89}], [{'emotion': {'angry': 7.547225058078766, 'disgust': 0.00022840929432277335, 'fear': 13.757273554801941, 'happy': 0.013797791325487196, 'sad': 23.398111760616302, 'surprise': 0.010731956717791036, 'neutral': 55.27263283729553}, 'dominant_emotion': 'neutral', 'region': {'x': 166, 'y': 413, 'w': 333, 'h': 333, 'left_eye': (387, 547), 'right_eye': (256, 565)}, 'face_confidence': 0.91}], [{'emotion': {'angry': 8.386971056461334, 'disgust': 0.00015163918760663364, 'fear': 9.209518134593964, 'happy': 0.03713348705787212, 'sad': 20.155934989452362, 'surprise': 0.019565323600545526, 'neutral': 62.19072341918945}, 'dominant_emotion': 'neutral', 'region': {'x': 196, 'y': 428, 'w': 346, 'h': 346, 'left_eye': (427, 566), 'right_eye': (298, 571)}, 'face_confidence': 0.91}], [{'emotion': {'angry': 4.130044206976891, 'disgust': 0.00016867342083060066, 'fear': 8.324527740478516, 'happy': 0.07123094401322305, 'sad': 41.76702797412872, 'surprise': 0.002286315429955721, 'neutral': 45.704710483551025}, 'dominant_emotion': 'neutral', 'region': {'x': 185, 'y': 423, 'w': 340, 'h': 340, 'left_eye': (412, 562), 'right_eye': (283, 567)}, 'face_confidence': 0.91}], [{'emotion': {'angry': 14.310632430239625, 'disgust': 0.0005240273652040607, 'fear': 12.885871483579697, 'happy': 0.22184410747508915, 'sad': 31.270997968793157, 'surprise': 0.006786816730198877, 'neutral': 41.30333765705375}, 'dominant_emotion': 'neutral', 'region': {'x': 178, 'y': 418, 'w': 339, 'h': 339, 'left_eye': (401, 553), 'right_eye': (271, 565)}, 'face_confidence': 0.89}], [{'emotion': {'angry': 8.226445081657758, 'disgust': 0.11130348849403995, 'fear': 21.938008435009905, 'happy': 4.874707922374258, 'sad': 57.50367551998192, 'surprise': 0.2197936380900576, 'neutral': 7.126060023777482}, 'dominant_emotion': 'sad', 'region': {'x': 186, 'y': 394, 'w': 331, 'h': 331, 'left_eye': (409, 538), 'right_eye': (276, 545)}, 'face_confidence': 0.9}], [{'emotion': {'angry': 2.242935076355934, 'disgust': 8.10777578408306e-07, 'fear': 0.14347864780575037, 'happy': 0.08410445298068225, 'sad': 6.7342013120651245, 'surprise': 9.370304496769677e-05, 'neutral': 90.7951831817627}, 'dominant_emotion': 'neutral', 'region': {'x': 205, 'y': 414, 'w': 351, 'h': 351, 'left_eye': (438, 561), 'right_eye': (305, 559)}, 'face_confidence': 0.91}], [{'emotion': {'angry': 2.9772741720080376, 'disgust': 0.0019789520592894405, 'fear': 24.09757375717163, 'happy': 0.23731046821922064, 'sad': 47.826775908470154, 'surprise': 0.007932078005978838, 'neutral': 24.851156771183014}, 'dominant_emotion': 'sad', 'region': {'x': 180, 'y': 421, 'w': 340, 'h': 340, 'left_eye': (404, 559), 'right_eye': (273, 571)}, 'face_confidence': 0.9}], [{'emotion': {'angry': 17.474110424518585, 'disgust': 8.423469921581273e-05, 'fear': 1.546176802366972, 'happy': 0.3275495022535324, 'sad': 30.330872535705566, 'surprise': 0.004516410263022408, 'neutral': 50.316691398620605}, 'dominant_emotion': 'neutral', 'region': {'x': 171, 'y': 425, 'w': 345, 'h': 345, 'left_eye': (399, 565), 'right_eye': (267, 573)}, 'face_confidence': 0.91}], [{'emotion': {'angry': 4.361807442415204, 'disgust': 1.4080154060372458e-05, 'fear': 2.890398711883945, 'happy': 0.009087420581229886, 'sad': 6.544568779740857, 'surprise': 0.004212728050411302, 'neutral': 86.1899129265495}, 'dominant_emotion': 'neutral', 'region': {'x': 176, 'y': 424, 'w': 344, 'h': 344, 'left_eye': (406, 559), 'right_eye': (274, 568)}, 'face_confidence': 0.9}], [{'emotion': {'angry': 0.028972879498511822, 'disgust': 7.702098973609061e-05, 'fear': 0.17849019395501578, 'happy': 85.90159332165678, 'sad': 0.22579353717228992, 'surprise': 0.011754866109519667, 'neutral': 13.65332237799897}, 'dominant_emotion': 'happy', 'region': {'x': 194, 'y': 416, 'w': 330, 'h': 330, 'left_eye': (423, 565), 'right_eye': (305, 538)}, 'face_confidence': 0.92}], [{'emotion': {'angry': 8.682551234960556, 'disgust': 0.0003911837666237261, 'fear': 16.491398215293884, 'happy': 0.07347833598032594, 'sad': 41.532689332962036, 'surprise': 0.008426277054240927, 'neutral': 33.21106433868408}, 'dominant_emotion': 'sad', 'region': {'x': 175, 'y': 423, 'w': 338, 'h': 338, 'left_eye': (393, 559), 'right_eye': (261, 580)}, 'face_confidence': 0.91}], [{'emotion': {'angry': 6.318135559558868, 'disgust': 0.019290520867798477, 'fear': 43.646711111068726, 'happy': 0.4362232517451048, 'sad': 27.58144736289978, 'surprise': 0.04741490993183106, 'neutral': 21.950779855251312}, 'dominant_emotion': 'fear', 'region': {'x': 170, 'y': 406, 'w': 343, 'h': 343, 'left_eye': (396, 546), 'right_eye': (262, 561)}, 'face_confidence': 0.89}], [{'emotion': {'angry': 5.105820670723915, 'disgust': 0.05302312783896923, 'fear': 34.21327769756317, 'happy': 2.608256973326206, 'sad': 34.88703668117523, 'surprise': 0.10946945985779166, 'neutral': 23.02311807870865}, 'dominant_emotion': 'sad', 'region': {'x': 178, 'y': 405, 'w': 336, 'h': 336, 'left_eye': (403, 545), 'right_eye': (268, 556)}, 'face_confidence': 0.9}], [{'emotion': {'angry': 3.5008221864700317, 'disgust': 0.013792316894978285, 'fear': 39.219024777412415, 'happy': 0.9445283561944962, 'sad': 22.02105224132538, 'surprise': 0.01663710572756827, 'neutral': 34.28415060043335}, 'dominant_emotion': 'fear', 'region': {'x': 182, 'y': 417, 'w': 345, 'h': 345, 'left_eye': (406, 551), 'right_eye': (280, 562)}, 'face_confidence': 0.92}], [{'emotion': {'angry': 3.647708147764206, 'disgust': 0.0006798779395467136, 'fear': 21.899859607219696, 'happy': 0.148914591409266, 'sad': 24.018582701683044, 'surprise': 0.019461226474959403, 'neutral': 50.26479363441467}, 'dominant_emotion': 'neutral', 'region': {'x': 196, 'y': 432, 'w': 330, 'h': 330, 'left_eye': (420, 566), 'right_eye': (289, 569)}, 'face_confidence': 0.9}], [{'emotion': {'angry': 27.441880106925964, 'disgust': 0.2918850863352418, 'fear': 9.812670946121216, 'happy': 0.7030027452856302, 'sad': 53.71459126472473, 'surprise': 0.599319813773036, 'neutral': 7.436652481555939}, 'dominant_emotion': 'sad', 'region': {'x': 193, 'y': 388, 'w': 346, 'h': 346, 'left_eye': (425, 538), 'right_eye': (291, 544)}, 'face_confidence': 0.91}], [{'emotion': {'angry': 1.3174590654671192, 'disgust': 6.84388453464635e-05, 'fear': 8.139611780643463, 'happy': 0.014029689191374928, 'sad': 35.174164175987244, 'surprise': 0.0010723989362304565, 'neutral': 55.353593826293945}, 'dominant_emotion': 'neutral', 'region': {'x': 191, 'y': 429, 'w': 342, 'h': 342, 'left_eye': (420, 571), 'right_eye': (284, 571)}, 'face_confidence': 0.91}], [{'emotion': {'angry': 51.51795148849487, 'disgust': 0.000157388319621532, 'fear': 1.3706195168197155, 'happy': 1.2363028712570667, 'sad': 14.219826459884644, 'surprise': 0.0019034809156437404, 'neutral': 31.65324032306671}, 'dominant_emotion': 'angry', 'region': {'x': 178, 'y': 420, 'w': 342, 'h': 342, 'left_eye': (401, 554), 'right_eye': (272, 568)}, 'face_confidence': 0.9}], [{'emotion': {'angry': 16.43064171075821, 'disgust': 0.0030295275792013854, 'fear': 14.66437578201294, 'happy': 0.218755635432899, 'sad': 34.73086059093475, 'surprise': 0.03302722470834851, 'neutral': 33.91931354999542}, 'dominant_emotion': 'sad', 'region': {'x': 166, 'y': 421, 'w': 343, 'h': 343, 'left_eye': (394, 554), 'right_eye': (261, 570)}, 'face_confidence': 0.89}], [{'emotion': {'angry': 29.768210649490356, 'disgust': 0.0015906683984212577, 'fear': 12.930342555046082, 'happy': 0.59132045134902, 'sad': 14.829027652740479, 'surprise': 0.09839365957304835, 'neutral': 41.78111255168915}, 'dominant_emotion': 'neutral', 'region': {'x': 184, 'y': 405, 'w': 347, 'h': 347, 'left_eye': (411, 543), 'right_eye': (279, 555)}, 'face_confidence': 0.89}], [{'emotion': {'angry': 9.3667671084404, 'disgust': 5.525340043277538e-05, 'fear': 1.787734031677246, 'happy': 0.055627344409003854, 'sad': 17.15897023677826, 'surprise': 0.0022388358047464862, 'neutral': 71.62860631942749}, 'dominant_emotion': 'neutral', 'region': {'x': 181, 'y': 433, 'w': 344, 'h': 344, 'left_eye': (411, 572), 'right_eye': (282, 578)}, 'face_confidence': 0.9}], [{'emotion': {'angry': 31.282609701156616, 'disgust': 0.0018421374988975003, 'fear': 26.719236373901367, 'happy': 0.2651149407029152, 'sad': 27.42234468460083, 'surprise': 0.02663536579348147, 'neutral': 14.282219111919403}, 'dominant_emotion': 'angry', 'region': {'x': 180, 'y': 407, 'w': 345, 'h': 345, 'left_eye': (409, 547), 'right_eye': (277, 559)}, 'face_confidence': 0.88}], [{'emotion': {'angry': 3.3413196111511954, 'disgust': 0.002795081475759125, 'fear': 13.515149862477175, 'happy': 0.19546226832045724, 'sad': 39.36554726156874, 'surprise': 0.007916214707435799, 'neutral': 43.5718145115265}, 'dominant_emotion': 'neutral', 'region': {'x': 218, 'y': 412, 'w': 352, 'h': 352, 'left_eye': None, 'right_eye': None}, 'face_confidence': 0.91}], [{'emotion': {'angry': 19.554118812084198, 'disgust': 0.007943532546050847, 'fear': 24.537208676338196, 'happy': 8.94448608160019, 'sad': 29.201874136924744, 'surprise': 0.5262205377221107, 'neutral': 17.2281414270401}, 'dominant_emotion': 'sad', 'region': {'x': 184, 'y': 391, 'w': 341, 'h': 341, 'left_eye': (412, 538), 'right_eye': (276, 548)}, 'face_confidence': 0.91}], [{'emotion': {'angry': 36.68563663959503, 'disgust': 0.02354379539610818, 'fear': 10.846506804227829, 'happy': 0.2342253690585494, 'sad': 31.294703483581543, 'surprise': 0.023936516663525254, 'neutral': 20.891442894935608}, 'dominant_emotion': 'angry', 'region': {'x': 166, 'y': 404, 'w': 348, 'h': 348, 'left_eye': (393, 544), 'right_eye': (261, 563)}, 'face_confidence': 0.88}], [{'emotion': {'angry': 41.83505080164085, 'disgust': 6.279889997238335e-05, 'fear': 6.423284134064214, 'happy': 0.08440267835142354, 'sad': 18.536361281438026, 'surprise': 0.0032856187596304355, 'neutral': 33.11755455941612}, 'dominant_emotion': 'angry', 'region': {'x': 176, 'y': 422, 'w': 346, 'h': 346, 'left_eye': (403, 560), 'right_eye': (271, 574)}, 'face_confidence': 0.91}], [{'emotion': {'angry': 2.5161225348711014, 'disgust': 0.0007687773177167401, 'fear': 37.920525670051575, 'happy': 3.0650390312075615, 'sad': 53.5484254360199, 'surprise': 0.011396697664167732, 'neutral': 2.9377225786447525}, 'dominant_emotion': 'sad', 'region': {'x': 223, 'y': 401, 'w': 304, 'h': 304, 'left_eye': (433, 542), 'right_eye': (311, 532)}, 'face_confidence': 0.92}], [{'emotion': {'angry': 11.243267282442288, 'disgust': 0.011081784692811054, 'fear': 5.834271734015449, 'happy': 0.4079349116495199, 'sad': 61.62621746219501, 'surprise': 0.013710748406581486, 'neutral': 20.86351787230479}, 'dominant_emotion': 'sad', 'region': {'x': 186, 'y': 421, 'w': 335, 'h': 335, 'left_eye': (408, 556), 'right_eye': (274, 573)}, 'face_confidence': 0.9}], [{'emotion': {'angry': 0.7540235761553049, 'disgust': 0.000554639291294734, 'fear': 15.450307726860046, 'happy': 0.8724276907742023, 'sad': 43.29753816127777, 'surprise': 0.000832352634461131, 'neutral': 39.62431848049164}, 'dominant_emotion': 'sad', 'region': {'x': 189, 'y': 432, 'w': 335, 'h': 335, 'left_eye': None, 'right_eye': None}, 'face_confidence': 0.91}], [{'emotion': {'angry': 27.750495404064107, 'disgust': 0.0014670297717080086, 'fear': 14.216938819520333, 'happy': 0.02649572295272028, 'sad': 27.93104683530889, 'surprise': 0.026103720503185154, 'neutral': 30.047464972432252}, 'dominant_emotion': 'neutral', 'region': {'x': 187, 'y': 421, 'w': 333, 'h': 333, 'left_eye': (410, 557), 'right_eye': (276, 568)}, 'face_confidence': 0.92}], [{'emotion': {'angry': 65.06613880790107, 'disgust': 0.007213595811436076, 'fear': 4.365971944688078, 'happy': 0.06530469207046581, 'sad': 20.734496160417567, 'surprise': 0.004015215257041879, 'neutral': 9.75686295371431}, 'dominant_emotion': 'angry', 'region': {'x': 153, 'y': 424, 'w': 348, 'h': 348, 'left_eye': (380, 558), 'right_eye': (250, 579)}, 'face_confidence': 0.92}], [{'emotion': {'angry': 2.3177310824394226, 'disgust': 1.8795441647512234e-06, 'fear': 3.447163850069046, 'happy': 0.016264751320704818, 'sad': 4.446141794323921, 'surprise': 0.005085629891254939, 'neutral': 89.76761102676392}, 'dominant_emotion': 'neutral', 'region': {'x': 177, 'y': 420, 'w': 349, 'h': 349, 'left_eye': (408, 558), 'right_eye': (278, 566)}, 'face_confidence': 0.9}], [{'emotion': {'angry': 52.014461279777365, 'disgust': 0.0002117322663944704, 'fear': 12.405908847207359, 'happy': 0.1636695912804956, 'sad': 24.72311554688904, 'surprise': 0.0019037831632579885, 'neutral': 10.690731447382655}, 'dominant_emotion': 'angry', 'region': {'x': 169, 'y': 421, 'w': 346, 'h': 346, 'left_eye': (398, 558), 'right_eye': (267, 574)}, 'face_confidence': 0.89}], [{'emotion': {'angry': 6.490906714851064, 'disgust': 0.024242713687972796, 'fear': 10.69295768099771, 'happy': 0.4451070246164217, 'sad': 80.09471178619336, 'surprise': 0.049600945249628735, 'neutral': 2.202471104411549}, 'dominant_emotion': 'sad', 'region': {'x': 229, 'y': 403, 'w': 344, 'h': 344, 'left_eye': (463, 552), 'right_eye': (332, 544)}, 'face_confidence': 0.93}], [{'emotion': {'angry': 8.900707215070724, 'disgust': 0.02031594776781276, 'fear': 13.3255735039711, 'happy': 2.079189196228981, 'sad': 23.57552945613861, 'surprise': 0.14210883527994156, 'neutral': 51.956576108932495}, 'dominant_emotion': 'neutral', 'region': {'x': 182, 'y': 413, 'w': 333, 'h': 333, 'left_eye': None, 'right_eye': None}, 'face_confidence': 0.9}], [{'emotion': {'angry': 1.6761859878897667, 'disgust': 6.168448862808873e-05, 'fear': 1.0069851763546467, 'happy': 1.1045272462069988, 'sad': 42.191317677497864, 'surprise': 0.0005439332198875491, 'neutral': 54.02037501335144}, 'dominant_emotion': 'neutral', 'region': {'x': 182, 'y': 417, 'w': 334, 'h': 334, 'left_eye': (409, 554), 'right_eye': (274, 561)}, 'face_confidence': 0.9}], [{'emotion': {'angry': 10.07091999053955, 'disgust': 0.0001413863856214448, 'fear': 17.47669279575348, 'happy': 0.12837700778618455, 'sad': 51.41306519508362, 'surprise': 0.004115312549402006, 'neutral': 20.906689763069153}, 'dominant_emotion': 'sad', 'region': {'x': 162, 'y': 431, 'w': 329, 'h': 329, 'left_eye': None, 'right_eye': None}, 'face_confidence': 0.9}], [{'emotion': {'angry': 4.360982663093964, 'disgust': 9.499355824163816e-06, 'fear': 0.8077464547900233, 'happy': 0.01967846009360761, 'sad': 5.220381109141178, 'surprise': 0.013676875911485458, 'neutral': 89.5775252328828}, 'dominant_emotion': 'neutral', 'region': {'x': 173, 'y': 434, 'w': 343, 'h': 343, 'left_eye': (401, 569), 'right_eye': (276, 573)}, 'face_confidence': 0.89}], [{'emotion': {'angry': 0.40503162890672684, 'disgust': 0.0020151792341494, 'fear': 2.0454520359635353, 'happy': 35.55628955364227, 'sad': 6.358450651168823, 'surprise': 0.0119296571938321, 'neutral': 55.62083721160889}, 'dominant_emotion': 'neutral', 'region': {'x': 195, 'y': 420, 'w': 341, 'h': 341, 'left_eye': None, 'right_eye': None}, 'face_confidence': 0.89}], [{'emotion': {'angry': 5.378827773262726, 'disgust': 0.0018803174709578214, 'fear': 8.371662847498825, 'happy': 0.1655529468277363, 'sad': 69.91106688446204, 'surprise': 0.0030067913003704915, 'neutral': 16.168006728172703}, 'dominant_emotion': 'sad', 'region': {'x': 184, 'y': 423, 'w': 336, 'h': 336, 'left_eye': (409, 558), 'right_eye': (276, 570)}, 'face_confidence': 0.9}], [{'emotion': {'angry': 16.38854742050171, 'disgust': 0.017151130305137485, 'fear': 29.31232750415802, 'happy': 1.0450545698404312, 'sad': 28.81404757499695, 'surprise': 0.0708452076651156, 'neutral': 24.35203194618225}, 'dominant_emotion': 'fear', 'region': {'x': 176, 'y': 418, 'w': 349, 'h': 349, 'left_eye': (397, 552), 'right_eye': (274, 569)}, 'face_confidence': 0.89}], [{'emotion': {'angry': 7.827718555927277, 'disgust': 4.486784987989267e-06, 'fear': 2.7172451838850975, 'happy': 0.04359433951321989, 'sad': 15.049366652965546, 'surprise': 0.0007530823950219201, 'neutral': 74.36131834983826}, 'dominant_emotion': 'neutral', 'region': {'x': 174, 'y': 428, 'w': 353, 'h': 353, 'left_eye': (408, 570), 'right_eye': (275, 577)}, 'face_confidence': 0.92}], [{'emotion': {'angry': 8.52517661752422, 'disgust': 0.00011798969395853889, 'fear': 19.33492801605797, 'happy': 0.04922897792543208, 'sad': 43.25689593039703, 'surprise': 0.004356639848113898, 'neutral': 28.829300860083205}, 'dominant_emotion': 'sad', 'region': {'x': 175, 'y': 424, 'w': 345, 'h': 345, 'left_eye': (399, 563), 'right_eye': (269, 576)}, 'face_confidence': 0.91}]]\n"
          ]
        }
      ]
    },
    {
      "cell_type": "code",
      "source": [
        "# files_names"
      ],
      "metadata": {
        "id": "EDf3nQX7u-D2"
      },
      "execution_count": null,
      "outputs": []
    },
    {
      "cell_type": "code",
      "source": [
        "face_emotions[0]"
      ],
      "metadata": {
        "colab": {
          "base_uri": "https://localhost:8080/"
        },
        "id": "plSsuMO9HUCH",
        "outputId": "50069e68-fb02-43ec-e6df-0f5c80c28e05"
      },
      "execution_count": null,
      "outputs": [
        {
          "output_type": "execute_result",
          "data": {
            "text/plain": [
              "[{'emotion': {'angry': 0.00014929551070963498,\n",
              "   'disgust': 7.437982218682683e-18,\n",
              "   'fear': 0.7709387224167585,\n",
              "   'happy': 27.55844295024872,\n",
              "   'sad': 0.4611922428011894,\n",
              "   'surprise': 1.163096260279417,\n",
              "   'neutral': 70.04618644714355},\n",
              "  'dominant_emotion': 'neutral',\n",
              "  'region': {'x': 217,\n",
              "   'y': 249,\n",
              "   'w': 173,\n",
              "   'h': 173,\n",
              "   'left_eye': (336, 322),\n",
              "   'right_eye': (293, 381)},\n",
              "  'face_confidence': 0.93}]"
            ]
          },
          "metadata": {},
          "execution_count": 8
        }
      ]
    },
    {
      "cell_type": "code",
      "source": [
        "face_emotions[5][0]['face_confidence']"
      ],
      "metadata": {
        "colab": {
          "base_uri": "https://localhost:8080/"
        },
        "id": "QLPPAWGttGJu",
        "outputId": "9f8c2dca-c353-49ed-ec53-9a9c23298674"
      },
      "execution_count": null,
      "outputs": [
        {
          "output_type": "execute_result",
          "data": {
            "text/plain": [
              "0.91"
            ]
          },
          "metadata": {},
          "execution_count": 116
        }
      ]
    },
    {
      "cell_type": "code",
      "source": [
        "face_emotions[0][0]['emotion']"
      ],
      "metadata": {
        "colab": {
          "base_uri": "https://localhost:8080/"
        },
        "id": "iR4hO86VsmYF",
        "outputId": "c23544e3-d832-4e40-b9ae-c1abf823eaae"
      },
      "execution_count": null,
      "outputs": [
        {
          "output_type": "execute_result",
          "data": {
            "text/plain": [
              "{'angry': 7.904930412769318,\n",
              " 'disgust': 0.001812292066460941,\n",
              " 'fear': 91.11409783363342,\n",
              " 'happy': 0.00042541901166259777,\n",
              " 'sad': 0.7975678890943527,\n",
              " 'surprise': 0.01727049093460664,\n",
              " 'neutral': 0.16389427473768592}"
            ]
          },
          "metadata": {},
          "execution_count": 117
        }
      ]
    },
    {
      "cell_type": "code",
      "source": [
        "# results[0]['face_confidence']"
      ],
      "metadata": {
        "id": "gRBFuxgWnBvh"
      },
      "execution_count": null,
      "outputs": []
    },
    {
      "cell_type": "code",
      "source": [
        "len(face_emotions)"
      ],
      "metadata": {
        "colab": {
          "base_uri": "https://localhost:8080/"
        },
        "id": "6bFtbdcqvuWm",
        "outputId": "c7050ead-ee6d-4e31-d0b6-b6a9464273c3"
      },
      "execution_count": null,
      "outputs": [
        {
          "output_type": "execute_result",
          "data": {
            "text/plain": [
              "37"
            ]
          },
          "metadata": {},
          "execution_count": 118
        }
      ]
    },
    {
      "cell_type": "code",
      "source": [
        "import pandas as pd\n",
        "# data = pd.DataFrame(face_emotions)"
      ],
      "metadata": {
        "id": "_xo6bkvUxbXv"
      },
      "execution_count": null,
      "outputs": []
    },
    {
      "cell_type": "code",
      "source": [
        "face_emotions[0][0]['emotion']"
      ],
      "metadata": {
        "colab": {
          "base_uri": "https://localhost:8080/"
        },
        "id": "aKF7LRBGyONG",
        "outputId": "d05a1194-851e-4ae0-bb47-b18c4c1f1523"
      },
      "execution_count": null,
      "outputs": [
        {
          "output_type": "execute_result",
          "data": {
            "text/plain": [
              "{'angry': 7.904930412769318,\n",
              " 'disgust': 0.001812292066460941,\n",
              " 'fear': 91.11409783363342,\n",
              " 'happy': 0.00042541901166259777,\n",
              " 'sad': 0.7975678890943527,\n",
              " 'surprise': 0.01727049093460664,\n",
              " 'neutral': 0.16389427473768592}"
            ]
          },
          "metadata": {},
          "execution_count": 119
        }
      ]
    },
    {
      "cell_type": "code",
      "source": [
        "# data = pd.DataFrame([face_emotions[0][0]['emotion']])"
      ],
      "metadata": {
        "id": "B1wEnjtxySzX"
      },
      "execution_count": null,
      "outputs": []
    },
    {
      "cell_type": "code",
      "source": [
        "# for i in range((len(face_emotions)-1)):\n",
        "#   print(face_emotions[i][0]['face_confidence'],face_emotions[i][0]['emotion'])\n",
        "#   data = pd.DataFrame([face_emotions[i][0]['emotion']])"
      ],
      "metadata": {
        "id": "QOOtCzsc02UY"
      },
      "execution_count": null,
      "outputs": []
    },
    {
      "cell_type": "code",
      "source": [
        "face_emotions[0][0]"
      ],
      "metadata": {
        "colab": {
          "base_uri": "https://localhost:8080/"
        },
        "id": "GC6DyqPgG7Zr",
        "outputId": "49659c41-1fdd-42f6-9516-f050d77c6d11"
      },
      "execution_count": null,
      "outputs": [
        {
          "output_type": "execute_result",
          "data": {
            "text/plain": [
              "{'emotion': {'angry': 7.904930412769318,\n",
              "  'disgust': 0.001812292066460941,\n",
              "  'fear': 91.11409783363342,\n",
              "  'happy': 0.00042541901166259777,\n",
              "  'sad': 0.7975678890943527,\n",
              "  'surprise': 0.01727049093460664,\n",
              "  'neutral': 0.16389427473768592},\n",
              " 'dominant_emotion': 'fear',\n",
              " 'region': {'x': 94,\n",
              "  'y': 119,\n",
              "  'w': 365,\n",
              "  'h': 365,\n",
              "  'left_eye': (257, 337),\n",
              "  'right_eye': (287, 399)},\n",
              " 'face_confidence': 0.93}"
            ]
          },
          "metadata": {},
          "execution_count": 120
        }
      ]
    },
    {
      "cell_type": "code",
      "source": [
        "import pandas as pd\n",
        "\n",
        "# List to store all emotion data\n",
        "emotion_data = []\n",
        "face_reaction=[]\n",
        "\n",
        "# Iterate through all results in face_emotions\n",
        "for i in range((len(face_emotions))):\n",
        "    # Print face confidence and emotions\n",
        "    print(face_emotions[i][0]['face_confidence'], face_emotions[i][0]['emotion'])\n",
        "\n",
        "    # Append the emotion dictionary to the list\n",
        "    emotion_data.append(face_emotions[i][0]['emotion'])\n",
        "    face_reaction.append(face_emotions[i][0]['face_confidence'])\n",
        "\n",
        "# Create a single DataFrame from the collected data\n",
        "data = pd.DataFrame(emotion_data)\n",
        "\n",
        "# Display the DataFrame\n",
        "print(data)\n"
      ],
      "metadata": {
        "colab": {
          "base_uri": "https://localhost:8080/"
        },
        "id": "lC2cVKSMvFVl",
        "outputId": "ed3b9c53-213a-4631-8947-4bd2f1ba40bf"
      },
      "execution_count": null,
      "outputs": [
        {
          "output_type": "stream",
          "name": "stdout",
          "text": [
            "0.89 {'angry': 1.9642970977071408, 'disgust': 0.020763015053080463, 'fear': 57.59628324552974, 'happy': 1.6344699922835837, 'sad': 22.52273589101602, 'surprise': 0.135743334074368, 'neutral': 16.125702425753783}\n",
            "0.9 {'angry': 1.9976748153567314, 'disgust': 3.3184147696374566e-05, 'fear': 0.5569330416619778, 'happy': 0.0135901864268817, 'sad': 67.98020601272583, 'surprise': 2.8370618565531913e-05, 'neutral': 29.451534152030945}\n",
            "0.9 {'angry': 0.7071939762681723, 'disgust': 1.8993047135040797e-06, 'fear': 1.4926242642104626, 'happy': 0.0004588804131344659, 'sad': 39.791908860206604, 'surprise': 2.0517735777048074e-05, 'neutral': 58.00779461860657}\n",
            "0.9 {'angry': 0.45609641820192337, 'disgust': 4.017213086626725e-05, 'fear': 0.22084005177021027, 'happy': 0.13454511063173413, 'sad': 8.403324335813522, 'surprise': 0.000536763627678738, 'neutral': 90.7846212387085}\n",
            "0.9 {'angry': 7.027009129524231, 'disgust': 0.0760148570407182, 'fear': 18.674257397651672, 'happy': 10.58296263217926, 'sad': 31.971466541290283, 'surprise': 0.28838864527642727, 'neutral': 31.379905343055725}\n",
            "0.91 {'angry': 20.01878470182419, 'disgust': 0.006493399268947542, 'fear': 4.177766293287277, 'happy': 5.281344801187515, 'sad': 40.52189290523529, 'surprise': 0.011782846559071913, 'neutral': 29.981938004493713}\n",
            "0.92 {'angry': 44.318906149994596, 'disgust': 3.443444869536319e-05, 'fear': 5.000505372821644, 'happy': 0.13185360759751708, 'sad': 13.689333058675164, 'surprise': 0.0011833435063606885, 'neutral': 36.85817577145389}\n",
            "0.9 {'angry': 13.58848661184311, 'disgust': 1.6274810832328512e-05, 'fear': 10.731348395347595, 'happy': 0.057312072021886706, 'sad': 31.502515077590942, 'surprise': 0.0015912504750303924, 'neutral': 44.11873817443848}\n",
            "0.89 {'angry': 43.58987808227539, 'disgust': 0.001440652795281494, 'fear': 8.804424852132797, 'happy': 0.061400653794407845, 'sad': 15.096819400787354, 'surprise': 0.017749052494764328, 'neutral': 32.42828845977783}\n",
            "0.9 {'angry': 1.8649704003316403, 'disgust': 0.006092103648599827, 'fear': 35.244806721496985, 'happy': 43.56883427911009, 'sad': 12.330183376680814, 'surprise': 0.5051519091517871, 'neutral': 6.479967771766649}\n",
            "0.89 {'angry': 3.0682306736707687, 'disgust': 0.0010028099495684728, 'fear': 30.01648187637329, 'happy': 0.053298164857551455, 'sad': 17.074505984783173, 'surprise': 0.0037073321436764672, 'neutral': 49.78277087211609}\n",
            "0.9 {'angry': 15.951767563819885, 'disgust': 0.009090480307349935, 'fear': 33.08974206447601, 'happy': 0.49295928329229355, 'sad': 23.44389259815216, 'surprise': 0.0644677085801959, 'neutral': 26.948082447052002}\n",
            "0.9 {'angry': 15.42145162820816, 'disgust': 1.5554003596207622e-05, 'fear': 0.8229457773268223, 'happy': 0.02585630863904953, 'sad': 12.685875594615936, 'surprise': 0.00013822050277667586, 'neutral': 71.04371786117554}\n",
            "0.89 {'angry': 0.24639368057250977, 'disgust': 3.0302034215168305e-07, 'fear': 0.012754446652252227, 'happy': 0.0096081719675567, 'sad': 2.569207176566124, 'surprise': 2.441031909938829e-06, 'neutral': 97.16203808784485}\n",
            "0.91 {'angry': 0.5293441636078553, 'disgust': 0.012350165360440655, 'fear': 7.826649585562895, 'happy': 63.59564824052432, 'sad': 4.559019378902838, 'surprise': 0.13515536421899368, 'neutral': 23.341835837583044}\n",
            "0.89 {'angry': 38.492118626363194, 'disgust': 1.2901359328228395e-05, 'fear': 1.03798309939999, 'happy': 0.0476425367399327, 'sad': 23.889188402246738, 'surprise': 0.00020957169338952598, 'neutral': 36.53284529047282}\n",
            "0.94 {'angry': 57.97688364982605, 'disgust': 0.06138755124993622, 'fear': 13.317251205444336, 'happy': 0.03175118763465434, 'sad': 27.15020775794983, 'surprise': 0.16611050814390182, 'neutral': 1.296408288180828}\n",
            "0.9 {'angry': 2.830136753618717, 'disgust': 0.0001785924155228713, 'fear': 8.458445221185684, 'happy': 0.11833764147013426, 'sad': 31.11892342567444, 'surprise': 0.0029390135750873014, 'neutral': 57.47103691101074}\n",
            "0.91 {'angry': 3.7893860065571072, 'disgust': 6.708978306441715e-06, 'fear': 4.335484167068253, 'happy': 0.008604937251159907, 'sad': 16.83928768868969, 'surprise': 0.0008187722902758295, 'neutral': 75.02641529002281}\n",
            "0.91 {'angry': 36.39247932389255, 'disgust': 0.00012074637689987372, 'fear': 25.03784448133972, 'happy': 0.27067336935838276, 'sad': 15.152379283450799, 'surprise': 0.06099386737086578, 'neutral': 23.085513596863365}\n",
            "0.91 {'angry': 2.8503568843007088, 'disgust': 5.594694130195421e-05, 'fear': 14.664825797080994, 'happy': 0.14118540566414595, 'sad': 27.188360691070557, 'surprise': 0.007211295451270416, 'neutral': 55.14800548553467}\n",
            "0.92 {'angry': 47.970762848854065, 'disgust': 0.04722789453808218, 'fear': 30.345559120178223, 'happy': 0.909720454365015, 'sad': 17.48719811439514, 'surprise': 0.5190023221075535, 'neutral': 2.7205267921090126}\n",
            "0.91 {'angry': 8.829913288354874, 'disgust': 0.0004299112333683297, 'fear': 3.652491420507431, 'happy': 1.5710292384028435, 'sad': 30.638134479522705, 'surprise': 0.026195347891189158, 'neutral': 55.281805992126465}\n",
            "0.9 {'angry': 7.017672806978226, 'disgust': 1.8039220606169692e-05, 'fear': 61.510640382766724, 'happy': 2.074425481259823, 'sad': 17.515943944454193, 'surprise': 0.013115887122694403, 'neutral': 11.868183314800262}\n",
            "0.91 {'angry': 7.214047759771347, 'disgust': 0.01792622497305274, 'fear': 19.509728252887726, 'happy': 0.42735650204122066, 'sad': 37.985146045684814, 'surprise': 0.08661238825879991, 'neutral': 34.75918471813202}\n",
            "0.91 {'angry': 3.1398618602670347, 'disgust': 8.486256648068607e-07, 'fear': 0.17382698005524158, 'happy': 0.05157415596837735, 'sad': 9.907140428253438, 'surprise': 6.910868094483386e-05, 'neutral': 86.7275289730745}\n",
            "0.92 {'angry': 6.98368176817894, 'disgust': 0.00799589033704251, 'fear': 21.729716658592224, 'happy': 0.8048597723245621, 'sad': 43.52235794067383, 'surprise': 0.03694774059113115, 'neutral': 26.91444158554077}\n",
            "0.9 {'angry': 9.007009118795395, 'disgust': 0.0009093520930036902, 'fear': 16.58257395029068, 'happy': 0.6720901001244783, 'sad': 23.615044355392456, 'surprise': 0.011457534128567204, 'neutral': 50.11091232299805}\n",
            "0.91 {'angry': 6.703439354896545, 'disgust': 0.0015072017959028017, 'fear': 4.3825168162584305, 'happy': 0.07449827971868217, 'sad': 56.07544779777527, 'surprise': 0.003158816252835095, 'neutral': 32.75943100452423}\n",
            "0.92 {'angry': 4.537419602274895, 'disgust': 1.3148277844265976e-05, 'fear': 0.11269358219578862, 'happy': 0.007848122186260298, 'sad': 5.377969518303871, 'surprise': 0.00014962063232815126, 'neutral': 89.96390700340271}\n",
            "0.91 {'angry': 2.469630539417267, 'disgust': 1.4285515703704732e-05, 'fear': 1.8731135874986649, 'happy': 0.007762661698507145, 'sad': 33.054372668266296, 'surprise': 0.00011656802598736249, 'neutral': 62.59499192237854}\n",
            "0.9 {'angry': 16.750013828277588, 'disgust': 0.09120175964199007, 'fear': 8.59726071357727, 'happy': 0.35346783697605133, 'sad': 38.50208520889282, 'surprise': 0.11426255805417895, 'neutral': 35.59170961380005}\n",
            "0.89 {'angry': 11.035721923622855, 'disgust': 0.0022284662080987593, 'fear': 4.297526040968175, 'happy': 0.02318394123106778, 'sad': 66.7069713226591, 'surprise': 0.005409492669939006, 'neutral': 17.92895133150204}\n",
            "0.88 {'angry': 44.81927218207453, 'disgust': 0.0014416401527717806, 'fear': 7.990626783296253, 'happy': 0.19589129362806157, 'sad': 22.816685102381097, 'surprise': 0.04175077858930486, 'neutral': 24.134329064568394}\n",
            "0.92 {'angry': 4.221424087882042, 'disgust': 5.891550358683162e-06, 'fear': 9.45475697517395, 'happy': 0.07570729358121753, 'sad': 11.013387888669968, 'surprise': 0.02124105958500877, 'neutral': 75.21347999572754}\n",
            "0.91 {'angry': 9.588486701250076, 'disgust': 0.0020077293811482377, 'fear': 8.296503871679306, 'happy': 0.24107866920530796, 'sad': 25.844985246658325, 'surprise': 0.02904728753492236, 'neutral': 55.99789023399353}\n",
            "0.92 {'angry': 41.08055233955383, 'disgust': 0.10456599993631244, 'fear': 2.9128307476639748, 'happy': 1.6033921390771866, 'sad': 43.02826523780823, 'surprise': 0.18453767988830805, 'neutral': 11.085855960845947}\n",
            "0.91 {'angry': 29.196983575820923, 'disgust': 2.0894310281960315e-06, 'fear': 1.0433252900838852, 'happy': 0.011514970537973568, 'sad': 4.289760440587997, 'surprise': 0.0010767021194624249, 'neutral': 65.4573380947113}\n",
            "0.9 {'angry': 2.6906637992663622, 'disgust': 0.0001348160888750368, 'fear': 37.247853011148806, 'happy': 0.029217751007646203, 'sad': 41.58043663734953, 'surprise': 0.0065255749583955905, 'neutral': 18.445163256506532}\n",
            "0.89 {'angry': 31.773579928109637, 'disgust': 0.00043357136458240886, 'fear': 16.48959714050259, 'happy': 0.050751504251912744, 'sad': 41.39778511497797, 'surprise': 0.005528957921971208, 'neutral': 10.282325480261502}\n",
            "0.89 {'angry': 6.425106525421143, 'disgust': 4.5621877120538556e-05, 'fear': 10.00417023897171, 'happy': 0.013446934462990612, 'sad': 11.091788858175278, 'surprise': 0.009426273754797876, 'neutral': 72.45601415634155}\n",
            "0.91 {'angry': 0.1317908870987594, 'disgust': 7.843943187037586e-12, 'fear': 0.0053725336329080164, 'happy': 3.8137766722456945e-06, 'sad': 4.410034418106079, 'surprise': 7.066752998746706e-10, 'neutral': 95.45280337333679}\n",
            "0.92 {'angry': 14.38974566581897, 'disgust': 0.006812983981043148, 'fear': 13.989862622039006, 'happy': 0.31150554784321216, 'sad': 60.11778591659237, 'surprise': 0.04680765292944426, 'neutral': 11.137473745647222}\n",
            "0.9 {'angry': 1.0784382643364825, 'disgust': 2.8651665860107254e-06, 'fear': 0.6093121031261743, 'happy': 0.01433858064019043, 'sad': 16.272033230783535, 'surprise': 6.457507127560518e-05, 'neutral': 82.02581298505146}\n",
            "0.91 {'angry': 10.055295377969742, 'disgust': 0.0002969773277072818, 'fear': 14.669591188430786, 'happy': 0.14639109140262008, 'sad': 59.844595193862915, 'surprise': 0.0017358279364998452, 'neutral': 15.282094478607178}\n",
            "0.91 {'angry': 11.998136341571808, 'disgust': 0.06912972312420607, 'fear': 15.272518992424011, 'happy': 0.15463721938431263, 'sad': 36.80324852466583, 'surprise': 0.041693856474012136, 'neutral': 35.66063344478607}\n",
            "0.92 {'angry': 9.34481005935729, 'disgust': 0.001187181422031355, 'fear': 6.396310412663842, 'happy': 0.009225692160375694, 'sad': 70.88603203809453, 'surprise': 0.006277375006351621, 'neutral': 13.356161913642998}\n",
            "0.9 {'angry': 5.9469341870467884, 'disgust': 0.00041517833271268904, 'fear': 18.04582393715667, 'happy': 0.027942823783197852, 'sad': 49.86625312164463, 'surprise': 0.0033578570220206853, 'neutral': 26.109278334293165}\n",
            "0.9 {'angry': 0.9267687971018311, 'disgust': 0.0011124979626559552, 'fear': 27.150556701488103, 'happy': 0.9086255135983841, 'sad': 30.33066753514618, 'surprise': 0.01058357209986749, 'neutral': 40.67168720623102}\n",
            "0.91 {'angry': 3.2505840063095093, 'disgust': 1.1869553340204675e-06, 'fear': 15.496386587619781, 'happy': 0.2649391768500209, 'sad': 10.018670558929443, 'surprise': 0.00013197773114370648, 'neutral': 70.9692895412445}\n",
            "0.91 {'angry': 1.6790378838777542, 'disgust': 0.0003420664825171116, 'fear': 5.808001756668091, 'happy': 0.07010921835899353, 'sad': 20.347872376441956, 'surprise': 0.0035987864976050332, 'neutral': 72.09104299545288}\n",
            "0.92 {'angry': 0.2827743004053414, 'disgust': 4.398873350200632e-06, 'fear': 0.3726350132828959, 'happy': 0.15540251968965052, 'sad': 10.127715625030733, 'surprise': 6.135710829867044e-05, 'neutral': 89.06140858300975}\n",
            "0.9 {'angry': 66.19498133659363, 'disgust': 0.0003417805601202417, 'fear': 3.7892431020736694, 'happy': 3.1851299107074738, 'sad': 12.506388127803802, 'surprise': 0.027802400290966034, 'neutral': 14.296120405197144}\n",
            "0.92 {'angry': 7.144843467762677, 'disgust': 0.0001691281782623121, 'fear': 1.78849540135237, 'happy': 0.016401941934343692, 'sad': 27.212767434881176, 'surprise': 0.0010008398618001966, 'neutral': 63.836322059412126}\n",
            "0.88 {'angry': 32.267820835113525, 'disgust': 0.0009106844117923174, 'fear': 4.680894687771797, 'happy': 0.21037841215729713, 'sad': 19.971023499965668, 'surprise': 0.014806269609834999, 'neutral': 42.85417199134827}\n",
            "0.88 {'angry': 11.99074238538742, 'disgust': 0.0020120152839808725, 'fear': 8.226656913757324, 'happy': 0.017002003733068705, 'sad': 56.79912567138672, 'surprise': 0.006223586387932301, 'neutral': 22.958241403102875}\n",
            "0.9 {'angry': 2.633204497396946, 'disgust': 0.0016434263670817018, 'fear': 32.752227783203125, 'happy': 0.07101877126842737, 'sad': 32.805538177490234, 'surprise': 0.015802725101821125, 'neutral': 31.72057271003723}\n",
            "0.89 {'angry': 31.08716607093811, 'disgust': 0.0019252105630584992, 'fear': 0.9891695342957973, 'happy': 0.12018203269690275, 'sad': 20.774586498737335, 'surprise': 0.00188329449883895, 'neutral': 47.02508747577667}\n",
            "0.89 {'angry': 3.133672847309965, 'disgust': 0.0026328067678266518, 'fear': 29.712506566940956, 'happy': 0.08526626190721846, 'sad': 16.243348569470815, 'surprise': 0.02507861055427962, 'neutral': 50.79749217063282}\n",
            "0.9 {'angry': 14.000052213668823, 'disgust': 0.00035037942325288896, 'fear': 24.13707673549652, 'happy': 0.3418109845370054, 'sad': 36.27897799015045, 'surprise': 0.0061101985920686275, 'neutral': 25.235629081726074}\n",
            "0.91 {'angry': 9.19904112815857, 'disgust': 7.306766178771795e-05, 'fear': 4.914669692516327, 'happy': 0.6887833587825298, 'sad': 40.071892738342285, 'surprise': 0.002140428841812536, 'neutral': 45.123401284217834}\n",
            "0.9 {'angry': 53.35253199055982, 'disgust': 0.0026015833741415625, 'fear': 10.751805350292049, 'happy': 0.02589117657117108, 'sad': 23.449428287114397, 'surprise': 0.003908777813344989, 'neutral': 12.413836265434997}\n",
            "0.9 {'angry': 0.4728195257484913, 'disgust': 0.0006156618837849237, 'fear': 0.6676795892417431, 'happy': 4.6873923391103745, 'sad': 7.287684082984924, 'surprise': 0.001219879231939558, 'neutral': 86.8825912475586}\n",
            "0.92 {'angry': 9.184231609106064, 'disgust': 0.0011932183952012565, 'fear': 8.123549818992615, 'happy': 0.12615200830623507, 'sad': 36.75723373889923, 'surprise': 0.007879809709265828, 'neutral': 45.7997590303421}\n",
            "0.9 {'angry': 1.872641034424305, 'disgust': 0.004480308052734472, 'fear': 68.35473775863647, 'happy': 0.5068864673376083, 'sad': 18.51852834224701, 'surprise': 0.030829277238808572, 'neutral': 10.711902379989624}\n",
            "0.92 {'angry': 12.080731987953186, 'disgust': 0.028921072953380644, 'fear': 27.67382264137268, 'happy': 0.2043635118752718, 'sad': 40.81754982471466, 'surprise': 0.06752082263119519, 'neutral': 19.127091765403748}\n",
            "0.92 {'angry': 21.833494305610657, 'disgust': 0.0022166110284160823, 'fear': 7.145132124423981, 'happy': 0.0212785234907642, 'sad': 61.33781671524048, 'surprise': 0.0037665646232198924, 'neutral': 9.65629667043686}\n",
            "0.91 {'angry': 6.376755237579346, 'disgust': 0.0007381747309409548, 'fear': 30.288785696029663, 'happy': 0.2666160464286804, 'sad': 26.972880959510803, 'surprise': 0.01952863240148872, 'neutral': 36.074697971343994}\n",
            "0.9 {'angry': 34.26350951194763, 'disgust': 0.028938701143488288, 'fear': 10.162445157766342, 'happy': 0.0934865209273994, 'sad': 28.474998474121094, 'surprise': 0.021576402650680393, 'neutral': 26.955047249794006}\n",
            "0.91 {'angry': 0.7845584299196684, 'disgust': 4.1065538958908e-06, 'fear': 0.3907064907155644, 'happy': 0.011888302871535748, 'sad': 8.449296391094162, 'surprise': 3.3358789439804924e-05, 'neutral': 90.36350961166505}\n",
            "0.9 {'angry': 37.37258017063141, 'disgust': 0.0028295280571910553, 'fear': 16.279475390911102, 'happy': 0.07319275173358619, 'sad': 28.83073091506958, 'surprise': 0.03925171622540802, 'neutral': 17.401941120624542}\n",
            "0.92 {'angry': 10.086642061867837, 'disgust': 0.001095138369938457, 'fear': 0.9163826318909306, 'happy': 5.795354741534873, 'sad': 41.06785303758699, 'surprise': 0.008908367984821601, 'neutral': 42.123761303649026}\n",
            "0.9 {'angry': 23.339395225048065, 'disgust': 0.008098137186607346, 'fear': 34.525471925735474, 'happy': 0.2270800992846489, 'sad': 18.81987750530243, 'surprise': 0.010500035568838939, 'neutral': 23.069576919078827}\n",
            "0.89 {'angry': 27.562925525060358, 'disgust': 0.0006171031881285208, 'fear': 3.143502401531029, 'happy': 0.0628654279716078, 'sad': 21.187622390702057, 'surprise': 0.006956428944061422, 'neutral': 48.035514120520844}\n",
            "0.9 {'angry': 6.378010660409927, 'disgust': 0.001253014852409251, 'fear': 17.777623236179352, 'happy': 0.018330449529457837, 'sad': 35.64261198043823, 'surprise': 0.010172217298531905, 'neutral': 40.171995759010315}\n",
            "0.91 {'angry': 22.84316543855255, 'disgust': 0.0011749163186310686, 'fear': 7.086411218215372, 'happy': 0.19098058058462508, 'sad': 42.622291162287134, 'surprise': 0.016612408742204605, 'neutral': 27.239364652557928}\n",
            "0.9 {'angry': 2.558710426092148, 'disgust': 0.0002120179487974383, 'fear': 26.84219181537628, 'happy': 0.10225895093753934, 'sad': 50.89309811592102, 'surprise': 0.006672007293673232, 'neutral': 19.596853852272034}\n",
            "0.9 {'angry': 6.730979337154587, 'disgust': 5.61468960373496e-08, 'fear': 53.54595503484935, 'happy': 0.7293303466189114, 'sad': 4.339646806695867, 'surprise': 0.00021661307000245337, 'neutral': 34.65387431704249}\n",
            "0.89 {'angry': 8.543471520360889, 'disgust': 0.0027865904169120576, 'fear': 11.795577322909512, 'happy': 0.04118594715539481, 'sad': 29.69785388682531, 'surprise': 0.0076190046444373155, 'neutral': 49.911507953585144}\n",
            "0.92 {'angry': 19.147529849262824, 'disgust': 0.07071592102369195, 'fear': 26.50004485249787, 'happy': 3.32790819274832, 'sad': 38.56101265913323, 'surprise': 0.3763347157141397, 'neutral': 12.01645878055446}\n",
            "0.89 {'angry': 58.49902135122077, 'disgust': 0.0008547334910250612, 'fear': 16.283296499645292, 'happy': 0.12266494166209599, 'sad': 12.986151932019226, 'surprise': 0.021416353053686388, 'neutral': 12.0866029961828}\n",
            "0.92 {'angry': 12.731537981721042, 'disgust': 0.00012137507651863145, 'fear': 70.5439907636637, 'happy': 0.07185172717879576, 'sad': 11.600490605860388, 'surprise': 0.005810486964761434, 'neutral': 5.046193602454281}\n",
            "0.93 {'angry': 4.751967266201973, 'disgust': 0.0002177605210818001, 'fear': 2.5549132376909256, 'happy': 0.009494636469753459, 'sad': 46.17030620574951, 'surprise': 8.97512052233651e-05, 'neutral': 46.513012051582336}\n",
            "0.91 {'angry': 1.715511828660965, 'disgust': 1.6171661343378219e-06, 'fear': 1.89858078956604, 'happy': 0.0003074818323511863, 'sad': 31.705528497695923, 'surprise': 3.9405071561304794e-05, 'neutral': 64.68002796173096}\n",
            "0.91 {'angry': 10.934152454137802, 'disgust': 0.0028413844120223075, 'fear': 9.197842329740524, 'happy': 0.3354079555720091, 'sad': 44.170403480529785, 'surprise': 0.01473842712584883, 'neutral': 35.34460961818695}\n",
            "0.9 {'angry': 3.3020496368408203, 'disgust': 1.4521451596749557e-06, 'fear': 0.9543299674987793, 'happy': 0.009922954632202163, 'sad': 5.783704295754433, 'surprise': 0.000487219040223863, 'neutral': 89.94950652122498}\n",
            "0.89 {'angry': 10.463115572929382, 'disgust': 0.09743571863509715, 'fear': 36.77478730678558, 'happy': 0.23889141157269478, 'sad': 36.360058188438416, 'surprise': 0.18689425196498632, 'neutral': 15.878817439079285}\n",
            "0.9 {'angry': 30.157471317943493, 'disgust': 0.0025829823594510017, 'fear': 3.383645073609957, 'happy': 0.553970058363087, 'sad': 33.52134627358273, 'surprise': 0.01348797683740131, 'neutral': 32.36749856084568}\n",
            "0.9 {'angry': 63.000599980282786, 'disgust': 0.0050800420778148005, 'fear': 5.2380972816828155, 'happy': 0.018793943251366973, 'sad': 19.112869308844886, 'surprise': 0.00683112075842595, 'neutral': 12.61772810009383}\n",
            "0.91 {'angry': 2.8343427926301956, 'disgust': 0.0005920812782278517, 'fear': 15.327104926109314, 'happy': 0.46385745517909527, 'sad': 20.43290287256241, 'surprise': 0.046848299098201096, 'neutral': 60.894352197647095}\n",
            "0.89 {'angry': 17.43813455104828, 'disgust': 2.418192082132009e-05, 'fear': 33.74372720718384, 'happy': 0.12940190499648452, 'sad': 28.683748841285706, 'surprise': 0.0008654649718664587, 'neutral': 20.00410258769989}\n",
            "0.92 {'angry': 5.787298828363419, 'disgust': 0.000669918927087565, 'fear': 4.7555286437273026, 'happy': 0.037523056380450726, 'sad': 43.524596095085144, 'surprise': 0.0052402345318114385, 'neutral': 45.889148116111755}\n",
            "0.92 {'angry': 5.805153399705887, 'disgust': 0.00025064125566132134, 'fear': 4.705691337585449, 'happy': 0.0877000973559916, 'sad': 59.470170736312866, 'surprise': 0.0013388145816861652, 'neutral': 29.929691553115845}\n",
            "0.91 {'angry': 27.73774564266205, 'disgust': 0.13950536958873272, 'fear': 17.877644300460815, 'happy': 0.08204496116377413, 'sad': 40.93732535839081, 'surprise': 0.1899584662169218, 'neutral': 13.03577870130539}\n",
            "0.91 {'angry': 48.04908335208893, 'disgust': 0.002790303187794052, 'fear': 9.107591211795807, 'happy': 0.22778192069381475, 'sad': 21.15701287984848, 'surprise': 0.012102149048587307, 'neutral': 21.44363820552826}\n",
            "0.9 {'angry': 14.840520918369293, 'disgust': 0.0001287816530748387, 'fear': 2.1782908588647842, 'happy': 32.1222722530365, 'sad': 27.71937847137451, 'surprise': 0.0003158512072332087, 'neutral': 23.139095306396484}\n",
            "0.89 {'angry': 9.657717496156693, 'disgust': 0.009562066406942904, 'fear': 6.15345686674118, 'happy': 1.262426469475031, 'sad': 62.91287541389465, 'surprise': 0.004177967275609262, 'neutral': 19.999785721302032}\n",
            "0.92 {'angry': 16.35967791080475, 'disgust': 0.0007860920050006825, 'fear': 8.134433627128601, 'happy': 0.03968912351410836, 'sad': 33.64884853363037, 'surprise': 0.006585308437934145, 'neutral': 41.80997908115387}\n",
            "0.89 {'angry': 17.947383224964142, 'disgust': 0.00021913992895861156, 'fear': 1.7512122169137, 'happy': 0.040567421820014715, 'sad': 11.21087297797203, 'surprise': 0.0021030942662036978, 'neutral': 69.04764175415039}\n",
            "0.9 {'angry': 9.964530169963837, 'disgust': 0.0018506712876842357, 'fear': 2.228225953876972, 'happy': 0.3723045811057091, 'sad': 46.48143649101257, 'surprise': 0.0013904882507631555, 'neutral': 40.950265526771545}\n",
            "0.89 {'angry': 2.303414929116662, 'disgust': 3.9266118032714355e-06, 'fear': 0.15764299089941328, 'happy': 0.012283004621148385, 'sad': 4.311532784195708, 'surprise': 4.574602303183507e-05, 'neutral': 93.21507771105037}\n",
            "0.91 {'angry': 6.817294657230377, 'disgust': 0.025713042123243213, 'fear': 23.889057338237762, 'happy': 0.12450609356164932, 'sad': 50.43644309043884, 'surprise': 0.018004920275416225, 'neutral': 18.688982725143433}\n",
            "0.89 {'angry': 5.636771322699943, 'disgust': 0.02961405323874095, 'fear': 14.351378601953817, 'happy': 0.28098547921156636, 'sad': 49.09967769380542, 'surprise': 0.02122397671143433, 'neutral': 30.580354402107524}\n",
            "0.93 {'angry': 19.494006871462688, 'disgust': 0.17974680336899201, 'fear': 17.144655244905383, 'happy': 0.5058989066212066, 'sad': 56.92245446711236, 'surprise': 0.17124192967914698, 'neutral': 5.5820009806157325}\n",
            "0.9 {'angry': 6.91007591365863, 'disgust': 0.03927145558246754, 'fear': 23.48024863240139, 'happy': 1.7323046720260773, 'sad': 24.540168101767527, 'surprise': 0.0335812208490481, 'neutral': 43.26434513755499}\n",
            "0.91 {'angry': 15.49093609940244, 'disgust': 6.998280052610937e-05, 'fear': 3.7152495938837045, 'happy': 0.10095902292314445, 'sad': 29.419807126499073, 'surprise': 0.0003881600158610214, 'neutral': 51.272595080446614}\n",
            "0.93 {'angry': 21.818551421165466, 'disgust': 0.030265824170783162, 'fear': 8.459007740020752, 'happy': 1.8482465296983719, 'sad': 20.912811160087585, 'surprise': 0.2514474093914032, 'neutral': 46.679672598838806}\n",
            "0.89 {'angry': 17.59158968925476, 'disgust': 0.0001170756377177895, 'fear': 6.432526558637619, 'happy': 0.06803532014600933, 'sad': 38.52580189704895, 'surprise': 0.001767488538462203, 'neutral': 37.38016486167908}\n",
            "0.91 {'angry': 26.536709253395706, 'disgust': 0.0005368529585815767, 'fear': 12.956899458992417, 'happy': 0.16157048119327203, 'sad': 34.333581844995244, 'surprise': 0.003356150082160915, 'neutral': 26.007354379576967}\n",
            "0.91 {'angry': 17.63640852408511, 'disgust': 0.005818597458214941, 'fear': 28.355619711353743, 'happy': 0.4974870138599889, 'sad': 43.17249276310119, 'surprise': 0.011086105817483314, 'neutral': 10.321088620554045}\n",
            "0.91 {'angry': 9.222885221242905, 'disgust': 0.0024284187020384707, 'fear': 20.853550732135773, 'happy': 0.04480387724470347, 'sad': 46.08382284641266, 'surprise': 0.013373230467550457, 'neutral': 23.779135942459106}\n",
            "0.89 {'angry': 25.729680061340332, 'disgust': 0.00036299645671533654, 'fear': 0.9779587388038635, 'happy': 1.4240252785384655, 'sad': 45.33025324344635, 'surprise': 0.0029532815460697748, 'neutral': 26.53477191925049}\n",
            "0.92 {'angry': 11.261240392923355, 'disgust': 0.0002538914259275771, 'fear': 28.411108255386353, 'happy': 0.06317576626315713, 'sad': 32.536712288856506, 'surprise': 0.004995515337213874, 'neutral': 27.72251069545746}\n",
            "0.92 {'angry': 3.3913739025592804, 'disgust': 0.0008089421498880256, 'fear': 6.308029592037201, 'happy': 0.007096082845237106, 'sad': 46.45513296127319, 'surprise': 0.0039375488995574415, 'neutral': 43.833619356155396}\n",
            "0.89 {'angry': 3.987596556544304, 'disgust': 1.373224165490683e-05, 'fear': 0.18364121206104755, 'happy': 4.3749649077653885, 'sad': 50.436484813690186, 'surprise': 0.0018946229829452932, 'neutral': 41.01540148258209}\n",
            "0.9 {'angry': 42.83313367761775, 'disgust': 0.0004229909840817293, 'fear': 10.551371938153736, 'happy': 0.21508764711322154, 'sad': 23.93291281854067, 'surprise': 0.030292513084077904, 'neutral': 22.436779431912832}\n",
            "0.89 {'angry': 28.175440430641174, 'disgust': 9.588931249027155e-06, 'fear': 0.7192667108029127, 'happy': 0.16280420823022723, 'sad': 17.640304565429688, 'surprise': 0.000514818930241745, 'neutral': 53.3016562461853}\n",
            "0.91 {'angry': 8.351429551839828, 'disgust': 0.0009294877600041218, 'fear': 1.0554613545536995, 'happy': 0.05854920600540936, 'sad': 42.831385135650635, 'surprise': 0.0010353918696637265, 'neutral': 47.701215744018555}\n",
            "0.92 {'angry': 1.783272624015808, 'disgust': 4.5091259615048784e-07, 'fear': 0.3498617559671402, 'happy': 0.0005363646323530702, 'sad': 14.726142585277557, 'surprise': 1.4240731616155244e-05, 'neutral': 83.14017057418823}\n",
            "0.91 {'angry': 16.503676772117615, 'disgust': 3.127200329799962e-05, 'fear': 3.2887469977140427, 'happy': 0.15926091000437737, 'sad': 35.09541153907776, 'surprise': 0.0006898473657201976, 'neutral': 44.952183961868286}\n",
            "0.89 {'angry': 3.179263696074486, 'disgust': 0.0005846329713676823, 'fear': 26.339226961135864, 'happy': 0.1162669388577342, 'sad': 48.10406565666199, 'surprise': 0.0026720170353655703, 'neutral': 22.2579225897789}\n",
            "0.89 {'angry': 9.024476259946823, 'disgust': 0.022322854783851653, 'fear': 35.92759072780609, 'happy': 0.4771268926560879, 'sad': 24.537551403045654, 'surprise': 0.02283246722072363, 'neutral': 29.98810112476349}\n",
            "0.91 {'angry': 9.504033625125885, 'disgust': 0.02408754371572286, 'fear': 34.70889627933502, 'happy': 1.1890818364918232, 'sad': 26.703134179115295, 'surprise': 0.04912162548862398, 'neutral': 27.82164216041565}\n",
            "0.9 {'angry': 2.3489369079470634, 'disgust': 0.0007526388344558654, 'fear': 31.84448480606079, 'happy': 0.17782386858016253, 'sad': 46.873435378074646, 'surprise': 0.004718959462479688, 'neutral': 18.749843537807465}\n",
            "0.92 {'angry': 10.137750771581942, 'disgust': 0.013866212580119799, 'fear': 16.31884632853357, 'happy': 0.16602484509129045, 'sad': 64.55643426026481, 'surprise': 0.01731829275751212, 'neutral': 8.78974660283408}\n",
            "0.89 {'angry': 39.82144119483934, 'disgust': 0.0031586121494859877, 'fear': 11.364089833010455, 'happy': 0.12572913794468188, 'sad': 24.220450315421783, 'surprise': 0.014978473733882757, 'neutral': 24.45014572737864}\n",
            "0.9 {'angry': 40.688252449035645, 'disgust': 0.006566396041307598, 'fear': 19.087377190589905, 'happy': 1.0717552155256271, 'sad': 15.761595964431763, 'surprise': 0.12403837172314525, 'neutral': 23.260413110256195}\n",
            "0.91 {'angry': 3.562470737842961, 'disgust': 0.0003660750498885086, 'fear': 44.44367852471343, 'happy': 1.2973527265997367, 'sad': 37.59351894816869, 'surprise': 0.0035658440844519262, 'neutral': 13.099043852033844}\n",
            "0.91 {'angry': 7.941566609330965, 'disgust': 0.002430944840515442, 'fear': 14.700767660232504, 'happy': 0.1530089714426066, 'sad': 58.45576625535086, 'surprise': 0.006367778437049724, 'neutral': 18.740095942031854}\n",
            "0.89 {'angry': 32.49750733375549, 'disgust': 8.770217050368956e-05, 'fear': 0.6214723456650972, 'happy': 1.7206264659762383, 'sad': 11.489808559417725, 'surprise': 0.00935148709686473, 'neutral': 53.66114377975464}\n",
            "0.89 {'angry': 12.53940463066101, 'disgust': 0.0007949006430862937, 'fear': 6.5791502594947815, 'happy': 0.03433890815358609, 'sad': 15.12649953365326, 'surprise': 0.016169637092389166, 'neutral': 65.70364236831665}\n",
            "0.89 {'angry': 2.9781851917505264, 'disgust': 4.36253557722921e-06, 'fear': 0.36276807077229023, 'happy': 0.14327579410746694, 'sad': 22.83555120229721, 'surprise': 0.0005993032118567498, 'neutral': 73.67962002754211}\n",
            "0.89 {'angry': 19.161905348300934, 'disgust': 0.0031589479476679116, 'fear': 7.07356259226799, 'happy': 0.15159891918301582, 'sad': 42.09109842777252, 'surprise': 0.024024675076361746, 'neutral': 31.494644284248352}\n",
            "0.92 {'angry': 9.010150075563793, 'disgust': 0.004924593233898251, 'fear': 14.398051166418265, 'happy': 0.6064249564066503, 'sad': 28.229244245841755, 'surprise': 0.004014187527967618, 'neutral': 47.74719165248821}\n",
            "0.91 {'angry': 32.3125422000885, 'disgust': 0.00016367724811061635, 'fear': 4.617973417043686, 'happy': 0.9843256324529648, 'sad': 17.68033057451248, 'surprise': 0.002194162516389042, 'neutral': 44.40246522426605}\n",
            "0.9 {'angry': 4.03281402196717, 'disgust': 8.262394014338035e-05, 'fear': 4.916190887547626, 'happy': 0.0235822416553023, 'sad': 37.49338835556646, 'surprise': 0.0013734983622023926, 'neutral': 53.532564218930695}\n",
            "0.89 {'angry': 24.58549439907074, 'disgust': 0.004108676148462109, 'fear': 21.674714982509613, 'happy': 0.3257463686168194, 'sad': 29.68243956565857, 'surprise': 0.09891730733215809, 'neutral': 23.628582060337067}\n",
            "0.88 {'angry': 48.902889955388304, 'disgust': 0.00102383986286144, 'fear': 9.018195750498265, 'happy': 0.7051386779712054, 'sad': 13.295891975866791, 'surprise': 0.08729350396764325, 'neutral': 27.989566682525478}\n",
            "0.92 {'angry': 5.501993373036385, 'disgust': 0.002433761255815625, 'fear': 20.535673201084137, 'happy': 0.4356512799859047, 'sad': 45.89480757713318, 'surprise': 0.029843291849829257, 'neutral': 27.599593997001648}\n",
            "0.93 {'angry': 0.8085031062364578, 'disgust': 0.00038007092371117324, 'fear': 1.5054170042276382, 'happy': 0.1642156159505248, 'sad': 28.813573718070984, 'surprise': 0.00042019933061965276, 'neutral': 68.70749592781067}\n",
            "0.89 {'angry': 18.040169775485992, 'disgust': 0.04696316318586469, 'fear': 25.894615054130554, 'happy': 0.5402375943958759, 'sad': 21.811747550964355, 'surprise': 0.061069062212482095, 'neutral': 33.605194091796875}\n",
            "0.87 {'angry': 1.3129175640642643, 'disgust': 0.00016685405626049032, 'fear': 13.979031145572662, 'happy': 0.06903422181494534, 'sad': 43.13766956329346, 'surprise': 0.0020025476260343567, 'neutral': 41.49918556213379}\n",
            "0.91 {'angry': 5.243317722875936, 'disgust': 0.0006719290868527829, 'fear': 6.10311961788652, 'happy': 0.02167508193497103, 'sad': 46.39792122828491, 'surprise': 0.004709326375296235, 'neutral': 42.22858799866366}\n",
            "0.89 {'angry': 7.151656597852707, 'disgust': 0.0030916999094188213, 'fear': 28.981563448905945, 'happy': 0.5494967103004456, 'sad': 39.71071541309357, 'surprise': 0.01896667672554031, 'neutral': 23.584510385990143}\n",
            "0.9 {'angry': 26.191118359565735, 'disgust': 0.003299837771919556, 'fear': 20.99156081676483, 'happy': 0.10236455127596855, 'sad': 26.063266396522522, 'surprise': 0.07329571526497602, 'neutral': 26.57509446144104}\n",
            "0.9 {'angry': 48.44052791595459, 'disgust': 1.391351958091036e-05, 'fear': 1.1126640252768993, 'happy': 0.023371254792436957, 'sad': 8.063863217830658, 'surprise': 0.0011909607565030456, 'neutral': 42.35837161540985}\n",
            "0.9 {'angry': 0.39708954205041624, 'disgust': 9.592017147302957e-08, 'fear': 0.13402372863605874, 'happy': 0.008426270228985148, 'sad': 5.136759339361269, 'surprise': 2.5099577199931186e-07, 'neutral': 94.32369538263137}\n",
            "0.91 {'angry': 12.799858319750925, 'disgust': 0.005627829494938336, 'fear': 14.350188633810797, 'happy': 0.022042491622939208, 'sad': 42.93632763244674, 'surprise': 0.013859697454162535, 'neutral': 29.872097365385137}\n",
            "0.91 {'angry': 12.457837164402008, 'disgust': 0.00014028670420884737, 'fear': 5.633759126067162, 'happy': 0.5948543082922697, 'sad': 22.606422007083893, 'surprise': 0.0017565020243637264, 'neutral': 58.70522856712341}\n",
            "0.91 {'angry': 12.151596695184708, 'disgust': 0.000454104520031251, 'fear': 0.3474646946415305, 'happy': 0.04183004202786833, 'sad': 46.82217240333557, 'surprise': 7.489813356187369e-05, 'neutral': 40.63639938831329}\n",
            "0.88 {'angry': 30.82086741924286, 'disgust': 0.0004920110313832993, 'fear': 17.614111304283142, 'happy': 0.2965352265164256, 'sad': 23.081718385219574, 'surprise': 0.03142821369692683, 'neutral': 28.154847025871277}\n",
            "0.89 {'angry': 2.4519475176930428, 'disgust': 0.001208685807796428, 'fear': 32.93059766292572, 'happy': 0.11787982657551765, 'sad': 47.49323129653931, 'surprise': 0.0067206332460045815, 'neutral': 16.99841171503067}\n",
            "0.89 {'angry': 4.692249372601509, 'disgust': 8.492600400700212e-07, 'fear': 0.2984605962410569, 'happy': 0.006925711204530671, 'sad': 27.926313877105713, 'surprise': 4.551448853362672e-05, 'neutral': 67.07600355148315}\n",
            "0.91 {'angry': 5.522219838075737e-11, 'disgust': 6.351382704833177e-26, 'fear': 21.613259411648478, 'happy': 5.359045818455567e-09, 'sad': 40.69245700195175, 'surprise': 8.169808372719132e-09, 'neutral': 37.69428358639977}\n",
            "0.89 {'angry': 21.473519504070282, 'disgust': 0.00010509239700695616, 'fear': 7.089436799287796, 'happy': 0.016324632451869547, 'sad': 22.593218088150024, 'surprise': 0.0038906266127014533, 'neutral': 48.823508620262146}\n",
            "0.92 {'angry': 22.812776267528534, 'disgust': 0.23378343321383, 'fear': 21.48396074771881, 'happy': 3.7627261132001877, 'sad': 32.762932777404785, 'surprise': 1.0242342948913574, 'neutral': 17.91958659887314}\n",
            "0.89 {'angry': 39.94256556034088, 'disgust': 0.006103764462750405, 'fear': 18.866458535194397, 'happy': 0.0367264321539551, 'sad': 23.844116926193237, 'surprise': 0.008045705908443779, 'neutral': 17.29598343372345}\n",
            "0.91 {'angry': 2.6325924322009087, 'disgust': 0.01303890603594482, 'fear': 40.07649123668671, 'happy': 1.4983132481575012, 'sad': 52.26205587387085, 'surprise': 0.12083877809345722, 'neutral': 3.3966708928346634}\n",
            "0.92 {'angry': 4.576211795210838, 'disgust': 1.787583272516713e-05, 'fear': 1.6756132245063782, 'happy': 0.007301416917471215, 'sad': 26.74030065536499, 'surprise': 0.0011553080184967257, 'neutral': 66.99939966201782}\n",
            "0.93 {'angry': 9.694623202085495, 'disgust': 0.008486083970637992, 'fear': 3.892778605222702, 'happy': 0.20145897287875414, 'sad': 56.99363946914673, 'surprise': 0.02023730630753562, 'neutral': 29.188773036003113}\n",
            "0.89 {'angry': 32.390092922438036, 'disgust': 0.001466357851133165, 'fear': 12.59175239899726, 'happy': 0.06604792810591423, 'sad': 33.259784190680485, 'surprise': 0.0051145934136184335, 'neutral': 21.68573776653555}\n",
            "0.92 {'angry': 72.95958673472246, 'disgust': 6.343823645463683e-06, 'fear': 15.785757098884236, 'happy': 0.07131622091725122, 'sad': 5.92403072703251, 'surprise': 0.0026130133323866937, 'neutral': 5.256695554458565}\n",
            "0.92 {'angry': 0.7912593893706799, 'disgust': 1.8074688057367894e-05, 'fear': 12.704889476299286, 'happy': 0.03434266254771501, 'sad': 41.383299231529236, 'surprise': 0.0014988030670792796, 'neutral': 45.084694027900696}\n",
            "0.9 {'angry': 7.300022679568689, 'disgust': 0.005646908148333543, 'fear': 6.34862520388515, 'happy': 0.07300237628831723, 'sad': 56.45422675932805, 'surprise': 0.010956718249926313, 'neutral': 29.80752168938647}\n",
            "0.92 {'angry': 18.157249689102173, 'disgust': 6.686622100460227e-05, 'fear': 7.563407719135284, 'happy': 0.4486857447773218, 'sad': 21.200624108314514, 'surprise': 0.001253680147783598, 'neutral': 52.62870788574219}\n",
            "0.91 {'angry': 12.032583355903625, 'disgust': 0.09840731509029865, 'fear': 25.382131338119507, 'happy': 8.611784130334854, 'sad': 31.51364028453827, 'surprise': 0.21933414973318577, 'neutral': 22.142121195793152}\n",
            "0.88 {'angry': 35.689654093364126, 'disgust': 8.928698313321705e-06, 'fear': 1.5505543902846808, 'happy': 0.0032412741460758686, 'sad': 4.727860449425009, 'surprise': 0.0012527738200349497, 'neutral': 58.02742588683521}\n",
            "0.91 {'angry': 0.11897362546465548, 'disgust': 8.066706638030236e-10, 'fear': 0.0314414170684765, 'happy': 0.00021299703253950932, 'sad': 4.363353437981214, 'surprise': 5.881260274062946e-08, 'neutral': 95.48602077281599}\n",
            "0.91 {'angry': 17.285610735416412, 'disgust': 0.0005459252861328423, 'fear': 18.180112540721893, 'happy': 0.08849508012644947, 'sad': 18.90929937362671, 'surprise': 0.011234359408263117, 'neutral': 45.524704456329346}\n",
            "0.9 {'angry': 18.391123414039612, 'disgust': 0.0003862720404868014, 'fear': 18.44358742237091, 'happy': 0.3922236617654562, 'sad': 57.81885385513306, 'surprise': 0.005860755845787935, 'neutral': 4.947963729500771}\n",
            "0.9 {'angry': 11.253032759012745, 'disgust': 0.0003179828998684819, 'fear': 8.331380536042484, 'happy': 0.16380757836968174, 'sad': 47.95832025756361, 'surprise': 0.006609669465589193, 'neutral': 32.28653265753583}\n",
            "0.9 {'angry': 15.960561690363985, 'disgust': 0.0019130627382532835, 'fear': 13.399433398212993, 'happy': 0.3497126953505096, 'sad': 54.398289585011575, 'surprise': 0.004783872567273532, 'neutral': 15.885306351501129}\n",
            "0.87 {'angry': 4.182890430092812, 'disgust': 9.507931331143027e-07, 'fear': 0.4231369588524103, 'happy': 0.048155125114135444, 'sad': 19.070526957511902, 'surprise': 0.0003604551238822751, 'neutral': 76.27492547035217}\n",
            "0.89 {'angry': 21.248606294559682, 'disgust': 0.019275428233896556, 'fear': 15.07739841015358, 'happy': 0.6478621317759595, 'sad': 49.415877531066236, 'surprise': 0.06494921789178636, 'neutral': 13.526031252618878}\n",
            "0.89 {'angry': 1.3752689585089684, 'disgust': 2.3247188618569226e-07, 'fear': 0.7018725853413343, 'happy': 0.0005244566636974923, 'sad': 38.70824575424194, 'surprise': 1.7608149960324226e-05, 'neutral': 59.214067459106445}\n",
            "0.89 {'angry': 5.558365128441468, 'disgust': 0.001109846057688394, 'fear': 3.96775389823364, 'happy': 0.12534302989384888, 'sad': 29.138568537064618, 'surprise': 0.0032255899193701426, 'neutral': 61.20563879080281}\n",
            "0.92 {'angry': 4.195321228821351, 'disgust': 0.012664074192755621, 'fear': 16.157650420525695, 'happy': 8.570125464804498, 'sad': 65.35851748934492, 'surprise': 0.01197642412524777, 'neutral': 5.693746697529954}\n",
            "0.91 {'angry': 25.539927216763928, 'disgust': 0.002237305804214041, 'fear': 3.5892645173826527, 'happy': 0.24089160414139058, 'sad': 53.56678685944002, 'surprise': 0.0016144365015895441, 'neutral': 17.059280995087683}\n",
            "0.89 {'angry': 6.332796812057495, 'disgust': 0.0001313818984272075, 'fear': 10.965421050786972, 'happy': 0.15583822969347239, 'sad': 40.65086543560028, 'surprise': 0.0028817839847761206, 'neutral': 41.89206659793854}\n",
            "0.89 {'angry': 5.971306934952736, 'disgust': 0.00035351533824723447, 'fear': 6.861615926027298, 'happy': 0.19771356601268053, 'sad': 64.16038870811462, 'surprise': 0.0033707281545503065, 'neutral': 22.80524969100952}\n",
            "0.9 {'angry': 14.514942467212677, 'disgust': 0.04209854523651302, 'fear': 30.636796355247498, 'happy': 1.8703775480389595, 'sad': 22.50552922487259, 'surprise': 0.05779724451713264, 'neutral': 30.37245273590088}\n",
            "0.9 {'angry': 16.764508696139895, 'disgust': 0.00018950013312693176, 'fear': 21.342537861172897, 'happy': 0.032027028826493484, 'sad': 27.108353627723886, 'surprise': 0.013339836867525353, 'neutral': 34.7390484498797}\n",
            "0.91 {'angry': 16.147197782993317, 'disgust': 0.09901889134198427, 'fear': 3.4831903874874115, 'happy': 3.981979936361313, 'sad': 21.053805947303772, 'surprise': 0.5632896907627583, 'neutral': 54.67151403427124}\n",
            "0.91 {'angry': 24.92087632417679, 'disgust': 0.03750777104869485, 'fear': 10.687369108200073, 'happy': 2.1549832075834274, 'sad': 28.4548282623291, 'surprise': 0.27926904149353504, 'neutral': 33.46516191959381}\n",
            "0.91 {'angry': 5.567860975861549, 'disgust': 0.00015872236645009252, 'fear': 2.578286826610565, 'happy': 0.14860979281365871, 'sad': 52.52144932746887, 'surprise': 0.0004847561285714619, 'neutral': 39.183154702186584}\n",
            "0.88 {'angry': 6.97096660733223, 'disgust': 2.9901954690103594e-05, 'fear': 3.1159276142716408, 'happy': 0.0074810770456679165, 'sad': 9.438034147024155, 'surprise': 0.004296787301427685, 'neutral': 80.46326637268066}\n",
            "0.89 {'angry': 0.31673950143158436, 'disgust': 4.570570588668943e-08, 'fear': 0.18825302831828594, 'happy': 0.0008855087799020112, 'sad': 8.923104405403137, 'surprise': 1.2039214958292632e-06, 'neutral': 90.57101607322693}\n",
            "0.91 {'angry': 7.547225058078766, 'disgust': 0.00022840929432277335, 'fear': 13.757273554801941, 'happy': 0.013797791325487196, 'sad': 23.398111760616302, 'surprise': 0.010731956717791036, 'neutral': 55.27263283729553}\n",
            "0.91 {'angry': 8.386971056461334, 'disgust': 0.00015163918760663364, 'fear': 9.209518134593964, 'happy': 0.03713348705787212, 'sad': 20.155934989452362, 'surprise': 0.019565323600545526, 'neutral': 62.19072341918945}\n",
            "0.91 {'angry': 4.130044206976891, 'disgust': 0.00016867342083060066, 'fear': 8.324527740478516, 'happy': 0.07123094401322305, 'sad': 41.76702797412872, 'surprise': 0.002286315429955721, 'neutral': 45.704710483551025}\n",
            "0.89 {'angry': 14.310632430239625, 'disgust': 0.0005240273652040607, 'fear': 12.885871483579697, 'happy': 0.22184410747508915, 'sad': 31.270997968793157, 'surprise': 0.006786816730198877, 'neutral': 41.30333765705375}\n",
            "0.9 {'angry': 8.226445081657758, 'disgust': 0.11130348849403995, 'fear': 21.938008435009905, 'happy': 4.874707922374258, 'sad': 57.50367551998192, 'surprise': 0.2197936380900576, 'neutral': 7.126060023777482}\n",
            "0.91 {'angry': 2.242935076355934, 'disgust': 8.10777578408306e-07, 'fear': 0.14347864780575037, 'happy': 0.08410445298068225, 'sad': 6.7342013120651245, 'surprise': 9.370304496769677e-05, 'neutral': 90.7951831817627}\n",
            "0.9 {'angry': 2.9772741720080376, 'disgust': 0.0019789520592894405, 'fear': 24.09757375717163, 'happy': 0.23731046821922064, 'sad': 47.826775908470154, 'surprise': 0.007932078005978838, 'neutral': 24.851156771183014}\n",
            "0.91 {'angry': 17.474110424518585, 'disgust': 8.423469921581273e-05, 'fear': 1.546176802366972, 'happy': 0.3275495022535324, 'sad': 30.330872535705566, 'surprise': 0.004516410263022408, 'neutral': 50.316691398620605}\n",
            "0.9 {'angry': 4.361807442415204, 'disgust': 1.4080154060372458e-05, 'fear': 2.890398711883945, 'happy': 0.009087420581229886, 'sad': 6.544568779740857, 'surprise': 0.004212728050411302, 'neutral': 86.1899129265495}\n",
            "0.92 {'angry': 0.028972879498511822, 'disgust': 7.702098973609061e-05, 'fear': 0.17849019395501578, 'happy': 85.90159332165678, 'sad': 0.22579353717228992, 'surprise': 0.011754866109519667, 'neutral': 13.65332237799897}\n",
            "0.91 {'angry': 8.682551234960556, 'disgust': 0.0003911837666237261, 'fear': 16.491398215293884, 'happy': 0.07347833598032594, 'sad': 41.532689332962036, 'surprise': 0.008426277054240927, 'neutral': 33.21106433868408}\n",
            "0.89 {'angry': 6.318135559558868, 'disgust': 0.019290520867798477, 'fear': 43.646711111068726, 'happy': 0.4362232517451048, 'sad': 27.58144736289978, 'surprise': 0.04741490993183106, 'neutral': 21.950779855251312}\n",
            "0.9 {'angry': 5.105820670723915, 'disgust': 0.05302312783896923, 'fear': 34.21327769756317, 'happy': 2.608256973326206, 'sad': 34.88703668117523, 'surprise': 0.10946945985779166, 'neutral': 23.02311807870865}\n",
            "0.92 {'angry': 3.5008221864700317, 'disgust': 0.013792316894978285, 'fear': 39.219024777412415, 'happy': 0.9445283561944962, 'sad': 22.02105224132538, 'surprise': 0.01663710572756827, 'neutral': 34.28415060043335}\n",
            "0.9 {'angry': 3.647708147764206, 'disgust': 0.0006798779395467136, 'fear': 21.899859607219696, 'happy': 0.148914591409266, 'sad': 24.018582701683044, 'surprise': 0.019461226474959403, 'neutral': 50.26479363441467}\n",
            "0.91 {'angry': 27.441880106925964, 'disgust': 0.2918850863352418, 'fear': 9.812670946121216, 'happy': 0.7030027452856302, 'sad': 53.71459126472473, 'surprise': 0.599319813773036, 'neutral': 7.436652481555939}\n",
            "0.91 {'angry': 1.3174590654671192, 'disgust': 6.84388453464635e-05, 'fear': 8.139611780643463, 'happy': 0.014029689191374928, 'sad': 35.174164175987244, 'surprise': 0.0010723989362304565, 'neutral': 55.353593826293945}\n",
            "0.9 {'angry': 51.51795148849487, 'disgust': 0.000157388319621532, 'fear': 1.3706195168197155, 'happy': 1.2363028712570667, 'sad': 14.219826459884644, 'surprise': 0.0019034809156437404, 'neutral': 31.65324032306671}\n",
            "0.89 {'angry': 16.43064171075821, 'disgust': 0.0030295275792013854, 'fear': 14.66437578201294, 'happy': 0.218755635432899, 'sad': 34.73086059093475, 'surprise': 0.03302722470834851, 'neutral': 33.91931354999542}\n",
            "0.89 {'angry': 29.768210649490356, 'disgust': 0.0015906683984212577, 'fear': 12.930342555046082, 'happy': 0.59132045134902, 'sad': 14.829027652740479, 'surprise': 0.09839365957304835, 'neutral': 41.78111255168915}\n",
            "0.9 {'angry': 9.3667671084404, 'disgust': 5.525340043277538e-05, 'fear': 1.787734031677246, 'happy': 0.055627344409003854, 'sad': 17.15897023677826, 'surprise': 0.0022388358047464862, 'neutral': 71.62860631942749}\n",
            "0.88 {'angry': 31.282609701156616, 'disgust': 0.0018421374988975003, 'fear': 26.719236373901367, 'happy': 0.2651149407029152, 'sad': 27.42234468460083, 'surprise': 0.02663536579348147, 'neutral': 14.282219111919403}\n",
            "0.91 {'angry': 3.3413196111511954, 'disgust': 0.002795081475759125, 'fear': 13.515149862477175, 'happy': 0.19546226832045724, 'sad': 39.36554726156874, 'surprise': 0.007916214707435799, 'neutral': 43.5718145115265}\n",
            "0.91 {'angry': 19.554118812084198, 'disgust': 0.007943532546050847, 'fear': 24.537208676338196, 'happy': 8.94448608160019, 'sad': 29.201874136924744, 'surprise': 0.5262205377221107, 'neutral': 17.2281414270401}\n",
            "0.88 {'angry': 36.68563663959503, 'disgust': 0.02354379539610818, 'fear': 10.846506804227829, 'happy': 0.2342253690585494, 'sad': 31.294703483581543, 'surprise': 0.023936516663525254, 'neutral': 20.891442894935608}\n",
            "0.91 {'angry': 41.83505080164085, 'disgust': 6.279889997238335e-05, 'fear': 6.423284134064214, 'happy': 0.08440267835142354, 'sad': 18.536361281438026, 'surprise': 0.0032856187596304355, 'neutral': 33.11755455941612}\n",
            "0.92 {'angry': 2.5161225348711014, 'disgust': 0.0007687773177167401, 'fear': 37.920525670051575, 'happy': 3.0650390312075615, 'sad': 53.5484254360199, 'surprise': 0.011396697664167732, 'neutral': 2.9377225786447525}\n",
            "0.9 {'angry': 11.243267282442288, 'disgust': 0.011081784692811054, 'fear': 5.834271734015449, 'happy': 0.4079349116495199, 'sad': 61.62621746219501, 'surprise': 0.013710748406581486, 'neutral': 20.86351787230479}\n",
            "0.91 {'angry': 0.7540235761553049, 'disgust': 0.000554639291294734, 'fear': 15.450307726860046, 'happy': 0.8724276907742023, 'sad': 43.29753816127777, 'surprise': 0.000832352634461131, 'neutral': 39.62431848049164}\n",
            "0.92 {'angry': 27.750495404064107, 'disgust': 0.0014670297717080086, 'fear': 14.216938819520333, 'happy': 0.02649572295272028, 'sad': 27.93104683530889, 'surprise': 0.026103720503185154, 'neutral': 30.047464972432252}\n",
            "0.92 {'angry': 65.06613880790107, 'disgust': 0.007213595811436076, 'fear': 4.365971944688078, 'happy': 0.06530469207046581, 'sad': 20.734496160417567, 'surprise': 0.004015215257041879, 'neutral': 9.75686295371431}\n",
            "0.9 {'angry': 2.3177310824394226, 'disgust': 1.8795441647512234e-06, 'fear': 3.447163850069046, 'happy': 0.016264751320704818, 'sad': 4.446141794323921, 'surprise': 0.005085629891254939, 'neutral': 89.76761102676392}\n",
            "0.89 {'angry': 52.014461279777365, 'disgust': 0.0002117322663944704, 'fear': 12.405908847207359, 'happy': 0.1636695912804956, 'sad': 24.72311554688904, 'surprise': 0.0019037831632579885, 'neutral': 10.690731447382655}\n",
            "0.93 {'angry': 6.490906714851064, 'disgust': 0.024242713687972796, 'fear': 10.69295768099771, 'happy': 0.4451070246164217, 'sad': 80.09471178619336, 'surprise': 0.049600945249628735, 'neutral': 2.202471104411549}\n",
            "0.9 {'angry': 8.900707215070724, 'disgust': 0.02031594776781276, 'fear': 13.3255735039711, 'happy': 2.079189196228981, 'sad': 23.57552945613861, 'surprise': 0.14210883527994156, 'neutral': 51.956576108932495}\n",
            "0.9 {'angry': 1.6761859878897667, 'disgust': 6.168448862808873e-05, 'fear': 1.0069851763546467, 'happy': 1.1045272462069988, 'sad': 42.191317677497864, 'surprise': 0.0005439332198875491, 'neutral': 54.02037501335144}\n",
            "0.9 {'angry': 10.07091999053955, 'disgust': 0.0001413863856214448, 'fear': 17.47669279575348, 'happy': 0.12837700778618455, 'sad': 51.41306519508362, 'surprise': 0.004115312549402006, 'neutral': 20.906689763069153}\n",
            "0.89 {'angry': 4.360982663093964, 'disgust': 9.499355824163816e-06, 'fear': 0.8077464547900233, 'happy': 0.01967846009360761, 'sad': 5.220381109141178, 'surprise': 0.013676875911485458, 'neutral': 89.5775252328828}\n",
            "0.89 {'angry': 0.40503162890672684, 'disgust': 0.0020151792341494, 'fear': 2.0454520359635353, 'happy': 35.55628955364227, 'sad': 6.358450651168823, 'surprise': 0.0119296571938321, 'neutral': 55.62083721160889}\n",
            "0.9 {'angry': 5.378827773262726, 'disgust': 0.0018803174709578214, 'fear': 8.371662847498825, 'happy': 0.1655529468277363, 'sad': 69.91106688446204, 'surprise': 0.0030067913003704915, 'neutral': 16.168006728172703}\n",
            "0.89 {'angry': 16.38854742050171, 'disgust': 0.017151130305137485, 'fear': 29.31232750415802, 'happy': 1.0450545698404312, 'sad': 28.81404757499695, 'surprise': 0.0708452076651156, 'neutral': 24.35203194618225}\n",
            "0.92 {'angry': 7.827718555927277, 'disgust': 4.486784987989267e-06, 'fear': 2.7172451838850975, 'happy': 0.04359433951321989, 'sad': 15.049366652965546, 'surprise': 0.0007530823950219201, 'neutral': 74.36131834983826}\n",
            "0.91 {'angry': 8.52517661752422, 'disgust': 0.00011798969395853889, 'fear': 19.33492801605797, 'happy': 0.04922897792543208, 'sad': 43.25689593039703, 'surprise': 0.004356639848113898, 'neutral': 28.829300860083205}\n",
            "         angry   disgust       fear      happy        sad  surprise    neutral\n",
            "0     1.964297  0.020763  57.596283   1.634470  22.522736  0.135743  16.125702\n",
            "1     1.997675  0.000033   0.556933   0.013590  67.980206  0.000028  29.451534\n",
            "2     0.707194  0.000002   1.492624   0.000459  39.791909  0.000021  58.007795\n",
            "3     0.456096  0.000040   0.220840   0.134545   8.403324  0.000537  90.784621\n",
            "4     7.027009  0.076015  18.674257  10.582963  31.971467  0.288389  31.379905\n",
            "..         ...       ...        ...        ...        ...       ...        ...\n",
            "225   0.405032  0.002015   2.045452  35.556290   6.358451  0.011930  55.620837\n",
            "226   5.378828  0.001880   8.371663   0.165553  69.911067  0.003007  16.168007\n",
            "227  16.388547  0.017151  29.312328   1.045055  28.814048  0.070845  24.352032\n",
            "228   7.827719  0.000004   2.717245   0.043594  15.049367  0.000753  74.361318\n",
            "229   8.525177  0.000118  19.334928   0.049229  43.256896  0.004357  28.829301\n",
            "\n",
            "[230 rows x 7 columns]\n"
          ]
        }
      ]
    },
    {
      "cell_type": "code",
      "source": [
        "type(face_reaction[0])"
      ],
      "metadata": {
        "colab": {
          "base_uri": "https://localhost:8080/"
        },
        "id": "ZJD9_PNJIKBj",
        "outputId": "1aa1fccb-e3d0-4c3b-9139-635e6325048e"
      },
      "execution_count": null,
      "outputs": [
        {
          "output_type": "execute_result",
          "data": {
            "text/plain": [
              "numpy.float64"
            ]
          },
          "metadata": {},
          "execution_count": 126
        }
      ]
    },
    {
      "cell_type": "code",
      "source": [
        "files_names[0]"
      ],
      "metadata": {
        "colab": {
          "base_uri": "https://localhost:8080/",
          "height": 36
        },
        "id": "nPolGx0Dy0OY",
        "outputId": "785ec7e0-3ee4-4393-d851-0bc9b048322f"
      },
      "execution_count": null,
      "outputs": [
        {
          "output_type": "execute_result",
          "data": {
            "text/plain": [
              "'frame_0492.jpg'"
            ],
            "application/vnd.google.colaboratory.intrinsic+json": {
              "type": "string"
            }
          },
          "metadata": {},
          "execution_count": 90
        }
      ]
    },
    {
      "cell_type": "code",
      "source": [
        "len(files_names)"
      ],
      "metadata": {
        "colab": {
          "base_uri": "https://localhost:8080/"
        },
        "id": "ye4_PHDGAFOa",
        "outputId": "5bc9a0bc-b177-4a0e-c30b-ddf77bfce244"
      },
      "execution_count": null,
      "outputs": [
        {
          "output_type": "execute_result",
          "data": {
            "text/plain": [
              "79"
            ]
          },
          "metadata": {},
          "execution_count": 79
        }
      ]
    },
    {
      "cell_type": "code",
      "source": [
        "data.shape"
      ],
      "metadata": {
        "colab": {
          "base_uri": "https://localhost:8080/"
        },
        "id": "Le_ox8adAIO5",
        "outputId": "1ac56c00-a08d-4db9-a1d2-70a0eb934055"
      },
      "execution_count": null,
      "outputs": [
        {
          "output_type": "execute_result",
          "data": {
            "text/plain": [
              "(78, 7)"
            ]
          },
          "metadata": {},
          "execution_count": 89
        }
      ]
    },
    {
      "cell_type": "code",
      "source": [
        "data.head(4)"
      ],
      "metadata": {
        "colab": {
          "base_uri": "https://localhost:8080/",
          "height": 175
        },
        "id": "O-G--LNVy0RU",
        "outputId": "5e6eae78-d22f-4270-a365-d67a1aafebe7"
      },
      "execution_count": null,
      "outputs": [
        {
          "output_type": "execute_result",
          "data": {
            "text/plain": [
              "      angry   disgust       fear     happy        sad  surprise    neutral\n",
              "0  1.964297  0.020763  57.596283  1.634470  22.522736  0.135743  16.125702\n",
              "1  1.997675  0.000033   0.556933  0.013590  67.980206  0.000028  29.451534\n",
              "2  0.707194  0.000002   1.492624  0.000459  39.791909  0.000021  58.007795\n",
              "3  0.456096  0.000040   0.220840  0.134545   8.403324  0.000537  90.784621"
            ],
            "text/html": [
              "\n",
              "  <div id=\"df-43d17c37-7559-4261-a656-f199f1dfd06b\" class=\"colab-df-container\">\n",
              "    <div>\n",
              "<style scoped>\n",
              "    .dataframe tbody tr th:only-of-type {\n",
              "        vertical-align: middle;\n",
              "    }\n",
              "\n",
              "    .dataframe tbody tr th {\n",
              "        vertical-align: top;\n",
              "    }\n",
              "\n",
              "    .dataframe thead th {\n",
              "        text-align: right;\n",
              "    }\n",
              "</style>\n",
              "<table border=\"1\" class=\"dataframe\">\n",
              "  <thead>\n",
              "    <tr style=\"text-align: right;\">\n",
              "      <th></th>\n",
              "      <th>angry</th>\n",
              "      <th>disgust</th>\n",
              "      <th>fear</th>\n",
              "      <th>happy</th>\n",
              "      <th>sad</th>\n",
              "      <th>surprise</th>\n",
              "      <th>neutral</th>\n",
              "    </tr>\n",
              "  </thead>\n",
              "  <tbody>\n",
              "    <tr>\n",
              "      <th>0</th>\n",
              "      <td>1.964297</td>\n",
              "      <td>0.020763</td>\n",
              "      <td>57.596283</td>\n",
              "      <td>1.634470</td>\n",
              "      <td>22.522736</td>\n",
              "      <td>0.135743</td>\n",
              "      <td>16.125702</td>\n",
              "    </tr>\n",
              "    <tr>\n",
              "      <th>1</th>\n",
              "      <td>1.997675</td>\n",
              "      <td>0.000033</td>\n",
              "      <td>0.556933</td>\n",
              "      <td>0.013590</td>\n",
              "      <td>67.980206</td>\n",
              "      <td>0.000028</td>\n",
              "      <td>29.451534</td>\n",
              "    </tr>\n",
              "    <tr>\n",
              "      <th>2</th>\n",
              "      <td>0.707194</td>\n",
              "      <td>0.000002</td>\n",
              "      <td>1.492624</td>\n",
              "      <td>0.000459</td>\n",
              "      <td>39.791909</td>\n",
              "      <td>0.000021</td>\n",
              "      <td>58.007795</td>\n",
              "    </tr>\n",
              "    <tr>\n",
              "      <th>3</th>\n",
              "      <td>0.456096</td>\n",
              "      <td>0.000040</td>\n",
              "      <td>0.220840</td>\n",
              "      <td>0.134545</td>\n",
              "      <td>8.403324</td>\n",
              "      <td>0.000537</td>\n",
              "      <td>90.784621</td>\n",
              "    </tr>\n",
              "  </tbody>\n",
              "</table>\n",
              "</div>\n",
              "    <div class=\"colab-df-buttons\">\n",
              "\n",
              "  <div class=\"colab-df-container\">\n",
              "    <button class=\"colab-df-convert\" onclick=\"convertToInteractive('df-43d17c37-7559-4261-a656-f199f1dfd06b')\"\n",
              "            title=\"Convert this dataframe to an interactive table.\"\n",
              "            style=\"display:none;\">\n",
              "\n",
              "  <svg xmlns=\"http://www.w3.org/2000/svg\" height=\"24px\" viewBox=\"0 -960 960 960\">\n",
              "    <path d=\"M120-120v-720h720v720H120Zm60-500h600v-160H180v160Zm220 220h160v-160H400v160Zm0 220h160v-160H400v160ZM180-400h160v-160H180v160Zm440 0h160v-160H620v160ZM180-180h160v-160H180v160Zm440 0h160v-160H620v160Z\"/>\n",
              "  </svg>\n",
              "    </button>\n",
              "\n",
              "  <style>\n",
              "    .colab-df-container {\n",
              "      display:flex;\n",
              "      gap: 12px;\n",
              "    }\n",
              "\n",
              "    .colab-df-convert {\n",
              "      background-color: #E8F0FE;\n",
              "      border: none;\n",
              "      border-radius: 50%;\n",
              "      cursor: pointer;\n",
              "      display: none;\n",
              "      fill: #1967D2;\n",
              "      height: 32px;\n",
              "      padding: 0 0 0 0;\n",
              "      width: 32px;\n",
              "    }\n",
              "\n",
              "    .colab-df-convert:hover {\n",
              "      background-color: #E2EBFA;\n",
              "      box-shadow: 0px 1px 2px rgba(60, 64, 67, 0.3), 0px 1px 3px 1px rgba(60, 64, 67, 0.15);\n",
              "      fill: #174EA6;\n",
              "    }\n",
              "\n",
              "    .colab-df-buttons div {\n",
              "      margin-bottom: 4px;\n",
              "    }\n",
              "\n",
              "    [theme=dark] .colab-df-convert {\n",
              "      background-color: #3B4455;\n",
              "      fill: #D2E3FC;\n",
              "    }\n",
              "\n",
              "    [theme=dark] .colab-df-convert:hover {\n",
              "      background-color: #434B5C;\n",
              "      box-shadow: 0px 1px 3px 1px rgba(0, 0, 0, 0.15);\n",
              "      filter: drop-shadow(0px 1px 2px rgba(0, 0, 0, 0.3));\n",
              "      fill: #FFFFFF;\n",
              "    }\n",
              "  </style>\n",
              "\n",
              "    <script>\n",
              "      const buttonEl =\n",
              "        document.querySelector('#df-43d17c37-7559-4261-a656-f199f1dfd06b button.colab-df-convert');\n",
              "      buttonEl.style.display =\n",
              "        google.colab.kernel.accessAllowed ? 'block' : 'none';\n",
              "\n",
              "      async function convertToInteractive(key) {\n",
              "        const element = document.querySelector('#df-43d17c37-7559-4261-a656-f199f1dfd06b');\n",
              "        const dataTable =\n",
              "          await google.colab.kernel.invokeFunction('convertToInteractive',\n",
              "                                                    [key], {});\n",
              "        if (!dataTable) return;\n",
              "\n",
              "        const docLinkHtml = 'Like what you see? Visit the ' +\n",
              "          '<a target=\"_blank\" href=https://colab.research.google.com/notebooks/data_table.ipynb>data table notebook</a>'\n",
              "          + ' to learn more about interactive tables.';\n",
              "        element.innerHTML = '';\n",
              "        dataTable['output_type'] = 'display_data';\n",
              "        await google.colab.output.renderOutput(dataTable, element);\n",
              "        const docLink = document.createElement('div');\n",
              "        docLink.innerHTML = docLinkHtml;\n",
              "        element.appendChild(docLink);\n",
              "      }\n",
              "    </script>\n",
              "  </div>\n",
              "\n",
              "\n",
              "<div id=\"df-cf82fd62-5287-4477-8dfb-b9a96875b25b\">\n",
              "  <button class=\"colab-df-quickchart\" onclick=\"quickchart('df-cf82fd62-5287-4477-8dfb-b9a96875b25b')\"\n",
              "            title=\"Suggest charts\"\n",
              "            style=\"display:none;\">\n",
              "\n",
              "<svg xmlns=\"http://www.w3.org/2000/svg\" height=\"24px\"viewBox=\"0 0 24 24\"\n",
              "     width=\"24px\">\n",
              "    <g>\n",
              "        <path d=\"M19 3H5c-1.1 0-2 .9-2 2v14c0 1.1.9 2 2 2h14c1.1 0 2-.9 2-2V5c0-1.1-.9-2-2-2zM9 17H7v-7h2v7zm4 0h-2V7h2v10zm4 0h-2v-4h2v4z\"/>\n",
              "    </g>\n",
              "</svg>\n",
              "  </button>\n",
              "\n",
              "<style>\n",
              "  .colab-df-quickchart {\n",
              "      --bg-color: #E8F0FE;\n",
              "      --fill-color: #1967D2;\n",
              "      --hover-bg-color: #E2EBFA;\n",
              "      --hover-fill-color: #174EA6;\n",
              "      --disabled-fill-color: #AAA;\n",
              "      --disabled-bg-color: #DDD;\n",
              "  }\n",
              "\n",
              "  [theme=dark] .colab-df-quickchart {\n",
              "      --bg-color: #3B4455;\n",
              "      --fill-color: #D2E3FC;\n",
              "      --hover-bg-color: #434B5C;\n",
              "      --hover-fill-color: #FFFFFF;\n",
              "      --disabled-bg-color: #3B4455;\n",
              "      --disabled-fill-color: #666;\n",
              "  }\n",
              "\n",
              "  .colab-df-quickchart {\n",
              "    background-color: var(--bg-color);\n",
              "    border: none;\n",
              "    border-radius: 50%;\n",
              "    cursor: pointer;\n",
              "    display: none;\n",
              "    fill: var(--fill-color);\n",
              "    height: 32px;\n",
              "    padding: 0;\n",
              "    width: 32px;\n",
              "  }\n",
              "\n",
              "  .colab-df-quickchart:hover {\n",
              "    background-color: var(--hover-bg-color);\n",
              "    box-shadow: 0 1px 2px rgba(60, 64, 67, 0.3), 0 1px 3px 1px rgba(60, 64, 67, 0.15);\n",
              "    fill: var(--button-hover-fill-color);\n",
              "  }\n",
              "\n",
              "  .colab-df-quickchart-complete:disabled,\n",
              "  .colab-df-quickchart-complete:disabled:hover {\n",
              "    background-color: var(--disabled-bg-color);\n",
              "    fill: var(--disabled-fill-color);\n",
              "    box-shadow: none;\n",
              "  }\n",
              "\n",
              "  .colab-df-spinner {\n",
              "    border: 2px solid var(--fill-color);\n",
              "    border-color: transparent;\n",
              "    border-bottom-color: var(--fill-color);\n",
              "    animation:\n",
              "      spin 1s steps(1) infinite;\n",
              "  }\n",
              "\n",
              "  @keyframes spin {\n",
              "    0% {\n",
              "      border-color: transparent;\n",
              "      border-bottom-color: var(--fill-color);\n",
              "      border-left-color: var(--fill-color);\n",
              "    }\n",
              "    20% {\n",
              "      border-color: transparent;\n",
              "      border-left-color: var(--fill-color);\n",
              "      border-top-color: var(--fill-color);\n",
              "    }\n",
              "    30% {\n",
              "      border-color: transparent;\n",
              "      border-left-color: var(--fill-color);\n",
              "      border-top-color: var(--fill-color);\n",
              "      border-right-color: var(--fill-color);\n",
              "    }\n",
              "    40% {\n",
              "      border-color: transparent;\n",
              "      border-right-color: var(--fill-color);\n",
              "      border-top-color: var(--fill-color);\n",
              "    }\n",
              "    60% {\n",
              "      border-color: transparent;\n",
              "      border-right-color: var(--fill-color);\n",
              "    }\n",
              "    80% {\n",
              "      border-color: transparent;\n",
              "      border-right-color: var(--fill-color);\n",
              "      border-bottom-color: var(--fill-color);\n",
              "    }\n",
              "    90% {\n",
              "      border-color: transparent;\n",
              "      border-bottom-color: var(--fill-color);\n",
              "    }\n",
              "  }\n",
              "</style>\n",
              "\n",
              "  <script>\n",
              "    async function quickchart(key) {\n",
              "      const quickchartButtonEl =\n",
              "        document.querySelector('#' + key + ' button');\n",
              "      quickchartButtonEl.disabled = true;  // To prevent multiple clicks.\n",
              "      quickchartButtonEl.classList.add('colab-df-spinner');\n",
              "      try {\n",
              "        const charts = await google.colab.kernel.invokeFunction(\n",
              "            'suggestCharts', [key], {});\n",
              "      } catch (error) {\n",
              "        console.error('Error during call to suggestCharts:', error);\n",
              "      }\n",
              "      quickchartButtonEl.classList.remove('colab-df-spinner');\n",
              "      quickchartButtonEl.classList.add('colab-df-quickchart-complete');\n",
              "    }\n",
              "    (() => {\n",
              "      let quickchartButtonEl =\n",
              "        document.querySelector('#df-cf82fd62-5287-4477-8dfb-b9a96875b25b button');\n",
              "      quickchartButtonEl.style.display =\n",
              "        google.colab.kernel.accessAllowed ? 'block' : 'none';\n",
              "    })();\n",
              "  </script>\n",
              "</div>\n",
              "\n",
              "    </div>\n",
              "  </div>\n"
            ],
            "application/vnd.google.colaboratory.intrinsic+json": {
              "type": "dataframe",
              "variable_name": "data",
              "summary": "{\n  \"name\": \"data\",\n  \"rows\": 230,\n  \"fields\": [\n    {\n      \"column\": \"angry\",\n      \"properties\": {\n        \"dtype\": \"number\",\n        \"std\": 15.109317311455357,\n        \"min\": 5.522219838075737e-11,\n        \"max\": 72.95958673472246,\n        \"num_unique_values\": 230,\n        \"samples\": [\n          65.06613880790107,\n          21.833494305610657,\n          1.8649704003316403\n        ],\n        \"semantic_type\": \"\",\n        \"description\": \"\"\n      }\n    },\n    {\n      \"column\": \"disgust\",\n      \"properties\": {\n        \"dtype\": \"number\",\n        \"std\": 0.03391072869273222,\n        \"min\": 6.351382704833177e-26,\n        \"max\": 0.2918850863352418,\n        \"num_unique_values\": 230,\n        \"samples\": [\n          0.007213595811436076,\n          0.0022166110284160823,\n          0.006092103648599827\n        ],\n        \"semantic_type\": \"\",\n        \"description\": \"\"\n      }\n    },\n    {\n      \"column\": \"fear\",\n      \"properties\": {\n        \"dtype\": \"number\",\n        \"std\": 13.021007413445423,\n        \"min\": 0.0053725336329080164,\n        \"max\": 70.5439907636637,\n        \"num_unique_values\": 230,\n        \"samples\": [\n          4.365971944688078,\n          7.145132124423981,\n          35.244806721496985\n        ],\n        \"semantic_type\": \"\",\n        \"description\": \"\"\n      }\n    },\n    {\n      \"column\": \"happy\",\n      \"properties\": {\n        \"dtype\": \"number\",\n        \"std\": 8.225542158504407,\n        \"min\": 5.359045818455567e-09,\n        \"max\": 85.90159332165678,\n        \"num_unique_values\": 230,\n        \"samples\": [\n          0.06530469207046581,\n          0.0212785234907642,\n          43.56883427911009\n        ],\n        \"semantic_type\": \"\",\n        \"description\": \"\"\n      }\n    },\n    {\n      \"column\": \"sad\",\n      \"properties\": {\n        \"dtype\": \"number\",\n        \"std\": 16.628441417046478,\n        \"min\": 0.22579353717228992,\n        \"max\": 80.09471178619336,\n        \"num_unique_values\": 230,\n        \"samples\": [\n          20.734496160417567,\n          61.33781671524048,\n          12.330183376680814\n        ],\n        \"semantic_type\": \"\",\n        \"description\": \"\"\n      }\n    },\n    {\n      \"column\": \"surprise\",\n      \"properties\": {\n        \"dtype\": \"number\",\n        \"std\": 0.11355243493854916,\n        \"min\": 7.066752998746706e-10,\n        \"max\": 1.0242342948913574,\n        \"num_unique_values\": 230,\n        \"samples\": [\n          0.004015215257041879,\n          0.0037665646232198924,\n          0.5051519091517871\n        ],\n        \"semantic_type\": \"\",\n        \"description\": \"\"\n      }\n    },\n    {\n      \"column\": \"neutral\",\n      \"properties\": {\n        \"dtype\": \"number\",\n        \"std\": 23.670404791657198,\n        \"min\": 1.296408288180828,\n        \"max\": 97.16203808784485,\n        \"num_unique_values\": 230,\n        \"samples\": [\n          9.75686295371431,\n          9.65629667043686,\n          6.479967771766649\n        ],\n        \"semantic_type\": \"\",\n        \"description\": \"\"\n      }\n    }\n  ]\n}"
            }
          },
          "metadata": {},
          "execution_count": 7
        }
      ]
    },
    {
      "cell_type": "code",
      "source": [
        "data['file_name'] = files_names"
      ],
      "metadata": {
        "id": "YM-7jA7kAPU4"
      },
      "execution_count": null,
      "outputs": []
    },
    {
      "cell_type": "code",
      "source": [],
      "metadata": {
        "colab": {
          "base_uri": "https://localhost:8080/",
          "height": 206
        },
        "id": "YdRpe7A4CDkp",
        "outputId": "d2cdb31a-51ac-4fd6-b410-c0716cca9986"
      },
      "execution_count": null,
      "outputs": [
        {
          "output_type": "execute_result",
          "data": {
            "text/plain": [
              "       angry       disgust       fear     happy       sad  surprise  \\\n",
              "0   7.904930  1.812292e-03  91.114098  0.000425  0.797568  0.017270   \n",
              "1   5.498828  1.243135e-01  89.922197  0.006892  2.658956  0.557025   \n",
              "2   0.044550  4.308343e-11   0.094390  0.000155  4.330179  0.000242   \n",
              "3  58.644730  2.411703e+00  27.633265  0.068445  1.167897  9.669379   \n",
              "4   0.979878  2.500872e-12   0.028178  0.000006  1.143024  0.000415   \n",
              "\n",
              "     neutral       file_name  \n",
              "0   0.163894  frame_0044.jpg  \n",
              "1   1.231789  frame_0105.jpg  \n",
              "2  95.530486  frame_0485.jpg  \n",
              "3   0.404584  frame_0249.jpg  \n",
              "4  97.848505  frame_0544.jpg  "
            ],
            "text/html": [
              "\n",
              "  <div id=\"df-8290c7b2-0616-44ab-8054-1ab50400c962\" class=\"colab-df-container\">\n",
              "    <div>\n",
              "<style scoped>\n",
              "    .dataframe tbody tr th:only-of-type {\n",
              "        vertical-align: middle;\n",
              "    }\n",
              "\n",
              "    .dataframe tbody tr th {\n",
              "        vertical-align: top;\n",
              "    }\n",
              "\n",
              "    .dataframe thead th {\n",
              "        text-align: right;\n",
              "    }\n",
              "</style>\n",
              "<table border=\"1\" class=\"dataframe\">\n",
              "  <thead>\n",
              "    <tr style=\"text-align: right;\">\n",
              "      <th></th>\n",
              "      <th>angry</th>\n",
              "      <th>disgust</th>\n",
              "      <th>fear</th>\n",
              "      <th>happy</th>\n",
              "      <th>sad</th>\n",
              "      <th>surprise</th>\n",
              "      <th>neutral</th>\n",
              "      <th>file_name</th>\n",
              "    </tr>\n",
              "  </thead>\n",
              "  <tbody>\n",
              "    <tr>\n",
              "      <th>0</th>\n",
              "      <td>7.904930</td>\n",
              "      <td>1.812292e-03</td>\n",
              "      <td>91.114098</td>\n",
              "      <td>0.000425</td>\n",
              "      <td>0.797568</td>\n",
              "      <td>0.017270</td>\n",
              "      <td>0.163894</td>\n",
              "      <td>frame_0044.jpg</td>\n",
              "    </tr>\n",
              "    <tr>\n",
              "      <th>1</th>\n",
              "      <td>5.498828</td>\n",
              "      <td>1.243135e-01</td>\n",
              "      <td>89.922197</td>\n",
              "      <td>0.006892</td>\n",
              "      <td>2.658956</td>\n",
              "      <td>0.557025</td>\n",
              "      <td>1.231789</td>\n",
              "      <td>frame_0105.jpg</td>\n",
              "    </tr>\n",
              "    <tr>\n",
              "      <th>2</th>\n",
              "      <td>0.044550</td>\n",
              "      <td>4.308343e-11</td>\n",
              "      <td>0.094390</td>\n",
              "      <td>0.000155</td>\n",
              "      <td>4.330179</td>\n",
              "      <td>0.000242</td>\n",
              "      <td>95.530486</td>\n",
              "      <td>frame_0485.jpg</td>\n",
              "    </tr>\n",
              "    <tr>\n",
              "      <th>3</th>\n",
              "      <td>58.644730</td>\n",
              "      <td>2.411703e+00</td>\n",
              "      <td>27.633265</td>\n",
              "      <td>0.068445</td>\n",
              "      <td>1.167897</td>\n",
              "      <td>9.669379</td>\n",
              "      <td>0.404584</td>\n",
              "      <td>frame_0249.jpg</td>\n",
              "    </tr>\n",
              "    <tr>\n",
              "      <th>4</th>\n",
              "      <td>0.979878</td>\n",
              "      <td>2.500872e-12</td>\n",
              "      <td>0.028178</td>\n",
              "      <td>0.000006</td>\n",
              "      <td>1.143024</td>\n",
              "      <td>0.000415</td>\n",
              "      <td>97.848505</td>\n",
              "      <td>frame_0544.jpg</td>\n",
              "    </tr>\n",
              "  </tbody>\n",
              "</table>\n",
              "</div>\n",
              "    <div class=\"colab-df-buttons\">\n",
              "      \n",
              "  <div class=\"colab-df-container\">\n",
              "    <button class=\"colab-df-convert\" onclick=\"convertToInteractive('df-8290c7b2-0616-44ab-8054-1ab50400c962')\"\n",
              "            title=\"Convert this dataframe to an interactive table.\"\n",
              "            style=\"display:none;\">\n",
              "      \n",
              "  <svg xmlns=\"http://www.w3.org/2000/svg\" height=\"24px\" viewBox=\"0 -960 960 960\">\n",
              "    <path d=\"M120-120v-720h720v720H120Zm60-500h600v-160H180v160Zm220 220h160v-160H400v160Zm0 220h160v-160H400v160ZM180-400h160v-160H180v160Zm440 0h160v-160H620v160ZM180-180h160v-160H180v160Zm440 0h160v-160H620v160Z\"/>\n",
              "  </svg>\n",
              "    </button>\n",
              "    \n",
              "  <style>\n",
              "    .colab-df-container {\n",
              "      display:flex;\n",
              "      gap: 12px;\n",
              "    }\n",
              "\n",
              "    .colab-df-convert {\n",
              "      background-color: #E8F0FE;\n",
              "      border: none;\n",
              "      border-radius: 50%;\n",
              "      cursor: pointer;\n",
              "      display: none;\n",
              "      fill: #1967D2;\n",
              "      height: 32px;\n",
              "      padding: 0 0 0 0;\n",
              "      width: 32px;\n",
              "    }\n",
              "\n",
              "    .colab-df-convert:hover {\n",
              "      background-color: #E2EBFA;\n",
              "      box-shadow: 0px 1px 2px rgba(60, 64, 67, 0.3), 0px 1px 3px 1px rgba(60, 64, 67, 0.15);\n",
              "      fill: #174EA6;\n",
              "    }\n",
              "\n",
              "    .colab-df-buttons div {\n",
              "      margin-bottom: 4px;\n",
              "    }\n",
              "\n",
              "    [theme=dark] .colab-df-convert {\n",
              "      background-color: #3B4455;\n",
              "      fill: #D2E3FC;\n",
              "    }\n",
              "\n",
              "    [theme=dark] .colab-df-convert:hover {\n",
              "      background-color: #434B5C;\n",
              "      box-shadow: 0px 1px 3px 1px rgba(0, 0, 0, 0.15);\n",
              "      filter: drop-shadow(0px 1px 2px rgba(0, 0, 0, 0.3));\n",
              "      fill: #FFFFFF;\n",
              "    }\n",
              "  </style>\n",
              "\n",
              "    <script>\n",
              "      const buttonEl =\n",
              "        document.querySelector('#df-8290c7b2-0616-44ab-8054-1ab50400c962 button.colab-df-convert');\n",
              "      buttonEl.style.display =\n",
              "        google.colab.kernel.accessAllowed ? 'block' : 'none';\n",
              "\n",
              "      async function convertToInteractive(key) {\n",
              "        const element = document.querySelector('#df-8290c7b2-0616-44ab-8054-1ab50400c962');\n",
              "        const dataTable =\n",
              "          await google.colab.kernel.invokeFunction('convertToInteractive',\n",
              "                                                    [key], {});\n",
              "        if (!dataTable) return;\n",
              "\n",
              "        const docLinkHtml = 'Like what you see? Visit the ' +\n",
              "          '<a target=\"_blank\" href=https://colab.research.google.com/notebooks/data_table.ipynb>data table notebook</a>'\n",
              "          + ' to learn more about interactive tables.';\n",
              "        element.innerHTML = '';\n",
              "        dataTable['output_type'] = 'display_data';\n",
              "        await google.colab.output.renderOutput(dataTable, element);\n",
              "        const docLink = document.createElement('div');\n",
              "        docLink.innerHTML = docLinkHtml;\n",
              "        element.appendChild(docLink);\n",
              "      }\n",
              "    </script>\n",
              "  </div>\n",
              "  \n",
              "    </div>\n",
              "  </div>\n",
              "  "
            ]
          },
          "metadata": {},
          "execution_count": 124
        }
      ]
    },
    {
      "cell_type": "code",
      "source": [],
      "metadata": {
        "id": "UJLsbOtwgSy5"
      },
      "execution_count": null,
      "outputs": []
    },
    {
      "cell_type": "code",
      "source": [
        "data['Face_confidence'] = face_reaction"
      ],
      "metadata": {
        "id": "D4dzxRcCIEDi"
      },
      "execution_count": null,
      "outputs": []
    },
    {
      "cell_type": "code",
      "source": [
        "data.head()"
      ],
      "metadata": {
        "colab": {
          "base_uri": "https://localhost:8080/",
          "height": 206
        },
        "id": "VD2tQUm4ISaC",
        "outputId": "66a893c0-da71-4bd4-9a5a-1190168a6736"
      },
      "execution_count": null,
      "outputs": [
        {
          "output_type": "execute_result",
          "data": {
            "text/plain": [
              "      angry   disgust       fear      happy        sad  surprise    neutral  \\\n",
              "0  1.964297  0.020763  57.596283   1.634470  22.522736  0.135743  16.125702   \n",
              "1  1.997675  0.000033   0.556933   0.013590  67.980206  0.000028  29.451534   \n",
              "2  0.707194  0.000002   1.492624   0.000459  39.791909  0.000021  58.007795   \n",
              "3  0.456096  0.000040   0.220840   0.134545   8.403324  0.000537  90.784621   \n",
              "4  7.027009  0.076015  18.674257  10.582963  31.971467  0.288389  31.379905   \n",
              "\n",
              "        file_name  Face_confidence  \n",
              "0  frame_1123.jpg             0.89  \n",
              "1  frame_1769.jpg             0.90  \n",
              "2  frame_2241.jpg             0.90  \n",
              "3  frame_0876.jpg             0.90  \n",
              "4  frame_1184.jpg             0.90  "
            ],
            "text/html": [
              "\n",
              "  <div id=\"df-a85c959b-6312-44e4-b0fa-d7c707061ec0\" class=\"colab-df-container\">\n",
              "    <div>\n",
              "<style scoped>\n",
              "    .dataframe tbody tr th:only-of-type {\n",
              "        vertical-align: middle;\n",
              "    }\n",
              "\n",
              "    .dataframe tbody tr th {\n",
              "        vertical-align: top;\n",
              "    }\n",
              "\n",
              "    .dataframe thead th {\n",
              "        text-align: right;\n",
              "    }\n",
              "</style>\n",
              "<table border=\"1\" class=\"dataframe\">\n",
              "  <thead>\n",
              "    <tr style=\"text-align: right;\">\n",
              "      <th></th>\n",
              "      <th>angry</th>\n",
              "      <th>disgust</th>\n",
              "      <th>fear</th>\n",
              "      <th>happy</th>\n",
              "      <th>sad</th>\n",
              "      <th>surprise</th>\n",
              "      <th>neutral</th>\n",
              "      <th>file_name</th>\n",
              "      <th>Face_confidence</th>\n",
              "    </tr>\n",
              "  </thead>\n",
              "  <tbody>\n",
              "    <tr>\n",
              "      <th>0</th>\n",
              "      <td>1.964297</td>\n",
              "      <td>0.020763</td>\n",
              "      <td>57.596283</td>\n",
              "      <td>1.634470</td>\n",
              "      <td>22.522736</td>\n",
              "      <td>0.135743</td>\n",
              "      <td>16.125702</td>\n",
              "      <td>frame_1123.jpg</td>\n",
              "      <td>0.89</td>\n",
              "    </tr>\n",
              "    <tr>\n",
              "      <th>1</th>\n",
              "      <td>1.997675</td>\n",
              "      <td>0.000033</td>\n",
              "      <td>0.556933</td>\n",
              "      <td>0.013590</td>\n",
              "      <td>67.980206</td>\n",
              "      <td>0.000028</td>\n",
              "      <td>29.451534</td>\n",
              "      <td>frame_1769.jpg</td>\n",
              "      <td>0.90</td>\n",
              "    </tr>\n",
              "    <tr>\n",
              "      <th>2</th>\n",
              "      <td>0.707194</td>\n",
              "      <td>0.000002</td>\n",
              "      <td>1.492624</td>\n",
              "      <td>0.000459</td>\n",
              "      <td>39.791909</td>\n",
              "      <td>0.000021</td>\n",
              "      <td>58.007795</td>\n",
              "      <td>frame_2241.jpg</td>\n",
              "      <td>0.90</td>\n",
              "    </tr>\n",
              "    <tr>\n",
              "      <th>3</th>\n",
              "      <td>0.456096</td>\n",
              "      <td>0.000040</td>\n",
              "      <td>0.220840</td>\n",
              "      <td>0.134545</td>\n",
              "      <td>8.403324</td>\n",
              "      <td>0.000537</td>\n",
              "      <td>90.784621</td>\n",
              "      <td>frame_0876.jpg</td>\n",
              "      <td>0.90</td>\n",
              "    </tr>\n",
              "    <tr>\n",
              "      <th>4</th>\n",
              "      <td>7.027009</td>\n",
              "      <td>0.076015</td>\n",
              "      <td>18.674257</td>\n",
              "      <td>10.582963</td>\n",
              "      <td>31.971467</td>\n",
              "      <td>0.288389</td>\n",
              "      <td>31.379905</td>\n",
              "      <td>frame_1184.jpg</td>\n",
              "      <td>0.90</td>\n",
              "    </tr>\n",
              "  </tbody>\n",
              "</table>\n",
              "</div>\n",
              "    <div class=\"colab-df-buttons\">\n",
              "\n",
              "  <div class=\"colab-df-container\">\n",
              "    <button class=\"colab-df-convert\" onclick=\"convertToInteractive('df-a85c959b-6312-44e4-b0fa-d7c707061ec0')\"\n",
              "            title=\"Convert this dataframe to an interactive table.\"\n",
              "            style=\"display:none;\">\n",
              "\n",
              "  <svg xmlns=\"http://www.w3.org/2000/svg\" height=\"24px\" viewBox=\"0 -960 960 960\">\n",
              "    <path d=\"M120-120v-720h720v720H120Zm60-500h600v-160H180v160Zm220 220h160v-160H400v160Zm0 220h160v-160H400v160ZM180-400h160v-160H180v160Zm440 0h160v-160H620v160ZM180-180h160v-160H180v160Zm440 0h160v-160H620v160Z\"/>\n",
              "  </svg>\n",
              "    </button>\n",
              "\n",
              "  <style>\n",
              "    .colab-df-container {\n",
              "      display:flex;\n",
              "      gap: 12px;\n",
              "    }\n",
              "\n",
              "    .colab-df-convert {\n",
              "      background-color: #E8F0FE;\n",
              "      border: none;\n",
              "      border-radius: 50%;\n",
              "      cursor: pointer;\n",
              "      display: none;\n",
              "      fill: #1967D2;\n",
              "      height: 32px;\n",
              "      padding: 0 0 0 0;\n",
              "      width: 32px;\n",
              "    }\n",
              "\n",
              "    .colab-df-convert:hover {\n",
              "      background-color: #E2EBFA;\n",
              "      box-shadow: 0px 1px 2px rgba(60, 64, 67, 0.3), 0px 1px 3px 1px rgba(60, 64, 67, 0.15);\n",
              "      fill: #174EA6;\n",
              "    }\n",
              "\n",
              "    .colab-df-buttons div {\n",
              "      margin-bottom: 4px;\n",
              "    }\n",
              "\n",
              "    [theme=dark] .colab-df-convert {\n",
              "      background-color: #3B4455;\n",
              "      fill: #D2E3FC;\n",
              "    }\n",
              "\n",
              "    [theme=dark] .colab-df-convert:hover {\n",
              "      background-color: #434B5C;\n",
              "      box-shadow: 0px 1px 3px 1px rgba(0, 0, 0, 0.15);\n",
              "      filter: drop-shadow(0px 1px 2px rgba(0, 0, 0, 0.3));\n",
              "      fill: #FFFFFF;\n",
              "    }\n",
              "  </style>\n",
              "\n",
              "    <script>\n",
              "      const buttonEl =\n",
              "        document.querySelector('#df-a85c959b-6312-44e4-b0fa-d7c707061ec0 button.colab-df-convert');\n",
              "      buttonEl.style.display =\n",
              "        google.colab.kernel.accessAllowed ? 'block' : 'none';\n",
              "\n",
              "      async function convertToInteractive(key) {\n",
              "        const element = document.querySelector('#df-a85c959b-6312-44e4-b0fa-d7c707061ec0');\n",
              "        const dataTable =\n",
              "          await google.colab.kernel.invokeFunction('convertToInteractive',\n",
              "                                                    [key], {});\n",
              "        if (!dataTable) return;\n",
              "\n",
              "        const docLinkHtml = 'Like what you see? Visit the ' +\n",
              "          '<a target=\"_blank\" href=https://colab.research.google.com/notebooks/data_table.ipynb>data table notebook</a>'\n",
              "          + ' to learn more about interactive tables.';\n",
              "        element.innerHTML = '';\n",
              "        dataTable['output_type'] = 'display_data';\n",
              "        await google.colab.output.renderOutput(dataTable, element);\n",
              "        const docLink = document.createElement('div');\n",
              "        docLink.innerHTML = docLinkHtml;\n",
              "        element.appendChild(docLink);\n",
              "      }\n",
              "    </script>\n",
              "  </div>\n",
              "\n",
              "\n",
              "<div id=\"df-e7e9fbd9-c146-4912-9459-008a53fccfaa\">\n",
              "  <button class=\"colab-df-quickchart\" onclick=\"quickchart('df-e7e9fbd9-c146-4912-9459-008a53fccfaa')\"\n",
              "            title=\"Suggest charts\"\n",
              "            style=\"display:none;\">\n",
              "\n",
              "<svg xmlns=\"http://www.w3.org/2000/svg\" height=\"24px\"viewBox=\"0 0 24 24\"\n",
              "     width=\"24px\">\n",
              "    <g>\n",
              "        <path d=\"M19 3H5c-1.1 0-2 .9-2 2v14c0 1.1.9 2 2 2h14c1.1 0 2-.9 2-2V5c0-1.1-.9-2-2-2zM9 17H7v-7h2v7zm4 0h-2V7h2v10zm4 0h-2v-4h2v4z\"/>\n",
              "    </g>\n",
              "</svg>\n",
              "  </button>\n",
              "\n",
              "<style>\n",
              "  .colab-df-quickchart {\n",
              "      --bg-color: #E8F0FE;\n",
              "      --fill-color: #1967D2;\n",
              "      --hover-bg-color: #E2EBFA;\n",
              "      --hover-fill-color: #174EA6;\n",
              "      --disabled-fill-color: #AAA;\n",
              "      --disabled-bg-color: #DDD;\n",
              "  }\n",
              "\n",
              "  [theme=dark] .colab-df-quickchart {\n",
              "      --bg-color: #3B4455;\n",
              "      --fill-color: #D2E3FC;\n",
              "      --hover-bg-color: #434B5C;\n",
              "      --hover-fill-color: #FFFFFF;\n",
              "      --disabled-bg-color: #3B4455;\n",
              "      --disabled-fill-color: #666;\n",
              "  }\n",
              "\n",
              "  .colab-df-quickchart {\n",
              "    background-color: var(--bg-color);\n",
              "    border: none;\n",
              "    border-radius: 50%;\n",
              "    cursor: pointer;\n",
              "    display: none;\n",
              "    fill: var(--fill-color);\n",
              "    height: 32px;\n",
              "    padding: 0;\n",
              "    width: 32px;\n",
              "  }\n",
              "\n",
              "  .colab-df-quickchart:hover {\n",
              "    background-color: var(--hover-bg-color);\n",
              "    box-shadow: 0 1px 2px rgba(60, 64, 67, 0.3), 0 1px 3px 1px rgba(60, 64, 67, 0.15);\n",
              "    fill: var(--button-hover-fill-color);\n",
              "  }\n",
              "\n",
              "  .colab-df-quickchart-complete:disabled,\n",
              "  .colab-df-quickchart-complete:disabled:hover {\n",
              "    background-color: var(--disabled-bg-color);\n",
              "    fill: var(--disabled-fill-color);\n",
              "    box-shadow: none;\n",
              "  }\n",
              "\n",
              "  .colab-df-spinner {\n",
              "    border: 2px solid var(--fill-color);\n",
              "    border-color: transparent;\n",
              "    border-bottom-color: var(--fill-color);\n",
              "    animation:\n",
              "      spin 1s steps(1) infinite;\n",
              "  }\n",
              "\n",
              "  @keyframes spin {\n",
              "    0% {\n",
              "      border-color: transparent;\n",
              "      border-bottom-color: var(--fill-color);\n",
              "      border-left-color: var(--fill-color);\n",
              "    }\n",
              "    20% {\n",
              "      border-color: transparent;\n",
              "      border-left-color: var(--fill-color);\n",
              "      border-top-color: var(--fill-color);\n",
              "    }\n",
              "    30% {\n",
              "      border-color: transparent;\n",
              "      border-left-color: var(--fill-color);\n",
              "      border-top-color: var(--fill-color);\n",
              "      border-right-color: var(--fill-color);\n",
              "    }\n",
              "    40% {\n",
              "      border-color: transparent;\n",
              "      border-right-color: var(--fill-color);\n",
              "      border-top-color: var(--fill-color);\n",
              "    }\n",
              "    60% {\n",
              "      border-color: transparent;\n",
              "      border-right-color: var(--fill-color);\n",
              "    }\n",
              "    80% {\n",
              "      border-color: transparent;\n",
              "      border-right-color: var(--fill-color);\n",
              "      border-bottom-color: var(--fill-color);\n",
              "    }\n",
              "    90% {\n",
              "      border-color: transparent;\n",
              "      border-bottom-color: var(--fill-color);\n",
              "    }\n",
              "  }\n",
              "</style>\n",
              "\n",
              "  <script>\n",
              "    async function quickchart(key) {\n",
              "      const quickchartButtonEl =\n",
              "        document.querySelector('#' + key + ' button');\n",
              "      quickchartButtonEl.disabled = true;  // To prevent multiple clicks.\n",
              "      quickchartButtonEl.classList.add('colab-df-spinner');\n",
              "      try {\n",
              "        const charts = await google.colab.kernel.invokeFunction(\n",
              "            'suggestCharts', [key], {});\n",
              "      } catch (error) {\n",
              "        console.error('Error during call to suggestCharts:', error);\n",
              "      }\n",
              "      quickchartButtonEl.classList.remove('colab-df-spinner');\n",
              "      quickchartButtonEl.classList.add('colab-df-quickchart-complete');\n",
              "    }\n",
              "    (() => {\n",
              "      let quickchartButtonEl =\n",
              "        document.querySelector('#df-e7e9fbd9-c146-4912-9459-008a53fccfaa button');\n",
              "      quickchartButtonEl.style.display =\n",
              "        google.colab.kernel.accessAllowed ? 'block' : 'none';\n",
              "    })();\n",
              "  </script>\n",
              "</div>\n",
              "\n",
              "    </div>\n",
              "  </div>\n"
            ],
            "application/vnd.google.colaboratory.intrinsic+json": {
              "type": "dataframe",
              "variable_name": "data",
              "summary": "{\n  \"name\": \"data\",\n  \"rows\": 230,\n  \"fields\": [\n    {\n      \"column\": \"angry\",\n      \"properties\": {\n        \"dtype\": \"number\",\n        \"std\": 15.109317311455357,\n        \"min\": 5.522219838075737e-11,\n        \"max\": 72.95958673472246,\n        \"num_unique_values\": 230,\n        \"samples\": [\n          65.06613880790107,\n          21.833494305610657,\n          1.8649704003316403\n        ],\n        \"semantic_type\": \"\",\n        \"description\": \"\"\n      }\n    },\n    {\n      \"column\": \"disgust\",\n      \"properties\": {\n        \"dtype\": \"number\",\n        \"std\": 0.03391072869273222,\n        \"min\": 6.351382704833177e-26,\n        \"max\": 0.2918850863352418,\n        \"num_unique_values\": 230,\n        \"samples\": [\n          0.007213595811436076,\n          0.0022166110284160823,\n          0.006092103648599827\n        ],\n        \"semantic_type\": \"\",\n        \"description\": \"\"\n      }\n    },\n    {\n      \"column\": \"fear\",\n      \"properties\": {\n        \"dtype\": \"number\",\n        \"std\": 13.021007413445423,\n        \"min\": 0.0053725336329080164,\n        \"max\": 70.5439907636637,\n        \"num_unique_values\": 230,\n        \"samples\": [\n          4.365971944688078,\n          7.145132124423981,\n          35.244806721496985\n        ],\n        \"semantic_type\": \"\",\n        \"description\": \"\"\n      }\n    },\n    {\n      \"column\": \"happy\",\n      \"properties\": {\n        \"dtype\": \"number\",\n        \"std\": 8.225542158504407,\n        \"min\": 5.359045818455567e-09,\n        \"max\": 85.90159332165678,\n        \"num_unique_values\": 230,\n        \"samples\": [\n          0.06530469207046581,\n          0.0212785234907642,\n          43.56883427911009\n        ],\n        \"semantic_type\": \"\",\n        \"description\": \"\"\n      }\n    },\n    {\n      \"column\": \"sad\",\n      \"properties\": {\n        \"dtype\": \"number\",\n        \"std\": 16.628441417046478,\n        \"min\": 0.22579353717228992,\n        \"max\": 80.09471178619336,\n        \"num_unique_values\": 230,\n        \"samples\": [\n          20.734496160417567,\n          61.33781671524048,\n          12.330183376680814\n        ],\n        \"semantic_type\": \"\",\n        \"description\": \"\"\n      }\n    },\n    {\n      \"column\": \"surprise\",\n      \"properties\": {\n        \"dtype\": \"number\",\n        \"std\": 0.11355243493854916,\n        \"min\": 7.066752998746706e-10,\n        \"max\": 1.0242342948913574,\n        \"num_unique_values\": 230,\n        \"samples\": [\n          0.004015215257041879,\n          0.0037665646232198924,\n          0.5051519091517871\n        ],\n        \"semantic_type\": \"\",\n        \"description\": \"\"\n      }\n    },\n    {\n      \"column\": \"neutral\",\n      \"properties\": {\n        \"dtype\": \"number\",\n        \"std\": 23.670404791657198,\n        \"min\": 1.296408288180828,\n        \"max\": 97.16203808784485,\n        \"num_unique_values\": 230,\n        \"samples\": [\n          9.75686295371431,\n          9.65629667043686,\n          6.479967771766649\n        ],\n        \"semantic_type\": \"\",\n        \"description\": \"\"\n      }\n    },\n    {\n      \"column\": \"file_name\",\n      \"properties\": {\n        \"dtype\": \"string\",\n        \"num_unique_values\": 230,\n        \"samples\": [\n          \"frame_1509.jpg\",\n          \"frame_2081.jpg\",\n          \"frame_1176.jpg\"\n        ],\n        \"semantic_type\": \"\",\n        \"description\": \"\"\n      }\n    },\n    {\n      \"column\": \"Face_confidence\",\n      \"properties\": {\n        \"dtype\": \"number\",\n        \"std\": 0.012486636106681414,\n        \"min\": 0.87,\n        \"max\": 0.94,\n        \"num_unique_values\": 8,\n        \"samples\": [\n          0.9,\n          0.88,\n          0.89\n        ],\n        \"semantic_type\": \"\",\n        \"description\": \"\"\n      }\n    }\n  ]\n}"
            }
          },
          "metadata": {},
          "execution_count": 10
        }
      ]
    },
    {
      "cell_type": "code",
      "source": [],
      "metadata": {
        "id": "Mmuy2jANJP8j"
      },
      "execution_count": null,
      "outputs": []
    },
    {
      "cell_type": "code",
      "source": [],
      "metadata": {
        "id": "Q2pnkL8PJQUT"
      },
      "execution_count": null,
      "outputs": []
    },
    {
      "cell_type": "code",
      "source": [
        "data.describe(include='all')"
      ],
      "metadata": {
        "colab": {
          "base_uri": "https://localhost:8080/",
          "height": 394
        },
        "id": "REWRzzA4DI9B",
        "outputId": "25190e9b-c52d-4762-b617-e5c4cf53af61"
      },
      "execution_count": null,
      "outputs": [
        {
          "output_type": "execute_result",
          "data": {
            "text/plain": [
              "               angry       disgust        fear         happy         sad  \\\n",
              "count   2.300000e+02  2.300000e+02  230.000000  2.300000e+02  230.000000   \n",
              "unique           NaN           NaN         NaN           NaN         NaN   \n",
              "top              NaN           NaN         NaN           NaN         NaN   \n",
              "freq             NaN           NaN         NaN           NaN         NaN   \n",
              "mean    1.487148e+01  1.158044e-02   13.311555  1.770003e+00   31.064447   \n",
              "std     1.510932e+01  3.391073e-02   13.021007  8.225542e+00   16.628441   \n",
              "min     5.522220e-11  6.351383e-26    0.005373  5.359046e-09    0.225794   \n",
              "25%     3.838939e+00  7.842173e-05    3.312472  4.134697e-02   18.842233   \n",
              "50%     9.210963e+00  7.090263e-04    9.332138  1.502568e-01   28.984650   \n",
              "75%     1.990262e+01  4.813522e-03   19.032148  5.066396e-01   42.779112   \n",
              "max     7.295959e+01  2.918851e-01   70.543991  8.590159e+01   80.094712   \n",
              "\n",
              "            surprise     neutral       file_name  Face_confidence  \n",
              "count   2.300000e+02  230.000000             230       230.000000  \n",
              "unique           NaN         NaN             230              NaN  \n",
              "top              NaN         NaN  frame_1123.jpg              NaN  \n",
              "freq             NaN         NaN               1              NaN  \n",
              "mean    4.275886e-02   38.928175             NaN         0.903609  \n",
              "std     1.135524e-01   23.670405             NaN         0.012487  \n",
              "min     7.066753e-10    1.296408             NaN         0.870000  \n",
              "25%     1.740996e-03   21.504163             NaN         0.890000  \n",
              "50%     6.640838e-03   33.762254             NaN         0.900000  \n",
              "75%     2.400264e-02   53.133419             NaN         0.910000  \n",
              "max     1.024234e+00   97.162038             NaN         0.940000  "
            ],
            "text/html": [
              "\n",
              "  <div id=\"df-a9cd8087-cd0b-4258-ad74-88bfd5a02bed\" class=\"colab-df-container\">\n",
              "    <div>\n",
              "<style scoped>\n",
              "    .dataframe tbody tr th:only-of-type {\n",
              "        vertical-align: middle;\n",
              "    }\n",
              "\n",
              "    .dataframe tbody tr th {\n",
              "        vertical-align: top;\n",
              "    }\n",
              "\n",
              "    .dataframe thead th {\n",
              "        text-align: right;\n",
              "    }\n",
              "</style>\n",
              "<table border=\"1\" class=\"dataframe\">\n",
              "  <thead>\n",
              "    <tr style=\"text-align: right;\">\n",
              "      <th></th>\n",
              "      <th>angry</th>\n",
              "      <th>disgust</th>\n",
              "      <th>fear</th>\n",
              "      <th>happy</th>\n",
              "      <th>sad</th>\n",
              "      <th>surprise</th>\n",
              "      <th>neutral</th>\n",
              "      <th>file_name</th>\n",
              "      <th>Face_confidence</th>\n",
              "    </tr>\n",
              "  </thead>\n",
              "  <tbody>\n",
              "    <tr>\n",
              "      <th>count</th>\n",
              "      <td>2.300000e+02</td>\n",
              "      <td>2.300000e+02</td>\n",
              "      <td>230.000000</td>\n",
              "      <td>2.300000e+02</td>\n",
              "      <td>230.000000</td>\n",
              "      <td>2.300000e+02</td>\n",
              "      <td>230.000000</td>\n",
              "      <td>230</td>\n",
              "      <td>230.000000</td>\n",
              "    </tr>\n",
              "    <tr>\n",
              "      <th>unique</th>\n",
              "      <td>NaN</td>\n",
              "      <td>NaN</td>\n",
              "      <td>NaN</td>\n",
              "      <td>NaN</td>\n",
              "      <td>NaN</td>\n",
              "      <td>NaN</td>\n",
              "      <td>NaN</td>\n",
              "      <td>230</td>\n",
              "      <td>NaN</td>\n",
              "    </tr>\n",
              "    <tr>\n",
              "      <th>top</th>\n",
              "      <td>NaN</td>\n",
              "      <td>NaN</td>\n",
              "      <td>NaN</td>\n",
              "      <td>NaN</td>\n",
              "      <td>NaN</td>\n",
              "      <td>NaN</td>\n",
              "      <td>NaN</td>\n",
              "      <td>frame_1123.jpg</td>\n",
              "      <td>NaN</td>\n",
              "    </tr>\n",
              "    <tr>\n",
              "      <th>freq</th>\n",
              "      <td>NaN</td>\n",
              "      <td>NaN</td>\n",
              "      <td>NaN</td>\n",
              "      <td>NaN</td>\n",
              "      <td>NaN</td>\n",
              "      <td>NaN</td>\n",
              "      <td>NaN</td>\n",
              "      <td>1</td>\n",
              "      <td>NaN</td>\n",
              "    </tr>\n",
              "    <tr>\n",
              "      <th>mean</th>\n",
              "      <td>1.487148e+01</td>\n",
              "      <td>1.158044e-02</td>\n",
              "      <td>13.311555</td>\n",
              "      <td>1.770003e+00</td>\n",
              "      <td>31.064447</td>\n",
              "      <td>4.275886e-02</td>\n",
              "      <td>38.928175</td>\n",
              "      <td>NaN</td>\n",
              "      <td>0.903609</td>\n",
              "    </tr>\n",
              "    <tr>\n",
              "      <th>std</th>\n",
              "      <td>1.510932e+01</td>\n",
              "      <td>3.391073e-02</td>\n",
              "      <td>13.021007</td>\n",
              "      <td>8.225542e+00</td>\n",
              "      <td>16.628441</td>\n",
              "      <td>1.135524e-01</td>\n",
              "      <td>23.670405</td>\n",
              "      <td>NaN</td>\n",
              "      <td>0.012487</td>\n",
              "    </tr>\n",
              "    <tr>\n",
              "      <th>min</th>\n",
              "      <td>5.522220e-11</td>\n",
              "      <td>6.351383e-26</td>\n",
              "      <td>0.005373</td>\n",
              "      <td>5.359046e-09</td>\n",
              "      <td>0.225794</td>\n",
              "      <td>7.066753e-10</td>\n",
              "      <td>1.296408</td>\n",
              "      <td>NaN</td>\n",
              "      <td>0.870000</td>\n",
              "    </tr>\n",
              "    <tr>\n",
              "      <th>25%</th>\n",
              "      <td>3.838939e+00</td>\n",
              "      <td>7.842173e-05</td>\n",
              "      <td>3.312472</td>\n",
              "      <td>4.134697e-02</td>\n",
              "      <td>18.842233</td>\n",
              "      <td>1.740996e-03</td>\n",
              "      <td>21.504163</td>\n",
              "      <td>NaN</td>\n",
              "      <td>0.890000</td>\n",
              "    </tr>\n",
              "    <tr>\n",
              "      <th>50%</th>\n",
              "      <td>9.210963e+00</td>\n",
              "      <td>7.090263e-04</td>\n",
              "      <td>9.332138</td>\n",
              "      <td>1.502568e-01</td>\n",
              "      <td>28.984650</td>\n",
              "      <td>6.640838e-03</td>\n",
              "      <td>33.762254</td>\n",
              "      <td>NaN</td>\n",
              "      <td>0.900000</td>\n",
              "    </tr>\n",
              "    <tr>\n",
              "      <th>75%</th>\n",
              "      <td>1.990262e+01</td>\n",
              "      <td>4.813522e-03</td>\n",
              "      <td>19.032148</td>\n",
              "      <td>5.066396e-01</td>\n",
              "      <td>42.779112</td>\n",
              "      <td>2.400264e-02</td>\n",
              "      <td>53.133419</td>\n",
              "      <td>NaN</td>\n",
              "      <td>0.910000</td>\n",
              "    </tr>\n",
              "    <tr>\n",
              "      <th>max</th>\n",
              "      <td>7.295959e+01</td>\n",
              "      <td>2.918851e-01</td>\n",
              "      <td>70.543991</td>\n",
              "      <td>8.590159e+01</td>\n",
              "      <td>80.094712</td>\n",
              "      <td>1.024234e+00</td>\n",
              "      <td>97.162038</td>\n",
              "      <td>NaN</td>\n",
              "      <td>0.940000</td>\n",
              "    </tr>\n",
              "  </tbody>\n",
              "</table>\n",
              "</div>\n",
              "    <div class=\"colab-df-buttons\">\n",
              "\n",
              "  <div class=\"colab-df-container\">\n",
              "    <button class=\"colab-df-convert\" onclick=\"convertToInteractive('df-a9cd8087-cd0b-4258-ad74-88bfd5a02bed')\"\n",
              "            title=\"Convert this dataframe to an interactive table.\"\n",
              "            style=\"display:none;\">\n",
              "\n",
              "  <svg xmlns=\"http://www.w3.org/2000/svg\" height=\"24px\" viewBox=\"0 -960 960 960\">\n",
              "    <path d=\"M120-120v-720h720v720H120Zm60-500h600v-160H180v160Zm220 220h160v-160H400v160Zm0 220h160v-160H400v160ZM180-400h160v-160H180v160Zm440 0h160v-160H620v160ZM180-180h160v-160H180v160Zm440 0h160v-160H620v160Z\"/>\n",
              "  </svg>\n",
              "    </button>\n",
              "\n",
              "  <style>\n",
              "    .colab-df-container {\n",
              "      display:flex;\n",
              "      gap: 12px;\n",
              "    }\n",
              "\n",
              "    .colab-df-convert {\n",
              "      background-color: #E8F0FE;\n",
              "      border: none;\n",
              "      border-radius: 50%;\n",
              "      cursor: pointer;\n",
              "      display: none;\n",
              "      fill: #1967D2;\n",
              "      height: 32px;\n",
              "      padding: 0 0 0 0;\n",
              "      width: 32px;\n",
              "    }\n",
              "\n",
              "    .colab-df-convert:hover {\n",
              "      background-color: #E2EBFA;\n",
              "      box-shadow: 0px 1px 2px rgba(60, 64, 67, 0.3), 0px 1px 3px 1px rgba(60, 64, 67, 0.15);\n",
              "      fill: #174EA6;\n",
              "    }\n",
              "\n",
              "    .colab-df-buttons div {\n",
              "      margin-bottom: 4px;\n",
              "    }\n",
              "\n",
              "    [theme=dark] .colab-df-convert {\n",
              "      background-color: #3B4455;\n",
              "      fill: #D2E3FC;\n",
              "    }\n",
              "\n",
              "    [theme=dark] .colab-df-convert:hover {\n",
              "      background-color: #434B5C;\n",
              "      box-shadow: 0px 1px 3px 1px rgba(0, 0, 0, 0.15);\n",
              "      filter: drop-shadow(0px 1px 2px rgba(0, 0, 0, 0.3));\n",
              "      fill: #FFFFFF;\n",
              "    }\n",
              "  </style>\n",
              "\n",
              "    <script>\n",
              "      const buttonEl =\n",
              "        document.querySelector('#df-a9cd8087-cd0b-4258-ad74-88bfd5a02bed button.colab-df-convert');\n",
              "      buttonEl.style.display =\n",
              "        google.colab.kernel.accessAllowed ? 'block' : 'none';\n",
              "\n",
              "      async function convertToInteractive(key) {\n",
              "        const element = document.querySelector('#df-a9cd8087-cd0b-4258-ad74-88bfd5a02bed');\n",
              "        const dataTable =\n",
              "          await google.colab.kernel.invokeFunction('convertToInteractive',\n",
              "                                                    [key], {});\n",
              "        if (!dataTable) return;\n",
              "\n",
              "        const docLinkHtml = 'Like what you see? Visit the ' +\n",
              "          '<a target=\"_blank\" href=https://colab.research.google.com/notebooks/data_table.ipynb>data table notebook</a>'\n",
              "          + ' to learn more about interactive tables.';\n",
              "        element.innerHTML = '';\n",
              "        dataTable['output_type'] = 'display_data';\n",
              "        await google.colab.output.renderOutput(dataTable, element);\n",
              "        const docLink = document.createElement('div');\n",
              "        docLink.innerHTML = docLinkHtml;\n",
              "        element.appendChild(docLink);\n",
              "      }\n",
              "    </script>\n",
              "  </div>\n",
              "\n",
              "\n",
              "<div id=\"df-cc95c3c4-7f9b-4578-987d-9b4326e65b64\">\n",
              "  <button class=\"colab-df-quickchart\" onclick=\"quickchart('df-cc95c3c4-7f9b-4578-987d-9b4326e65b64')\"\n",
              "            title=\"Suggest charts\"\n",
              "            style=\"display:none;\">\n",
              "\n",
              "<svg xmlns=\"http://www.w3.org/2000/svg\" height=\"24px\"viewBox=\"0 0 24 24\"\n",
              "     width=\"24px\">\n",
              "    <g>\n",
              "        <path d=\"M19 3H5c-1.1 0-2 .9-2 2v14c0 1.1.9 2 2 2h14c1.1 0 2-.9 2-2V5c0-1.1-.9-2-2-2zM9 17H7v-7h2v7zm4 0h-2V7h2v10zm4 0h-2v-4h2v4z\"/>\n",
              "    </g>\n",
              "</svg>\n",
              "  </button>\n",
              "\n",
              "<style>\n",
              "  .colab-df-quickchart {\n",
              "      --bg-color: #E8F0FE;\n",
              "      --fill-color: #1967D2;\n",
              "      --hover-bg-color: #E2EBFA;\n",
              "      --hover-fill-color: #174EA6;\n",
              "      --disabled-fill-color: #AAA;\n",
              "      --disabled-bg-color: #DDD;\n",
              "  }\n",
              "\n",
              "  [theme=dark] .colab-df-quickchart {\n",
              "      --bg-color: #3B4455;\n",
              "      --fill-color: #D2E3FC;\n",
              "      --hover-bg-color: #434B5C;\n",
              "      --hover-fill-color: #FFFFFF;\n",
              "      --disabled-bg-color: #3B4455;\n",
              "      --disabled-fill-color: #666;\n",
              "  }\n",
              "\n",
              "  .colab-df-quickchart {\n",
              "    background-color: var(--bg-color);\n",
              "    border: none;\n",
              "    border-radius: 50%;\n",
              "    cursor: pointer;\n",
              "    display: none;\n",
              "    fill: var(--fill-color);\n",
              "    height: 32px;\n",
              "    padding: 0;\n",
              "    width: 32px;\n",
              "  }\n",
              "\n",
              "  .colab-df-quickchart:hover {\n",
              "    background-color: var(--hover-bg-color);\n",
              "    box-shadow: 0 1px 2px rgba(60, 64, 67, 0.3), 0 1px 3px 1px rgba(60, 64, 67, 0.15);\n",
              "    fill: var(--button-hover-fill-color);\n",
              "  }\n",
              "\n",
              "  .colab-df-quickchart-complete:disabled,\n",
              "  .colab-df-quickchart-complete:disabled:hover {\n",
              "    background-color: var(--disabled-bg-color);\n",
              "    fill: var(--disabled-fill-color);\n",
              "    box-shadow: none;\n",
              "  }\n",
              "\n",
              "  .colab-df-spinner {\n",
              "    border: 2px solid var(--fill-color);\n",
              "    border-color: transparent;\n",
              "    border-bottom-color: var(--fill-color);\n",
              "    animation:\n",
              "      spin 1s steps(1) infinite;\n",
              "  }\n",
              "\n",
              "  @keyframes spin {\n",
              "    0% {\n",
              "      border-color: transparent;\n",
              "      border-bottom-color: var(--fill-color);\n",
              "      border-left-color: var(--fill-color);\n",
              "    }\n",
              "    20% {\n",
              "      border-color: transparent;\n",
              "      border-left-color: var(--fill-color);\n",
              "      border-top-color: var(--fill-color);\n",
              "    }\n",
              "    30% {\n",
              "      border-color: transparent;\n",
              "      border-left-color: var(--fill-color);\n",
              "      border-top-color: var(--fill-color);\n",
              "      border-right-color: var(--fill-color);\n",
              "    }\n",
              "    40% {\n",
              "      border-color: transparent;\n",
              "      border-right-color: var(--fill-color);\n",
              "      border-top-color: var(--fill-color);\n",
              "    }\n",
              "    60% {\n",
              "      border-color: transparent;\n",
              "      border-right-color: var(--fill-color);\n",
              "    }\n",
              "    80% {\n",
              "      border-color: transparent;\n",
              "      border-right-color: var(--fill-color);\n",
              "      border-bottom-color: var(--fill-color);\n",
              "    }\n",
              "    90% {\n",
              "      border-color: transparent;\n",
              "      border-bottom-color: var(--fill-color);\n",
              "    }\n",
              "  }\n",
              "</style>\n",
              "\n",
              "  <script>\n",
              "    async function quickchart(key) {\n",
              "      const quickchartButtonEl =\n",
              "        document.querySelector('#' + key + ' button');\n",
              "      quickchartButtonEl.disabled = true;  // To prevent multiple clicks.\n",
              "      quickchartButtonEl.classList.add('colab-df-spinner');\n",
              "      try {\n",
              "        const charts = await google.colab.kernel.invokeFunction(\n",
              "            'suggestCharts', [key], {});\n",
              "      } catch (error) {\n",
              "        console.error('Error during call to suggestCharts:', error);\n",
              "      }\n",
              "      quickchartButtonEl.classList.remove('colab-df-spinner');\n",
              "      quickchartButtonEl.classList.add('colab-df-quickchart-complete');\n",
              "    }\n",
              "    (() => {\n",
              "      let quickchartButtonEl =\n",
              "        document.querySelector('#df-cc95c3c4-7f9b-4578-987d-9b4326e65b64 button');\n",
              "      quickchartButtonEl.style.display =\n",
              "        google.colab.kernel.accessAllowed ? 'block' : 'none';\n",
              "    })();\n",
              "  </script>\n",
              "</div>\n",
              "\n",
              "    </div>\n",
              "  </div>\n"
            ],
            "application/vnd.google.colaboratory.intrinsic+json": {
              "type": "dataframe",
              "summary": "{\n  \"name\": \"data\",\n  \"rows\": 11,\n  \"fields\": [\n    {\n      \"column\": \"angry\",\n      \"properties\": {\n        \"dtype\": \"number\",\n        \"std\": 77.85842914151529,\n        \"min\": 5.522219838075737e-11,\n        \"max\": 230.0,\n        \"num_unique_values\": 8,\n        \"samples\": [\n          14.871481804558012,\n          9.210963174700737,\n          230.0\n        ],\n        \"semantic_type\": \"\",\n        \"description\": \"\"\n      }\n    },\n    {\n      \"column\": \"disgust\",\n      \"properties\": {\n        \"dtype\": \"number\",\n        \"std\": 81.30001810765204,\n        \"min\": 6.351382704833177e-26,\n        \"max\": 230.0,\n        \"num_unique_values\": 8,\n        \"samples\": [\n          0.011580437975733444,\n          0.0007090263352438342,\n          230.0\n        ],\n        \"semantic_type\": \"\",\n        \"description\": \"\"\n      }\n    },\n    {\n      \"column\": \"fear\",\n      \"properties\": {\n        \"dtype\": \"number\",\n        \"std\": 78.02283696537172,\n        \"min\": 0.0053725336329080164,\n        \"max\": 230.0,\n        \"num_unique_values\": 8,\n        \"samples\": [\n          13.311554863578976,\n          9.332137554883957,\n          230.0\n        ],\n        \"semantic_type\": \"\",\n        \"description\": \"\"\n      }\n    },\n    {\n      \"column\": \"happy\",\n      \"properties\": {\n        \"dtype\": \"number\",\n        \"std\": 81.95564065251175,\n        \"min\": 5.359045818455567e-09,\n        \"max\": 230.0,\n        \"num_unique_values\": 8,\n        \"samples\": [\n          1.7700028831810235,\n          0.1502567552961409,\n          230.0\n        ],\n        \"semantic_type\": \"\",\n        \"description\": \"\"\n      }\n    },\n    {\n      \"column\": \"sad\",\n      \"properties\": {\n        \"dtype\": \"number\",\n        \"std\": 74.08922362567307,\n        \"min\": 0.22579353717228992,\n        \"max\": 230.0,\n        \"num_unique_values\": 8,\n        \"samples\": [\n          31.06444707533457,\n          28.984649726067097,\n          230.0\n        ],\n        \"semantic_type\": \"\",\n        \"description\": \"\"\n      }\n    },\n    {\n      \"column\": \"surprise\",\n      \"properties\": {\n        \"dtype\": \"number\",\n        \"std\": 81.25676852973459,\n        \"min\": 7.066752998746706e-10,\n        \"max\": 230.0,\n        \"num_unique_values\": 8,\n        \"samples\": [\n          0.04275885905343925,\n          0.006640838379631213,\n          230.0\n        ],\n        \"semantic_type\": \"\",\n        \"description\": \"\"\n      }\n    },\n    {\n      \"column\": \"neutral\",\n      \"properties\": {\n        \"dtype\": \"number\",\n        \"std\": 73.3496203021094,\n        \"min\": 1.296408288180828,\n        \"max\": 230.0,\n        \"num_unique_values\": 8,\n        \"samples\": [\n          38.928174835535444,\n          33.76225382089615,\n          230.0\n        ],\n        \"semantic_type\": \"\",\n        \"description\": \"\"\n      }\n    },\n    {\n      \"column\": \"file_name\",\n      \"properties\": {\n        \"dtype\": \"category\",\n        \"num_unique_values\": 3,\n        \"samples\": [\n          \"230\",\n          \"frame_1123.jpg\",\n          \"1\"\n        ],\n        \"semantic_type\": \"\",\n        \"description\": \"\"\n      }\n    },\n    {\n      \"column\": \"Face_confidence\",\n      \"properties\": {\n        \"dtype\": \"number\",\n        \"std\": 81.04382109980125,\n        \"min\": 0.012486636106681414,\n        \"max\": 230.0,\n        \"num_unique_values\": 8,\n        \"samples\": [\n          0.903608695652174,\n          0.9,\n          230.0\n        ],\n        \"semantic_type\": \"\",\n        \"description\": \"\"\n      }\n    }\n  ]\n}"
            }
          },
          "metadata": {},
          "execution_count": 11
        }
      ]
    },
    {
      "cell_type": "code",
      "source": [
        "(42+30+91)/3"
      ],
      "metadata": {
        "id": "7PrG3ExdJRnK",
        "colab": {
          "base_uri": "https://localhost:8080/"
        },
        "outputId": "667a4b8a-ec9e-4290-cab0-a525b76d13b0"
      },
      "execution_count": null,
      "outputs": [
        {
          "output_type": "execute_result",
          "data": {
            "text/plain": [
              "54.333333333333336"
            ]
          },
          "metadata": {},
          "execution_count": 16
        }
      ]
    },
    {
      "cell_type": "code",
      "source": [],
      "metadata": {
        "id": "C9UxkMAFLVzy"
      },
      "execution_count": null,
      "outputs": []
    },
    {
      "cell_type": "code",
      "source": [],
      "metadata": {
        "id": "IRF_wRalLV3W"
      },
      "execution_count": null,
      "outputs": []
    },
    {
      "cell_type": "code",
      "source": [],
      "metadata": {
        "id": "Rc50sRBzP8F7"
      },
      "execution_count": null,
      "outputs": []
    },
    {
      "cell_type": "code",
      "source": [],
      "metadata": {
        "id": "8z9QtbuSP8Iv"
      },
      "execution_count": null,
      "outputs": []
    },
    {
      "cell_type": "code",
      "source": [
        "mean = []\n",
        "for i in data['angry']:\n",
        "  mean.append(i)"
      ],
      "metadata": {
        "id": "U7wI2hhuJRqJ"
      },
      "execution_count": null,
      "outputs": []
    },
    {
      "cell_type": "code",
      "source": [
        "print((sum(mean)/len(mean)))"
      ],
      "metadata": {
        "colab": {
          "base_uri": "https://localhost:8080/"
        },
        "id": "d_aMyb9sJRsx",
        "outputId": "10a7c11c-cce7-4c2a-f5b0-94a3c98dbdee"
      },
      "execution_count": null,
      "outputs": [
        {
          "output_type": "stream",
          "name": "stdout",
          "text": [
            "11.393602244410285\n"
          ]
        }
      ]
    },
    {
      "cell_type": "code",
      "source": [],
      "metadata": {
        "id": "WhD_8ky9JRvq"
      },
      "execution_count": null,
      "outputs": []
    },
    {
      "cell_type": "code",
      "source": [
        "data.isnull().sum()"
      ],
      "metadata": {
        "colab": {
          "base_uri": "https://localhost:8080/",
          "height": 303
        },
        "id": "IOrWbMSmAL8g",
        "outputId": "57fd5160-469e-4999-c002-63b247fd3f42"
      },
      "execution_count": null,
      "outputs": [
        {
          "output_type": "execute_result",
          "data": {
            "text/plain": [
              "angry       0\n",
              "disgust     0\n",
              "fear        0\n",
              "happy       0\n",
              "sad         0\n",
              "surprise    0\n",
              "neutral     0\n",
              "dtype: int64"
            ],
            "text/html": [
              "<div>\n",
              "<style scoped>\n",
              "    .dataframe tbody tr th:only-of-type {\n",
              "        vertical-align: middle;\n",
              "    }\n",
              "\n",
              "    .dataframe tbody tr th {\n",
              "        vertical-align: top;\n",
              "    }\n",
              "\n",
              "    .dataframe thead th {\n",
              "        text-align: right;\n",
              "    }\n",
              "</style>\n",
              "<table border=\"1\" class=\"dataframe\">\n",
              "  <thead>\n",
              "    <tr style=\"text-align: right;\">\n",
              "      <th></th>\n",
              "      <th>0</th>\n",
              "    </tr>\n",
              "  </thead>\n",
              "  <tbody>\n",
              "    <tr>\n",
              "      <th>angry</th>\n",
              "      <td>0</td>\n",
              "    </tr>\n",
              "    <tr>\n",
              "      <th>disgust</th>\n",
              "      <td>0</td>\n",
              "    </tr>\n",
              "    <tr>\n",
              "      <th>fear</th>\n",
              "      <td>0</td>\n",
              "    </tr>\n",
              "    <tr>\n",
              "      <th>happy</th>\n",
              "      <td>0</td>\n",
              "    </tr>\n",
              "    <tr>\n",
              "      <th>sad</th>\n",
              "      <td>0</td>\n",
              "    </tr>\n",
              "    <tr>\n",
              "      <th>surprise</th>\n",
              "      <td>0</td>\n",
              "    </tr>\n",
              "    <tr>\n",
              "      <th>neutral</th>\n",
              "      <td>0</td>\n",
              "    </tr>\n",
              "  </tbody>\n",
              "</table>\n",
              "</div><br><label><b>dtype:</b> int64</label>"
            ]
          },
          "metadata": {},
          "execution_count": 81
        }
      ]
    },
    {
      "cell_type": "code",
      "source": [
        "data.shape"
      ],
      "metadata": {
        "colab": {
          "base_uri": "https://localhost:8080/"
        },
        "id": "w82CjlyDy0Uj",
        "outputId": "9f1b5e53-03ad-431b-ea17-65b60815248f"
      },
      "execution_count": null,
      "outputs": [
        {
          "output_type": "execute_result",
          "data": {
            "text/plain": [
              "(76, 7)"
            ]
          },
          "metadata": {},
          "execution_count": 61
        }
      ]
    },
    {
      "cell_type": "code",
      "source": [
        "type(face_emotions)"
      ],
      "metadata": {
        "colab": {
          "base_uri": "https://localhost:8080/"
        },
        "id": "TeqjCD9Y9hL-",
        "outputId": "5b4ef592-efce-45ab-c893-7533b3e6dffb"
      },
      "execution_count": null,
      "outputs": [
        {
          "output_type": "execute_result",
          "data": {
            "text/plain": [
              "list"
            ]
          },
          "metadata": {},
          "execution_count": 87
        }
      ]
    },
    {
      "cell_type": "code",
      "source": [
        "# Extract face_confidence values, ignoring invalid entries\n",
        "for i in range(len(face_emotions)):\n",
        "  face_confidences = [\n",
        "      item['face_confidence'] for item in face_emotions[i]\n",
        "      if isinstance(item, dict) and 'face_confidence' in item\n",
        "  ]\n",
        "\n",
        "  # Print the result\n",
        "print(face_confidences)"
      ],
      "metadata": {
        "colab": {
          "base_uri": "https://localhost:8080/"
        },
        "id": "sEpaXDjz9HWO",
        "outputId": "93a0ecb3-f3f9-429f-9e33-385c02d4b63b"
      },
      "execution_count": null,
      "outputs": [
        {
          "output_type": "stream",
          "name": "stdout",
          "text": [
            "[0.92]\n"
          ]
        }
      ]
    },
    {
      "cell_type": "code",
      "source": [
        "print(face_confidences)"
      ],
      "metadata": {
        "colab": {
          "base_uri": "https://localhost:8080/"
        },
        "id": "DHrlSl1AAOAF",
        "outputId": "1eb6c145-5aa9-496f-9838-ff8b73548960"
      },
      "execution_count": null,
      "outputs": [
        {
          "output_type": "stream",
          "name": "stdout",
          "text": [
            "[0.92]\n"
          ]
        }
      ]
    },
    {
      "cell_type": "code",
      "source": [
        "print(face_emotions)"
      ],
      "metadata": {
        "colab": {
          "base_uri": "https://localhost:8080/"
        },
        "id": "jrzxPO439Haa",
        "outputId": "fdc8e129-a0a5-4a35-d895-aaa3a28cf3ef"
      },
      "execution_count": null,
      "outputs": [
        {
          "output_type": "stream",
          "name": "stdout",
          "text": [
            "[[{'emotion': {'angry': 1.2748184669356122e-11, 'disgust': 1.0698552396650761e-24, 'fear': 0.006231636507436633, 'happy': 5.271556628716478e-10, 'sad': 0.0003379902636879706, 'surprise': 0.00018139255644200603, 'neutral': 99.99325275421143}, 'dominant_emotion': 'neutral', 'region': {'x': 205, 'y': 135, 'w': 364, 'h': 364, 'left_eye': (347, 339), 'right_eye': (340, 261)}, 'face_confidence': 0.91}], [{'emotion': {'angry': 0.1827253494411707, 'disgust': 0.00235367569985101, 'fear': 47.039493918418884, 'happy': 0.00035628065688797506, 'sad': 50.669217109680176, 'surprise': 0.0002770882247205009, 'neutral': 2.1055808290839195}, 'dominant_emotion': 'sad', 'region': {'x': 192, 'y': 141, 'w': 369, 'h': 369, 'left_eye': (344, 354), 'right_eye': (328, 409)}, 'face_confidence': 0.93}], [{'emotion': {'angry': 1.0797875933349133, 'disgust': 2.2879687477939115e-06, 'fear': 93.673574924469, 'happy': 2.467509432335646e-05, 'sad': 0.5871372297406197, 'surprise': 0.0034768869227264076, 'neutral': 4.656004533171654}, 'dominant_emotion': 'fear', 'region': {'x': 80, 'y': 101, 'w': 406, 'h': 406, 'left_eye': (258, 336), 'right_eye': (290, 398)}, 'face_confidence': 0.93}], [{'emotion': {'angry': 3.236379474401474, 'disgust': 5.029417771140743e-07, 'fear': 0.3191979369148612, 'happy': 0.010844384814845398, 'sad': 8.251386135816574, 'surprise': 0.017956554074771702, 'neutral': 88.16423416137695}, 'dominant_emotion': 'neutral', 'region': {'x': 130, 'y': 110, 'w': 377, 'h': 377, 'left_eye': None, 'right_eye': None}, 'face_confidence': 0.93}], [{'emotion': {'angry': 2.2819503063564693e-13, 'disgust': 5.481263754129798e-27, 'fear': 0.00016825834884637438, 'happy': 1.2047016325366382e-07, 'sad': 2.9471372877934204e-06, 'surprise': 0.005248024484839818, 'neutral': 99.99458193746698}, 'dominant_emotion': 'neutral', 'region': {'x': 195, 'y': 146, 'w': 372, 'h': 372, 'left_eye': (351, 361), 'right_eye': (309, 285)}, 'face_confidence': 0.93}], [{'emotion': {'angry': 3.645415872960455e-19, 'disgust': 4.15774463170405e-30, 'fear': 0.002719053534925381, 'happy': 1.6950913905905707e-08, 'sad': 2.4585324188901663e-12, 'surprise': 0.00020918536275455328, 'neutral': 99.99707341176709}, 'dominant_emotion': 'neutral', 'region': {'x': 187, 'y': 138, 'w': 377, 'h': 377, 'left_eye': (436, 296), 'right_eye': (323, 412)}, 'face_confidence': 0.92}], [{'emotion': {'angry': 0.3820169484242797, 'disgust': 4.149451626744849e-06, 'fear': 3.1294651329517365, 'happy': 0.11326669482514262, 'sad': 11.688743531703949, 'surprise': 0.03932697291020304, 'neutral': 84.64717864990234}, 'dominant_emotion': 'neutral', 'region': {'x': 220, 'y': 153, 'w': 364, 'h': 364, 'left_eye': None, 'right_eye': None}, 'face_confidence': 0.94}], [{'emotion': {'angry': 54.68659996986389, 'disgust': 4.182129035440463e-10, 'fear': 0.007589513552375138, 'happy': 0.00014011319535711664, 'sad': 2.6025917381048203, 'surprise': 0.0039179434679681435, 'neutral': 42.699164152145386}, 'dominant_emotion': 'angry', 'region': {'x': 149, 'y': 147, 'w': 393, 'h': 393, 'left_eye': None, 'right_eye': None}, 'face_confidence': 0.9}], [{'emotion': {'angry': 2.982945740222931, 'disgust': 1.9191506162030691e-07, 'fear': 0.4161076620221138, 'happy': 0.0009631983630242757, 'sad': 11.38036847114563, 'surprise': 0.007716975233051926, 'neutral': 85.21190285682678}, 'dominant_emotion': 'neutral', 'region': {'x': 232, 'y': 161, 'w': 373, 'h': 373, 'left_eye': (483, 316), 'right_eye': (354, 299)}, 'face_confidence': 0.93}], [{'emotion': {'angry': 1.4566462431592971e-18, 'disgust': 1.287199635323091e-31, 'fear': 0.09886955966022966, 'happy': 1.5694918360653773e-11, 'sad': 6.444614115688847e-07, 'surprise': 1.776220094740311e-05, 'neutral': 99.90110992795884}, 'dominant_emotion': 'neutral', 'region': {'x': 83, 'y': 147, 'w': 348, 'h': 348, 'left_eye': (225, 364), 'right_eye': (189, 297)}, 'face_confidence': 0.93}], [{'emotion': {'angry': 5.20160997607988e-10, 'disgust': 4.1847425142582023e-20, 'fear': 22.224409878253937, 'happy': 1.1063039373482297e-07, 'sad': 0.00017579519635546603, 'surprise': 6.671202927827835, 'neutral': 71.10421061515808}, 'dominant_emotion': 'neutral', 'region': {'x': 158, 'y': 112, 'w': 375, 'h': 375, 'left_eye': (312, 329), 'right_eye': (289, 249)}, 'face_confidence': 0.91}], [{'emotion': {'angry': 18.871567778084742, 'disgust': 1.5179804274633764e-05, 'fear': 0.03494348119607456, 'happy': 0.054276528278084296, 'sad': 18.791365253410653, 'surprise': 0.00790357054754022, 'neutral': 62.2399307632405}, 'dominant_emotion': 'neutral', 'region': {'x': 92, 'y': 113, 'w': 385, 'h': 385, 'left_eye': (316, 324), 'right_eye': (274, 338)}, 'face_confidence': 0.92}], [{'emotion': {'angry': 0.010122620005859062, 'disgust': 5.910576847699195e-13, 'fear': 0.00016897672594495816, 'happy': 1.4476368548343999e-06, 'sad': 0.23445056285709143, 'surprise': 1.8367044551936829e-07, 'neutral': 99.75525736808777}, 'dominant_emotion': 'neutral', 'region': {'x': 198, 'y': 147, 'w': 370, 'h': 370, 'left_eye': None, 'right_eye': None}, 'face_confidence': 0.9}], [{'emotion': {'angry': 0.4963004495948553, 'disgust': 0.0011765301678678952, 'fear': 99.2432951927185, 'happy': 0.01222186692757532, 'sad': 0.16065043164417148, 'surprise': 0.002997149022121448, 'neutral': 0.0833602505736053}, 'dominant_emotion': 'fear', 'region': {'x': 91, 'y': 133, 'w': 357, 'h': 357, 'left_eye': (244, 348), 'right_eye': (277, 410)}, 'face_confidence': 0.94}], [{'emotion': {'angry': 0.030216855866721622, 'disgust': 0.00012579297003318795, 'fear': 0.27899608747637794, 'happy': 0.03219906840076705, 'sad': 99.64690802376914, 'surprise': 6.309536380855912e-07, 'neutral': 0.01155262940038767}, 'dominant_emotion': 'sad', 'region': {'x': 207, 'y': 141, 'w': 365, 'h': 365, 'left_eye': (352, 346), 'right_eye': (335, 415)}, 'face_confidence': 0.92}], [{'emotion': {'angry': 8.708262382679452e-12, 'disgust': 1.587665623033388e-20, 'fear': 4.562376439571381, 'happy': 3.931025782666353e-08, 'sad': 0.04319612344261259, 'surprise': 1.4430432315748476e-05, 'neutral': 95.39441466331482}, 'dominant_emotion': 'neutral', 'region': {'x': 71, 'y': 115, 'w': 382, 'h': 382, 'left_eye': (267, 401), 'right_eye': (178, 291)}, 'face_confidence': 0.93}], [{'emotion': {'angry': 0.006416695396183059, 'disgust': 9.162925317891816e-16, 'fear': 0.0013695340385311283, 'happy': 1.2087431056073683e-07, 'sad': 0.12838036054745317, 'surprise': 2.4430329403912765e-05, 'neutral': 99.86380934715271}, 'dominant_emotion': 'neutral', 'region': {'x': 194, 'y': 144, 'w': 374, 'h': 374, 'left_eye': (445, 301), 'right_eye': (315, 289)}, 'face_confidence': 0.9}], [{'emotion': {'angry': 1.4378690593730425e-05, 'disgust': 8.872323709052665e-09, 'fear': 0.0039351445593638346, 'happy': 0.051215419080108404, 'sad': 0.7343122735619545, 'surprise': 1.4590050945173516e-06, 'neutral': 99.210524559021}, 'dominant_emotion': 'neutral', 'region': {'x': 175, 'y': 110, 'w': 392, 'h': 392, 'left_eye': (322, 403), 'right_eye': (320, 256)}, 'face_confidence': 0.9}], [{'emotion': {'angry': 1.3411368056617692e-13, 'disgust': 1.2588305432221384e-26, 'fear': 1.0542008094489574, 'happy': 2.3546891866899067e-09, 'sad': 2.4041472101998806e-05, 'surprise': 0.00032767616175988223, 'neutral': 98.94545078277588}, 'dominant_emotion': 'neutral', 'region': {'x': 218, 'y': 149, 'w': 365, 'h': 365, 'left_eye': (391, 419), 'right_eye': (339, 282)}, 'face_confidence': 0.92}], [{'emotion': {'angry': 4.4222693617281107e-17, 'disgust': 6.997636047898428e-25, 'fear': 0.18021853354948358, 'happy': 4.70810960714394e-06, 'sad': 4.808482465610416e-10, 'surprise': 0.00015269535423241407, 'neutral': 99.81961848501939}, 'dominant_emotion': 'neutral', 'region': {'x': 140, 'y': 119, 'w': 385, 'h': 385, 'left_eye': (399, 262), 'right_eye': (334, 404)}, 'face_confidence': 0.91}], [{'emotion': {'angry': 5.806764587759972, 'disgust': 0.004908527625957504, 'fear': 1.2234617955982685, 'happy': 17.411690950393677, 'sad': 0.04663694999180734, 'surprise': 0.000626019300398184, 'neutral': 75.50591230392456}, 'dominant_emotion': 'neutral', 'region': {'x': 81, 'y': 109, 'w': 410, 'h': 410, 'left_eye': (360, 260), 'right_eye': (272, 347)}, 'face_confidence': 0.96}], [{'emotion': {'angry': 69.47658789716056, 'disgust': 8.75748537729269e-11, 'fear': 0.001184643396711946, 'happy': 2.7811136269044705e-05, 'sad': 0.9296870436520472, 'surprise': 0.0015275987603210073, 'neutral': 29.59097514367696}, 'dominant_emotion': 'angry', 'region': {'x': 153, 'y': 151, 'w': 392, 'h': 392, 'left_eye': None, 'right_eye': None}, 'face_confidence': 0.89}], [{'emotion': {'angry': 22.146043181419373, 'disgust': 6.070462887919348e-06, 'fear': 0.93342624604702, 'happy': 0.02428276784485206, 'sad': 9.502958506345749, 'surprise': 0.17030710587278008, 'neutral': 67.22297668457031}, 'dominant_emotion': 'neutral', 'region': {'x': 136, 'y': 138, 'w': 399, 'h': 399, 'left_eye': (397, 286), 'right_eye': (264, 309)}, 'face_confidence': 0.93}], [{'emotion': {'angry': 7.76941931235342e-05, 'disgust': 1.1595447909143464e-10, 'fear': 4.947443130731699e-05, 'happy': 1.2412597425282001, 'sad': 0.025576114421710372, 'surprise': 0.000531490604771534, 'neutral': 98.73250722885132}, 'dominant_emotion': 'neutral', 'region': {'x': 281, 'y': 172, 'w': 368, 'h': 368, 'left_eye': (528, 329), 'right_eye': (412, 302)}, 'face_confidence': 0.94}], [{'emotion': {'angry': 0.003833086520899087, 'disgust': 3.0438162046807785e-16, 'fear': 8.180202826224559e-06, 'happy': 5.260935154183244e-06, 'sad': 0.004142346006119624, 'surprise': 4.648418983066449e-07, 'neutral': 99.9920129776001}, 'dominant_emotion': 'neutral', 'region': {'x': 143, 'y': 139, 'w': 361, 'h': 361, 'left_eye': None, 'right_eye': None}, 'face_confidence': 0.89}], [{'emotion': {'angry': 29.12144238480582, 'disgust': 9.713012307192433e-07, 'fear': 0.1486285212563587, 'happy': 0.7887438409771824, 'sad': 32.76668088237529, 'surprise': 0.029189062764029966, 'neutral': 37.1453188148331}, 'dominant_emotion': 'neutral', 'region': {'x': 243, 'y': 144, 'w': 364, 'h': 364, 'left_eye': None, 'right_eye': None}, 'face_confidence': 0.95}], [{'emotion': {'angry': 0.06204089731909335, 'disgust': 0.01710880023892969, 'fear': 91.41940474510193, 'happy': 0.0026403866286273114, 'sad': 0.07043838268145919, 'surprise': 0.3407886950299144, 'neutral': 8.087581396102905}, 'dominant_emotion': 'fear', 'region': {'x': 192, 'y': 117, 'w': 362, 'h': 362, 'left_eye': (442, 278), 'right_eye': (337, 320)}, 'face_confidence': 0.92}], [{'emotion': {'angry': 1.909128410915173e-07, 'disgust': 1.6278178595170657e-14, 'fear': 0.7118143606930971, 'happy': 2.1999230881419862e-06, 'sad': 0.014417905185837299, 'surprise': 0.0011346087376296055, 'neutral': 99.27263259887695}, 'dominant_emotion': 'neutral', 'region': {'x': 217, 'y': 147, 'w': 369, 'h': 369, 'left_eye': (361, 416), 'right_eye': (336, 281)}, 'face_confidence': 0.93}], [{'emotion': {'angry': 2.1983760790449557e-14, 'disgust': 3.5526555679672686e-22, 'fear': 0.04031430391107602, 'happy': 5.714525740282939e-09, 'sad': 6.692781423920454e-05, 'surprise': 6.693784141709625e-05, 'neutral': 99.9595463324134}, 'dominant_emotion': 'neutral', 'region': {'x': 40, 'y': 167, 'w': 394, 'h': 394, 'left_eye': (247, 467), 'right_eye': (176, 332)}, 'face_confidence': 0.94}], [{'emotion': {'angry': 8.015341883278226e-25, 'disgust': 1.7020440090452894e-35, 'fear': 1.987607565988446e-05, 'happy': 3.402510030512802e-10, 'sad': 1.0791221397643797e-11, 'surprise': 2.2202128612777932e-10, 'neutral': 99.9999821186055}, 'dominant_emotion': 'neutral', 'region': {'x': 147, 'y': 124, 'w': 392, 'h': 392, 'left_eye': (413, 278), 'right_eye': (342, 417)}, 'face_confidence': 0.92}]]\n"
          ]
        }
      ]
    },
    {
      "cell_type": "code",
      "source": [
        "!mkdir output"
      ],
      "metadata": {
        "id": "KBvGGjGP60Xe"
      },
      "execution_count": null,
      "outputs": []
    },
    {
      "cell_type": "code",
      "source": [
        "# Data\n",
        "data = [\n",
        "    {'emotion': {'angry': 1.2748184669356122e-11, 'disgust': 1.0698552396650761e-24, 'fear': 0.006231636507436633, 'happy': 5.271556628716478e-10, 'sad': 0.0003379902636879706, 'surprise': 0.00018139255644200603, 'neutral': 99.99325275421143}, 'dominant_emotion': 'neutral', 'region': {'x': 205, 'y': 135, 'w': 364, 'h': 364, 'left_eye': (347, 339), 'right_eye': (340, 261)}, 'face_confidence': 0.91},\n",
        "    {'emotion': {'angry': 0.1827253494411707, 'disgust': 0.00235367569985101, 'fear': 47.039493918418884, 'happy': 0.00035628065688797506, 'sad': 50.669217109680176, 'surprise': 0.0002770882247205009, 'neutral': 2.1055808290839195}, 'dominant_emotion': 'sad', 'region': {'x': 192, 'y': 141, 'w': 369, 'h': 369, 'left_eye': (344, 354), 'right_eye': (328, 409)}, 'face_confidence': 0.93},\n",
        "    {'emotion': {'angry': 1.0797875933349133, 'disgust': 2.2879687477939115e-06, 'fear': 93.673574924469, 'happy': 2.467509432335646e-05, 'sad': 0.5871372297406197, 'surprise': 0.0034768869227264076, 'neutral': 4.656004533171654}, 'dominant_emotion': 'fear', 'region': {'x': 80, 'y': 101, 'w': 406, 'h': 406, 'left_eye': (258, 336), 'right_eye': (290, 398)}, 'face_confidence': 0.93}\n",
        "    'Error analyzing /content/frames/frame_0254.jpg: Face could not be detected in numpy array.Please confirm that the picture is a face photo or consider to set enforce_detection param to False.\n",
        "  ]\n",
        "\n",
        "# Extract face_confidence\n",
        "face_confidences = [item['face_confidence'] for item in data]\n",
        "\n",
        "# Print result\n",
        "print(face_confidences)\n"
      ],
      "metadata": {
        "colab": {
          "base_uri": "https://localhost:8080/"
        },
        "id": "1uPw1mkH02Xc",
        "outputId": "b84cc9af-28e2-4f88-fd36-9c086aebb491"
      },
      "execution_count": null,
      "outputs": [
        {
          "output_type": "stream",
          "name": "stdout",
          "text": [
            "[0.91, 0.93, 0.93]\n"
          ]
        }
      ]
    },
    {
      "cell_type": "code",
      "source": [],
      "metadata": {
        "id": "_H3ZNA009C1m"
      },
      "execution_count": null,
      "outputs": []
    },
    {
      "cell_type": "code",
      "source": [],
      "metadata": {
        "id": "vrjnuOlzQruj"
      },
      "execution_count": null,
      "outputs": []
    },
    {
      "cell_type": "code",
      "source": [],
      "metadata": {
        "id": "xNmTbtBiQrx_"
      },
      "execution_count": null,
      "outputs": []
    },
    {
      "cell_type": "code",
      "source": [
        "application=[]\n",
        "for i in range(len(face_emotions)):\n",
        "  face_emotions[i]['face_confidence']\n",
        "  application.append(face_emotions[i]['face_confidence'])"
      ],
      "metadata": {
        "colab": {
          "base_uri": "https://localhost:8080/",
          "height": 201
        },
        "id": "Lizkm8JJnByg",
        "outputId": "4a38d6c8-4332-44ae-9ba6-08f371c7094c"
      },
      "execution_count": null,
      "outputs": [
        {
          "output_type": "error",
          "ename": "TypeError",
          "evalue": "list indices must be integers or slices, not str",
          "traceback": [
            "\u001b[0;31m---------------------------------------------------------------------------\u001b[0m",
            "\u001b[0;31mTypeError\u001b[0m                                 Traceback (most recent call last)",
            "\u001b[0;32m<ipython-input-67-f8ba6abffce1>\u001b[0m in \u001b[0;36m<cell line: 2>\u001b[0;34m()\u001b[0m\n\u001b[1;32m      1\u001b[0m \u001b[0mapplication\u001b[0m\u001b[0;34m=\u001b[0m\u001b[0;34m[\u001b[0m\u001b[0;34m]\u001b[0m\u001b[0;34m\u001b[0m\u001b[0;34m\u001b[0m\u001b[0m\n\u001b[1;32m      2\u001b[0m \u001b[0;32mfor\u001b[0m \u001b[0mi\u001b[0m \u001b[0;32min\u001b[0m \u001b[0mrange\u001b[0m\u001b[0;34m(\u001b[0m\u001b[0mlen\u001b[0m\u001b[0;34m(\u001b[0m\u001b[0mface_emotions\u001b[0m\u001b[0;34m)\u001b[0m\u001b[0;34m)\u001b[0m\u001b[0;34m:\u001b[0m\u001b[0;34m\u001b[0m\u001b[0;34m\u001b[0m\u001b[0m\n\u001b[0;32m----> 3\u001b[0;31m   \u001b[0mface_emotions\u001b[0m\u001b[0;34m[\u001b[0m\u001b[0mi\u001b[0m\u001b[0;34m]\u001b[0m\u001b[0;34m[\u001b[0m\u001b[0;34m'face_confidence'\u001b[0m\u001b[0;34m]\u001b[0m\u001b[0;34m\u001b[0m\u001b[0;34m\u001b[0m\u001b[0m\n\u001b[0m\u001b[1;32m      4\u001b[0m   \u001b[0mapplication\u001b[0m\u001b[0;34m.\u001b[0m\u001b[0mappend\u001b[0m\u001b[0;34m(\u001b[0m\u001b[0mface_emotions\u001b[0m\u001b[0;34m[\u001b[0m\u001b[0mi\u001b[0m\u001b[0;34m]\u001b[0m\u001b[0;34m[\u001b[0m\u001b[0;34m'face_confidence'\u001b[0m\u001b[0;34m]\u001b[0m\u001b[0;34m)\u001b[0m\u001b[0;34m\u001b[0m\u001b[0;34m\u001b[0m\u001b[0m\n",
            "\u001b[0;31mTypeError\u001b[0m: list indices must be integers or slices, not str"
          ]
        }
      ]
    },
    {
      "cell_type": "code",
      "source": [],
      "metadata": {
        "id": "UPCcsniTnB1S"
      },
      "execution_count": null,
      "outputs": []
    },
    {
      "cell_type": "code",
      "source": [
        "from deepface import DeepFace\n",
        "import cv2\n",
        "import matplotlib.pyplot as plt\n",
        "\n",
        "face_emotions = []\n",
        "# Read image\n",
        "img = cv2.imread('/content/frames/frame_0000.jpg')\n",
        "\n",
        "# Display image\n",
        "plt.imshow(cv2.cvtColor(img, cv2.COLOR_BGR2RGB))\n",
        "plt.show()\n",
        "\n",
        "# Analyze emotions\n",
        "result = DeepFace.analyze(img, actions=['emotion'])\n",
        "\n",
        "# Print result\n",
        "print(result)"
      ],
      "metadata": {
        "colab": {
          "base_uri": "https://localhost:8080/",
          "height": 473
        },
        "id": "RVRvcOdQe4zK",
        "outputId": "0d0c0c52-b63e-45d7-ed6e-bed3159df20d"
      },
      "execution_count": null,
      "outputs": [
        {
          "output_type": "display_data",
          "data": {
            "text/plain": [
              "<Figure size 640x480 with 1 Axes>"
            ],
            "image/png": "[encoded data removed]"
          },
          "metadata": {}
        },
        {
          "output_type": "stream",
          "name": "stdout",
          "text": [
            "[{'emotion': {'angry': 3.066122718155384, 'disgust': 0.0015413790606544353, 'fear': 13.548396527767181, 'happy': 5.057401210069656, 'sad': 68.57702136039734, 'surprise': 0.05661470931954682, 'neutral': 9.692904353141785}, 'dominant_emotion': 'sad', 'region': {'x': 174, 'y': 111, 'w': 392, 'h': 392, 'left_eye': None, 'right_eye': None}, 'face_confidence': 0.9}]\n"
          ]
        }
      ]
    },
    {
      "cell_type": "code",
      "source": [],
      "metadata": {
        "id": "TSMabCtYM66q"
      },
      "execution_count": null,
      "outputs": []
    },
    {
      "cell_type": "code",
      "source": [
        "result[0]['face_confidence']"
      ],
      "metadata": {
        "colab": {
          "base_uri": "https://localhost:8080/"
        },
        "id": "RZAOLDsUFXs0",
        "outputId": "51b31f8d-b403-46b7-9b05-f3e36703596b"
      },
      "execution_count": null,
      "outputs": [
        {
          "output_type": "execute_result",
          "data": {
            "text/plain": [
              "0.9"
            ]
          },
          "metadata": {},
          "execution_count": 24
        }
      ]
    },
    {
      "cell_type": "code",
      "source": [
        "result[0]['emotion']"
      ],
      "metadata": {
        "colab": {
          "base_uri": "https://localhost:8080/"
        },
        "id": "qBCnpg4lVEHH",
        "outputId": "e58ed6af-b112-4aa9-a263-37ceb60e0da3"
      },
      "execution_count": null,
      "outputs": [
        {
          "output_type": "execute_result",
          "data": {
            "text/plain": [
              "{'angry': 3.066122718155384,\n",
              " 'disgust': 0.0015413790606544353,\n",
              " 'fear': 13.548396527767181,\n",
              " 'happy': 5.057401210069656,\n",
              " 'sad': 68.57702136039734,\n",
              " 'surprise': 0.05661470931954682,\n",
              " 'neutral': 9.692904353141785}"
            ]
          },
          "metadata": {},
          "execution_count": 25
        }
      ]
    },
    {
      "cell_type": "code",
      "source": [],
      "metadata": {
        "id": "q2nWBM55VIoW"
      },
      "execution_count": null,
      "outputs": []
    }
  ]
}